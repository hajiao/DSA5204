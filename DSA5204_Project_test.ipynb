{
 "cells": [
  {
   "cell_type": "markdown",
   "metadata": {},
   "source": [
    "# DSA5204 DEEP LEARNING AND APPLICATIONS\n",
    "## GROUP 18\n",
    "#### Kang Mingyue A0262127L\n",
    "#### Peng Hanqiu A0179035B\n",
    "#### Ren Lianhai A0262042U\n",
    "#### Wu Shiqi A0262031X\n",
    "#### Zhang Jingguo A0262029J"
   ]
  },
  {
   "cell_type": "markdown",
   "metadata": {
    "colab_type": "text",
    "id": "view-in-github"
   },
   "source": [
    "<a href=\"https://colab.research.google.com/github/hajiao/DSA5204/blob/master/DSA5204_Project_test.ipynb\" target=\"_parent\"><img src=\"https://colab.research.google.com/assets/colab-badge.svg\" alt=\"Open In Colab\"/></a>"
   ]
  },
  {
   "cell_type": "markdown",
   "metadata": {
    "id": "kUiwHE_QK77b"
   },
   "source": [
    "# Introduction\n",
    "This notebook aims to varify the our blocks (with the same ones in keras_cv package) and test their performance (mainly the computation speed)\n",
    "\n",
    "# Conclusion:\n",
    "  1. **@tf.function** decorator can significantly improve speed\n",
    "  2. **tf.cond** and **if-else** block performes better than lambda function. Since tensorflow will change if-else structure into tf.cond one in station graph (under @tf.function decoration), their difference are little. \n",
    "  3. **Squeeze-and-Excite (SE) block**, **MBConv block** and **FusedMBConv blok**, our block out-performes keras_cv provided one in inference while **layer dropout block** keras_cv one is better.\n",
    "  4. For the whole model, our model is **faster** in the training than keras_cv one\n",
    "  5. The conclusion above are consistent in both **CPU** and **GPU** environment\n",
    "  6. The **mix-precision** strategy (only useful in GPU) does not make much progress in acceleration while it does in toy example"
   ]
  },
  {
   "cell_type": "code",
   "execution_count": 1,
   "metadata": {
    "id": "Kgq7F5XusZur",
    "outputId": "37d952f7-0afe-408e-be3b-ff8698ab9345"
   },
   "outputs": [
    {
     "name": "stdout",
     "output_type": "stream",
     "text": [
      "Tue Apr  4 16:10:34 2023       \n",
      "+-----------------------------------------------------------------------------+\n",
      "| NVIDIA-SMI 470.161.03   Driver Version: 470.161.03   CUDA Version: 11.4     |\n",
      "|-------------------------------+----------------------+----------------------+\n",
      "| GPU  Name        Persistence-M| Bus-Id        Disp.A | Volatile Uncorr. ECC |\n",
      "| Fan  Temp  Perf  Pwr:Usage/Cap|         Memory-Usage | GPU-Util  Compute M. |\n",
      "|                               |                      |               MIG M. |\n",
      "|===============================+======================+======================|\n",
      "|   0  NVIDIA GeForce ...  Off  | 00000000:18:00.0 Off |                  N/A |\n",
      "| 32%   55C    P8    22W / 350W |      8MiB / 24268MiB |      0%      Default |\n",
      "|                               |                      |                  N/A |\n",
      "+-------------------------------+----------------------+----------------------+\n",
      "|   1  NVIDIA GeForce ...  Off  | 00000000:51:00.0 Off |                  N/A |\n",
      "| 32%   56C    P8    21W / 350W |      8MiB / 24268MiB |      0%      Default |\n",
      "|                               |                      |                  N/A |\n",
      "+-------------------------------+----------------------+----------------------+\n",
      "|   2  NVIDIA GeForce ...  Off  | 00000000:8B:00.0 Off |                  N/A |\n",
      "| 64%   87C    P2   209W / 350W |   1507MiB / 24268MiB |    100%      Default |\n",
      "|                               |                      |                  N/A |\n",
      "+-------------------------------+----------------------+----------------------+\n",
      "|   3  NVIDIA GeForce ...  Off  | 00000000:C3:00.0 Off |                  N/A |\n",
      "| 52%   88C    P2   187W / 350W |   1507MiB / 24268MiB |    100%      Default |\n",
      "|                               |                      |                  N/A |\n",
      "+-------------------------------+----------------------+----------------------+\n",
      "                                                                               \n",
      "+-----------------------------------------------------------------------------+\n",
      "| Processes:                                                                  |\n",
      "|  GPU   GI   CI        PID   Type   Process name                  GPU Memory |\n",
      "|        ID   ID                                                   Usage      |\n",
      "|=============================================================================|\n",
      "|    0   N/A  N/A      1373      G   /usr/lib/xorg/Xorg                  4MiB |\n",
      "|    1   N/A  N/A      1373      G   /usr/lib/xorg/Xorg                  4MiB |\n",
      "|    2   N/A  N/A      1373      G   /usr/lib/xorg/Xorg                  4MiB |\n",
      "|    2   N/A  N/A   2690784      C   ...s/seq2seq_JHT/bin/python3     1499MiB |\n",
      "|    3   N/A  N/A      1373      G   /usr/lib/xorg/Xorg                  4MiB |\n",
      "|    3   N/A  N/A   2690902      C   ...s/seq2seq_JHT/bin/python3     1499MiB |\n",
      "+-----------------------------------------------------------------------------+\n"
     ]
    }
   ],
   "source": [
    "!nvidia-smi"
   ]
  },
  {
   "cell_type": "code",
   "execution_count": 2,
   "metadata": {
    "colab": {
     "base_uri": "https://localhost:8080/"
    },
    "id": "RgJEH1CRt5IB",
    "outputId": "fbab8394-e9f9-4380-c031-466a74849664"
   },
   "outputs": [
    {
     "name": "stdout",
     "output_type": "stream",
     "text": [
      "\u001b[?25l     \u001b[90m━━━━━━━━━━━━━━━━━━━━━━━━━━━━━━━━━━━━━━━━\u001b[0m \u001b[32m0.0/634.9 KB\u001b[0m \u001b[31m?\u001b[0m eta \u001b[36m-:--:--\u001b[0m\r",
      "\u001b[2K     \u001b[91m━━━━━━━━\u001b[0m\u001b[91m╸\u001b[0m\u001b[90m━━━━━━━━━━━━━━━━━━━━━━━━━━━━━━\u001b[0m \u001b[32m143.4/634.9 KB\u001b[0m \u001b[31m4.6 MB/s\u001b[0m eta \u001b[36m0:00:01\u001b[0m\r",
      "\u001b[2K     \u001b[91m━━━━━━━━━━━━━━━━━━━━━━━━━━━━━━━━━━━━━\u001b[0m\u001b[90m╺\u001b[0m \u001b[32m624.6/634.9 KB\u001b[0m \u001b[31m10.8 MB/s\u001b[0m eta \u001b[36m0:00:01\u001b[0m\r",
      "\u001b[2K     \u001b[90m━━━━━━━━━━━━━━━━━━━━━━━━━━━━━━━━━━━━━━━\u001b[0m \u001b[32m634.9/634.9 KB\u001b[0m \u001b[31m8.5 MB/s\u001b[0m eta \u001b[36m0:00:00\u001b[0m\n",
      "\u001b[?25h"
     ]
    }
   ],
   "source": [
    "# !pip3 install keras_cv --quiet"
   ]
  },
  {
   "cell_type": "code",
   "execution_count": 3,
   "metadata": {
    "colab": {
     "base_uri": "https://localhost:8080/"
    },
    "id": "YVdiQPMjsZuz",
    "outputId": "68251aa2-17a2-40e0-9127-422495122cdc"
   },
   "outputs": [
    {
     "name": "stderr",
     "output_type": "stream",
     "text": [
      "2023-04-04 16:10:50.861996: I tensorflow/core/platform/cpu_feature_guard.cc:193] This TensorFlow binary is optimized with oneAPI Deep Neural Network Library (oneDNN) to use the following CPU instructions in performance-critical operations:  SSE4.1 SSE4.2 AVX AVX2 AVX512F AVX512_VNNI FMA\n",
      "To enable them in other operations, rebuild TensorFlow with the appropriate compiler flags.\n",
      "2023-04-04 16:10:50.922077: I tensorflow/core/util/port.cc:104] oneDNN custom operations are on. You may see slightly different numerical results due to floating-point round-off errors from different computation orders. To turn them off, set the environment variable `TF_ENABLE_ONEDNN_OPTS=0`.\n"
     ]
    },
    {
     "name": "stdout",
     "output_type": "stream",
     "text": [
      "You do not have pycocotools installed, so KerasCV pycoco metrics are not available. Please run `pip install pycocotools`.\n",
      "You do not have pyococotools installed, so the `PyCOCOCallback` API is not available.\n",
      "You do not have Waymo Open Dataset installed, so KerasCV Waymo metrics are not available.\n"
     ]
    }
   ],
   "source": [
    "# from dsa5204_project_utils import *\n",
    "import os\n",
    "# drive.mount('/content/drive')\n",
    "\n",
    "import tensorflow as tf\n",
    "\n",
    "#import necessary packages\n",
    "\n",
    "from tensorflow import keras\n",
    "import keras_cv\n",
    "import numpy as np\n",
    "import re\n",
    "import copy\n",
    "import matplotlib.pyplot as plt\n",
    "import functools\n",
    "import time"
   ]
  },
  {
   "cell_type": "code",
   "execution_count": 4,
   "metadata": {
    "id": "mM6NR0NDsZu1"
   },
   "outputs": [],
   "source": [
    "tf.config.list_physical_devices('GPU')\n",
    "# tf.config.set_soft_device_placement(True)\n",
    "# tf.debugging.set_log_device_placement(True)\n",
    "\n",
    "gpus = tf.config.list_physical_devices('GPU')\n",
    "if gpus:\n",
    "  # Restrict TensorFlow to only use the first GPU\n",
    "  try:\n",
    "    tf.config.set_visible_devices(gpus[1], 'GPU')\n",
    "    tf.config.experimental.set_memory_growth(gpus[1], True)\n",
    "    # logical_gpus = tf.config.list_logical_devices('GPU')\n",
    "    # print(len(gpus), \"Physical GPUs,\", len(logical_gpus), \"Logical GPU\")\n",
    "  except RuntimeError as e:\n",
    "    # Visible devices must be set before GPUs have been initialized\n",
    "    print(e)"
   ]
  },
  {
   "cell_type": "code",
   "execution_count": 5,
   "metadata": {},
   "outputs": [],
   "source": [
    "class TimingCallback(keras.callbacks.Callback):\n",
    "    def on_train_begin(self, logs={}):\n",
    "        self.times = []\n",
    "    def on_epoch_begin(self,epoch, logs={}):\n",
    "        self.starttime=time.time()\n",
    "    def on_epoch_end(self,epoch, logs={}):\n",
    "        self.times.append(time.time()-self.starttime)\n",
    "time_callback = TimingCallback()"
   ]
  },
  {
   "cell_type": "code",
   "execution_count": 89,
   "metadata": {},
   "outputs": [],
   "source": [
    "def test_running(x,y,model,batch_size=100,loss='mse',verbose=0,epochs=7):\n",
    "    model.compile('sgd',loss)\n",
    "    model.fit(x,y,batch_size=batch_size,epochs=epochs,verbose=verbose,callbacks=[time_callback])\n",
    "    step_per_epoch=np.floor(x.shape[0]/batch_size)\n",
    "    timesms=1000.*np.array(time_callback.times[1:])/step_per_epoch\n",
    "    print('Average running time: %.3f ms ± %.3f ms / batch' % (np.mean(timesms),np.std(timesms)))"
   ]
  },
  {
   "cell_type": "markdown",
   "metadata": {
    "id": "zxXrNbo2OsYA"
   },
   "source": [
    "### Test decorator @tf.function using SquezeeandExcite(SE) block"
   ]
  },
  {
   "cell_type": "code",
   "execution_count": 8,
   "metadata": {
    "id": "q2S0z4lSLJ8v"
   },
   "outputs": [],
   "source": [
    "class SE(keras.layers.Layer):\n",
    "  def __init__(self,filters,ratio=.25,act='relu'):\n",
    "    super().__init__()\n",
    "    reduced_filters=max(1,int(filters*ratio))\n",
    "    self.squeeze=keras.layers.Conv2D(\n",
    "      reduced_filters,\n",
    "      kernel_size=1,\n",
    "      strides=1,\n",
    "      padding='same',\n",
    "      activation=act,\n",
    "      kernel_initializer=keras.initializers.VarianceScaling(scale=2.,mode='fan_out')\n",
    "  )\n",
    "    self.excite=keras.layers.Conv2D(\n",
    "      filters,\n",
    "      kernel_size=1,\n",
    "      strides=1,\n",
    "      padding='same',\n",
    "      activation='sigmoid',\n",
    "      kernel_initializer=keras.initializers.VarianceScaling(scale=2.,mode='fan_out')\n",
    "  )\n",
    "    self.globalavgpool=keras.layers.GlobalAveragePooling2D(keepdims=True)\n",
    "  @tf.function\n",
    "  def call(self,inputx):\n",
    "    x=self.globalavgpool(inputx)\n",
    "    x=self.squeeze(x)\n",
    "    x=self.excite(x)\n",
    "    return inputx*x\n",
    "\n",
    "class SE1(keras.layers.Layer):\n",
    "  def __init__(self,filters,ratio=.25,act='relu'):\n",
    "    super().__init__()\n",
    "    reduced_filters=max(1,int(filters*ratio))\n",
    "    self.squeeze=keras.layers.Conv2D(\n",
    "      reduced_filters,\n",
    "      kernel_size=1,\n",
    "      strides=1,\n",
    "      padding='same',\n",
    "      activation=act\n",
    "  )\n",
    "    self.excite=keras.layers.Conv2D(\n",
    "      filters,\n",
    "      kernel_size=1,\n",
    "      strides=1,\n",
    "      padding='same',\n",
    "      activation='sigmoid',\n",
    "  )\n",
    "    self.globalavgpool=keras.layers.GlobalAveragePooling2D(keepdims=True)\n",
    "  def call(self,inputx):\n",
    "    x=self.globalavgpool(inputx)\n",
    "    x=self.squeeze(x)\n",
    "    x=self.excite(x)\n",
    "    return inputx*x\n",
    "\n",
    "def se(inputx,se_filters,output_filters,act):\n",
    "  se_tensor=tf.reduce_mean(inputx,[1,2],keepdims=True)\n",
    "  x=keras.layers.Conv2D(\n",
    "      se_filters,\n",
    "      kernel_size=1,\n",
    "      strides=1,\n",
    "      padding='same',\n",
    "      activation=act\n",
    "  )(se_tensor)\n",
    "  x=keras.layers.Conv2D(\n",
    "      output_filters,\n",
    "      kernel_size=1,\n",
    "      strides=1,\n",
    "      padding='same',\n",
    "      activation='sigmoid',\n",
    "  )(x)\n",
    "  return x*inputx\n",
    "  "
   ]
  },
  {
   "cell_type": "code",
   "execution_count": 5,
   "metadata": {
    "id": "RON7dnqVLJ_W"
   },
   "outputs": [],
   "source": [
    "tfse=keras_cv.layers.SqueezeAndExcite2D(10)\n",
    "myse=SE(10)\n",
    "myse1=SE1(10)\n"
   ]
  },
  {
   "cell_type": "code",
   "execution_count": 6,
   "metadata": {
    "id": "o5vkJ8mtLKB9"
   },
   "outputs": [
    {
     "name": "stderr",
     "output_type": "stream",
     "text": [
      "2023-03-26 18:13:38.943798: I tensorflow/core/platform/cpu_feature_guard.cc:193] This TensorFlow binary is optimized with oneAPI Deep Neural Network Library (oneDNN) to use the following CPU instructions in performance-critical operations:  SSE4.1 SSE4.2 AVX AVX2 AVX512F AVX512_VNNI FMA\n",
      "To enable them in other operations, rebuild TensorFlow with the appropriate compiler flags.\n",
      "2023-03-26 18:13:39.683006: I tensorflow/core/common_runtime/gpu/gpu_device.cc:1613] Created device /job:localhost/replica:0/task:0/device:GPU:0 with 22282 MB memory:  -> device: 2, name: NVIDIA GeForce RTX 3090, pci bus id: 0000:8b:00.0, compute capability: 8.6\n"
     ]
    }
   ],
   "source": [
    "x=keras.Input((None,None,10))\n",
    "y=se(x,2,10,'relu')\n",
    "myse2=keras.Model(x,y)"
   ]
  },
  {
   "cell_type": "markdown",
   "metadata": {
    "id": "e5X9MZeeO5kZ"
   },
   "source": [
    "test the architecture"
   ]
  },
  {
   "cell_type": "code",
   "execution_count": null,
   "metadata": {
    "colab": {
     "base_uri": "https://localhost:8080/"
    },
    "id": "vUlJdBobLKE8",
    "outputId": "27d9bd04-f9c7-45a6-f5e2-d1e8e924af10"
   },
   "outputs": [
    {
     "name": "stdout",
     "output_type": "stream",
     "text": [
      "0.1986579 0.28954387 0.0\n",
      "0.0 0.0 0.0\n"
     ]
    }
   ],
   "source": [
    "x=np.random.rand(1,6,6,10)\n",
    "print(np.sum(tfse(x)-myse(x)),np.sum(tfse(x)-myse1(x)),np.sum(tfse(x)-myse2(x)))\n",
    "myse.set_weights(tfse.get_weights())\n",
    "myse1.set_weights(tfse.get_weights())\n",
    "myse2.set_weights(tfse.get_weights())\n",
    "print(np.sum(tfse(x)-myse(x)),np.sum(tfse(x)-myse1(x)),np.sum(tfse(x)-myse2(x)))"
   ]
  },
  {
   "cell_type": "code",
   "execution_count": null,
   "metadata": {
    "colab": {
     "base_uri": "https://localhost:8080/"
    },
    "id": "JQO7ceLrLKHV",
    "outputId": "51d39ba3-1dac-455e-a478-183ea025852f"
   },
   "outputs": [
    {
     "name": "stdout",
     "output_type": "stream",
     "text": [
      "1.4 ms ± 48.1 µs per loop (mean ± std. dev. of 7 runs, 1,000 loops each)\n",
      "1.49 ms ± 36 µs per loop (mean ± std. dev. of 7 runs, 1,000 loops each)\n",
      "1.38 ms ± 30.6 µs per loop (mean ± std. dev. of 7 runs, 1,000 loops each)\n",
      "1.74 ms ± 35.8 µs per loop (mean ± std. dev. of 7 runs, 1,000 loops each)\n"
     ]
    }
   ],
   "source": [
    "%timeit -n 1000 tfse(x)\n",
    "%timeit -n 1000 myse(x) #@tf.function\n",
    "%timeit -n 1000 myse1(x) #no decorated\n",
    "%timeit -n 1000 myse2(x) #Model"
   ]
  },
  {
   "cell_type": "code",
   "execution_count": 6,
   "metadata": {},
   "outputs": [
    {
     "name": "stderr",
     "output_type": "stream",
     "text": [
      "2023-03-26 20:44:39.446487: I tensorflow/core/platform/cpu_feature_guard.cc:193] This TensorFlow binary is optimized with oneAPI Deep Neural Network Library (oneDNN) to use the following CPU instructions in performance-critical operations:  SSE4.1 SSE4.2 AVX AVX2 AVX512F AVX512_VNNI FMA\n",
      "To enable them in other operations, rebuild TensorFlow with the appropriate compiler flags.\n",
      "2023-03-26 20:44:40.229309: I tensorflow/core/common_runtime/gpu/gpu_device.cc:1613] Created device /job:localhost/replica:0/task:0/device:GPU:0 with 22282 MB memory:  -> device: 2, name: NVIDIA GeForce RTX 3090, pci bus id: 0000:8b:00.0, compute capability: 8.6\n"
     ]
    }
   ],
   "source": [
    "x=keras.Input((None,None,32))\n",
    "y=SE(32)(x)\n",
    "myse=keras.Model(x,y)\n",
    "x=keras.Input((None,None,32))\n",
    "y=SE1(32)(x)\n",
    "myse1=keras.Model(x,y)\n",
    "x=keras.Input((None,None,32))\n",
    "y=se(x,8,32,'relu')\n",
    "myse2=keras.Model(x,y)\n",
    "x=keras.Input((None,None,32))\n",
    "y=keras_cv.layers.SqueezeAndExcite2D(32)(x)\n",
    "tfse=keras.Model(x,y)"
   ]
  },
  {
   "cell_type": "code",
   "execution_count": 7,
   "metadata": {},
   "outputs": [],
   "source": [
    "x=np.random.randn(10000,32,32,32)"
   ]
  },
  {
   "cell_type": "code",
   "execution_count": 13,
   "metadata": {},
   "outputs": [
    {
     "name": "stdout",
     "output_type": "stream",
     "text": [
      "Average running time: 8.062 ms ± 0.926 ms / batch\n",
      "Average running time: 7.321 ms ± 1.152 ms / batch\n",
      "Average running time: 7.954 ms ± 1.172 ms / batch\n",
      "Average running time: 7.510 ms ± 1.109 ms / batch\n"
     ]
    }
   ],
   "source": [
    "test_running(x,x,myse)\n",
    "test_running(x,x,myse1)\n",
    "test_running(x,x,myse2)\n",
    "test_running(x,x,tfse)"
   ]
  },
  {
   "cell_type": "markdown",
   "metadata": {
    "id": "0YUdFCL0O9Zn"
   },
   "source": [
    "Conclusion: using keras block"
   ]
  },
  {
   "cell_type": "markdown",
   "metadata": {
    "id": "GZG5yTozPHjl"
   },
   "source": [
    "### Test Convolution Batchnormalization activation composite block(CBA)"
   ]
  },
  {
   "cell_type": "code",
   "execution_count": 35,
   "metadata": {
    "id": "HHfBqdcZLKKH"
   },
   "outputs": [],
   "source": [
    "\n",
    "class CBA2D_layer(keras.layers.Conv2D):\n",
    "  def __init__(self,*args,kernel_initializer=keras.initializers.HeNormal(seed=5204),**kwargs):\n",
    "    \n",
    "    super().__init__(*args,\n",
    "                     kernel_initializer=kernel_initializer,\n",
    "                     **kwargs)\n",
    "    self.act=self.activation\n",
    "    self.activation=None\n",
    "    self.bn=keras.layers.BatchNormalization()\n",
    "  @tf.function\n",
    "  def call(self, input, training):\n",
    "    x=super().call(input)\n",
    "    x=self.bn(x,training)\n",
    "    x=self.act(x)\n",
    "    return x"
   ]
  },
  {
   "cell_type": "code",
   "execution_count": 8,
   "metadata": {
    "id": "b6Rs3w_cLKN8"
   },
   "outputs": [],
   "source": [
    "l=CBA2D_layer(6,(3,3),activation='relu')"
   ]
  },
  {
   "cell_type": "code",
   "execution_count": null,
   "metadata": {
    "id": "gZtnCyTJLKP7"
   },
   "outputs": [],
   "source": [
    "x=keras.Input((None,None,5))\n",
    "y=keras.layers.Conv2D(6,(3,3),activation=None)(x)\n",
    "y=keras.layers.BatchNormalization()(y)\n",
    "y=keras.activations.relu(y)\n",
    "l1=keras.Model(x,y)"
   ]
  },
  {
   "cell_type": "code",
   "execution_count": null,
   "metadata": {
    "colab": {
     "base_uri": "https://localhost:8080/"
    },
    "id": "NFdN0nVkLs-8",
    "outputId": "eff337e9-c7dd-428e-c3a8-1f63c3a1b107"
   },
   "outputs": [
    {
     "data": {
      "text/plain": [
       "0"
      ]
     },
     "execution_count": 229,
     "metadata": {},
     "output_type": "execute_result"
    }
   ],
   "source": [
    "x=np.random.rand(2,4,4,5)\n",
    "l(x),l1(x)\n",
    "l1.set_weights(l.get_weights())\n",
    "np.sum(l(x)!=l1(x))"
   ]
  },
  {
   "cell_type": "code",
   "execution_count": null,
   "metadata": {
    "colab": {
     "base_uri": "https://localhost:8080/"
    },
    "id": "O_VwymhSLtCM",
    "outputId": "d0a90274-f05c-435b-8c26-4af39630c4a4"
   },
   "outputs": [
    {
     "name": "stdout",
     "output_type": "stream",
     "text": [
      "579 µs ± 4.36 µs per loop (mean ± std. dev. of 7 runs, 1,000 loops each)\n",
      "1.14 ms ± 230 µs per loop (mean ± std. dev. of 7 runs, 1,000 loops each)\n"
     ]
    }
   ],
   "source": [
    "%timeit l(x) #CBAblock\n",
    "%timeit l1(x) #Model"
   ]
  },
  {
   "cell_type": "code",
   "execution_count": 15,
   "metadata": {},
   "outputs": [],
   "source": [
    "x=keras.Input((None,None,32))\n",
    "y=CBA2D_layer(64,(3,3),activation='relu',padding='same')(x)\n",
    "cba=keras.Model(x,y)\n",
    "x=keras.Input((None,None,32))\n",
    "y=keras.layers.Conv2D(64,(3,3),activation=None,padding='same')(x)\n",
    "y=keras.layers.BatchNormalization()(y)\n",
    "y=keras.activations.relu(y)\n",
    "cba1=keras.Model(x,y)"
   ]
  },
  {
   "cell_type": "code",
   "execution_count": 16,
   "metadata": {},
   "outputs": [],
   "source": [
    "xx=np.random.randn(10000,32,32,32)\n",
    "yy=np.random.randn(10000,32,32,64)"
   ]
  },
  {
   "cell_type": "code",
   "execution_count": 17,
   "metadata": {},
   "outputs": [
    {
     "name": "stdout",
     "output_type": "stream",
     "text": [
      "Average running time: 10.694 ms ± 1.683 ms / batch\n",
      "Average running time: 10.335 ms ± 0.995 ms / batch\n"
     ]
    }
   ],
   "source": [
    "test_running(xx,yy,cba)\n",
    "test_running(xx,yy,cba1)"
   ]
  },
  {
   "cell_type": "markdown",
   "metadata": {
    "id": "RLgfDEZzPVFh"
   },
   "source": [
    "Conclusion: subclass is better"
   ]
  },
  {
   "cell_type": "markdown",
   "metadata": {
    "id": "CttJqCAvPaAo"
   },
   "source": [
    "### Test spatial dropout layer and if-else / tf.cond architecture"
   ]
  },
  {
   "cell_type": "code",
   "execution_count": 6,
   "metadata": {
    "id": "m4HgsMaiLtFK"
   },
   "outputs": [],
   "source": [
    "class drop_connect_layer(keras.layers.Layer):\n",
    "  def __init__(self,survival_prob):\n",
    "    super().__init__()\n",
    "    self.survival_prob=survival_prob\n",
    "  @tf.function\n",
    "  def call(self,inputs,training):\n",
    "    \"\"\"Drop the entire conv with given survival probability.\"\"\"\n",
    "    # \"Deep Networks with Stochastic Depth\", https://arxiv.org/pdf/1603.09382.pdf\n",
    "    def train_fn():\n",
    "      # Compute tensor.\n",
    "      batch_size = tf.shape(inputs)[0]\n",
    "      binary_tensor = tf.cast(tf.random.uniform([batch_size,1,1,1])<self.survival_prob,dtype=inputs.dtype)\n",
    "      # Unlike conventional way that multiply survival_prob at test time, here we\n",
    "      # divide survival_prob at training time, such that no addition compute is\n",
    "      # needed at test time.\n",
    "      output = inputs / self.survival_prob * binary_tensor\n",
    "      return output\n",
    "    # return tf.cond(tf.cast(training,tf.bool),train_fn,lambda: inputs)\n",
    "    if training:\n",
    "      return train_fn()\n",
    "    return inputs\n",
    "class drop_connect_layer1(keras.layers.Layer):\n",
    "  def __init__(self,survival_prob):\n",
    "    super().__init__()\n",
    "    self.survival_prob=survival_prob\n",
    "  @tf.function\n",
    "  def call(self,inputs,training=False):\n",
    "    \"\"\"Drop the entire conv with given survival probability.\"\"\"\n",
    "    # \"Deep Networks with Stochastic Depth\", https://arxiv.org/pdf/1603.09382.pdf\n",
    "    def train_fn():\n",
    "      # Compute tensor.\n",
    "      batch_size = tf.shape(inputs)[0]\n",
    "      binary_tensor = tf.cast(tf.random.uniform([batch_size,1,1,1])<self.survival_prob,dtype=inputs.dtype)\n",
    "      # Unlike conventional way that multiply survival_prob at test time, here we\n",
    "      # divide survival_prob at training time, such that no addition compute is\n",
    "      # needed at test time.\n",
    "      output = inputs / self.survival_prob * binary_tensor\n",
    "      return output\n",
    "    return tf.cond(tf.cast(training,tf.bool),train_fn,lambda: inputs)"
   ]
  },
  {
   "cell_type": "code",
   "execution_count": null,
   "metadata": {
    "id": "KvN7ye4wLtJX"
   },
   "outputs": [],
   "source": [
    "d=drop_connect_layer(0.1)\n",
    "d1=drop_connect_layer1(0.1)\n",
    "tfd=keras.layers.SpatialDropout2D(0.9)"
   ]
  },
  {
   "cell_type": "code",
   "execution_count": null,
   "metadata": {
    "colab": {
     "base_uri": "https://localhost:8080/"
    },
    "id": "kFii-2WHLtLW",
    "outputId": "e24348c9-eecd-43db-d6b9-e61a64ef3e28"
   },
   "outputs": [
    {
     "name": "stdout",
     "output_type": "stream",
     "text": [
      "WARNING:tensorflow:From /home/lianhai/anaconda3/envs/mytf/lib/python3.10/site-packages/tensorflow/python/autograph/pyct/static_analysis/liveness.py:83: Analyzer.lamba_check (from tensorflow.python.autograph.pyct.static_analysis.liveness) is deprecated and will be removed after 2023-09-23.\n",
      "Instructions for updating:\n",
      "Lambda fuctions will be no more assumed to be used in the statement where they are used, or at least in the same block. https://github.com/tensorflow/tensorflow/issues/56089\n",
      "461 µs ± 49.1 µs per loop (mean ± std. dev. of 7 runs, 1,000 loops each)\n",
      "491 µs ± 32 µs per loop (mean ± std. dev. of 7 runs, 1,000 loops each)\n"
     ]
    },
    {
     "name": "stderr",
     "output_type": "stream",
     "text": [
      "2023-03-01 22:36:25.550916: W tensorflow/core/grappler/optimizers/loop_optimizer.cc:907] Skipping loop optimization for Merge node with control input: cond/branch_executed/_7\n"
     ]
    },
    {
     "name": "stdout",
     "output_type": "stream",
     "text": [
      "532 µs ± 51.9 µs per loop (mean ± std. dev. of 7 runs, 1,000 loops each)\n"
     ]
    },
    {
     "name": "stderr",
     "output_type": "stream",
     "text": [
      "2023-03-01 22:36:29.238594: W tensorflow/core/grappler/optimizers/loop_optimizer.cc:907] Skipping loop optimization for Merge node with control input: cond/branch_executed/_7\n"
     ]
    },
    {
     "name": "stdout",
     "output_type": "stream",
     "text": [
      "1.55 ms ± 101 µs per loop (mean ± std. dev. of 7 runs, 1,000 loops each)\n",
      "426 µs ± 35.1 µs per loop (mean ± std. dev. of 7 runs, 1,000 loops each)\n",
      "816 µs ± 174 µs per loop (mean ± std. dev. of 7 runs, 1,000 loops each)\n"
     ]
    }
   ],
   "source": [
    "#if-else\n",
    "%timeit -n 1000 d(x)\n",
    "%timeit -n 1000 d(x,True)\n",
    "#tf.cond\n",
    "%timeit -n 1000 d1(x)\n",
    "%timeit -n 1000 d1(x,True)\n",
    "#tf-dropout\n",
    "%timeit -n 1000 tfd(x)\n",
    "%timeit -n 1000 tfd(x,True)"
   ]
  },
  {
   "cell_type": "code",
   "execution_count": 7,
   "metadata": {},
   "outputs": [
    {
     "name": "stdout",
     "output_type": "stream",
     "text": [
      "WARNING:tensorflow:From /home/lianhai/anaconda3/envs/mytf/lib/python3.10/site-packages/tensorflow/python/autograph/pyct/static_analysis/liveness.py:83: Analyzer.lamba_check (from tensorflow.python.autograph.pyct.static_analysis.liveness) is deprecated and will be removed after 2023-09-23.\n",
      "Instructions for updating:\n",
      "Lambda fuctions will be no more assumed to be used in the statement where they are used, or at least in the same block. https://github.com/tensorflow/tensorflow/issues/56089\n"
     ]
    },
    {
     "name": "stderr",
     "output_type": "stream",
     "text": [
      "2023-03-26 20:49:03.053025: I tensorflow/core/platform/cpu_feature_guard.cc:193] This TensorFlow binary is optimized with oneAPI Deep Neural Network Library (oneDNN) to use the following CPU instructions in performance-critical operations:  SSE4.1 SSE4.2 AVX AVX2 AVX512F AVX512_VNNI FMA\n",
      "To enable them in other operations, rebuild TensorFlow with the appropriate compiler flags.\n",
      "2023-03-26 20:49:03.791703: I tensorflow/core/common_runtime/gpu/gpu_device.cc:1613] Created device /job:localhost/replica:0/task:0/device:GPU:0 with 22282 MB memory:  -> device: 2, name: NVIDIA GeForce RTX 3090, pci bus id: 0000:8b:00.0, compute capability: 8.6\n"
     ]
    }
   ],
   "source": [
    "x=keras.Input((None,None,32))\n",
    "y=drop_connect_layer(0.8)(x)\n",
    "drop=keras.Model(x,y)\n",
    "x=keras.Input((None,None,32))\n",
    "y=drop_connect_layer1(0.8)(x)\n",
    "drop1=keras.Model(x,y)\n",
    "x=keras.Input((None,None,32))\n",
    "y=keras.layers.SpatialDropout2D(0.2)(x)\n",
    "tfdrop=keras.Model(x,y)"
   ]
  },
  {
   "cell_type": "code",
   "execution_count": 8,
   "metadata": {},
   "outputs": [],
   "source": [
    "xx=np.random.randn(10000,32,32,32)"
   ]
  },
  {
   "cell_type": "code",
   "execution_count": 9,
   "metadata": {},
   "outputs": [
    {
     "name": "stdout",
     "output_type": "stream",
     "text": [
      "Average running time: 7.025 ms ± 0.395 ms / batch\n"
     ]
    },
    {
     "name": "stderr",
     "output_type": "stream",
     "text": [
      "2023-03-26 20:49:23.123180: W tensorflow/core/grappler/optimizers/loop_optimizer.cc:907] Skipping loop optimization for Merge node with control input: model_1/drop_connect_layer1/StatefulPartitionedCall/cond/branch_executed/_10\n"
     ]
    },
    {
     "name": "stdout",
     "output_type": "stream",
     "text": [
      "Average running time: 7.130 ms ± 0.273 ms / batch\n",
      "Average running time: 6.934 ms ± 0.218 ms / batch\n"
     ]
    }
   ],
   "source": [
    "test_running(xx,xx,drop)\n",
    "test_running(xx,xx,drop1)\n",
    "test_running(xx,xx,tfdrop)"
   ]
  },
  {
   "cell_type": "markdown",
   "metadata": {
    "id": "yQlPkaL-Pq3M"
   },
   "source": [
    "Conlusion: if-else is slightly better than tf.cond, keras layer is faster in inference but slower in training"
   ]
  },
  {
   "cell_type": "markdown",
   "metadata": {
    "id": "0Vn0_YdRQBMr"
   },
   "source": [
    "### Test which Do-nothing architecture is better"
   ]
  },
  {
   "cell_type": "code",
   "execution_count": 10,
   "metadata": {
    "id": "NAF2gi1LMdD8"
   },
   "outputs": [],
   "source": [
    "class testlayer1(keras.layers.Layer):\n",
    "  def __init__(self):\n",
    "    super().__init__()\n",
    "    self.f=lambda x:x\n",
    "  @tf.function\n",
    "  def call(self,x):\n",
    "    return self.f(x)\n",
    "class testlayer2(keras.layers.Layer):\n",
    "  def __init__(self):\n",
    "    super().__init__()\n",
    "    self.f2=tf.constant(True,tf.bool)\n",
    "  @tf.function\n",
    "  def call(self,x):\n",
    "    return tf.cond(self.f2,lambda:x,lambda:x**2)\n",
    "class testlayer3(keras.layers.Layer):\n",
    "  def __init__(self):\n",
    "    super().__init__()\n",
    "    self.f2=None\n",
    "  @tf.function\n",
    "  def call(self,x):\n",
    "    if self.f2:\n",
    "      return x\n",
    "    return x\n"
   ]
  },
  {
   "cell_type": "code",
   "execution_count": null,
   "metadata": {
    "colab": {
     "base_uri": "https://localhost:8080/"
    },
    "id": "EqFhoRRrMyOJ",
    "outputId": "58f50d87-042f-4eb9-fc90-7b5f94ee6830"
   },
   "outputs": [
    {
     "name": "stdout",
     "output_type": "stream",
     "text": [
      "397 µs ± 16 µs per loop (mean ± std. dev. of 7 runs, 1,000 loops each)\n",
      "823 µs ± 372 µs per loop (mean ± std. dev. of 7 runs, 1,000 loops each)\n",
      "408 µs ± 40.8 µs per loop (mean ± std. dev. of 7 runs, 1,000 loops each)\n",
      "416 µs ± 49.5 µs per loop (mean ± std. dev. of 7 runs, 1,000 loops each)\n",
      "619 µs ± 212 µs per loop (mean ± std. dev. of 7 runs, 1,000 loops each)\n"
     ]
    }
   ],
   "source": [
    "l1=testlayer1() #baseline\n",
    "l2=testlayer2() #tf.cond\n",
    "l3=testlayer3() #if-else\n",
    "%timeit -n 1000 l1(x)\n",
    "%timeit -n 1000 l2(x)\n",
    "%timeit -n 1000 l3(x)\n",
    "l3.f2=tf.constant(True,tf.bool)\n",
    "%timeit -n 1000 l3(x)\n",
    "l3.f2=True\n",
    "%timeit -n 1000 l3(x)"
   ]
  },
  {
   "cell_type": "code",
   "execution_count": 11,
   "metadata": {},
   "outputs": [],
   "source": [
    "x=keras.Input((None,None,32))\n",
    "y=testlayer1()(x)\n",
    "test1=keras.Model(x,y)\n",
    "x=keras.Input((None,None,32))\n",
    "y=testlayer2()(x)\n",
    "test2=keras.Model(x,y)\n",
    "x=keras.Input((None,None,32))\n",
    "y=testlayer3()(x)\n",
    "test3=keras.Model(x,y)\n",
    "x=keras.Input((None,None,32))\n",
    "l31=testlayer3()\n",
    "l31.f2=tf.constant(True,tf.bool)\n",
    "y=l31(x)\n",
    "test31=keras.Model(x,y)\n",
    "l32=testlayer3()\n",
    "l32.f2=True\n",
    "x=keras.Input((None,None,32))\n",
    "y=l32(x)\n",
    "test32=keras.Model(x,y)"
   ]
  },
  {
   "cell_type": "code",
   "execution_count": 12,
   "metadata": {},
   "outputs": [],
   "source": [
    "xx=np.random.randn(10000,32,32,32)"
   ]
  },
  {
   "cell_type": "code",
   "execution_count": 18,
   "metadata": {},
   "outputs": [
    {
     "name": "stdout",
     "output_type": "stream",
     "text": [
      "Average running time: 6.576 ms ± 0.372 ms / batch\n",
      "Average running time: 6.265 ms ± 0.223 ms / batch\n",
      "Average running time: 6.703 ms ± 0.229 ms / batch\n",
      "Average running time: 6.226 ms ± 0.302 ms / batch\n",
      "Average running time: 6.304 ms ± 0.467 ms / batch\n"
     ]
    }
   ],
   "source": [
    "test_running(xx,xx,test1)\n",
    "test_running(xx,xx,test2)\n",
    "test_running(xx,xx,test3)\n",
    "test_running(xx,xx,test31)\n",
    "test_running(xx,xx,test32)"
   ]
  },
  {
   "cell_type": "markdown",
   "metadata": {
    "id": "MYi7jKaXQ68N"
   },
   "source": [
    "Conclusion: if-else is slightly better"
   ]
  },
  {
   "cell_type": "markdown",
   "metadata": {
    "id": "kdVoKH4_QYGX"
   },
   "source": [
    "### Test MBConv Block"
   ]
  },
  {
   "cell_type": "code",
   "execution_count": 9,
   "metadata": {
    "id": "zeI0NqtFMyRV"
   },
   "outputs": [],
   "source": [
    "'''\n",
    "  The core block of the EfficientNet\n",
    "  using res-block type architecture in repeated layers\n",
    "  using channel-wise FC ((1x1) kernel) to expand the features\n",
    "  then use depthwise Conv to get better performance than original Conv\n",
    "  using Squeeze-and-Excite layer to weighted each features \n",
    "  then project to the original feature  \n",
    "  could add dropout layer after SE to add regularization\n",
    "'''\n",
    "class MBC_Block(keras.layers.Layer):\n",
    "  def __init__(self,act,args,survival_prob=1):\n",
    "    super().__init__()\n",
    "    filters=int(args['input_filters']*args['expand_ratio'])\n",
    "    self.expandblock=None\n",
    "    if args['expand_ratio']!=1:\n",
    "      self.expandblock=CBA2D_layer(\n",
    "            filters=filters,\n",
    "            kernel_size=1,\n",
    "            strides=1,\n",
    "            padding='same',\n",
    "            use_bias=False,\n",
    "            activation=act\n",
    "          )\n",
    "    self.depwiseblock=DepthwiseCBA2D_layer(\n",
    "      kernel_size=args['kernel_size'],\n",
    "      strides=args['strides'],\n",
    "      padding='same',\n",
    "      use_bias=False,\n",
    "      activation=act\n",
    "    )\n",
    "    self.conv_dropout=None\n",
    "    if 'conv_dropout' in args.keys():\n",
    "      if args['conv_dropout'] and args['expand_ratio'] > 1:\n",
    "        self.conv_dropout=keras.layers.Dropout(args['conv_dropout'])\n",
    "    if args['se_ratio']:\n",
    "      self.se=SE(filters,args['se_ratio']/args['expand_ratio'],act)\n",
    "    else:\n",
    "      self.se=None\n",
    "    self.outputblock=CBA2D_layer(\n",
    "        filters=args['output_filters'],\n",
    "        kernel_size=1,\n",
    "        strides=1,\n",
    "        padding='same',\n",
    "        use_bias=False,\n",
    "        activation=None\n",
    "    )\n",
    "    self.residual_dropout=None\n",
    "    self.residual=None\n",
    "    if args['strides']==1 and args['input_filters']==args['output_filters']:\n",
    "      if 1-survival_prob:\n",
    "        self.residual_dropout=keras.layers.SpatialDropout2D(1-survival_prob)\n",
    "      self.residual=self._residual\n",
    "      \n",
    "  @tf.function\n",
    "  def _residual(self,x,input):\n",
    "    if self.residual_dropout:\n",
    "      x=self.residual_dropout(x)\n",
    "    return tf.add(x,input)\n",
    "  @tf.function\n",
    "  def call(self,input):\n",
    "    x=input\n",
    "    if self.expandblock:\n",
    "      x=self.expandblock(x)\n",
    "    x=self.depwiseblock(x)\n",
    "    if self.conv_dropout:\n",
    "      x=self.conv_dropout(x)\n",
    "    if self.se:\n",
    "      x=self.se(x)\n",
    "    x=self.outputblock(x)\n",
    "    if self.residual:\n",
    "      x=self.residual(x,input)\n",
    "    return x"
   ]
  },
  {
   "cell_type": "code",
   "execution_count": null,
   "metadata": {
    "id": "PX6k4I9HMyUG"
   },
   "outputs": [],
   "source": [
    "args=dict(kernel_size=3,\n",
    "      input_filters=4,\n",
    "      output_filters=4,\n",
    "      expand_ratio=3,\n",
    "      se_ratio=.25,\n",
    "      strides=1)"
   ]
  },
  {
   "cell_type": "code",
   "execution_count": 36,
   "metadata": {
    "id": "rA9Z0qWHIcDb"
   },
   "outputs": [],
   "source": [
    "class DepthwiseCBA2D_layer(keras.layers.DepthwiseConv2D):\n",
    "  def __init__(self,*args,depthwise_initializer=keras.initializers.VarianceScaling(\n",
    "    scale=2.0, mode=\"fan_out\", distribution=\"untruncated_normal\", seed=5204\n",
    "),**kwargs):\n",
    "    super().__init__(*args,\n",
    "                     depthwise_initializer=depthwise_initializer,\n",
    "                     **kwargs)\n",
    "    self.act=self.activation\n",
    "    self.activation=None\n",
    "    self.bn=keras.layers.BatchNormalization()\n",
    "  @tf.function\n",
    "  def call(self, input, training):\n",
    "    x=super().call(input)\n",
    "    x=self.bn(x,training)\n",
    "    x=self.act(x)\n",
    "    return x"
   ]
  },
  {
   "cell_type": "code",
   "execution_count": null,
   "metadata": {
    "id": "__xwN2FeMyW4"
   },
   "outputs": [],
   "source": [
    "l=MBC_Block('relu',args)\n",
    "l1=keras_cv.layers.MBConvBlock(input_filters=4,output_filters=4,expand_ratio=3,\n",
    "                se_ratio=.25,activation='relu',survival_probability=1)"
   ]
  },
  {
   "cell_type": "code",
   "execution_count": null,
   "metadata": {
    "colab": {
     "base_uri": "https://localhost:8080/"
    },
    "id": "8AGa4XaEMycw",
    "outputId": "49a1c414-4ec9-4545-8f00-d2c3adbe6af1"
   },
   "outputs": [
    {
     "data": {
      "text/plain": [
       "0"
      ]
     },
     "execution_count": 25,
     "metadata": {},
     "output_type": "execute_result"
    }
   ],
   "source": [
    "x=np.random.rand(10,40,40,4)\n",
    "l1(x),l(x)\n",
    "l.set_weights(l1.get_weights())\n",
    "np.sum((l1(x)!=l(x)))"
   ]
  },
  {
   "cell_type": "code",
   "execution_count": null,
   "metadata": {
    "colab": {
     "base_uri": "https://localhost:8080/"
    },
    "id": "6bJmRGVONig-",
    "outputId": "4fc62907-f0d8-4585-e7cc-21f6245c3033"
   },
   "outputs": [
    {
     "data": {
      "text/plain": [
       "0"
      ]
     },
     "execution_count": 43,
     "metadata": {},
     "output_type": "execute_result"
    }
   ],
   "source": [
    "l=MBC_Block('swish',args)\n",
    "l1=keras_cv.layers.MBConvBlock(input_filters=4,output_filters=4,expand_ratio=3,\n",
    "                se_ratio=.25,activation='swish',survival_probability=1)\n",
    "x=np.random.rand(10,40,40,4)\n",
    "l1(x),l(x)\n",
    "l.set_weights(l1.get_weights())\n",
    "np.sum(abs(l1(x)-l(x))>1e-6)"
   ]
  },
  {
   "cell_type": "code",
   "execution_count": null,
   "metadata": {
    "colab": {
     "base_uri": "https://localhost:8080/"
    },
    "id": "OTDwdOMuNieC",
    "outputId": "c4109409-b0f0-47bb-e0f0-972358d0e123"
   },
   "outputs": [
    {
     "name": "stdout",
     "output_type": "stream",
     "text": [
      "5.11 ms ± 167 µs per loop (mean ± std. dev. of 7 runs, 1,000 loops each)\n",
      "2.07 ms ± 129 µs per loop (mean ± std. dev. of 7 runs, 1,000 loops each)\n"
     ]
    }
   ],
   "source": [
    "%timeit -n 1000 l1(x) #keras-cv\n",
    "%timeit -n 1000 l(x) #ours"
   ]
  },
  {
   "cell_type": "code",
   "execution_count": 29,
   "metadata": {},
   "outputs": [],
   "source": [
    "args=dict(kernel_size=3,\n",
    "      input_filters=32,\n",
    "      output_filters=32,\n",
    "      expand_ratio=3,\n",
    "      se_ratio=.25,\n",
    "      strides=1,\n",
    "         survival_prob=0.8)"
   ]
  },
  {
   "cell_type": "code",
   "execution_count": 30,
   "metadata": {},
   "outputs": [],
   "source": [
    "x=keras.Input((None,None,32))\n",
    "y=MBC_Block('swish',args)(x)\n",
    "myMBC=keras.Model(x,y)\n",
    "x=keras.Input((None,None,32))\n",
    "y=keras_cv.layers.MBConvBlock(input_filters=32,output_filters=32,expand_ratio=3,\n",
    "                se_ratio=.25,activation='swish',survival_probability=0.8)(x)\n",
    "tfMBC=keras.Model(x,y)"
   ]
  },
  {
   "cell_type": "code",
   "execution_count": 27,
   "metadata": {},
   "outputs": [],
   "source": [
    "xx=np.random.randn(10000,32,32,32)"
   ]
  },
  {
   "cell_type": "code",
   "execution_count": 31,
   "metadata": {},
   "outputs": [
    {
     "name": "stdout",
     "output_type": "stream",
     "text": [
      "Average running time: 13.633 ms ± 2.397 ms / batch\n"
     ]
    },
    {
     "name": "stderr",
     "output_type": "stream",
     "text": [
      "2023-03-26 20:55:05.072419: E tensorflow/core/grappler/optimizers/meta_optimizer.cc:954] layout failed: INVALID_ARGUMENT: Size of values 0 does not match size of permutation 4 @ fanin shape inmodel_11/mb_conv_block_1/mb_conv_block_1drop/dropout/SelectV2-2-TransposeNHWCToNCHW-LayoutOptimizer\n",
      "2023-03-26 20:55:05.178342: I tensorflow/compiler/xla/stream_executor/cuda/cuda_blas.cc:630] TensorFloat-32 will be used for the matrix multiplication. This will only be logged once.\n"
     ]
    },
    {
     "name": "stdout",
     "output_type": "stream",
     "text": [
      "Average running time: 14.416 ms ± 2.457 ms / batch\n"
     ]
    }
   ],
   "source": [
    "test_running(xx,xx,myMBC)\n",
    "test_running(xx,xx,tfMBC)"
   ]
  },
  {
   "cell_type": "markdown",
   "metadata": {
    "id": "bg2aYhQksZvw"
   },
   "source": [
    "Conclusion: use our MBConv block"
   ]
  },
  {
   "cell_type": "markdown",
   "metadata": {
    "id": "OR6U586bQcjQ"
   },
   "source": [
    "### Test FusedMBConv block"
   ]
  },
  {
   "cell_type": "code",
   "execution_count": 10,
   "metadata": {
    "id": "tWuAbHvxNij8"
   },
   "outputs": [],
   "source": [
    "'''\n",
    "  Another Core block of EfficientNetV2\n",
    "  Using Convolution layer replacing the channel-wise FC and Depthwise Conv to reduce computation cost\n",
    "  it finds that Depthwise convolutions are slow in early layers but effective in later stages\n",
    "'''\n",
    "\n",
    "class FusedMBC_Block(keras.layers.Layer):\n",
    "  def __init__(self,act,args,survival_prob=1):\n",
    "    super().__init__()\n",
    "    filters=int(args['input_filters']*args['expand_ratio'])\n",
    "    self.expandblock=None\n",
    "    if args['expand_ratio']!=1:\n",
    "      self.expandblock=CBA2D_layer(\n",
    "            filters=filters,\n",
    "            kernel_size=args['kernel_size'],\n",
    "            strides=args['strides'],\n",
    "            padding='same',\n",
    "            use_bias=False,\n",
    "            activation=act\n",
    "          )\n",
    "    self.conv_dropout=None\n",
    "    if 'conv_dropout' in args.keys():\n",
    "      if args['conv_dropout'] and args['expand_ratio'] > 1:\n",
    "        self.conv_dropout=keras.layers.Dropout(args['conv_dropout'])\n",
    "    if args['se_ratio']:\n",
    "      self.se=SE(filters,args['se_ratio']/args['expand_ratio'],act)\n",
    "    else:\n",
    "      self.se=None\n",
    "    self.outputblock=CBA2D_layer(\n",
    "        filters=args['output_filters'],\n",
    "        kernel_size=args['kernel_size'] if args['expand_ratio'] == 1 else 1,\n",
    "        strides=args['strides'] if args['expand_ratio'] == 1 else 1,\n",
    "        padding='same',\n",
    "        use_bias=False,\n",
    "        activation=act if args['expand_ratio'] == 1 else None\n",
    "    )\n",
    "    self.residual_dropout=None\n",
    "    self.residual=None\n",
    "    if args['strides']==1 and args['input_filters']==args['output_filters']:\n",
    "      if 1-survival_prob:\n",
    "        self.residual_dropout=keras.layers.SpatialDropout2D(1-survival_prob)\n",
    "      self.residual=self._residual\n",
    "      \n",
    "  @tf.function\n",
    "  def _residual(self,x,input):\n",
    "    if self.residual_dropout:\n",
    "      x=self.residual_dropout(x)\n",
    "    return tf.add(x,input)\n",
    "  @tf.function\n",
    "  def call(self,input):\n",
    "    x=input\n",
    "    if self.expandblock:\n",
    "      x=self.expandblock(x)\n",
    "    if self.conv_dropout:\n",
    "      x=self.conv_dropout(x)\n",
    "    if self.se:\n",
    "      x=self.se(x)\n",
    "    x=self.outputblock(x)\n",
    "    if self.residual:\n",
    "      x=self.residual(x,input)\n",
    "    return x"
   ]
  },
  {
   "cell_type": "code",
   "execution_count": null,
   "metadata": {
    "id": "hQL62JToNimU"
   },
   "outputs": [],
   "source": [
    "l=FusedMBC_Block('swish',args)\n",
    "l1=keras_cv.layers.FusedMBConvBlock(input_filters=4,output_filters=4,expand_ratio=3,\n",
    "                se_ratio=.25,survival_probability=1)\n"
   ]
  },
  {
   "cell_type": "code",
   "execution_count": null,
   "metadata": {
    "colab": {
     "base_uri": "https://localhost:8080/"
    },
    "id": "dQU-EeTYOmRI",
    "outputId": "5f7d887c-17b1-404c-c4f1-acb04e7e627c"
   },
   "outputs": [
    {
     "data": {
      "text/plain": [
       "0"
      ]
     },
     "execution_count": 44,
     "metadata": {},
     "output_type": "execute_result"
    }
   ],
   "source": [
    "x=np.random.rand(10,40,40,4)\n",
    "l1(x),l(x)\n",
    "l.set_weights(l1.get_weights())\n",
    "np.sum(abs(l1(x)-l(x))>1e-6)"
   ]
  },
  {
   "cell_type": "code",
   "execution_count": null,
   "metadata": {
    "colab": {
     "base_uri": "https://localhost:8080/"
    },
    "id": "ZMHjFsiROmT0",
    "outputId": "0bb1d92d-5be4-4c81-a0e5-9cd8746362ca"
   },
   "outputs": [
    {
     "name": "stdout",
     "output_type": "stream",
     "text": [
      "5.15 ms ± 515 µs per loop (mean ± std. dev. of 7 runs, 1,000 loops each)\n",
      "1.55 ms ± 249 µs per loop (mean ± std. dev. of 7 runs, 1,000 loops each)\n"
     ]
    }
   ],
   "source": [
    "%timeit -n 1000 l1(x) #keras-cv\n",
    "%timeit -n 1000 l(x) #ours"
   ]
  },
  {
   "cell_type": "code",
   "execution_count": 38,
   "metadata": {},
   "outputs": [],
   "source": [
    "x=keras.Input((None,None,32))\n",
    "y=FusedMBC_Block('swish',args)(x)\n",
    "myfMBC=keras.Model(x,y)\n",
    "x=keras.Input((None,None,32))\n",
    "y=keras_cv.layers.FusedMBConvBlock(input_filters=32,output_filters=32,expand_ratio=3,\n",
    "                se_ratio=.25,activation='swish',survival_probability=0.8)(x)\n",
    "tffMBC=keras.Model(x,y)"
   ]
  },
  {
   "cell_type": "code",
   "execution_count": 39,
   "metadata": {},
   "outputs": [],
   "source": [
    "xx=np.random.randn(10000,32,32,32)"
   ]
  },
  {
   "cell_type": "code",
   "execution_count": 40,
   "metadata": {},
   "outputs": [
    {
     "name": "stdout",
     "output_type": "stream",
     "text": [
      "Average running time: 12.091 ms ± 2.570 ms / batch\n"
     ]
    },
    {
     "name": "stderr",
     "output_type": "stream",
     "text": [
      "2023-03-26 20:56:07.806488: E tensorflow/core/grappler/optimizers/meta_optimizer.cc:954] layout failed: INVALID_ARGUMENT: Size of values 0 does not match size of permutation 4 @ fanin shape inmodel_15/fused_mb_conv_block_1/fused_mb_conv_block_1drop/dropout/SelectV2-2-TransposeNHWCToNCHW-LayoutOptimizer\n"
     ]
    },
    {
     "name": "stdout",
     "output_type": "stream",
     "text": [
      "Average running time: 12.075 ms ± 2.024 ms / batch\n"
     ]
    }
   ],
   "source": [
    "test_running(xx,xx,myfMBC)\n",
    "test_running(xx,xx,tffMBC)"
   ]
  },
  {
   "cell_type": "markdown",
   "metadata": {
    "id": "wAaTSP2dVA4d"
   },
   "source": [
    "Conclusion: use our layer"
   ]
  },
  {
   "cell_type": "markdown",
   "metadata": {
    "id": "MLNRHtzOHGt0"
   },
   "source": [
    "## Test full model"
   ]
  },
  {
   "cell_type": "code",
   "execution_count": 11,
   "metadata": {
    "id": "-1JwkWnIOmWx"
   },
   "outputs": [],
   "source": [
    "class EfficientV2base(keras.Model):\n",
    "  def __init__(self,act,block_cfgs,head_filters=1280,survival_prob=0.8,dropout=None):\n",
    "    super().__init__()\n",
    "    self.stem=CBA2D_layer(\n",
    "        filters=block_cfgs[0]['input_filters'],\n",
    "        kernel_size=3,\n",
    "        strides=2,\n",
    "        padding='same',\n",
    "        use_bias=False,\n",
    "        activation=act,\n",
    "        )\n",
    "    \n",
    "    self.blocks=[]\n",
    "    for idx,block_cfg in enumerate(block_cfgs):\n",
    "      if survival_prob:\n",
    "        drop_rate = 1.0 - survival_prob\n",
    "        survival_prob = 1.0 - drop_rate * float(idx) / len(block_cfgs)\n",
    "      if block_cfg['conv_type']:\n",
    "        self.blocks.append(FusedMBC_Block(act,block_cfg,survival_prob))\n",
    "      else:\n",
    "        self.blocks.append(MBC_Block(act,block_cfg,survival_prob))\n",
    "    self.head_block=CBA2D_layer(filters=head_filters,\n",
    "        kernel_size=1,\n",
    "        strides=1,\n",
    "        padding='same',\n",
    "        use_bias=False,\n",
    "        activation=act)\n",
    "    self.head_pool=keras.layers.GlobalAveragePooling2D()\n",
    "    self.dropout=None\n",
    "    if dropout and dropout>0 and dropout<1:\n",
    "      self.dropout=keras.layers.Dropout(dropout)\n",
    "  @tf.function\n",
    "  def head(self,x):\n",
    "    x=self.head_block(x)\n",
    "    x=self.head_pool(x)\n",
    "    if self.dropout:\n",
    "      x=self.dropout(x)\n",
    "    return x\n",
    "  @tf.function\n",
    "  def call(self,x):\n",
    "    x=self.stem(x)\n",
    "    for block in self.blocks:\n",
    "      x=block(x)\n",
    "    x=self.head(x)\n",
    "    return x"
   ]
  },
  {
   "cell_type": "code",
   "execution_count": 12,
   "metadata": {
    "id": "WirH-dRUHSdx"
   },
   "outputs": [],
   "source": [
    "act=keras.activations.swish\n",
    "depth_divisor=8\n",
    "min_depth=8\n",
    "survival_prob=0.8\n",
    "dropout=0.2\n",
    "nclasses=10\n",
    "conv_dropout=None\n",
    "\n",
    "#b0_config\n",
    "v2_base_block = [ # The baseline config for v2 models.\n",
    "'r1_k3_s1_e1_i32_o16_c1',\n",
    "'r2_k3_s2_e4_i16_o32_c1',\n",
    "'r2_k3_s2_e4_i32_o48_c1',\n",
    "'r3_k3_s2_e4_i48_o96_se0.25',\n",
    "'r5_k3_s1_e6_i96_o112_se0.25',\n",
    "'r8_k3_s2_e6_i112_o192_se0.25',\n",
    "]\n"
   ]
  },
  {
   "cell_type": "code",
   "execution_count": 13,
   "metadata": {
    "id": "KsKCCm3IIJAs"
   },
   "outputs": [],
   "source": [
    "def decode_block_cfg(s):\n",
    "  ops = s.split('_')\n",
    "  options = {}\n",
    "  for op in ops:\n",
    "    splits = re.split(r'(\\d.*)', op)\n",
    "    if len(splits) >= 2:\n",
    "      key, value = splits[:2]\n",
    "      options[key] = value\n",
    "  return dict(\n",
    "      kernel_size=int(options['k']),\n",
    "      num_repeat=int(options['r']),\n",
    "      input_filters=int(options['i']),\n",
    "      output_filters=int(options['o']),\n",
    "      expand_ratio=int(options['e']),\n",
    "      se_ratio=float(options['se']) if 'se' in options else None,\n",
    "      strides=int(options['s']),\n",
    "      conv_type=int(options['c']) if 'c' in options else 0,\n",
    "  )"
   ]
  },
  {
   "cell_type": "code",
   "execution_count": 14,
   "metadata": {
    "id": "dM_eM8DfHSiC"
   },
   "outputs": [],
   "source": [
    "'''\n",
    "decode the blocks config above for latter model construction \n",
    "'''\n",
    "def decode_cfgs(cfgs):\n",
    "  block_cfgs=[]\n",
    "  for s in cfgs:\n",
    "    block_cfg=decode_block_cfg(s)\n",
    "    block_cfgs.append(copy.copy(block_cfg))\n",
    "    if block_cfg['num_repeat']>1:\n",
    "      block_cfg['input_filters']=block_cfg['output_filters']\n",
    "      block_cfg['strides']=1\n",
    "    for _ in range(block_cfg['num_repeat']-1):\n",
    "      block_cfgs.append(copy.copy(block_cfg))\n",
    "  return block_cfgs"
   ]
  },
  {
   "cell_type": "code",
   "execution_count": 37,
   "metadata": {
    "id": "9G-CfV7EHSlj"
   },
   "outputs": [],
   "source": [
    "efficientv2_base=EfficientV2base(act,decode_cfgs(v2_base_block))"
   ]
  },
  {
   "cell_type": "code",
   "execution_count": 38,
   "metadata": {
    "id": "wR67U7_YHSom"
   },
   "outputs": [],
   "source": [
    "inputx=keras.Input((None,None,3))\n",
    "x=efficientv2_base(inputx)\n",
    "x=keras.layers.Dense(10,activation='softmax')(x)\n",
    "Mymodel=keras.Model(inputs=inputx,outputs=x)"
   ]
  },
  {
   "cell_type": "code",
   "execution_count": 17,
   "metadata": {
    "colab": {
     "base_uri": "https://localhost:8080/"
    },
    "id": "9P_2ToUjHYZA",
    "outputId": "a506e862-6ab5-4d34-a68e-37bc886abe7d"
   },
   "outputs": [],
   "source": [
    "truemodel=keras.applications.EfficientNetV2B0(\n",
    "    include_top=False,\n",
    "    weights=\"imagenet\",\n",
    "    input_tensor=None,\n",
    "    input_shape=None,\n",
    "    pooling=None,\n",
    "    classes=10,\n",
    "    classifier_activation=\"softmax\",\n",
    "    include_preprocessing=False,\n",
    ")"
   ]
  },
  {
   "cell_type": "code",
   "execution_count": 18,
   "metadata": {
    "id": "xW9gTvYEHYb4"
   },
   "outputs": [],
   "source": [
    "x=truemodel.output\n",
    "x=keras.layers.GlobalAveragePooling2D()(x)\n",
    "x=keras.layers.Dense(10,activation='softmax')(x)\n",
    "tf_model=keras.Model(inputs=truemodel.input,outputs=x)\n",
    "tf_model.compile(keras.optimizers.Adam(),loss=keras.losses.CategoricalCrossentropy(),metrics=[keras.metrics.categorical_accuracy])"
   ]
  },
  {
   "cell_type": "code",
   "execution_count": 21,
   "metadata": {
    "colab": {
     "base_uri": "https://localhost:8080/"
    },
    "id": "cxqkzpKUuRpk",
    "outputId": "2c207746-4d2f-47bb-d91e-5fabdb16bf92",
    "scrolled": true
   },
   "outputs": [
    {
     "name": "stdout",
     "output_type": "stream",
     "text": [
      "Model: \"efficient_v2base\"\n",
      "_________________________________________________________________\n",
      " Layer (type)                Output Shape              Param #   \n",
      "=================================================================\n",
      " cba2d_layer (CBA2D_layer)   multiple                  992       \n",
      "                                                                 \n",
      " fused_mbc__block (FusedMBC_  multiple                 4672      \n",
      " Block)                                                          \n",
      "                                                                 \n",
      " fused_mbc__block_1 (FusedMB  multiple                 11648     \n",
      " C_Block)                                                        \n",
      "                                                                 \n",
      " fused_mbc__block_2 (FusedMB  multiple                 41600     \n",
      " C_Block)                                                        \n",
      "                                                                 \n",
      " fused_mbc__block_3 (FusedMB  multiple                 43712     \n",
      " C_Block)                                                        \n",
      "                                                                 \n",
      " fused_mbc__block_4 (FusedMB  multiple                 93120     \n",
      " C_Block)                                                        \n",
      "                                                                 \n",
      " mbc__block (MBC_Block)      multiple                  36108     \n",
      "                                                                 \n",
      " mbc__block_1 (MBC_Block)    multiple                  99480     \n",
      "                                                                 \n",
      " mbc__block_2 (MBC_Block)    multiple                  99480     \n",
      "                                                                 \n",
      " mbc__block_3 (MBC_Block)    multiple                  158296    \n",
      "                                                                 \n",
      " mbc__block_4 (MBC_Block)    multiple                  200732    \n",
      "                                                                 \n",
      " mbc__block_5 (MBC_Block)    multiple                  200732    \n",
      "                                                                 \n",
      " mbc__block_6 (MBC_Block)    multiple                  200732    \n",
      "                                                                 \n",
      " mbc__block_7 (MBC_Block)    multiple                  200732    \n",
      "                                                                 \n",
      " mbc__block_8 (MBC_Block)    multiple                  254812    \n",
      "                                                                 \n",
      " mbc__block_9 (MBC_Block)    multiple                  574512    \n",
      "                                                                 \n",
      " mbc__block_10 (MBC_Block)   multiple                  574512    \n",
      "                                                                 \n",
      " mbc__block_11 (MBC_Block)   multiple                  574512    \n",
      "                                                                 \n",
      " mbc__block_12 (MBC_Block)   multiple                  574512    \n",
      "                                                                 \n",
      " mbc__block_13 (MBC_Block)   multiple                  574512    \n",
      "                                                                 \n",
      " mbc__block_14 (MBC_Block)   multiple                  574512    \n",
      "                                                                 \n",
      " mbc__block_15 (MBC_Block)   multiple                  574512    \n",
      "                                                                 \n",
      " cba2d_layer_42 (CBA2D_layer  multiple                 250880    \n",
      " )                                                               \n",
      "                                                                 \n",
      " global_average_pooling2d_16  multiple                 0         \n",
      "  (GlobalAveragePooling2D)                                       \n",
      "                                                                 \n",
      "=================================================================\n",
      "Total params: 5,919,312\n",
      "Trainable params: 5,858,704\n",
      "Non-trainable params: 60,608\n",
      "_________________________________________________________________\n"
     ]
    }
   ],
   "source": [
    "efficientv2_base.summary()"
   ]
  },
  {
   "cell_type": "code",
   "execution_count": 15,
   "metadata": {},
   "outputs": [],
   "source": [
    "v2_base_block_modified = [ # The baseline config for v2 models.\n",
    "'r1_k3_s1_e1_i32_o16_c1',\n",
    "'r1_k3_s1_e4_i16_o32_c1',\n",
    "'r1_k3_s1_e4_i32_o48_c1',\n",
    "'r2_k3_s2_e4_i48_o96_se0.25',\n",
    "'r2_k3_s1_e6_i96_o112_se0.25',\n",
    "'r5_k3_s2_e6_i112_o192_se0.25',\n",
    "]"
   ]
  },
  {
   "cell_type": "code",
   "execution_count": 16,
   "metadata": {},
   "outputs": [],
   "source": [
    "efficientv2_base=EfficientV2base(keras.activations.gelu,decode_cfgs(v2_base_block_modified))"
   ]
  },
  {
   "cell_type": "code",
   "execution_count": 18,
   "metadata": {
    "scrolled": true
   },
   "outputs": [
    {
     "name": "stdout",
     "output_type": "stream",
     "text": [
      "Model: \"efficient_v2base_1\"\n",
      "_________________________________________________________________\n",
      " Layer (type)                Output Shape              Param #   \n",
      "=================================================================\n",
      " cba2d_layer_43 (CBA2D_layer  multiple                 992       \n",
      " )                                                               \n",
      "                                                                 \n",
      " fused_mbc__block_5 (FusedMB  multiple                 4672      \n",
      " C_Block)                                                        \n",
      "                                                                 \n",
      " fused_mbc__block_6 (FusedMB  multiple                 11648     \n",
      " C_Block)                                                        \n",
      "                                                                 \n",
      " fused_mbc__block_7 (FusedMB  multiple                 43712     \n",
      " C_Block)                                                        \n",
      "                                                                 \n",
      " mbc__block_16 (MBC_Block)   multiple                  36108     \n",
      "                                                                 \n",
      " mbc__block_17 (MBC_Block)   multiple                  99480     \n",
      "                                                                 \n",
      " mbc__block_18 (MBC_Block)   multiple                  158296    \n",
      "                                                                 \n",
      " mbc__block_19 (MBC_Block)   multiple                  200732    \n",
      "                                                                 \n",
      " mbc__block_20 (MBC_Block)   multiple                  254812    \n",
      "                                                                 \n",
      " mbc__block_21 (MBC_Block)   multiple                  574512    \n",
      "                                                                 \n",
      " mbc__block_22 (MBC_Block)   multiple                  574512    \n",
      "                                                                 \n",
      " mbc__block_23 (MBC_Block)   multiple                  574512    \n",
      "                                                                 \n",
      " mbc__block_24 (MBC_Block)   multiple                  574512    \n",
      "                                                                 \n",
      " cba2d_layer_67 (CBA2D_layer  multiple                 250880    \n",
      " )                                                               \n",
      "                                                                 \n",
      " global_average_pooling2d_26  multiple                 0         \n",
      "  (GlobalAveragePooling2D)                                       \n",
      "                                                                 \n",
      "=================================================================\n",
      "Total params: 3,359,380\n",
      "Trainable params: 3,325,012\n",
      "Non-trainable params: 34,368\n",
      "_________________________________________________________________\n"
     ]
    }
   ],
   "source": [
    "inputx=keras.Input((None,None,3))\n",
    "x=efficientv2_base(inputx)\n",
    "x=keras.layers.Dense(10,activation='softmax')(x)\n",
    "Mymodel=keras.Model(inputs=inputx,outputs=x)\n",
    "efficientv2_base.summary()"
   ]
  },
  {
   "cell_type": "markdown",
   "metadata": {
    "id": "YHcwWOcnsZv6"
   },
   "source": [
    "# Test kernel weights initialized distribution\n",
    "\n",
    "## using modified initialization"
   ]
  },
  {
   "cell_type": "code",
   "execution_count": 23,
   "metadata": {
    "id": "WFq_0R1lsZv7"
   },
   "outputs": [],
   "source": [
    "regex=r'.*kernel:.*$'\n",
    "kernel_match=re.compile(regex)"
   ]
  },
  {
   "cell_type": "code",
   "execution_count": 39,
   "metadata": {
    "id": "ivxxsrs0sZv8"
   },
   "outputs": [],
   "source": [
    "kernelmeans=[np.mean(w) for w in truemodel.trainable_weights if kernel_match.match(w.name)]\n",
    "kernelvars=[np.var(w) for w in truemodel.trainable_weights if kernel_match.match(w.name)]\n",
    "mykernelmeans=[np.mean(w) for w in efficientv2_base.trainable_weights if kernel_match.match(w.name)]\n",
    "mykernelvars=[np.var(w) for w in efficientv2_base.trainable_weights if kernel_match.match(w.name)]"
   ]
  },
  {
   "cell_type": "code",
   "execution_count": 40,
   "metadata": {
    "colab": {
     "base_uri": "https://localhost:8080/",
     "height": 298
    },
    "id": "HcpOMuvisZv8",
    "outputId": "1c925db5-e00b-4c84-f1fa-c2005e7ba67d"
   },
   "outputs": [
    {
     "data": {
      "text/plain": [
       "Text(0.5, 1.0, 'distribution of weights standard deviation')"
      ]
     },
     "execution_count": 40,
     "metadata": {},
     "output_type": "execute_result"
    },
    {
     "data": {
      "image/png": "[encoded data removed]",
      "text/plain": [
       "<Figure size 800x400 with 2 Axes>"
      ]
     },
     "metadata": {},
     "output_type": "display_data"
    }
   ],
   "source": [
    "plt.figure(figsize=(8,4))\n",
    "plt.subplot(121)\n",
    "plt.hist(kernelmeans)\n",
    "plt.hist(mykernelmeans)\n",
    "plt.legend([\"trained\",\"our\"])\n",
    "plt.title('distribution of weights means')\n",
    "plt.subplot(122)\n",
    "plt.hist(kernelvars)\n",
    "plt.hist(mykernelvars)\n",
    "plt.legend([\"trained\",\"our\"])\n",
    "plt.title('distribution of weights standard deviation')"
   ]
  },
  {
   "cell_type": "code",
   "execution_count": 22,
   "metadata": {
    "id": "-D-dCcbT0uNM"
   },
   "outputs": [],
   "source": [
    "def avgnorm(x):\n",
    "    return np.mean(tf.norm(tf.reshape(x,[x.shape[0],-1]),axis=-1))\n",
    "def avgrelnorm(x):\n",
    "    return avgnorm(x)/np.sqrt(np.prod(x.shape[1:]))"
   ]
  },
  {
   "cell_type": "code",
   "execution_count": 41,
   "metadata": {
    "id": "MJZxdsgksZv9"
   },
   "outputs": [],
   "source": [
    "xnorm=[]\n",
    "xrelnorm=[]\n",
    "x=tf.random.uniform((1000,32,32,3))\n",
    "xnorm.append(avgnorm(x))\n",
    "xrelnorm.append(avgrelnorm(x))\n",
    "x=efficientv2_base.stem(x)\n",
    "xnorm.append(avgnorm(x))\n",
    "xrelnorm.append(avgrelnorm(x))\n",
    "for block in efficientv2_base.blocks:\n",
    "    x=block(x)\n",
    "    xnorm.append(avgnorm(x))\n",
    "    xrelnorm.append(avgrelnorm(x))\n",
    "x=efficientv2_base.head(x)\n",
    "xnorm.append(avgnorm(x))\n",
    "xrelnorm.append(avgrelnorm(x))"
   ]
  },
  {
   "cell_type": "code",
   "execution_count": 42,
   "metadata": {
    "colab": {
     "base_uri": "https://localhost:8080/",
     "height": 298
    },
    "id": "CQZ8RJeXsZv9",
    "outputId": "4452a71b-9338-4bf4-bb7e-03c91aefdee1",
    "scrolled": true
   },
   "outputs": [
    {
     "data": {
      "text/plain": [
       "Text(0.5, 1.0, 'output of each block under modified initial weight ')"
      ]
     },
     "execution_count": 42,
     "metadata": {},
     "output_type": "execute_result"
    },
    {
     "data": {
      "image/png": "[encoded data removed]",
      "text/plain": [
       "<Figure size 640x480 with 1 Axes>"
      ]
     },
     "metadata": {},
     "output_type": "display_data"
    }
   ],
   "source": [
    "plt.plot(xnorm)\n",
    "plt.plot(xrelnorm)\n",
    "plt.legend([\"norm\",'relative norm'])\n",
    "plt.yscale('log')\n",
    "plt.title('output of each block under modified initial weight ')"
   ]
  },
  {
   "cell_type": "markdown",
   "metadata": {
    "id": "xfdkGEjfsZv-"
   },
   "source": [
    "### Verify model output scale"
   ]
  },
  {
   "cell_type": "code",
   "execution_count": 57,
   "metadata": {
    "colab": {
     "base_uri": "https://localhost:8080/"
    },
    "id": "dOiaW63esZwG",
    "outputId": "41036087-d85e-4b95-ed87-64cd6093f7f7"
   },
   "outputs": [
    {
     "name": "stdout",
     "output_type": "stream",
     "text": [
      "avg input norm: 31.9954, avg true model output norm: 6.4552, avg our model output norm: 2.1542\n"
     ]
    }
   ],
   "source": [
    "x=tf.random.uniform((1000,32,32,3))\n",
    "print(\"avg input norm: {:.4f}, avg true model output norm: {:.4f}, avg our model output norm: {:.4f}\".format(tf.reduce_mean(tf.norm(tf.reshape(x,[1000,-1]),axis=-1)).numpy(),\n",
    "      tf.reduce_mean(tf.norm(tf.reshape(truemodel(x),[1000,-1]),axis=-1)).numpy(),\n",
    "      tf.reduce_mean(tf.norm(tf.reshape(efficientv2_base(x),[1000,-1]),axis=-1)).numpy()))"
   ]
  },
  {
   "cell_type": "markdown",
   "metadata": {
    "id": "nLC7aZ1hsZwG"
   },
   "source": [
    "## using default initialization"
   ]
  },
  {
   "cell_type": "code",
   "execution_count": 7,
   "metadata": {
    "id": "7V35UXcosZwL"
   },
   "outputs": [],
   "source": [
    "# class DepthwiseCBA2D_layer_default_initialization(keras.layers.DepthwiseConv2D):\n",
    "class DepthwiseCBA2D_layer(keras.layers.DepthwiseConv2D):\n",
    "  def __init__(self,*args,**kwargs):\n",
    "    super().__init__(*args,\n",
    "                     **kwargs)\n",
    "    self.act=self.activation\n",
    "    self.activation=None\n",
    "    self.bn=keras.layers.BatchNormalization()\n",
    "  @tf.function\n",
    "  def call(self, input, training):\n",
    "    x=super().call(input)\n",
    "    x=self.bn(x,training)\n",
    "    x=self.act(x)\n",
    "    return x\n",
    "\n",
    "# class CBA2D_layer_default_initialization(keras.layers.Conv2D):\n",
    "class CBA2D_layer(keras.layers.Conv2D):\n",
    "  def __init__(self,*args,**kwargs):\n",
    "    \n",
    "    super().__init__(*args,\n",
    "                     **kwargs)\n",
    "    self.act=self.activation\n",
    "    self.activation=None\n",
    "    self.bn=keras.layers.BatchNormalization()\n",
    "  @tf.function\n",
    "  def call(self, input, training):\n",
    "    x=super().call(input)\n",
    "    x=self.bn(x,training)\n",
    "    x=self.act(x)\n",
    "    return x"
   ]
  },
  {
   "cell_type": "code",
   "execution_count": 21,
   "metadata": {
    "id": "mN80iNpYsZwM"
   },
   "outputs": [],
   "source": [
    "efficientv2_base_default_initialization=EfficientV2base(act,decode_cfgs(v2_base_block))\n",
    "inputx=keras.Input((None,None,3))\n",
    "x=efficientv2_base_default_initialization(inputx)\n",
    "x=keras.layers.Dense(10,activation='softmax')(x)\n",
    "Mymodel=keras.Model(inputs=inputx,outputs=x)"
   ]
  },
  {
   "cell_type": "code",
   "execution_count": 24,
   "metadata": {
    "id": "fzrY-WTXsZwN"
   },
   "outputs": [],
   "source": [
    "kernelmeans=[np.mean(w) for w in truemodel.trainable_weights if kernel_match.match(w.name)]\n",
    "kernelvars=[np.var(w) for w in truemodel.trainable_weights if kernel_match.match(w.name)]\n",
    "mykernelmeans=[np.mean(w) for w in efficientv2_base.trainable_weights if kernel_match.match(w.name)]\n",
    "mykernelvars=[np.var(w) for w in efficientv2_base.trainable_weights if kernel_match.match(w.name)]"
   ]
  },
  {
   "cell_type": "code",
   "execution_count": 25,
   "metadata": {
    "colab": {
     "base_uri": "https://localhost:8080/",
     "height": 298
    },
    "id": "P5kiTixmsZwN",
    "outputId": "16e2e5d6-0651-4a52-c690-1c4e51a163ae"
   },
   "outputs": [
    {
     "data": {
      "text/plain": [
       "Text(0.5, 1.0, 'distribution of weights standard deviation')"
      ]
     },
     "execution_count": 25,
     "metadata": {},
     "output_type": "execute_result"
    },
    {
     "data": {
      "image/png": "[encoded data removed]",
      "text/plain": [
       "<Figure size 800x400 with 2 Axes>"
      ]
     },
     "metadata": {},
     "output_type": "display_data"
    }
   ],
   "source": [
    "plt.figure(figsize=(8,4))\n",
    "plt.subplot(121)\n",
    "plt.hist(kernelmeans)\n",
    "plt.hist(mykernelmeans)\n",
    "plt.legend([\"trained\",\"our\"])\n",
    "plt.title('distribution of weights means')\n",
    "plt.subplot(122)\n",
    "plt.hist(kernelvars)\n",
    "plt.hist(mykernelvars)\n",
    "plt.legend([\"trained\",\"our\"])\n",
    "plt.title('distribution of weights standard deviation')"
   ]
  },
  {
   "cell_type": "code",
   "execution_count": 26,
   "metadata": {
    "colab": {
     "base_uri": "https://localhost:8080/"
    },
    "id": "IcM-h4k9sZwV",
    "outputId": "37b8f1af-f16f-4d88-8cab-6ed5aed01955"
   },
   "outputs": [
    {
     "name": "stderr",
     "output_type": "stream",
     "text": [
      "2023-04-04 16:13:17.253244: I tensorflow/compiler/xla/stream_executor/cuda/cuda_dnn.cc:428] Loaded cuDNN version 8401\n"
     ]
    }
   ],
   "source": [
    "xnorm=[]\n",
    "xrelnorm=[]\n",
    "x=tf.random.uniform((1000,32,32,3))\n",
    "xnorm.append(avgnorm(x))\n",
    "xrelnorm.append(avgrelnorm(x))\n",
    "x=efficientv2_base.stem(x)\n",
    "xnorm.append(avgnorm(x))\n",
    "xrelnorm.append(avgrelnorm(x))\n",
    "for block in efficientv2_base.blocks:\n",
    "    x=block(x)\n",
    "    xnorm.append(avgnorm(x))\n",
    "    xrelnorm.append(avgrelnorm(x))\n",
    "x=efficientv2_base.head(x)\n",
    "xnorm.append(avgnorm(x))\n",
    "xrelnorm.append(avgrelnorm(x))"
   ]
  },
  {
   "cell_type": "code",
   "execution_count": 27,
   "metadata": {
    "colab": {
     "base_uri": "https://localhost:8080/",
     "height": 298
    },
    "id": "xzUUB-qisZwZ",
    "outputId": "07d9f1b6-7ba9-402e-a16b-b9885ead0c6c",
    "scrolled": false
   },
   "outputs": [
    {
     "data": {
      "text/plain": [
       "Text(0.5, 1.0, 'output of each block under default initial weight ')"
      ]
     },
     "execution_count": 27,
     "metadata": {},
     "output_type": "execute_result"
    },
    {
     "data": {
      "image/png": "[encoded data removed]",
      "text/plain": [
       "<Figure size 640x480 with 1 Axes>"
      ]
     },
     "metadata": {},
     "output_type": "display_data"
    }
   ],
   "source": [
    "plt.plot(xnorm)\n",
    "plt.plot(xrelnorm)\n",
    "plt.legend([\"norm\",'relative norm'])\n",
    "plt.yscale('log')\n",
    "plt.title('output of each block under default initial weight ')"
   ]
  },
  {
   "cell_type": "markdown",
   "metadata": {
    "id": "fiDRbI4esZwa"
   },
   "source": [
    "### Verify model output scale"
   ]
  },
  {
   "cell_type": "code",
   "execution_count": 92,
   "metadata": {
    "colab": {
     "base_uri": "https://localhost:8080/"
    },
    "id": "9flsZoRQsZwb",
    "outputId": "2df62aa4-923e-4a10-f9a4-7fac5db11e32"
   },
   "outputs": [
    {
     "name": "stdout",
     "output_type": "stream",
     "text": [
      "avg input norm: 31.9976, avg true model output norm: 6.4543, avg our model output norm: 0.0000\n"
     ]
    }
   ],
   "source": [
    "x=tf.random.uniform((1000,32,32,3))\n",
    "print(\"avg input norm: {:.4f}, avg true model output norm: {:.4f}, avg our model output norm: {:.4f}\".format(tf.reduce_mean(tf.norm(tf.reshape(x,[1000,-1]),axis=-1)).numpy(),\n",
    "      tf.reduce_mean(tf.norm(tf.reshape(truemodel(x),[1000,-1]),axis=-1)).numpy(),\n",
    "      tf.reduce_mean(tf.norm(tf.reshape(efficientv2_base(x),[1000,-1]),axis=-1)).numpy()))"
   ]
  },
  {
   "cell_type": "markdown",
   "metadata": {
    "id": "r_0r3UL-sZwb"
   },
   "source": [
    "# Test model structure"
   ]
  },
  {
   "cell_type": "code",
   "execution_count": 22,
   "metadata": {
    "id": "LX0ihBvjHaXx"
   },
   "outputs": [],
   "source": [
    "# data = keras.datasets.cifar10.load_data()\n",
    "# x_train, y_train, x_test, y_test=data[0][0],data[0][1],data[1][0],data[1][1]\n",
    "model_path = './saved_model'\n",
    "data=np.load(os.path.join(model_path,'data.npz'))\n",
    "x_train, y_train, x_test, y_test=data['x_train'],data['y_train'],data['x_test'],data['y_test']\n",
    "y_train=tf.keras.utils.to_categorical(y_train)\n",
    "y_test=tf.keras.utils.to_categorical(y_test)"
   ]
  },
  {
   "cell_type": "code",
   "execution_count": 43,
   "metadata": {
    "colab": {
     "base_uri": "https://localhost:8080/"
    },
    "id": "SLgvdP61VQap",
    "outputId": "c1c86f05-21a2-4f81-f134-d110162c2d69"
   },
   "outputs": [
    {
     "name": "stdout",
     "output_type": "stream",
     "text": [
      "same shape\n"
     ]
    }
   ],
   "source": [
    "#compare the size of our model and provided model for varifying model architecture\n",
    "try:\n",
    "  for w1,w2 in zip(tf_model.trainable_weights,Mymodel.trainable_weights):\n",
    "    assert w1.shape==w2.shape\n",
    "  print('same shape')\n",
    "except:\n",
    "  print('shape different')"
   ]
  },
  {
   "cell_type": "code",
   "execution_count": 44,
   "metadata": {
    "id": "7ofmdCEKsZwe"
   },
   "outputs": [],
   "source": [
    "for mw,w in zip(Mymodel.trainable_weights,tf_model.trainable_weights):\n",
    "    # print(np.sum(abs(mw-w)))\n",
    "    mw.assign(w)"
   ]
  },
  {
   "cell_type": "code",
   "execution_count": 45,
   "metadata": {
    "id": "scaGcWevsZwe"
   },
   "outputs": [],
   "source": [
    "otherws=[w for w in tf_model.weights if not w.trainable]\n",
    "myotherws=[w for w in Mymodel.weights if not w.trainable]"
   ]
  },
  {
   "cell_type": "code",
   "execution_count": 46,
   "metadata": {
    "id": "JQMDp5sTsZwe"
   },
   "outputs": [],
   "source": [
    "for mw,w in zip(myotherws,otherws):\n",
    "    # print(mw.shape,w.shape)\n",
    "    mw.assign(w)"
   ]
  },
  {
   "cell_type": "code",
   "execution_count": 47,
   "metadata": {
    "colab": {
     "base_uri": "https://localhost:8080/"
    },
    "id": "qw0sqI_55wKy",
    "outputId": "eaa7fb9f-2e33-411b-fac1-df230f2d8a1d"
   },
   "outputs": [
    {
     "name": "stdout",
     "output_type": "stream",
     "text": [
      "same weight\n"
     ]
    }
   ],
   "source": [
    "#compare the size of our model and provided model for varifying model architecture\n",
    "try:\n",
    "  for w1,w2 in zip(tf_model.trainable_weights,Mymodel.trainable_weights):\n",
    "    assert np.sum(abs(w1-w2))<1e-8\n",
    "  print('same weight')\n",
    "except:\n",
    "  print('different weight')"
   ]
  },
  {
   "cell_type": "code",
   "execution_count": 48,
   "metadata": {
    "id": "v8mzmVNx59qV"
   },
   "outputs": [],
   "source": [
    "otherws=[w for w in tf_model.weights if not w.trainable]\n",
    "myotherws=[w for w in Mymodel.weights if not w.trainable]"
   ]
  },
  {
   "cell_type": "code",
   "execution_count": 49,
   "metadata": {
    "colab": {
     "base_uri": "https://localhost:8080/"
    },
    "id": "FaXZSxEW5_Vr",
    "outputId": "340c04bc-aa83-4f5f-d53e-aebdf6fbd2ae"
   },
   "outputs": [
    {
     "name": "stdout",
     "output_type": "stream",
     "text": [
      "same weight\n"
     ]
    }
   ],
   "source": [
    "#compare the size of our model and provided model for varifying model architecture\n",
    "try:\n",
    "  for w1,w2 in zip(myotherws,otherws):\n",
    "    assert np.sum(abs(w1-w2))<1e-8\n",
    "  print('same weight')\n",
    "except:\n",
    "  print('different weight')"
   ]
  },
  {
   "cell_type": "code",
   "execution_count": 50,
   "metadata": {
    "id": "UidhlG-lzSlr"
   },
   "outputs": [],
   "source": [
    "x=tf.random.uniform((1000,32,32,3))"
   ]
  },
  {
   "cell_type": "code",
   "execution_count": 51,
   "metadata": {
    "id": "_VQOdg4MsZwf"
   },
   "outputs": [],
   "source": [
    "xnorm=[]\n",
    "xrelnorm=[]\n",
    "x=tf.random.uniform((1000,32,32,3))\n",
    "xnorm.append(avgnorm(x))\n",
    "xrelnorm.append(avgrelnorm(x))\n",
    "x=efficientv2_base.stem(x)\n",
    "xnorm.append(avgnorm(x))\n",
    "xrelnorm.append(avgrelnorm(x))\n",
    "for block in efficientv2_base.blocks:\n",
    "    x=block(x)\n",
    "    xnorm.append(avgnorm(x))\n",
    "    xrelnorm.append(avgrelnorm(x))\n",
    "x=efficientv2_base.head(x)\n",
    "xnorm.append(avgnorm(x))\n",
    "xrelnorm.append(avgrelnorm(x))"
   ]
  },
  {
   "cell_type": "code",
   "execution_count": 52,
   "metadata": {
    "colab": {
     "base_uri": "https://localhost:8080/",
     "height": 298
    },
    "id": "D5Ue2pozsZwg",
    "outputId": "f65c5095-1e40-4d67-95f8-46867e694752",
    "scrolled": false
   },
   "outputs": [
    {
     "data": {
      "text/plain": [
       "Text(0.5, 1.0, 'output of each block under trained weight ')"
      ]
     },
     "execution_count": 52,
     "metadata": {},
     "output_type": "execute_result"
    },
    {
     "data": {
      "image/png": "[encoded data removed]",
      "text/plain": [
       "<Figure size 640x480 with 1 Axes>"
      ]
     },
     "metadata": {},
     "output_type": "display_data"
    }
   ],
   "source": [
    "plt.plot(xnorm)\n",
    "plt.plot(xrelnorm)\n",
    "plt.legend([\"norm\",'relative norm'])\n",
    "plt.yscale('log')\n",
    "plt.title('output of each block under trained weight ')"
   ]
  },
  {
   "cell_type": "markdown",
   "metadata": {
    "id": "vreui_6RsZwg"
   },
   "source": [
    "### Verify model output"
   ]
  },
  {
   "cell_type": "code",
   "execution_count": 125,
   "metadata": {
    "colab": {
     "base_uri": "https://localhost:8080/"
    },
    "id": "-ArmNJAJsZwh",
    "outputId": "03e0db14-ff37-47cc-861f-18a05646d956"
   },
   "outputs": [
    {
     "name": "stdout",
     "output_type": "stream",
     "text": [
      "output norm difference 8.0627e-02\n"
     ]
    }
   ],
   "source": [
    "x=tf.random.uniform((1000,32,32,3))\n",
    "print(\"output norm difference {:.4e}\".format(\n",
    "      tf.reduce_mean(tf.norm(tf.reshape(tf_model(x)-Mymodel(x),[1000,-1]),axis=-1)).numpy()))"
   ]
  },
  {
   "cell_type": "code",
   "execution_count": 122,
   "metadata": {
    "colab": {
     "base_uri": "https://localhost:8080/"
    },
    "id": "1W8vwJrx8Rna",
    "outputId": "d29783b2-8922-4da7-be50-ddbd2d418856"
   },
   "outputs": [
    {
     "data": {
      "text/plain": [
       "TensorShape([1000, 10])"
      ]
     },
     "execution_count": 122,
     "metadata": {},
     "output_type": "execute_result"
    }
   ],
   "source": [
    "tf_model(x).shape"
   ]
  },
  {
   "cell_type": "code",
   "execution_count": 123,
   "metadata": {
    "colab": {
     "base_uri": "https://localhost:8080/"
    },
    "id": "jYS2O7Ar8Oyk",
    "outputId": "a4493959-0fb9-41b6-9603-419f0da4017f"
   },
   "outputs": [
    {
     "data": {
      "text/plain": [
       "TensorShape([1000, 10])"
      ]
     },
     "execution_count": 123,
     "metadata": {},
     "output_type": "execute_result"
    }
   ],
   "source": [
    "Mymodel(x).shape"
   ]
  },
  {
   "cell_type": "markdown",
   "metadata": {
    "id": "en4y_GuHsZwh"
   },
   "source": [
    "## Test training speed"
   ]
  },
  {
   "cell_type": "code",
   "execution_count": 48,
   "metadata": {},
   "outputs": [],
   "source": [
    "inputx=keras.Input((None,None,3))\n",
    "x=keras_cv.models.EfficientNetV2B0(include_rescaling=False,include_top=False,pooling='avg')(inputx)\n",
    "x=keras.layers.Dense(10,activation='softmax')(x)\n",
    "tfmodel=keras.Model(inputs=inputx,outputs=x)"
   ]
  },
  {
   "cell_type": "code",
   "execution_count": 49,
   "metadata": {},
   "outputs": [],
   "source": [
    "xx=np.random.randn(10000,32,32,3)\n",
    "yy=np.random.rand(10000,10)"
   ]
  },
  {
   "cell_type": "code",
   "execution_count": 50,
   "metadata": {},
   "outputs": [
    {
     "name": "stdout",
     "output_type": "stream",
     "text": [
      "Average running time: 54.864 ms ± 55.860 ms / batch\n"
     ]
    },
    {
     "name": "stderr",
     "output_type": "stream",
     "text": [
      "2023-03-26 21:02:38.000888: E tensorflow/core/grappler/optimizers/meta_optimizer.cc:954] layout failed: INVALID_ARGUMENT: Size of values 0 does not match size of permutation 4 @ fanin shape inmodel_18/model_17/block2b_/block2b_drop/dropout/SelectV2-2-TransposeNHWCToNCHW-LayoutOptimizer\n"
     ]
    },
    {
     "name": "stdout",
     "output_type": "stream",
     "text": [
      "Average running time: 47.267 ms ± 45.911 ms / batch\n"
     ]
    }
   ],
   "source": [
    "test_running(xx,yy,Mymodel)\n",
    "test_running(xx,yy,tfmodel)"
   ]
  },
  {
   "cell_type": "markdown",
   "metadata": {
    "id": "lrkYuyZ1N2-C"
   },
   "source": [
    "Conclusion: use our model"
   ]
  },
  {
   "cell_type": "markdown",
   "metadata": {
    "id": "gR5mWTMIsZwn"
   },
   "source": [
    "### Test mixed precision policy"
   ]
  },
  {
   "cell_type": "code",
   "execution_count": 51,
   "metadata": {
    "id": "vEELobXbLJCS"
   },
   "outputs": [
    {
     "name": "stdout",
     "output_type": "stream",
     "text": [
      "INFO:tensorflow:Mixed precision compatibility check (mixed_float16): OK\n",
      "Your GPUs will likely run quickly with dtype policy mixed_float16 as they all have compute capability of at least 7.0\n"
     ]
    }
   ],
   "source": [
    "keras.mixed_precision.set_global_policy('mixed_float16')\n",
    "inputx=keras.Input(shape=(32, 32, 3))\n",
    "x=keras.layers.Conv2D(\n",
    "        filters=128,\n",
    "        kernel_size=3,\n",
    "        strides=2,\n",
    "        padding='same',\n",
    "        )(inputx)\n",
    "BN=keras.layers.BatchNormalization()\n",
    "x=BN(x)\n",
    "x=keras.layers.SpatialDropout2D(0.2)(x)\n",
    "x=act(x)\n",
    "x=keras.layers.Conv2D(\n",
    "        filters=1600,\n",
    "        kernel_size=3,\n",
    "        strides=2,\n",
    "        padding='same',\n",
    "        )(x)\n",
    "BN1=keras.layers.BatchNormalization()\n",
    "x=BN1(x)\n",
    "x=act(x)\n",
    "x=keras.layers.GlobalAveragePooling2D()(x)\n",
    "x=keras.layers.Dense(10,activation='softmax')(x)\n",
    "contrast_model=keras.Model(inputs=inputx,outputs=x)\n",
    "contrast_model.compile(keras.optimizers.Adam(),loss=keras.losses.CategoricalCrossentropy(),metrics=[keras.metrics.categorical_accuracy])"
   ]
  },
  {
   "cell_type": "code",
   "execution_count": 52,
   "metadata": {},
   "outputs": [],
   "source": [
    "xx=np.random.randn(10000,32,32,3)\n",
    "yy=np.random.rand(10000,10)"
   ]
  },
  {
   "cell_type": "code",
   "execution_count": 53,
   "metadata": {
    "colab": {
     "base_uri": "https://localhost:8080/"
    },
    "id": "WThUU5MfL2ME",
    "outputId": "9fef397c-288e-4222-9252-34d0b3aba55a"
   },
   "outputs": [
    {
     "name": "stdout",
     "output_type": "stream",
     "text": [
      "Average running time: 8.212 ms ± 4.768 ms / batch\n"
     ]
    }
   ],
   "source": [
    "test_running(xx,yy,contrast_model)"
   ]
  },
  {
   "cell_type": "code",
   "execution_count": 54,
   "metadata": {
    "id": "2H3dC0ruL5Xo"
   },
   "outputs": [],
   "source": [
    "keras.mixed_precision.set_global_policy('float32')\n",
    "inputx=keras.Input(shape=(32, 32, 3))\n",
    "x=inputx\n",
    "# x=rand_augment(x)\n",
    "# x=keras.layers.Lambda(lambda x: tf.cast(x,tf.float32)/255.)(x)\n",
    "x=keras.layers.Conv2D(\n",
    "        filters=128,\n",
    "        kernel_size=3,\n",
    "        strides=2,\n",
    "        padding='same',\n",
    "        )(x)\n",
    "BN=keras.layers.BatchNormalization()\n",
    "x=BN(x)\n",
    "x=keras.layers.SpatialDropout2D(0.2)(x)\n",
    "x=act(x)\n",
    "x=keras.layers.Conv2D(\n",
    "        filters=1600,\n",
    "        kernel_size=3,\n",
    "        strides=2,\n",
    "        padding='same',\n",
    "        )(x)\n",
    "BN1=keras.layers.BatchNormalization()\n",
    "x=BN1(x)\n",
    "x=act(x)\n",
    "x=keras.layers.GlobalAveragePooling2D()(x)\n",
    "x=keras.layers.Dense(10,activation='softmax')(x)\n",
    "contrast_model=keras.Model(inputs=inputx,outputs=x)\n",
    "contrast_model.compile(keras.optimizers.Adam(),loss=keras.losses.CategoricalCrossentropy(),metrics=[keras.metrics.categorical_accuracy])"
   ]
  },
  {
   "cell_type": "code",
   "execution_count": 55,
   "metadata": {},
   "outputs": [],
   "source": [
    "xx=np.random.randn(10000,32,32,3)\n",
    "yy=np.random.rand(10000,10)"
   ]
  },
  {
   "cell_type": "code",
   "execution_count": 56,
   "metadata": {
    "colab": {
     "base_uri": "https://localhost:8080/"
    },
    "id": "WThUU5MfL2ME",
    "outputId": "9fef397c-288e-4222-9252-34d0b3aba55a"
   },
   "outputs": [
    {
     "name": "stderr",
     "output_type": "stream",
     "text": [
      "2023-03-26 21:07:59.749959: E tensorflow/core/grappler/optimizers/meta_optimizer.cc:954] layout failed: INVALID_ARGUMENT: Size of values 0 does not match size of permutation 4 @ fanin shape inmodel_20/spatial_dropout2d_2/dropout/SelectV2-2-TransposeNHWCToNCHW-LayoutOptimizer\n"
     ]
    },
    {
     "name": "stdout",
     "output_type": "stream",
     "text": [
      "Average running time: 9.961 ms ± 3.067 ms / batch\n"
     ]
    }
   ],
   "source": [
    "test_running(xx,yy,contrast_model)"
   ]
  },
  {
   "cell_type": "code",
   "execution_count": 57,
   "metadata": {
    "id": "9G-CfV7EHSlj"
   },
   "outputs": [],
   "source": [
    "keras.mixed_precision.set_global_policy('mixed_float16')\n",
    "efficientv2_base=EfficientV2base(act,decode_cfgs(v2_base_block))"
   ]
  },
  {
   "cell_type": "code",
   "execution_count": 58,
   "metadata": {
    "id": "wR67U7_YHSom"
   },
   "outputs": [],
   "source": [
    "inputx=keras.Input((None,None,3))\n",
    "x=efficientv2_base(inputx)\n",
    "x=keras.layers.Dense(10,activation='softmax')(x)\n",
    "Mymodel=keras.Model(inputs=inputx,outputs=x)"
   ]
  },
  {
   "cell_type": "code",
   "execution_count": 59,
   "metadata": {},
   "outputs": [
    {
     "name": "stdout",
     "output_type": "stream",
     "text": [
      "Average running time: 62.085 ms ± 64.276 ms / batch\n"
     ]
    }
   ],
   "source": [
    "test_running(xx,yy,Mymodel)"
   ]
  },
  {
   "cell_type": "markdown",
   "metadata": {},
   "source": [
    "**slower insteaded** conclusion: not use mixed precision"
   ]
  },
  {
   "cell_type": "code",
   "execution_count": 113,
   "metadata": {},
   "outputs": [],
   "source": [
    "keras.mixed_precision.set_global_policy('float32')"
   ]
  },
  {
   "cell_type": "markdown",
   "metadata": {
    "id": "Ct5HBC56L7d8"
   },
   "source": [
    "# Test data preprocessing"
   ]
  },
  {
   "cell_type": "code",
   "execution_count": 61,
   "metadata": {
    "id": "TPE9342SsZwr"
   },
   "outputs": [],
   "source": [
    "# data = keras.datasets.cifar10.load_data()\n",
    "# x_train, y_train, x_test, y_test=data[0][0],data[0][1],data[1][0],data[1][1]\n",
    "model_path = './saved_model'\n",
    "data=np.load(os.path.join(model_path,'data.npz'))\n",
    "x_train, y_train, x_test, y_test=data['x_train'],data['y_train'],data['x_test'],data['y_test']\n",
    "y_train=tf.keras.utils.to_categorical(y_train)\n",
    "y_test=tf.keras.utils.to_categorical(y_test)"
   ]
  },
  {
   "cell_type": "code",
   "execution_count": 62,
   "metadata": {
    "id": "3MSxKx9rsZwr"
   },
   "outputs": [],
   "source": [
    "def to_dict(image, label):\n",
    "    image = tf.image.resize(image, IMAGE_SIZE)\n",
    "    image = tf.cast(image, tf.float32)\n",
    "    label = tf.one_hot(label, num_classes)\n",
    "    return {\"images\": image, \"labels\": label}\n",
    "\n",
    "def load_dataset():\n",
    "    return tf.data.Dataset.from_tensor_slices(dict(images=x_train,labels=tf.cast(y_train,tf.float32))).batch(128)\n",
    "train_dataset = load_dataset()"
   ]
  },
  {
   "cell_type": "code",
   "execution_count": 75,
   "metadata": {
    "colab": {
     "base_uri": "https://localhost:8080/"
    },
    "id": "glY-FQyYsZwr",
    "outputId": "ca4c0f38-ca3e-4cd7-b280-d5c9bc5f008f"
   },
   "outputs": [],
   "source": [
    "def visualize_dataset(dataset, title):\n",
    "    plt.figure(figsize=(6, 6)).suptitle(title, fontsize=18)\n",
    "    for i, samples in enumerate(iter(dataset.take(9))):\n",
    "        images = samples[\"images\"]\n",
    "        plt.subplot(3, 3, i + 1)\n",
    "        plt.imshow(images[0].numpy().astype(\"uint8\"))\n",
    "        plt.axis(\"off\")\n",
    "    plt.show()\n",
    "    \n",
    "rand_augment = keras_cv.layers.RandAugment(\n",
    "    value_range=(0, 255),\n",
    "    augmentations_per_image=3,\n",
    "    magnitude=0.3,\n",
    "    magnitude_stddev=0.2,\n",
    "    rate=0.5,\n",
    ")\n",
    "\n",
    "\n",
    "def apply_rand_augment(inputs):\n",
    "    inputs[\"images\"] = rand_augment(inputs[\"images\"])\n",
    "    return inputs\n",
    "\n",
    "AUTOTUNE=tf.data.AUTOTUNE\n",
    "train_dataset =  load_dataset().map(apply_rand_augment, num_parallel_calls=AUTOTUNE)"
   ]
  },
  {
   "cell_type": "code",
   "execution_count": 26,
   "metadata": {
    "colab": {
     "base_uri": "https://localhost:8080/",
     "height": 400
    },
    "id": "ZBCUEzersZws",
    "outputId": "21034870-e3da-445e-aafa-0c91dce33f77"
   },
   "outputs": [
    {
     "data": {
      "image/png": "[encoded data removed]",
      "text/plain": [
       "<Figure size 432x432 with 9 Axes>"
      ]
     },
     "metadata": {
      "needs_background": "light"
     },
     "output_type": "display_data"
    }
   ],
   "source": [
    "visualize_dataset(train_dataset, title=\"After RandAugment\")"
   ]
  },
  {
   "cell_type": "code",
   "execution_count": 84,
   "metadata": {
    "id": "zhGvfQmIsZwt"
   },
   "outputs": [],
   "source": [
    "'''\n",
    "function to get the augmentation pipeline\n",
    "type of augmentations are same of used in origin code\n",
    "it is good for augmentation functions to run under default number range (0, 255)\n",
    "  since the change of number range is imcompatable for some parameter initializers (maybe is a bug)\n",
    "'''\n",
    "def Set_levels(level,ag_per_image=3,ag_rate=1.0,_MAX_LEVEL = 10.):\n",
    "  factor=level/_MAX_LEVEL\n",
    "  layers=keras_cv.layers.RandAugment.get_standard_policy(value_range=(0, 255), magnitude=factor, magnitude_stddev=0.3)\n",
    "  layers+=[keras_cv.layers.RandomRotation(factor/5.),\n",
    "      keras_cv.layers.Solarization((0,255)), #invert\n",
    "      keras_cv.layers.Solarization((0,255),threshold_factor=layers[2].threshold_factor,addition_factor=keras_cv.ConstantFactorSampler(0)),\n",
    "      keras_cv.layers.RandomSharpness(factor,(0,255)),\n",
    "      keras_cv.layers.RandomCutout((0.1*factor,0.2*factor),(0.1*factor,0.2*factor)),\n",
    "      keras_cv.layers.Posterization((0,255),tf.cast(tf.maximum(1,int(factor*4)),tf.uint8))]\n",
    "\n",
    "  return keras_cv.layers.RandomAugmentationPipeline(layers,ag_per_image,ag_rate)\n",
    "\n",
    "\n",
    "'''\n",
    "function to implement augmentation and then scale to (0,1)\n",
    "'''\n",
    "def apply_my_rand_augment(inputs,ag_pipeline): #image,label\n",
    "  inputs[\"images\"] = ag_pipeline(inputs[\"images\"])\n",
    "  return inputs\n",
    "\n",
    "cut_mix = keras_cv.layers.CutMix()\n",
    "mix_up = keras_cv.layers.MixUp()\n",
    "def cut_mix_and_mix_up(samples):\n",
    "    samples = cut_mix(samples, training=True)\n",
    "    samples = mix_up(samples, training=True)\n",
    "    return samples"
   ]
  },
  {
   "cell_type": "code",
   "execution_count": 65,
   "metadata": {
    "id": "3hY-WzE_sZwt"
   },
   "outputs": [],
   "source": [
    "import functools"
   ]
  },
  {
   "cell_type": "code",
   "execution_count": 85,
   "metadata": {
    "id": "j_v4IkK2sZw0"
   },
   "outputs": [],
   "source": [
    "AUTOTUNE = tf.data.AUTOTUNE\n",
    "ag_pipeline=Set_levels(1)\n",
    "preparing=functools.partial(apply_my_rand_augment,ag_pipeline=ag_pipeline)"
   ]
  },
  {
   "cell_type": "code",
   "execution_count": 86,
   "metadata": {
    "id": "TkuLjTqUsZw0"
   },
   "outputs": [],
   "source": [
    "train_ds=load_dataset().map(preparing, num_parallel_calls=AUTOTUNE)"
   ]
  },
  {
   "cell_type": "code",
   "execution_count": 87,
   "metadata": {
    "id": "HhVwdQxosZw0"
   },
   "outputs": [],
   "source": [
    "def preprocess_for_model(inputs):\n",
    "    images, labels = inputs[\"images\"], inputs[\"labels\"]\n",
    "    images = tf.cast(images, tf.float32)/255.\n",
    "    return images, labels\n",
    "\n",
    "def preprocess_for_model2(inputs):\n",
    "    images, labels = inputs[\"images\"], inputs[\"labels\"]\n",
    "    return images, labels\n",
    "\n",
    "train_dataset = (\n",
    "    load_dataset()\n",
    "    .map(preparing, num_parallel_calls=AUTOTUNE)\n",
    "    .map(cut_mix_and_mix_up, num_parallel_calls=AUTOTUNE)\n",
    ")\n",
    "# train_dataset = train_dataset.map(preprocess_for_model, num_parallel_calls=AUTOTUNE)\n",
    "# train_dataset = train_dataset.prefetch(AUTOTUNE)"
   ]
  },
  {
   "cell_type": "code",
   "execution_count": 40,
   "metadata": {
    "colab": {
     "base_uri": "https://localhost:8080/",
     "height": 400
    },
    "id": "uqUZqtPPsZw1",
    "outputId": "60c514d1-8d28-4f75-8c3b-bb15bffce7f9"
   },
   "outputs": [
    {
     "data": {
      "image/png": "[encoded data removed]",
      "text/plain": [
       "<Figure size 432x432 with 9 Axes>"
      ]
     },
     "metadata": {
      "needs_background": "light"
     },
     "output_type": "display_data"
    }
   ],
   "source": [
    "visualize_dataset(train_dataset, title=\"RandAugment\")"
   ]
  },
  {
   "cell_type": "code",
   "execution_count": 88,
   "metadata": {
    "id": "Ug0kRYn9yFZJ"
   },
   "outputs": [],
   "source": [
    "resize_layer=tf.keras.layers.Resizing(40,40, interpolation=\"bilinear\",)\n",
    "def apply_resize_layer(samples):\n",
    "    samples[\"images\"] = resize_layer(samples[\"images\"])\n",
    "    return preparing(samples)\n",
    "\n",
    "train_dataset = (\n",
    "    load_dataset()\n",
    "    .map(apply_resize_layer, num_parallel_calls=AUTOTUNE)\n",
    "    .map(apply_rand_augment, num_parallel_calls=AUTOTUNE)\n",
    "    .map(cut_mix_and_mix_up, num_parallel_calls=AUTOTUNE)\n",
    ")\n",
    "# train_dataset = train_dataset.map(preprocess_for_model, num_parallel_calls=AUTOTUNE)\n",
    "train_dataset = train_dataset.prefetch(AUTOTUNE)"
   ]
  },
  {
   "cell_type": "code",
   "execution_count": 89,
   "metadata": {
    "colab": {
     "base_uri": "https://localhost:8080/",
     "height": 400
    },
    "id": "bnvhGnhEyVRw",
    "outputId": "b001c396-d1de-4bbd-f569-022ab59908e0"
   },
   "outputs": [
    {
     "data": {
      "image/png": "[encoded data removed]",
      "text/plain": [
       "<Figure size 600x600 with 9 Axes>"
      ]
     },
     "metadata": {},
     "output_type": "display_data"
    }
   ],
   "source": [
    "visualize_dataset(train_dataset, title=\"RandAugment & Resize\")"
   ]
  },
  {
   "cell_type": "code",
   "execution_count": 96,
   "metadata": {},
   "outputs": [],
   "source": [
    "def test_running_ds(dataset,model,steps_per_epoch=100,loss='mse',verbose=0,epochs=7):\n",
    "    model.compile('sgd',loss)\n",
    "    model.fit(dataset.repeat(),steps_per_epoch=steps_per_epoch,epochs=epochs,verbose=verbose,callbacks=[time_callback])\n",
    "    timesms=1000.*np.array(time_callback.times)/steps_per_epoch\n",
    "    print('Average running time: %.3f ms ± %.3f ms / batch' % (np.mean(timesms),np.std(timesms)))"
   ]
  },
  {
   "cell_type": "code",
   "execution_count": 92,
   "metadata": {},
   "outputs": [],
   "source": [
    "train_dataset_raw = (\n",
    "    load_dataset()\n",
    "    .map(preprocess_for_model, num_parallel_calls=AUTOTUNE)\n",
    ")\n",
    "train_dataset_aug = (\n",
    "    load_dataset()\n",
    "    .map(apply_resize_layer, num_parallel_calls=AUTOTUNE)\n",
    "    .map(apply_rand_augment, num_parallel_calls=AUTOTUNE)\n",
    "    .map(preprocess_for_model, num_parallel_calls=AUTOTUNE)\n",
    ")"
   ]
  },
  {
   "cell_type": "code",
   "execution_count": 97,
   "metadata": {},
   "outputs": [
    {
     "name": "stdout",
     "output_type": "stream",
     "text": [
      "Average running time: 73.894 ms ± 40.399 ms / batch\n",
      "Average running time: 278.596 ms ± 72.998 ms / batch\n"
     ]
    }
   ],
   "source": [
    "test_running_ds(train_dataset_raw,Mymodel)\n",
    "test_running_ds(train_dataset_aug,Mymodel)"
   ]
  },
  {
   "cell_type": "markdown",
   "metadata": {
    "id": "01m1zb3jsZw1"
   },
   "source": [
    "Not good, not used?"
   ]
  },
  {
   "cell_type": "code",
   "execution_count": 34,
   "metadata": {
    "colab": {
     "base_uri": "https://localhost:8080/",
     "height": 282
    },
    "id": "NpjR_XILsZw3",
    "outputId": "30c9e353-cd96-47cd-d0ea-a82238fd30a3"
   },
   "outputs": [
    {
     "data": {
      "text/plain": [
       "<matplotlib.legend.Legend at 0x7f0d39279ca0>"
      ]
     },
     "execution_count": 34,
     "metadata": {},
     "output_type": "execute_result"
    },
    {
     "data": {
      "image/png": "[encoded data removed]",
      "text/plain": [
       "<Figure size 432x288 with 1 Axes>"
      ]
     },
     "metadata": {
      "needs_background": "light"
     },
     "output_type": "display_data"
    }
   ],
   "source": [
    "x=np.arange(1,11)\n",
    "y1=1+np.sqrt((x-1)/9)*9\n",
    "y2=1+((x-1)/9)**2*9\n",
    "y=np.exp(np.log(10)*(x-1)/9)\n",
    "plt.plot(x,y,x,y1,x,y2,x,x)\n",
    "plt.legend(['exp','sqrt','square','linear'])"
   ]
  },
  {
   "cell_type": "markdown",
   "metadata": {
    "id": "t75dpdENsZw1"
   },
   "source": [
    "# Test modified blocks"
   ]
  },
  {
   "cell_type": "code",
   "execution_count": 58,
   "metadata": {
    "id": "R5IeDUgJsZw1"
   },
   "outputs": [],
   "source": [
    "\n",
    "'''modified MBC_Block from ConvNeXt:\n",
    "    less normalization\n",
    "    less activation\n",
    "    Moving up conv layer. (inverted bottlenecks)\n",
    "'''\n",
    "class Modified_MBC_Block(keras.layers.Layer):\n",
    "  def __init__(self,act,args,survival_prob=1,layer_scale=1e-6):\n",
    "    super().__init__()\n",
    "    filters=int(args['input_filters']*args['expand_ratio'])\n",
    "    self.expandblock=None\n",
    "    if args['expand_ratio']!=1:\n",
    "      self.expandblock=keras.layers.Conv2D(\n",
    "            filters=filters,\n",
    "            kernel_size=1,\n",
    "            strides=1,\n",
    "            padding='same',\n",
    "            use_bias=False,\n",
    "            activation=None\n",
    "          )\n",
    "    self.depwiseblock=keras.layers.DepthwiseConv2D(\n",
    "      kernel_size=args['kernel_size'],\n",
    "      strides=1,\n",
    "      padding='same',\n",
    "      use_bias=False,\n",
    "      activation=None\n",
    "    )\n",
    "    self.conv_dropout=None\n",
    "    if 'conv_dropout' in args.keys():\n",
    "      if args['conv_dropout'] and args['expand_ratio'] > 1:\n",
    "        self.conv_dropout=keras.layers.Dropout(args['conv_dropout'])\n",
    "    if args['se_ratio']:\n",
    "      self.se=SE(filters,args['se_ratio']/args['expand_ratio'],act)\n",
    "    else:\n",
    "      self.se=None\n",
    "    self.outputblock=keras.layers.Conv2D(\n",
    "        filters=args['output_filters'],\n",
    "        kernel_size=1,\n",
    "        strides=1,\n",
    "        padding='same',\n",
    "        use_bias=False,\n",
    "        activation=act\n",
    "    )\n",
    "    \n",
    "    self.residual_dropout=None\n",
    "    self.use_residual=None\n",
    "    if args['input_filters']==args['output_filters'] or args['strides']>1:\n",
    "      if 1-survival_prob:\n",
    "        self.residual_dropout=keras.layers.SpatialDropout2D(1-survival_prob)\n",
    "      self.use_residual=tf.constant(True,tf.bool)\n",
    "    \n",
    "    self.downsample=None\n",
    "    if args['strides']>1:\n",
    "        self.downsample_LN=keras.layers.LayerNormalization(epsilon=1e-6)\n",
    "        self.downsample=keras.layers.Conv2D(\n",
    "            filters=args['output_filters'],\n",
    "            kernel_size=2,\n",
    "            strides=2,\n",
    "            activation=None\n",
    "        )\n",
    "    self.act=self.outputblock.activation\n",
    "    self.outputblock.activation=None\n",
    "    self.LN=keras.layers.LayerNormalization(epsilon=1e-6)\n",
    "    if self.use_residual:\n",
    "        self.scale=tf.Variable(layer_scale * tf.ones((args['output_filters'],)),name=self.outputblock.name+'_scale')\n",
    "    \n",
    "  def residual(self,x,input):\n",
    "    if self.residual_dropout:\n",
    "      x=self.residual_dropout(x)\n",
    "    return tf.add(self.scale*x,input)\n",
    "  @tf.function\n",
    "  def call(self,input):\n",
    "    if self.downsample:\n",
    "        input=self.downsample_LN(input)\n",
    "        input=self.downsample(input)\n",
    "    x=input\n",
    "    x=self.depwiseblock(x)\n",
    "    x=self.LN(x)\n",
    "    if self.conv_dropout:\n",
    "      x=self.conv_dropout(x)\n",
    "    if self.expandblock:\n",
    "      x=self.expandblock(x)\n",
    "    if self.se:\n",
    "      x=self.se(x)\n",
    "    x=self.act(x)\n",
    "    x=self.outputblock(x)\n",
    "    if self.use_residual:\n",
    "      x=self.residual(x,input)\n",
    "    return x"
   ]
  },
  {
   "cell_type": "code",
   "execution_count": 59,
   "metadata": {
    "id": "gk7kCq0FNv3r"
   },
   "outputs": [],
   "source": [
    "args=dict(kernel_size=3,\n",
    "      input_filters=4,\n",
    "      output_filters=4,\n",
    "      expand_ratio=3,\n",
    "      se_ratio=.25,\n",
    "      strides=1)"
   ]
  },
  {
   "cell_type": "code",
   "execution_count": 60,
   "metadata": {
    "id": "zes41DqQNZ9y"
   },
   "outputs": [],
   "source": [
    "l=MBC_Block('swish',args)\n",
    "l1=Modified_MBC_Block('gelu',args)\n"
   ]
  },
  {
   "cell_type": "code",
   "execution_count": 61,
   "metadata": {},
   "outputs": [],
   "source": [
    "x=np.random.rand(10,40,40,4)"
   ]
  },
  {
   "cell_type": "code",
   "execution_count": 62,
   "metadata": {
    "id": "utJX5tx-NhlH"
   },
   "outputs": [
    {
     "name": "stdout",
     "output_type": "stream",
     "text": [
      "1.39 ms ± 82.1 µs per loop (mean ± std. dev. of 7 runs, 1,000 loops each)\n",
      "1.13 ms ± 65.4 µs per loop (mean ± std. dev. of 7 runs, 1,000 loops each)\n"
     ]
    }
   ],
   "source": [
    "%timeit -n 1000 l1(x) #modified\n",
    "%timeit -n 1000 l(x) #origin"
   ]
  },
  {
   "cell_type": "code",
   "execution_count": 63,
   "metadata": {},
   "outputs": [],
   "source": [
    "args=dict(kernel_size=3,\n",
    "      input_filters=32,\n",
    "      output_filters=32,\n",
    "      expand_ratio=3,\n",
    "      se_ratio=.25,\n",
    "      strides=1,\n",
    "         survival_prob=0.8)"
   ]
  },
  {
   "cell_type": "code",
   "execution_count": 64,
   "metadata": {},
   "outputs": [],
   "source": [
    "x=keras.Input((None,None,32))\n",
    "y=MBC_Block('swish',args)(x)\n",
    "myMBC=keras.Model(x,y)\n",
    "x=keras.Input((None,None,32))\n",
    "y=Modified_MBC_Block('gelu',args)(x)\n",
    "myModifiedMBC=keras.Model(x,y)"
   ]
  },
  {
   "cell_type": "code",
   "execution_count": 65,
   "metadata": {},
   "outputs": [],
   "source": [
    "xx=np.random.randn(10000,32,32,32)"
   ]
  },
  {
   "cell_type": "code",
   "execution_count": 66,
   "metadata": {},
   "outputs": [
    {
     "name": "stderr",
     "output_type": "stream",
     "text": [
      "2023-04-04 16:30:36.647786: I tensorflow/compiler/xla/service/service.cc:173] XLA service 0x7fbcec015bf0 initialized for platform CUDA (this does not guarantee that XLA will be used). Devices:\n",
      "2023-04-04 16:30:36.647814: I tensorflow/compiler/xla/service/service.cc:181]   StreamExecutor device (0): NVIDIA GeForce RTX 3090, Compute Capability 8.6\n",
      "2023-04-04 16:30:36.694680: I tensorflow/compiler/jit/xla_compilation_cache.cc:477] Compiled cluster using XLA!  This line is logged at most once for the lifetime of the process.\n"
     ]
    },
    {
     "name": "stdout",
     "output_type": "stream",
     "text": [
      "Average running time: 12.234 ms ± 4.358 ms / batch\n",
      "Average running time: 12.196 ms ± 2.221 ms / batch\n"
     ]
    }
   ],
   "source": [
    "test_running(xx,xx,myMBC)\n",
    "test_running(xx,xx,myModifiedMBC)"
   ]
  },
  {
   "cell_type": "code",
   "execution_count": 67,
   "metadata": {
    "id": "gcLtoauMsZw2"
   },
   "outputs": [],
   "source": [
    "'''\n",
    " modified FusedMBC_Block from ConvNeXt:\n",
    "    less normalization\n",
    "    less activation\n",
    "    Moving up depthwise conv layer. (inverted bottlenecks)\n",
    "'''\n",
    "\n",
    "class Modified_FusedMBC_Block(keras.layers.Layer):\n",
    "  def __init__(self,act,args,survival_prob=1,layer_scale=1e-6):\n",
    "    super().__init__()\n",
    "    filters=int(args['input_filters']*args['expand_ratio'])\n",
    "    self.expandblock=None\n",
    "    if args['expand_ratio']!=1:\n",
    "      self.expandblock=keras.layers.Conv2D(\n",
    "            filters=filters,\n",
    "            kernel_size=args['kernel_size'],\n",
    "            strides=1,\n",
    "            padding='same',\n",
    "            use_bias=False,\n",
    "            activation=None\n",
    "          )\n",
    "    self.conv_dropout=None\n",
    "    if 'conv_dropout' in args.keys():\n",
    "      if args['conv_dropout'] and args['expand_ratio'] > 1:\n",
    "        self.conv_dropout=keras.layers.Dropout(args['conv_dropout'])\n",
    "    if args['se_ratio']:\n",
    "      self.se=SE(filters,args['se_ratio']/args['expand_ratio'],act)\n",
    "    else:\n",
    "      self.se=None\n",
    "    self.outputblock=keras.layers.Conv2D(\n",
    "        filters=args['output_filters'],\n",
    "        kernel_size=args['kernel_size'] if args['expand_ratio'] == 1 else 1,\n",
    "        strides=args['strides'] if args['expand_ratio'] == 1 else 1,\n",
    "        padding='same',\n",
    "        use_bias=False,\n",
    "        activation=act\n",
    "    )\n",
    "    self.residual_dropout=None\n",
    "    self.use_residual=None\n",
    "    if args['strides']>1 or args['input_filters']==args['output_filters']:\n",
    "      if 1-survival_prob:\n",
    "        self.residual_dropout=keras.layers.SpatialDropout2D(1-survival_prob)\n",
    "      self.use_residual=tf.constant(True,tf.bool)\n",
    "     \n",
    "    self.downsample=None\n",
    "    if args['strides']>1:\n",
    "        self.downsample_LN=keras.layers.LayerNormalization(epsilon=1e-6)\n",
    "        self.downsample=keras.layers.Conv2D(\n",
    "            filters=args['output_filters'],\n",
    "            kernel_size=2,\n",
    "            strides=2,\n",
    "            activation=None\n",
    "        )\n",
    "    self.act=self.outputblock.activation\n",
    "    self.outputblock.activation=None\n",
    "    self.LN=keras.layers.LayerNormalization(epsilon=1e-6)\n",
    "    if self.use_residual:\n",
    "        self.scale=tf.Variable(layer_scale * tf.ones((args['output_filters'],)),name=self.outputblock.name+'_scale')\n",
    "\n",
    "  def residual(self,x,input):\n",
    "    if self.residual_dropout:\n",
    "      x=self.residual_dropout(x)\n",
    "    return tf.add(self.scale*x,input)\n",
    "  @tf.function\n",
    "  def call(self,input):\n",
    "    if self.downsample:\n",
    "        input=self.downsample_LN(input)\n",
    "        input=self.downsample(input)\n",
    "    x=input\n",
    "    if self.expandblock:\n",
    "      x=self.expandblock(x)\n",
    "    x=self.LN(x)\n",
    "    if self.conv_dropout:\n",
    "      x=self.conv_dropout(x)\n",
    "    if self.se:\n",
    "      x=self.se(x)\n",
    "    x=self.act(x)\n",
    "    x=self.outputblock(x)\n",
    "    if self.use_residual:\n",
    "      x=self.residual(x,input)\n",
    "    return x"
   ]
  },
  {
   "cell_type": "markdown",
   "metadata": {
    "id": "i0yQcg0QCUQq"
   },
   "source": [
    "### varify block function"
   ]
  },
  {
   "cell_type": "code",
   "execution_count": 68,
   "metadata": {
    "id": "AeBQunXEvJhs"
   },
   "outputs": [],
   "source": [
    "args=dict(kernel_size=7,\n",
    "      input_filters=4,\n",
    "      output_filters=4,\n",
    "      expand_ratio=3,\n",
    "      se_ratio=.25,\n",
    "      strides=1)\n",
    "act=keras.activations.gelu"
   ]
  },
  {
   "cell_type": "code",
   "execution_count": 69,
   "metadata": {
    "id": "i2g29pP3uoPq"
   },
   "outputs": [],
   "source": [
    "l=Modified_FusedMBC_Block(act,args)\n",
    "l1=Modified_MBC_Block(act,args)"
   ]
  },
  {
   "cell_type": "code",
   "execution_count": 70,
   "metadata": {
    "colab": {
     "base_uri": "https://localhost:8080/"
    },
    "id": "RBT3gNEDuocn",
    "outputId": "36835c0d-ae2c-417f-b07c-21c5eb73eed5"
   },
   "outputs": [
    {
     "data": {
      "text/plain": [
       "(TensorShape([10, 40, 40, 4]), TensorShape([10, 40, 40, 4]))"
      ]
     },
     "execution_count": 70,
     "metadata": {},
     "output_type": "execute_result"
    }
   ],
   "source": [
    "x=np.random.rand(10,40,40,4)\n",
    "l1(x).shape,l(x).shape"
   ]
  },
  {
   "cell_type": "markdown",
   "metadata": {},
   "source": [
    "### test running speed"
   ]
  },
  {
   "cell_type": "code",
   "execution_count": 71,
   "metadata": {
    "id": "nabCuy3uNyMA"
   },
   "outputs": [
    {
     "name": "stdout",
     "output_type": "stream",
     "text": [
      "1.3 ms ± 30.4 µs per loop (mean ± std. dev. of 7 runs, 1,000 loops each)\n",
      "1.3 ms ± 52.5 µs per loop (mean ± std. dev. of 7 runs, 1,000 loops each)\n"
     ]
    }
   ],
   "source": [
    "%timeit -n 1000 l1(x) #modified\n",
    "%timeit -n 1000 l(x) #origin"
   ]
  },
  {
   "cell_type": "code",
   "execution_count": 72,
   "metadata": {},
   "outputs": [],
   "source": [
    "args=dict(kernel_size=3,\n",
    "      input_filters=32,\n",
    "      output_filters=32,\n",
    "      expand_ratio=3,\n",
    "      se_ratio=.25,\n",
    "      strides=1,\n",
    "         survival_prob=0.8)"
   ]
  },
  {
   "cell_type": "code",
   "execution_count": 73,
   "metadata": {},
   "outputs": [],
   "source": [
    "x=keras.Input((None,None,32))\n",
    "y=FusedMBC_Block('swish',args)(x)\n",
    "myfMBC=keras.Model(x,y)\n",
    "x=keras.Input((None,None,32))\n",
    "y=Modified_FusedMBC_Block('gelu',args)(x)\n",
    "myModifiedfMBC=keras.Model(x,y)"
   ]
  },
  {
   "cell_type": "code",
   "execution_count": 74,
   "metadata": {},
   "outputs": [],
   "source": [
    "xx=np.random.randn(10000,32,32,32)"
   ]
  },
  {
   "cell_type": "code",
   "execution_count": 75,
   "metadata": {},
   "outputs": [
    {
     "name": "stdout",
     "output_type": "stream",
     "text": [
      "Average running time: 9.891 ms ± 1.857 ms / batch\n",
      "Average running time: 15.110 ms ± 1.810 ms / batch\n"
     ]
    }
   ],
   "source": [
    "test_running(xx,xx,myfMBC)\n",
    "test_running(xx,xx,myModifiedfMBC)"
   ]
  },
  {
   "cell_type": "markdown",
   "metadata": {
    "id": "lNU_f4rosZw3"
   },
   "source": [
    "# Test modified structure"
   ]
  },
  {
   "cell_type": "code",
   "execution_count": 76,
   "metadata": {
    "id": "dxAL6NHLsZw3"
   },
   "outputs": [],
   "source": [
    "'''\n",
    "structure modified from ConvNeXt:\n",
    "    1:1:3:1 stage ratio, \n",
    "    7x7 kernel,  5x5 instead\n",
    "    more filters, \n",
    "    only use depthwise convolution\n",
    "    \n",
    "'''\n",
    "v2_base_block_modified3 = [\n",
    "'r3_k7_s1_e4_i16_o32_c1',\n",
    "'r3_k7_s2_e4_i32_o48_c1',\n",
    "'r9_k7_s2_e4_i48_o96_se0.25_c0',\n",
    "'r3_k7_s1_e4_i96_o180_se0.25_c0',\n",
    "]"
   ]
  },
  {
   "cell_type": "code",
   "execution_count": 77,
   "metadata": {
    "id": "TJt3Bo42sZw4"
   },
   "outputs": [],
   "source": [
    "class Modified_EfficientV2base(keras.Model):\n",
    "  def __init__(self,act,block_cfgs,head_filters=1280,survival_prob=0.8,dropout=None,pooling='avg'):\n",
    "    super().__init__()\n",
    "    self.stem=keras.layers.Conv2D(\n",
    "        filters=block_cfgs[0]['input_filters'],\n",
    "        kernel_size=4,\n",
    "        strides=2,\n",
    "        padding='same',\n",
    "        use_bias=False,\n",
    "        activation=None,\n",
    "        )\n",
    "    \n",
    "    self.blocks=[]\n",
    "    for idx,block_cfg in enumerate(block_cfgs):\n",
    "      if survival_prob:\n",
    "        drop_rate = 1.0 - survival_prob\n",
    "        survival_prob = 1.0 - drop_rate * float(idx) / len(block_cfgs)\n",
    "      if block_cfg['conv_type']:\n",
    "        self.blocks.append(Modified_FusedMBC_Block(act,block_cfg,survival_prob))\n",
    "      else:\n",
    "        self.blocks.append(Modified_MBC_Block(act,block_cfg,survival_prob))\n",
    "    if pooling=='avg':\n",
    "      self.head_pool=keras.layers.GlobalAveragePooling2D()\n",
    "    elif pooling=='max':\n",
    "      self.head_pool=keras.layers.GlobalMaxPool2D()\n",
    "    else:\n",
    "      self.head_pool=keras.layers.Flatten()\n",
    "    self.dropout=None\n",
    "    if dropout and dropout>0 and dropout<1:\n",
    "      self.dropout=keras.layers.Dropout(dropout)    \n",
    "    self.head_block=keras.layers.Conv2D(filters=head_filters,\n",
    "        kernel_size=1,\n",
    "        strides=1,\n",
    "        padding='same',\n",
    "        use_bias=False,\n",
    "        activation=act)\n",
    "    self.head_LN=keras.layers.LayerNormalization(epsilon=1e-6)\n",
    "    \n",
    "  def head(self,x):\n",
    "    x=self.head_block(x)\n",
    "    if self.dropout:\n",
    "      x=self.dropout(x)\n",
    "    x=self.head_pool(x)\n",
    "    x=self.head_LN(x)\n",
    "    return x\n",
    "  @tf.function\n",
    "  def call(self,x):\n",
    "    x=self.stem(x)\n",
    "    for block in self.blocks:\n",
    "      x=block(x)\n",
    "    x=self.head(x)\n",
    "    return x"
   ]
  },
  {
   "cell_type": "code",
   "execution_count": 78,
   "metadata": {
    "id": "gaLoKCV0D3bp"
   },
   "outputs": [],
   "source": [
    "modified_efficientv2_base=Modified_EfficientV2base(act,decode_cfgs(v2_base_block_modified3),head_filters=1280)\n",
    "inputx=keras.Input((None,None,3))\n",
    "x=modified_efficientv2_base(inputx)\n",
    "x=keras.layers.Dense(10,activation='softmax')(x)\n",
    "Mymodel=keras.Model(inputs=inputx,outputs=x)"
   ]
  },
  {
   "cell_type": "code",
   "execution_count": 79,
   "metadata": {
    "colab": {
     "base_uri": "https://localhost:8080/"
    },
    "id": "-ubFYde4H9mz",
    "outputId": "f39cb2a1-9155-4c85-8061-e0aee204ecdc",
    "scrolled": true
   },
   "outputs": [
    {
     "name": "stdout",
     "output_type": "stream",
     "text": [
      "Model: \"modified__efficient_v2base\"\n",
      "_________________________________________________________________\n",
      " Layer (type)                Output Shape              Param #   \n",
      "=================================================================\n",
      " conv2d_128 (Conv2D)         multiple                  768       \n",
      "                                                                 \n",
      " modified__fused_mbc__block_  multiple                 52352     \n",
      " 2 (Modified_FusedMBC_Block)                                     \n",
      "                                                                 \n",
      " modified__fused_mbc__block_  multiple                 205088    \n",
      " 3 (Modified_FusedMBC_Block)                                     \n",
      "                                                                 \n",
      " modified__fused_mbc__block_  multiple                 205088    \n",
      " 4 (Modified_FusedMBC_Block)                                     \n",
      "                                                                 \n",
      " modified__fused_mbc__block_  multiple                 313760    \n",
      " 5 (Modified_FusedMBC_Block)                                     \n",
      "                                                                 \n",
      " modified__fused_mbc__block_  multiple                 461232    \n",
      " 6 (Modified_FusedMBC_Block)                                     \n",
      "                                                                 \n",
      " modified__fused_mbc__block_  multiple                 461232    \n",
      " 7 (Modified_FusedMBC_Block)                                     \n",
      "                                                                 \n",
      " modified_mbc__block_4 (Modi  multiple                 65292     \n",
      " fied_MBC_Block)                                                 \n",
      "                                                                 \n",
      " modified_mbc__block_5 (Modi  multiple                 97560     \n",
      " fied_MBC_Block)                                                 \n",
      "                                                                 \n",
      " modified_mbc__block_6 (Modi  multiple                 97560     \n",
      " fied_MBC_Block)                                                 \n",
      "                                                                 \n",
      " modified_mbc__block_7 (Modi  multiple                 97560     \n",
      " fied_MBC_Block)                                                 \n",
      "                                                                 \n",
      " modified_mbc__block_8 (Modi  multiple                 97560     \n",
      " fied_MBC_Block)                                                 \n",
      "                                                                 \n",
      " modified_mbc__block_9 (Modi  multiple                 97560     \n",
      " fied_MBC_Block)                                                 \n",
      "                                                                 \n",
      " modified_mbc__block_10 (Mod  multiple                 97560     \n",
      " ified_MBC_Block)                                                \n",
      "                                                                 \n",
      " modified_mbc__block_11 (Mod  multiple                 97560     \n",
      " ified_MBC_Block)                                                \n",
      "                                                                 \n",
      " modified_mbc__block_12 (Mod  multiple                 97560     \n",
      " ified_MBC_Block)                                                \n",
      "                                                                 \n",
      " modified_mbc__block_13 (Mod  multiple                 129720    \n",
      " ified_MBC_Block)                                                \n",
      "                                                                 \n",
      " modified_mbc__block_14 (Mod  multiple                 334125    \n",
      " ified_MBC_Block)                                                \n",
      "                                                                 \n",
      " modified_mbc__block_15 (Mod  multiple                 334125    \n",
      " ified_MBC_Block)                                                \n",
      "                                                                 \n",
      " global_average_pooling2d_74  multiple                 0         \n",
      "  (GlobalAveragePooling2D)                                       \n",
      "                                                                 \n",
      " conv2d_191 (Conv2D)         multiple                  230400    \n",
      "                                                                 \n",
      " layer_normalization_26 (Lay  multiple                 2560      \n",
      " erNormalization)                                                \n",
      "                                                                 \n",
      "=================================================================\n",
      "Total params: 3,576,222\n",
      "Trainable params: 3,576,222\n",
      "Non-trainable params: 0\n",
      "_________________________________________________________________\n"
     ]
    }
   ],
   "source": [
    "modified_efficientv2_base.summary()"
   ]
  },
  {
   "cell_type": "code",
   "execution_count": 80,
   "metadata": {
    "id": "Mg7l04IpEPf9"
   },
   "outputs": [
    {
     "name": "stderr",
     "output_type": "stream",
     "text": [
      "2023-04-04 16:31:44.761202: I tensorflow/compiler/xla/stream_executor/cuda/cuda_blas.cc:630] TensorFloat-32 will be used for the matrix multiplication. This will only be logged once.\n"
     ]
    }
   ],
   "source": [
    "xnorm=[]\n",
    "xrelnorm=[]\n",
    "x=tf.random.uniform((1000,32,32,3))\n",
    "xnorm.append(avgnorm(x))\n",
    "xrelnorm.append(avgrelnorm(x))\n",
    "x=modified_efficientv2_base.stem(x)\n",
    "xnorm.append(avgnorm(x))\n",
    "xrelnorm.append(avgrelnorm(x))\n",
    "for block in modified_efficientv2_base.blocks:\n",
    "    x=block(x)\n",
    "    xnorm.append(avgnorm(x))\n",
    "    xrelnorm.append(avgrelnorm(x))\n",
    "x=modified_efficientv2_base.head(x)\n",
    "xnorm.append(avgnorm(x))\n",
    "xrelnorm.append(avgrelnorm(x))"
   ]
  },
  {
   "cell_type": "code",
   "execution_count": 81,
   "metadata": {},
   "outputs": [
    {
     "data": {
      "text/plain": [
       "Text(0.5, 1.0, 'output of each block under trained weight ')"
      ]
     },
     "execution_count": 81,
     "metadata": {},
     "output_type": "execute_result"
    },
    {
     "data": {
      "image/png": "[encoded data removed]",
      "text/plain": [
       "<Figure size 640x480 with 1 Axes>"
      ]
     },
     "metadata": {},
     "output_type": "display_data"
    }
   ],
   "source": [
    "plt.plot(xnorm)\n",
    "plt.plot(xrelnorm)\n",
    "plt.legend([\"norm\",'relative norm'])\n",
    "plt.yscale('log')\n",
    "plt.title('output of each block under trained weight ')"
   ]
  },
  {
   "cell_type": "code",
   "execution_count": 82,
   "metadata": {},
   "outputs": [],
   "source": [
    "inputx=keras.Input((None,None,3))\n",
    "x=modified_efficientv2_base(inputx)\n",
    "x=keras.layers.Dense(10,activation='softmax')(x)\n",
    "ModifiedMymodel=keras.Model(inputs=inputx,outputs=x)\n",
    "\n",
    "inputx=keras.Input((None,None,3))\n",
    "x=efficientv2_base(inputx)\n",
    "x=keras.layers.Dense(10,activation='softmax')(x)\n",
    "Mymodel=keras.Model(inputs=inputx,outputs=x)"
   ]
  },
  {
   "cell_type": "code",
   "execution_count": 87,
   "metadata": {},
   "outputs": [],
   "source": [
    "xx=np.random.randn(10000,32,32,3)\n",
    "yy=np.random.randn(10000,10)"
   ]
  },
  {
   "cell_type": "code",
   "execution_count": 90,
   "metadata": {},
   "outputs": [
    {
     "name": "stdout",
     "output_type": "stream",
     "text": [
      "Average running time: 27.450 ms ± 0.206 ms / batch\n",
      "Average running time: 38.057 ms ± 0.574 ms / batch\n"
     ]
    }
   ],
   "source": [
    "test_running(xx,yy,Mymodel)\n",
    "test_running(xx,yy,ModifiedMymodel)"
   ]
  },
  {
   "cell_type": "code",
   "execution_count": null,
   "metadata": {},
   "outputs": [],
   "source": []
  }
 ],
 "metadata": {
  "colab": {
   "include_colab_link": true,
   "provenance": []
  },
  "gpuClass": "standard",
  "kernelspec": {
   "display_name": "Python 3 (ipykernel)",
   "language": "python",
   "name": "python3"
  },
  "language_info": {
   "codemirror_mode": {
    "name": "ipython",
    "version": 3
   },
   "file_extension": ".py",
   "mimetype": "text/x-python",
   "name": "python",
   "nbconvert_exporter": "python",
   "pygments_lexer": "ipython3",
   "version": "3.10.9"
  },
  "vscode": {
   "interpreter": {
    "hash": "e3782b8d86e5942b7077f8ba5cd029f9695569931d6b10fae470490a0867cf41"
   }
  }
 },
 "nbformat": 4,
 "nbformat_minor": 1
}
