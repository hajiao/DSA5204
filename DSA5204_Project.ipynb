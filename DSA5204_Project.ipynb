{
 "cells": [
  {
   "cell_type": "markdown",
   "metadata": {},
   "source": [
    "# DSA5204 DEEP LEARNING AND APPLICATIONS\n",
    "## GROUP 18\n",
    "#### Kang Mingyue A0262127L\n",
    "#### Peng Hanqiu A0179035B\n",
    "#### Ren Lianhai A0262042U\n",
    "#### Wu Shiqi A0262031X\n",
    "#### Zhang Jingguo A0262029J"
   ]
  },
  {
   "cell_type": "code",
   "execution_count": 2,
   "metadata": {},
   "outputs": [
    {
     "name": "stdout",
     "output_type": "stream",
     "text": [
      "Thu Apr 20 21:43:45 2023       \n",
      "+-----------------------------------------------------------------------------+\n",
      "| NVIDIA-SMI 470.182.03   Driver Version: 470.182.03   CUDA Version: 11.4     |\n",
      "|-------------------------------+----------------------+----------------------+\n",
      "| GPU  Name        Persistence-M| Bus-Id        Disp.A | Volatile Uncorr. ECC |\n",
      "| Fan  Temp  Perf  Pwr:Usage/Cap|         Memory-Usage | GPU-Util  Compute M. |\n",
      "|                               |                      |               MIG M. |\n",
      "|===============================+======================+======================|\n",
      "|   0  NVIDIA GeForce ...  Off  | 00000000:18:00.0 Off |                  N/A |\n",
      "| 33%   60C    P8    32W / 350W |      8MiB / 24268MiB |      0%      Default |\n",
      "|                               |                      |                  N/A |\n",
      "+-------------------------------+----------------------+----------------------+\n",
      "|   1  NVIDIA GeForce ...  Off  | 00000000:51:00.0 Off |                  N/A |\n",
      "| 49%   88C    P2   155W / 350W |  17729MiB / 24268MiB |      5%      Default |\n",
      "|                               |                      |                  N/A |\n",
      "+-------------------------------+----------------------+----------------------+\n",
      "|   2  NVIDIA GeForce ...  Off  | 00000000:8B:00.0 Off |                  N/A |\n",
      "| 85%   87C    P2   270W / 350W |   4383MiB / 24268MiB |     97%      Default |\n",
      "|                               |                      |                  N/A |\n",
      "+-------------------------------+----------------------+----------------------+\n",
      "|   3  NVIDIA GeForce ...  Off  | 00000000:C3:00.0 Off |                  N/A |\n",
      "| 30%   51C    P8    27W / 350W |      8MiB / 24268MiB |      0%      Default |\n",
      "|                               |                      |                  N/A |\n",
      "+-------------------------------+----------------------+----------------------+\n",
      "                                                                               \n",
      "+-----------------------------------------------------------------------------+\n",
      "| Processes:                                                                  |\n",
      "|  GPU   GI   CI        PID   Type   Process name                  GPU Memory |\n",
      "|        ID   ID                                                   Usage      |\n",
      "|=============================================================================|\n",
      "|    0   N/A  N/A      1402      G   /usr/lib/xorg/Xorg                  4MiB |\n",
      "|    1   N/A  N/A      1402      G   /usr/lib/xorg/Xorg                  4MiB |\n",
      "|    1   N/A  N/A   2547016      C   ...nda3/envs/mytf/bin/python    17721MiB |\n",
      "|    2   N/A  N/A      1402      G   /usr/lib/xorg/Xorg                  4MiB |\n",
      "|    2   N/A  N/A   2136036      C   python3                          4375MiB |\n",
      "|    3   N/A  N/A      1402      G   /usr/lib/xorg/Xorg                  4MiB |\n",
      "+-----------------------------------------------------------------------------+\n"
     ]
    }
   ],
   "source": [
    "!nvidia-smi"
   ]
  },
  {
   "cell_type": "code",
   "execution_count": 2,
   "metadata": {},
   "outputs": [
    {
     "name": "stderr",
     "output_type": "stream",
     "text": [
      "2023-04-12 15:29:39.469719: I tensorflow/core/platform/cpu_feature_guard.cc:193] This TensorFlow binary is optimized with oneAPI Deep Neural Network Library (oneDNN) to use the following CPU instructions in performance-critical operations:  SSE4.1 SSE4.2 AVX AVX2 AVX512F AVX512_VNNI FMA\n",
      "To enable them in other operations, rebuild TensorFlow with the appropriate compiler flags.\n",
      "2023-04-12 15:29:39.553846: I tensorflow/core/util/port.cc:104] oneDNN custom operations are on. You may see slightly different numerical results due to floating-point round-off errors from different computation orders. To turn them off, set the environment variable `TF_ENABLE_ONEDNN_OPTS=0`.\n"
     ]
    },
    {
     "name": "stdout",
     "output_type": "stream",
     "text": [
      "You do not have pycocotools installed, so KerasCV pycoco metrics are not available. Please run `pip install pycocotools`.\n",
      "You do not have pyococotools installed, so the `PyCOCOCallback` API is not available.\n",
      "You do not have Waymo Open Dataset installed, so KerasCV Waymo metrics are not available.\n",
      "You do not have pycocotools installed, so KerasCV pycoco metrics are not available. Please run `pip install pycocotools`.\n",
      "You do not have pyococotools installed, so the `PyCOCOCallback` API is not available.\n",
      "You do not have Waymo Open Dataset installed, so KerasCV Waymo metrics are not available.\n"
     ]
    },
    {
     "data": {
      "text/plain": [
       "'2.11.0'"
      ]
     },
     "execution_count": 2,
     "metadata": {},
     "output_type": "execute_result"
    }
   ],
   "source": [
    "from dsa5204_project_utils import *\n",
    "tf.__version__"
   ]
  },
  {
   "cell_type": "code",
   "execution_count": 3,
   "metadata": {},
   "outputs": [],
   "source": [
    "tf.config.list_physical_devices('GPU')\n",
    "# tf.config.set_soft_device_placement(True)\n",
    "# tf.debugging.set_log_device_placement(True)\n",
    "\n",
    "gpus = tf.config.list_physical_devices('GPU')\n",
    "if gpus:\n",
    "  # Restrict TensorFlow to only use the first GPU\n",
    "  try:\n",
    "    tf.config.set_visible_devices(gpus[1], 'GPU')\n",
    "    tf.config.experimental.set_memory_growth(gpus[1], True)\n",
    "    # logical_gpus = tf.config.list_logical_devices('GPU')\n",
    "    # print(len(gpus), \"Physical GPUs,\", len(logical_gpus), \"Logical GPU\")\n",
    "  except RuntimeError as e:\n",
    "    # Visible devices must be set before GPUs have been initialized\n",
    "    print(e)"
   ]
  },
  {
   "cell_type": "code",
   "execution_count": 4,
   "metadata": {},
   "outputs": [],
   "source": [
    "use_mixed_float16=False\n",
    "#learning related configurations\n",
    "lr_base=5e-4 #0.016\n",
    "lr_min=0\n",
    "lr_decay_epoch=2.4\n",
    "lr_decay_factor=0.97\n",
    "batch_size=500 #4096\n",
    "scaled_lr=lr_base*batch_size/256.\n",
    "scaled_lr_min=lr_min*batch_size/256.\n",
    "steps_per_epoch=500\n"
   ]
  },
  {
   "cell_type": "code",
   "execution_count": 5,
   "metadata": {
    "id": "GBNYsVUR-Lq6"
   },
   "outputs": [],
   "source": [
    "'''\n",
    "Some configuration used in model construction\n",
    "'''\n",
    "act=keras.activations.gelu\n",
    "depth_divisor=8\n",
    "min_depth=8\n",
    "survival_prob=0.8\n",
    "dropout=0.2\n",
    "nclasses=10\n",
    "conv_dropout=None\n",
    "\n",
    "#b0_config\n",
    "v2_base_block = [ # The baseline config for v2 models.\n",
    "'r1_k3_s1_e1_i32_o16_c1',\n",
    "'r2_k3_s2_e4_i16_o32_c1',\n",
    "'r2_k3_s2_e4_i32_o48_c1',\n",
    "'r3_k3_s2_e4_i48_o96_se0.25',\n",
    "'r5_k3_s1_e6_i96_o112_se0.25',\n",
    "'r8_k3_s2_e6_i112_o192_se0.25',\n",
    "]\n",
    "\n",
    "v2_base_block_modified2 = [ # The baseline config for v2 models.\n",
    "'r1_k3_s1_e1_i32_o16_c1',\n",
    "'r2_k3_s2_e4_i16_o32_c1',\n",
    "'r2_k3_s1_e4_i32_o48_c1',\n",
    "'r3_k3_s1_e4_i48_o96_se0.25',\n",
    "'r5_k3_s1_e6_i96_o112_se0.25',\n",
    "'r8_k3_s2_e6_i112_o192_se0.25',\n",
    "]\n",
    "\n",
    "v2_base_block_modified = [ # The baseline config for v2 models.\n",
    "'r1_k3_s1_e1_i32_o16_c1',\n",
    "'r1_k3_s1_e4_i16_o32_c1',\n",
    "'r1_k3_s1_e4_i32_o48_c1',\n",
    "'r2_k3_s2_e4_i48_o96_se0.25',\n",
    "'r2_k3_s1_e6_i96_o112_se0.25',\n",
    "'r5_k3_s2_e6_i112_o192_se0.25',\n",
    "]\n",
    "\n",
    "'''\n",
    "structure modified from ConvNeXt:\n",
    "    1:1:3:1 stage ratio, \n",
    "    7x7 kernel, \n",
    "    more filters, \n",
    "    only use depthwise convolution\n",
    "'''\n",
    "\n",
    "v2_base_block_modified3 = [\n",
    "'r3_k7_s2_e4_i16_o32_c0',\n",
    "'r3_k7_s1_e4_i32_o64_c0',\n",
    "'r9_k7_s2_e4_i64_o128_se0.25_c0',\n",
    "'r3_k7_s1_e4_i128_o256_se0.25_c0',\n",
    "]\n",
    "\n",
    "v2_base_block_modified4 = [\n",
    "'r3_k7_s1_e4_i16_o32_c1',\n",
    "'r3_k7_s2_e4_i32_o48_c1',\n",
    "'r9_k7_s2_e4_i48_o96_se0.25_c0',\n",
    "'r3_k7_s1_e4_i96_o180_se0.25_c0',\n",
    "]"
   ]
  },
  {
   "cell_type": "markdown",
   "metadata": {
    "id": "azDcM3hLxlEd"
   },
   "source": [
    "# Model Construction"
   ]
  },
  {
   "cell_type": "markdown",
   "metadata": {
    "id": "TdDDEIAV-NRh"
   },
   "source": [
    "# Data Preparing"
   ]
  },
  {
   "cell_type": "code",
   "execution_count": 6,
   "metadata": {
    "id": "kBhTZkUsEvhj"
   },
   "outputs": [],
   "source": [
    "#import the necessary package\n",
    "# from keras.datasets import cifar10\n",
    "#download the CIFAR10 dataset\n",
    "# (x_train, y_train), (x_test, y_test) = keras.datasets.cifar10.load_data()"
   ]
  },
  {
   "cell_type": "code",
   "execution_count": 7,
   "metadata": {
    "id": "mzOTWcZryzdN"
   },
   "outputs": [],
   "source": [
    "# np.savez(os.path.join(model_path,'data'),x_train=x_train,y_train=y_train,x_test=x_test,y_test=y_test)"
   ]
  },
  {
   "cell_type": "code",
   "execution_count": 6,
   "metadata": {
    "id": "ktMbSib8zPNy"
   },
   "outputs": [],
   "source": [
    "model_path = './saved_model'"
   ]
  },
  {
   "cell_type": "code",
   "execution_count": 7,
   "metadata": {
    "id": "VVeGf8YlGN83"
   },
   "outputs": [],
   "source": [
    "#load the CIFAR10 dataset\n",
    "data=np.load(os.path.join(model_path,'data.npz'))\n",
    "x_train, y_train, x_test, y_test=data['x_train'],data['y_train'],data['x_test'],data['y_test']"
   ]
  },
  {
   "cell_type": "code",
   "execution_count": 8,
   "metadata": {
    "id": "QGokawumGODm"
   },
   "outputs": [],
   "source": [
    "#change the label to one-hot coding\n",
    "y_train=tf.keras.utils.to_categorical(y_train)\n",
    "y_test=tf.keras.utils.to_categorical(y_test)"
   ]
  },
  {
   "cell_type": "code",
   "execution_count": 11,
   "metadata": {
    "id": "yqxpGA17lPWr"
   },
   "outputs": [],
   "source": [
    "# #download the pre-trained EfficientNetV2 model\n",
    "# truemodel=keras.applications.EfficientNetV2B0(\n",
    "#     include_top=False,\n",
    "#     weights=\"imagenet\",\n",
    "#     input_tensor=None,\n",
    "#     input_shape=None,\n",
    "#     pooling=None,\n",
    "#     classes=10,\n",
    "#     classifier_activation=\"softmax\",\n",
    "#     include_preprocessing=False,\n",
    "# )"
   ]
  },
  {
   "cell_type": "markdown",
   "metadata": {
    "id": "M-UYQzRhFIPG"
   },
   "source": [
    "Random Augmentation (without mixup,cutmix)\n",
    "https://keras.io/guides/keras_cv/cut_mix_mix_up_and_rand_augment/"
   ]
  },
  {
   "cell_type": "code",
   "execution_count": 12,
   "metadata": {
    "id": "twa6Ro5aJaqs"
   },
   "outputs": [],
   "source": [
    "#Some config, No used yet\n",
    "\n",
    "available_ops = [\n",
    "      'AutoContrast', 'Equalize', 'Invert', 'Rotate', 'Posterize',\n",
    "      'Solarize', 'Color', 'Contrast', 'Brightness', 'Sharpness',\n",
    "      'ShearX', 'ShearY', 'TranslateX', 'TranslateY', 'Cutout', 'SolarizeAdd']\n",
    "\n",
    "translate_const=100\n",
    "cutout_const=40\n",
    "replace_value = [128] * 3\n",
    "_MAX_LEVEL = 10.\n"
   ]
  },
  {
   "cell_type": "code",
   "execution_count": 13,
   "metadata": {},
   "outputs": [],
   "source": [
    "\n",
    "if use_mixed_float16:\n",
    "  keras.mixed_precision.set_global_policy('float32')"
   ]
  },
  {
   "cell_type": "code",
   "execution_count": 14,
   "metadata": {
    "id": "CbbDk44t6bBX"
   },
   "outputs": [],
   "source": [
    "# AUTOTUNE = tf.data.AUTOTUNE\n",
    "# ag_pipeline=Set_levels(1)\n",
    "# preparing=functools.partial(preparing_withscale,ag_pipeline=ag_pipeline)\n",
    "# #construct dataset for implement augmentation\n",
    "# train_ds=tf.data.Dataset.from_tensor_slices(dict(images=x_train,labels=tf.cast(y_train,tf.float32)))\n",
    "# train_ds=(train_ds.batch(batch_size)\n",
    "#                 .map(preparing, num_parallel_calls=AUTOTUNE)\n",
    "#                 .map(preprocess_for_model, num_parallel_calls=AUTOTUNE)\n",
    "#                   .prefetch(AUTOTUNE))"
   ]
  },
  {
   "cell_type": "code",
   "execution_count": 15,
   "metadata": {},
   "outputs": [],
   "source": [
    "if use_mixed_float16:\n",
    "  keras.mixed_precision.set_global_policy('mixed_float16')"
   ]
  },
  {
   "cell_type": "code",
   "execution_count": 9,
   "metadata": {},
   "outputs": [
    {
     "name": "stderr",
     "output_type": "stream",
     "text": [
      "2023-04-12 15:29:55.970393: I tensorflow/core/platform/cpu_feature_guard.cc:193] This TensorFlow binary is optimized with oneAPI Deep Neural Network Library (oneDNN) to use the following CPU instructions in performance-critical operations:  SSE4.1 SSE4.2 AVX AVX2 AVX512F AVX512_VNNI FMA\n",
      "To enable them in other operations, rebuild TensorFlow with the appropriate compiler flags.\n",
      "2023-04-12 15:29:56.600914: I tensorflow/core/common_runtime/gpu/gpu_device.cc:1613] Created device /job:localhost/replica:0/task:0/device:GPU:0 with 21237 MB memory:  -> device: 1, name: NVIDIA GeForce RTX 3090, pci bus id: 0000:51:00.0, compute capability: 8.6\n"
     ]
    }
   ],
   "source": [
    "AUTOTUNE = tf.data.AUTOTUNE\n",
    "train_ds=tf.data.Dataset.from_tensor_slices(dict(images=x_train,labels=tf.cast(y_train,tf.float32)))\n",
    "valid_ds=train_ds.take(5000).batch(batch_size)\n",
    "valid_ds=valid_ds.map(preprocess_for_model, num_parallel_calls=AUTOTUNE).prefetch(AUTOTUNE)\n",
    "test_ds=(tf.data.Dataset.from_tensor_slices(dict(images=x_train,labels=tf.cast(y_train,tf.float32)))\n",
    "        .batch(batch_size)\n",
    "        .map(preprocess_for_model, num_parallel_calls=AUTOTUNE).prefetch(AUTOTUNE)\n",
    "        )"
   ]
  },
  {
   "cell_type": "code",
   "execution_count": 17,
   "metadata": {
    "id": "mfby1J323Lur"
   },
   "outputs": [],
   "source": [
    "\n",
    "keras.mixed_precision.set_global_policy('float32')\n",
    "if use_mixed_float16:\n",
    "  keras.mixed_precision.set_global_policy('mixed_float16')\n",
    "\n",
    "'''\n",
    "EfficientNetV2 backbone construct\n",
    "'''\n",
    "efficientv2_base=EfficientV2base(act,decode_cfgs(v2_base_block_modified))\n",
    "'''\n",
    "Adding input and output (classfication) layer to get a trainable (usable) model\n",
    "'''\n",
    "inputx=keras.Input((None,None,3))\n",
    "x=efficientv2_base(inputx)\n",
    "x=keras.layers.Dense(10,activation='softmax')(x)\n",
    "Mymodel=keras.Model(inputs=inputx,outputs=x)"
   ]
  },
  {
   "cell_type": "code",
   "execution_count": 10,
   "metadata": {},
   "outputs": [],
   "source": [
    "def fit_stage(stage,lr_base=0.016,lr_min=0,lr_decay_epoch=2.4,lr_decay_factor=0.97,batch_size=1024,steps_per_epoch=500,\n",
    "             weight_decay=1e-5,epochs=20,model_path=model_path,_MAX_LEVEL=10,\n",
    "              enable_cut_mix_and_mix_up=False,use_paper_rand_augment=False,imagesize=None,progressive_fn=lambda x: x):\n",
    "    scaled_lr=lr_base*batch_size/256.\n",
    "    scaled_lr_min=lr_min*batch_size/256.\n",
    "    \n",
    "\n",
    "    AUTOTUNE = tf.data.AUTOTUNE\n",
    "    \n",
    "    if imagesize:\n",
    "        resize_layer=tf.keras.layers.Resizing(imagesize, imagesize, interpolation=\"bilinear\",)\n",
    "    \n",
    "    strength=progressive_fn(stage)\n",
    "    if use_paper_rand_augment:\n",
    "        ag_pipeline=Set_levels(strength)\n",
    "        preparing=functools.partial(preparing_withscale,ag_pipeline=ag_pipeline)\n",
    "    else:\n",
    "        preparing=keras_cv.layers.RandAugment(value_range=(0, 255), magnitude=strength/_MAX_LEVEL, magnitude_stddev=0.3)\n",
    "    \n",
    "    if imagesize:\n",
    "        def apply_rand_augment(samples):\n",
    "            samples[\"images\"] = preparing(resize_layer(samples[\"images\"]))\n",
    "            return samples\n",
    "    else:\n",
    "        def apply_rand_augment(samples):\n",
    "            samples[\"images\"] = preparing(samples[\"images\"])\n",
    "            return samples\n",
    "    \n",
    "\n",
    "    #learning related configurations\n",
    "    #construct dataset for implement augmentation\n",
    "    train_ds=tf.data.Dataset.from_tensor_slices(dict(images=x_train,labels=tf.cast(y_train,tf.float32)))\n",
    "    valid_ds=train_ds.take(5000)\n",
    "    train_ds=train_ds.skip(5000)\n",
    "    train_ds=(train_ds.batch(batch_size)\n",
    "                    .map(preparing, num_parallel_calls=AUTOTUNE))\n",
    "    if enable_cut_mix_and_mix_up:\n",
    "        train_ds=train_ds.map(cut_mix_and_mix_up, num_parallel_calls=AUTOTUNE)\n",
    "    train_ds=train_ds.map(preprocess_for_model, num_parallel_calls=AUTOTUNE).prefetch(AUTOTUNE)\n",
    "    valid_ds=valid_ds.batch(500).map(preprocess_for_model, num_parallel_calls=AUTOTUNE) #useless\n",
    "    \n",
    "    mylr=WarmupLearningRateSchedule(\n",
    "                        initial_lr=scaled_lr,\n",
    "                        steps_per_epoch=steps_per_epoch,\n",
    "                        warmup_epochs=5,\n",
    "                        after_warmup_schedule=keras.optimizers.schedules.ExponentialDecay(scaled_lr,\n",
    "                                                                                          decay_steps=lr_decay_epoch*steps_per_epoch,\n",
    "                                                                                          decay_rate=lr_decay_factor,\n",
    "                                                                                          staircase=True),\n",
    "                        # last_epoch=last_epoch,\n",
    "                        )\n",
    "    opt=keras.optimizers.experimental.AdamW(learning_rate=mylr,weight_decay=weight_decay)\n",
    "    callbacks=[\n",
    "    keras.callbacks.ModelCheckpoint(\n",
    "        os.path.join(model_path,f's{stage}-'+'{epoch:02d}-{acc:.2f}.hdf5'),\n",
    "        monitor= \"acc\",\n",
    "        save_best_only = True,\n",
    "        save_weights_only = True,\n",
    "        save_freq=100,\n",
    "    ),\n",
    "    keras.callbacks.TensorBoard(\n",
    "        log_dir=os.path.join(model_path,'logs'+str(stage)),\n",
    "        histogram_freq=0,\n",
    "        write_graph=False,\n",
    "        write_images=False,\n",
    "        write_steps_per_second=False,\n",
    "        update_freq='epoch',\n",
    "        profile_batch=0,\n",
    "        embeddings_freq=0,\n",
    "        embeddings_metadata=None,\n",
    "    )\n",
    "    ]\n",
    "    #compile model\n",
    "    Mymodel.compile(\n",
    "#                         keras.mixed_precision.LossScaleOptimizer(opt),\n",
    "                        opt,\n",
    "#                         add_l2_loss(keras.losses.categorical_crossentropy,l2scale,Mymodel,mix_precition=use_mixed_float16),\n",
    "                        keras.losses.categorical_crossentropy,\n",
    "                        metrics=[keras.metrics.CategoricalAccuracy(name='acc'),\n",
    "                                 keras.metrics.TopKCategoricalAccuracy(k=2,name='top2_acc'),\n",
    "                                 keras.metrics.TopKCategoricalAccuracy(k=3,name='top3_acc'),\n",
    "                                 keras.metrics.TopKCategoricalAccuracy(k=5,name='top5_acc')],\n",
    "                        )\n",
    "    Mymodel.fit(train_ds.repeat(),epochs=epochs,steps_per_epoch=steps_per_epoch,callbacks=callbacks,validation_data=valid_ds)"
   ]
  },
  {
   "cell_type": "code",
   "execution_count": null,
   "metadata": {
    "colab": {
     "base_uri": "https://localhost:8080/"
    },
    "id": "yRkpatFQHv0L",
    "outputId": "38e07ccf-941a-4ec6-f68f-88fc5ac24d55",
    "scrolled": true
   },
   "outputs": [
    {
     "name": "stdout",
     "output_type": "stream",
     "text": [
      "Epoch 8/50\n",
      "500/500 [==============================] - 349s 698ms/step - loss: 0.9934 - acc: 0.7205 - top1_acc: 0.7205 - top2_acc: 0.8578 - top3_acc: 0.9179 - top5_acc: 0.9714\n",
      "Epoch 9/50\n",
      "500/500 [==============================] - 769s 2s/step - loss: 0.8472 - acc: 0.7636 - top1_acc: 0.7636 - top2_acc: 0.8864 - top3_acc: 0.9363 - top5_acc: 0.9786\n",
      "Epoch 10/50\n",
      "500/500 [==============================] - 805s 2s/step - loss: 0.8315 - acc: 0.7706 - top1_acc: 0.7706 - top2_acc: 0.8910 - top3_acc: 0.9395 - top5_acc: 0.9795\n",
      "Epoch 11/50\n",
      "500/500 [==============================] - 815s 2s/step - loss: 0.8656 - acc: 0.7691 - top1_acc: 0.7691 - top2_acc: 0.8897 - top3_acc: 0.9384 - top5_acc: 0.9795\n",
      "Epoch 12/50\n",
      "500/500 [==============================] - 966s 2s/step - loss: 0.9084 - acc: 0.7659 - top1_acc: 0.7659 - top2_acc: 0.8884 - top3_acc: 0.9376 - top5_acc: 0.9786\n",
      "Epoch 13/50\n",
      "500/500 [==============================] - 1064s 2s/step - loss: 0.9468 - acc: 0.7601 - top1_acc: 0.7601 - top2_acc: 0.8849 - top3_acc: 0.9355 - top5_acc: 0.9777\n",
      "Epoch 14/50\n",
      "500/500 [==============================] - 1065s 2s/step - loss: 9.1156 - acc: 0.3741 - top1_acc: 0.3741 - top2_acc: 0.9489 - top3_acc: 0.9707 - top5_acc: 0.9892\n",
      "Epoch 15/50\n",
      "500/500 [==============================] - 1083s 2s/step - loss: 14.6875 - acc: 0.0999 - top1_acc: 0.0999 - top2_acc: 1.0000 - top3_acc: 1.0000 - top5_acc: 1.0000\n",
      "Epoch 16/50\n",
      "500/500 [==============================] - 1078s 2s/step - loss: 14.5865 - acc: 0.1001 - top1_acc: 0.1001 - top2_acc: 1.0000 - top3_acc: 1.0000 - top5_acc: 1.0000\n",
      "Epoch 17/50\n",
      "500/500 [==============================] - 1032s 2s/step - loss: 14.5474 - acc: 0.1000 - top1_acc: 0.1000 - top2_acc: 1.0000 - top3_acc: 1.0000 - top5_acc: 1.0000\n",
      "Epoch 18/50\n",
      "500/500 [==============================] - 1058s 2s/step - loss: 14.5293 - acc: 0.1000 - top1_acc: 0.1000 - top2_acc: 1.0000 - top3_acc: 1.0000 - top5_acc: 1.0000\n",
      "Epoch 19/50\n",
      "500/500 [==============================] - 1094s 2s/step - loss: 14.5198 - acc: 0.1000 - top1_acc: 0.1000 - top2_acc: 1.0000 - top3_acc: 1.0000 - top5_acc: 1.0000\n",
      "Epoch 20/50\n",
      "489/500 [============================>.] - ETA: 23s - loss: 14.5136 - acc: 0.1000 - top1_acc: 0.1000 - top2_acc: 1.0000 - top3_acc: 1.0000 - top5_acc: 1.0000"
     ]
    }
   ],
   "source": [
    "Mymodel.fit(train_ds.repeat(),epochs=50,steps_per_epoch=steps_per_epoch,callbacks=callbacks)"
   ]
  },
  {
   "cell_type": "code",
   "execution_count": 85,
   "metadata": {
    "scrolled": true
   },
   "outputs": [
    {
     "name": "stdout",
     "output_type": "stream",
     "text": [
      "Epoch 1/50\n",
      "500/500 [==============================] - 640s 1s/step - loss: 0.5045 - acc: 0.8792 - top1_acc: 0.8792 - top2_acc: 0.9496 - top3_acc: 0.9736 - top5_acc: 0.9915\n",
      "Epoch 2/50\n",
      "500/500 [==============================] - 616s 1s/step - loss: 0.4715 - acc: 0.8904 - top1_acc: 0.8904 - top2_acc: 0.9545 - top3_acc: 0.9762 - top5_acc: 0.9922\n",
      "Epoch 3/50\n",
      "500/500 [==============================] - 624s 1s/step - loss: 0.4624 - acc: 0.8924 - top1_acc: 0.8924 - top2_acc: 0.9557 - top3_acc: 0.9767 - top5_acc: 0.9923\n",
      "Epoch 4/50\n",
      "500/500 [==============================] - 594s 1s/step - loss: 0.4647 - acc: 0.8909 - top1_acc: 0.8909 - top2_acc: 0.9548 - top3_acc: 0.9763 - top5_acc: 0.9922\n",
      "Epoch 5/50\n",
      "500/500 [==============================] - 622s 1s/step - loss: 0.4683 - acc: 0.8887 - top1_acc: 0.8887 - top2_acc: 0.9545 - top3_acc: 0.9760 - top5_acc: 0.9921\n",
      "Epoch 6/50\n",
      "500/500 [==============================] - 603s 1s/step - loss: 0.4695 - acc: 0.8882 - top1_acc: 0.8882 - top2_acc: 0.9543 - top3_acc: 0.9760 - top5_acc: 0.9922\n",
      "Epoch 7/50\n",
      "500/500 [==============================] - 613s 1s/step - loss: 0.4603 - acc: 0.8912 - top1_acc: 0.8912 - top2_acc: 0.9558 - top3_acc: 0.9767 - top5_acc: 0.9924\n",
      "Epoch 8/50\n",
      "500/500 [==============================] - 623s 1s/step - loss: 0.4494 - acc: 0.8951 - top1_acc: 0.8951 - top2_acc: 0.9572 - top3_acc: 0.9776 - top5_acc: 0.9926\n",
      "Epoch 9/50\n",
      "500/500 [==============================] - 590s 1s/step - loss: 0.4372 - acc: 0.8996 - top1_acc: 0.8996 - top2_acc: 0.9591 - top3_acc: 0.9789 - top5_acc: 0.9931\n",
      "Epoch 10/50\n",
      "500/500 [==============================] - 689s 1s/step - loss: 0.4220 - acc: 0.9038 - top1_acc: 0.9038 - top2_acc: 0.9616 - top3_acc: 0.9800 - top5_acc: 0.9934\n",
      "Epoch 12/50\n",
      "500/500 [==============================] - 859s 2s/step - loss: 0.4134 - acc: 0.9069 - top1_acc: 0.9069 - top2_acc: 0.9630 - top3_acc: 0.9806 - top5_acc: 0.9935\n",
      "Epoch 13/50\n",
      "500/500 [==============================] - 1002s 2s/step - loss: 0.4071 - acc: 0.9091 - top1_acc: 0.9091 - top2_acc: 0.9638 - top3_acc: 0.9813 - top5_acc: 0.9937\n",
      "Epoch 14/50\n",
      "500/500 [==============================] - 1010s 2s/step - loss: 0.3980 - acc: 0.9115 - top1_acc: 0.9115 - top2_acc: 0.9651 - top3_acc: 0.9821 - top5_acc: 0.9940\n",
      "Epoch 15/50\n",
      "500/500 [==============================] - 1032s 2s/step - loss: 0.3927 - acc: 0.9131 - top1_acc: 0.9131 - top2_acc: 0.9658 - top3_acc: 0.9824 - top5_acc: 0.9944\n",
      "Epoch 16/50\n",
      "500/500 [==============================] - 1018s 2s/step - loss: 0.3857 - acc: 0.9153 - top1_acc: 0.9153 - top2_acc: 0.9667 - top3_acc: 0.9828 - top5_acc: 0.9944\n",
      "Epoch 17/50\n",
      "500/500 [==============================] - 1053s 2s/step - loss: 0.3809 - acc: 0.9172 - top1_acc: 0.9172 - top2_acc: 0.9674 - top3_acc: 0.9830 - top5_acc: 0.9945\n",
      "Epoch 18/50\n",
      "500/500 [==============================] - 997s 2s/step - loss: 0.3742 - acc: 0.9193 - top1_acc: 0.9193 - top2_acc: 0.9682 - top3_acc: 0.9837 - top5_acc: 0.9946\n",
      "Epoch 19/50\n",
      "500/500 [==============================] - 1007s 2s/step - loss: 0.3693 - acc: 0.9204 - top1_acc: 0.9204 - top2_acc: 0.9689 - top3_acc: 0.9841 - top5_acc: 0.9947\n",
      "Epoch 20/50\n",
      "500/500 [==============================] - 1009s 2s/step - loss: 0.3657 - acc: 0.9213 - top1_acc: 0.9213 - top2_acc: 0.9690 - top3_acc: 0.9840 - top5_acc: 0.9946\n",
      "Epoch 21/50\n",
      "500/500 [==============================] - 977s 2s/step - loss: 0.3585 - acc: 0.9239 - top1_acc: 0.9239 - top2_acc: 0.9705 - top3_acc: 0.9846 - top5_acc: 0.9948\n",
      "Epoch 22/50\n",
      "500/500 [==============================] - 1025s 2s/step - loss: 0.3571 - acc: 0.9241 - top1_acc: 0.9241 - top2_acc: 0.9704 - top3_acc: 0.9847 - top5_acc: 0.9947\n",
      "Epoch 23/50\n",
      "500/500 [==============================] - 1044s 2s/step - loss: 0.3514 - acc: 0.9258 - top1_acc: 0.9258 - top2_acc: 0.9709 - top3_acc: 0.9851 - top5_acc: 0.9952\n",
      "Epoch 24/50\n",
      "500/500 [==============================] - 1030s 2s/step - loss: 0.3472 - acc: 0.9272 - top1_acc: 0.9272 - top2_acc: 0.9719 - top3_acc: 0.9853 - top5_acc: 0.9952\n",
      "Epoch 25/50\n",
      "500/500 [==============================] - 1074s 2s/step - loss: 0.3434 - acc: 0.9286 - top1_acc: 0.9286 - top2_acc: 0.9721 - top3_acc: 0.9857 - top5_acc: 0.9953\n",
      "Epoch 26/50\n",
      "500/500 [==============================] - 1038s 2s/step - loss: 0.3389 - acc: 0.9294 - top1_acc: 0.9294 - top2_acc: 0.9728 - top3_acc: 0.9859 - top5_acc: 0.9953\n",
      "Epoch 27/50\n",
      "500/500 [==============================] - 1034s 2s/step - loss: 0.3348 - acc: 0.9306 - top1_acc: 0.9306 - top2_acc: 0.9733 - top3_acc: 0.9863 - top5_acc: 0.9954\n",
      "Epoch 28/50\n",
      "500/500 [==============================] - 1065s 2s/step - loss: 0.3323 - acc: 0.9315 - top1_acc: 0.9315 - top2_acc: 0.9735 - top3_acc: 0.9865 - top5_acc: 0.9954\n",
      "Epoch 29/50\n",
      "500/500 [==============================] - 1002s 2s/step - loss: 0.3287 - acc: 0.9320 - top1_acc: 0.9320 - top2_acc: 0.9741 - top3_acc: 0.9866 - top5_acc: 0.9956\n",
      "Epoch 30/50\n",
      "500/500 [==============================] - 1050s 2s/step - loss: 0.3225 - acc: 0.9341 - top1_acc: 0.9341 - top2_acc: 0.9750 - top3_acc: 0.9872 - top5_acc: 0.9958\n",
      "Epoch 31/50\n",
      "500/500 [==============================] - 1015s 2s/step - loss: 0.3208 - acc: 0.9346 - top1_acc: 0.9346 - top2_acc: 0.9752 - top3_acc: 0.9871 - top5_acc: 0.9956\n",
      "Epoch 32/50\n",
      "500/500 [==============================] - 1041s 2s/step - loss: 0.3195 - acc: 0.9349 - top1_acc: 0.9349 - top2_acc: 0.9749 - top3_acc: 0.9872 - top5_acc: 0.9957\n",
      "Epoch 33/50\n",
      "426/500 [========================>.....] - ETA: 2:32 - loss: 0.3115 - acc: 0.9374 - top1_acc: 0.9374 - top2_acc: 0.9764 - top3_acc: 0.9879 - top5_acc: 0.9959"
     ]
    },
    {
     "name": "stderr",
     "output_type": "stream",
     "text": [
      "IOPub data rate exceeded.\n",
      "The notebook server will temporarily stop sending output\n",
      "to the client in order to avoid crashing it.\n",
      "To change this limit, set the config variable\n",
      "`--NotebookApp.iopub_data_rate_limit`.\n",
      "\n",
      "Current values:\n",
      "NotebookApp.iopub_data_rate_limit=1000000.0 (bytes/sec)\n",
      "NotebookApp.rate_limit_window=3.0 (secs)\n",
      "\n"
     ]
    },
    {
     "name": "stdout",
     "output_type": "stream",
     "text": [
      "500/500 [==============================] - 1030s 2s/step - loss: 0.2772 - acc: 0.9459 - top1_acc: 0.9459 - top2_acc: 0.9796 - top3_acc: 0.9895 - top5_acc: 0.9964\n",
      "Epoch 48/50\n",
      "500/500 [==============================] - 1007s 2s/step - loss: 0.2739 - acc: 0.9471 - top1_acc: 0.9471 - top2_acc: 0.9803 - top3_acc: 0.9897 - top5_acc: 0.9964\n",
      "Epoch 49/50\n",
      "500/500 [==============================] - 998s 2s/step - loss: 0.2723 - acc: 0.9472 - top1_acc: 0.9472 - top2_acc: 0.9803 - top3_acc: 0.9898 - top5_acc: 0.9963\n",
      "Epoch 50/50\n",
      "500/500 [==============================] - 1044s 2s/step - loss: 0.2691 - acc: 0.9483 - top1_acc: 0.9483 - top2_acc: 0.9804 - top3_acc: 0.9899 - top5_acc: 0.9966\n"
     ]
    },
    {
     "data": {
      "text/plain": [
       "<keras.callbacks.History at 0x7f47d90c2ef0>"
      ]
     },
     "execution_count": 85,
     "metadata": {},
     "output_type": "execute_result"
    }
   ],
   "source": [
    "fit_stage(2,lr_base=1e-3,epochs=50)"
   ]
  },
  {
   "cell_type": "code",
   "execution_count": 94,
   "metadata": {
    "scrolled": true
   },
   "outputs": [
    {
     "name": "stdout",
     "output_type": "stream",
     "text": [
      "Epoch 1/20\n",
      "500/500 [==============================] - 1030s 2s/step - loss: 0.3281 - acc: 0.9290 - top1_acc: 0.9290 - top2_acc: 0.9706 - top3_acc: 0.9839 - top5_acc: 0.9942\n",
      "Epoch 2/20\n",
      "500/500 [==============================] - 1037s 2s/step - loss: 0.3090 - acc: 0.9345 - top1_acc: 0.9345 - top2_acc: 0.9730 - top3_acc: 0.9855 - top5_acc: 0.9949\n",
      "Epoch 3/20\n",
      "500/500 [==============================] - 1015s 2s/step - loss: 0.3059 - acc: 0.9353 - top1_acc: 0.9353 - top2_acc: 0.9736 - top3_acc: 0.9858 - top5_acc: 0.9948\n",
      "Epoch 4/20\n",
      "500/500 [==============================] - 1044s 2s/step - loss: 0.3072 - acc: 0.9347 - top1_acc: 0.9347 - top2_acc: 0.9736 - top3_acc: 0.9860 - top5_acc: 0.9950\n",
      "Epoch 5/20\n",
      "500/500 [==============================] - 1036s 2s/step - loss: 0.3095 - acc: 0.9334 - top1_acc: 0.9334 - top2_acc: 0.9731 - top3_acc: 0.9856 - top5_acc: 0.9950\n",
      "Epoch 6/20\n",
      "500/500 [==============================] - 1005s 2s/step - loss: 0.3116 - acc: 0.9327 - top1_acc: 0.9327 - top2_acc: 0.9728 - top3_acc: 0.9856 - top5_acc: 0.9949\n",
      "Epoch 7/20\n",
      "500/500 [==============================] - 1038s 2s/step - loss: 0.3105 - acc: 0.9331 - top1_acc: 0.9331 - top2_acc: 0.9729 - top3_acc: 0.9856 - top5_acc: 0.9950\n",
      "Epoch 8/20\n",
      "500/500 [==============================] - 896s 2s/step - loss: 0.3075 - acc: 0.9336 - top1_acc: 0.9336 - top2_acc: 0.9733 - top3_acc: 0.9859 - top5_acc: 0.9949\n",
      "Epoch 9/20\n",
      "500/500 [==============================] - 943s 2s/step - loss: 0.3030 - acc: 0.9347 - top1_acc: 0.9347 - top2_acc: 0.9738 - top3_acc: 0.9862 - top5_acc: 0.9951\n",
      "Epoch 10/20\n",
      "500/500 [==============================] - 971s 2s/step - loss: 0.3009 - acc: 0.9354 - top1_acc: 0.9354 - top2_acc: 0.9742 - top3_acc: 0.9863 - top5_acc: 0.9950\n",
      "Epoch 11/20\n",
      "500/500 [==============================] - 776s 2s/step - loss: 0.2989 - acc: 0.9361 - top1_acc: 0.9361 - top2_acc: 0.9741 - top3_acc: 0.9862 - top5_acc: 0.9950\n",
      "Epoch 12/20\n",
      "500/500 [==============================] - 877s 2s/step - loss: 0.2968 - acc: 0.9364 - top1_acc: 0.9364 - top2_acc: 0.9744 - top3_acc: 0.9864 - top5_acc: 0.9952\n",
      "Epoch 13/20\n",
      "500/500 [==============================] - 968s 2s/step - loss: 0.2957 - acc: 0.9367 - top1_acc: 0.9367 - top2_acc: 0.9746 - top3_acc: 0.9866 - top5_acc: 0.9952\n",
      "Epoch 14/20\n",
      "500/500 [==============================] - 1014s 2s/step - loss: 0.2923 - acc: 0.9375 - top1_acc: 0.9375 - top2_acc: 0.9747 - top3_acc: 0.9866 - top5_acc: 0.9952\n",
      "Epoch 15/20\n",
      "500/500 [==============================] - 993s 2s/step - loss: 0.2896 - acc: 0.9385 - top1_acc: 0.9385 - top2_acc: 0.9753 - top3_acc: 0.9870 - top5_acc: 0.9954\n",
      "Epoch 16/20\n",
      "500/500 [==============================] - 958s 2s/step - loss: 0.2887 - acc: 0.9387 - top1_acc: 0.9387 - top2_acc: 0.9751 - top3_acc: 0.9868 - top5_acc: 0.9953\n",
      "Epoch 17/20\n",
      "500/500 [==============================] - 1005s 2s/step - loss: 0.2859 - acc: 0.9390 - top1_acc: 0.9390 - top2_acc: 0.9756 - top3_acc: 0.9869 - top5_acc: 0.9954\n",
      "Epoch 18/20\n",
      "500/500 [==============================] - 847s 2s/step - loss: 0.2847 - acc: 0.9398 - top1_acc: 0.9398 - top2_acc: 0.9755 - top3_acc: 0.9868 - top5_acc: 0.9954\n",
      "Epoch 19/20\n",
      "500/500 [==============================] - 749s 2s/step - loss: 0.2809 - acc: 0.9405 - top1_acc: 0.9405 - top2_acc: 0.9765 - top3_acc: 0.9876 - top5_acc: 0.9955\n",
      "Epoch 20/20\n",
      "500/500 [==============================] - 889s 2s/step - loss: 0.2809 - acc: 0.9407 - top1_acc: 0.9407 - top2_acc: 0.9762 - top3_acc: 0.9872 - top5_acc: 0.9954\n"
     ]
    },
    {
     "data": {
      "text/plain": [
       "<keras.callbacks.History at 0x7f46e41ae770>"
      ]
     },
     "execution_count": 94,
     "metadata": {},
     "output_type": "execute_result"
    }
   ],
   "source": [
    "fit_stage(3,lr_base=2e-4,epochs=20)"
   ]
  },
  {
   "cell_type": "code",
   "execution_count": 100,
   "metadata": {
    "scrolled": true
   },
   "outputs": [
    {
     "name": "stdout",
     "output_type": "stream",
     "text": [
      "Epoch 1/20\n",
      "500/500 [==============================] - 979s 2s/step - loss: 0.3216 - acc: 0.9251 - top1_acc: 0.9251 - top2_acc: 0.9684 - top3_acc: 0.9825 - top5_acc: 0.9935\n",
      "Epoch 2/20\n",
      "500/500 [==============================] - 1009s 2s/step - loss: 0.3094 - acc: 0.9294 - top1_acc: 0.9294 - top2_acc: 0.9700 - top3_acc: 0.9833 - top5_acc: 0.9939\n",
      "Epoch 3/20\n",
      "500/500 [==============================] - 976s 2s/step - loss: 0.3102 - acc: 0.9289 - top1_acc: 0.9289 - top2_acc: 0.9697 - top3_acc: 0.9833 - top5_acc: 0.9938\n",
      "Epoch 4/20\n",
      "500/500 [==============================] - 945s 2s/step - loss: 0.3104 - acc: 0.9290 - top1_acc: 0.9290 - top2_acc: 0.9699 - top3_acc: 0.9835 - top5_acc: 0.9940\n",
      "Epoch 5/20\n",
      "500/500 [==============================] - 975s 2s/step - loss: 0.3104 - acc: 0.9288 - top1_acc: 0.9288 - top2_acc: 0.9698 - top3_acc: 0.9832 - top5_acc: 0.9938\n",
      "Epoch 6/20\n",
      "500/500 [==============================] - 1014s 2s/step - loss: 0.3124 - acc: 0.9277 - top1_acc: 0.9277 - top2_acc: 0.9694 - top3_acc: 0.9832 - top5_acc: 0.9937\n",
      "Epoch 7/20\n",
      "500/500 [==============================] - 1025s 2s/step - loss: 0.3113 - acc: 0.9277 - top1_acc: 0.9277 - top2_acc: 0.9693 - top3_acc: 0.9831 - top5_acc: 0.9938\n",
      "Epoch 8/20\n",
      "500/500 [==============================] - 1012s 2s/step - loss: 0.3109 - acc: 0.9281 - top1_acc: 0.9281 - top2_acc: 0.9694 - top3_acc: 0.9831 - top5_acc: 0.9938\n",
      "Epoch 9/20\n",
      "500/500 [==============================] - 1038s 2s/step - loss: 0.3092 - acc: 0.9288 - top1_acc: 0.9288 - top2_acc: 0.9696 - top3_acc: 0.9833 - top5_acc: 0.9939\n",
      "Epoch 10/20\n",
      "500/500 [==============================] - 1029s 2s/step - loss: 0.3047 - acc: 0.9300 - top1_acc: 0.9300 - top2_acc: 0.9704 - top3_acc: 0.9838 - top5_acc: 0.9941\n",
      "Epoch 11/20\n",
      "386/500 [======================>.......] - ETA: 3:44 - loss: 0.3045 - acc: 0.9302 - top1_acc: 0.9302 - top2_acc: 0.9705 - top3_acc: 0.9836 - top5_acc: 0.9940"
     ]
    },
    {
     "name": "stderr",
     "output_type": "stream",
     "text": [
      "IOPub data rate exceeded.\n",
      "The notebook server will temporarily stop sending output\n",
      "to the client in order to avoid crashing it.\n",
      "To change this limit, set the config variable\n",
      "`--NotebookApp.iopub_data_rate_limit`.\n",
      "\n",
      "Current values:\n",
      "NotebookApp.iopub_data_rate_limit=1000000.0 (bytes/sec)\n",
      "NotebookApp.rate_limit_window=3.0 (secs)\n",
      "\n"
     ]
    }
   ],
   "source": [
    "fit_stage(4,lr_base=1e-4,epochs=20)"
   ]
  },
  {
   "cell_type": "code",
   "execution_count": 101,
   "metadata": {
    "scrolled": true
   },
   "outputs": [
    {
     "name": "stdout",
     "output_type": "stream",
     "text": [
      "Epoch 1/20\n",
      "500/500 [==============================] - 1074s 2s/step - loss: 0.3398 - acc: 0.9170 - top1_acc: 0.9170 - top2_acc: 0.9650 - top3_acc: 0.9813 - top5_acc: 0.9938\n",
      "Epoch 2/20\n",
      "500/500 [==============================] - 1077s 2s/step - loss: 0.3310 - acc: 0.9201 - top1_acc: 0.9201 - top2_acc: 0.9665 - top3_acc: 0.9820 - top5_acc: 0.9940\n",
      "Epoch 3/20\n",
      "500/500 [==============================] - 1047s 2s/step - loss: 0.3263 - acc: 0.9216 - top1_acc: 0.9216 - top2_acc: 0.9671 - top3_acc: 0.9826 - top5_acc: 0.9942\n",
      "Epoch 4/20\n",
      "500/500 [==============================] - 1036s 2s/step - loss: 0.3258 - acc: 0.9217 - top1_acc: 0.9217 - top2_acc: 0.9673 - top3_acc: 0.9826 - top5_acc: 0.9943\n",
      "Epoch 5/20\n",
      "500/500 [==============================] - 1050s 2s/step - loss: 0.3224 - acc: 0.9227 - top1_acc: 0.9227 - top2_acc: 0.9678 - top3_acc: 0.9828 - top5_acc: 0.9943\n",
      "Epoch 6/20\n",
      "469/500 [===========================>..] - ETA: 1:05 - loss: 0.3232 - acc: 0.9223 - top1_acc: 0.9223 - top2_acc: 0.9677 - top3_acc: 0.9826 - top5_acc: 0.9942"
     ]
    },
    {
     "name": "stderr",
     "output_type": "stream",
     "text": [
      "IOPub data rate exceeded.\n",
      "The notebook server will temporarily stop sending output\n",
      "to the client in order to avoid crashing it.\n",
      "To change this limit, set the config variable\n",
      "`--NotebookApp.iopub_data_rate_limit`.\n",
      "\n",
      "Current values:\n",
      "NotebookApp.iopub_data_rate_limit=1000000.0 (bytes/sec)\n",
      "NotebookApp.rate_limit_window=3.0 (secs)\n",
      "\n"
     ]
    },
    {
     "name": "stdout",
     "output_type": "stream",
     "text": [
      "500/500 [==============================] - 1041s 2s/step - loss: 0.3102 - acc: 0.9267 - top1_acc: 0.9267 - top2_acc: 0.9700 - top3_acc: 0.9842 - top5_acc: 0.9948\n",
      "Epoch 14/20\n",
      "500/500 [==============================] - 1015s 2s/step - loss: 0.3106 - acc: 0.9263 - top1_acc: 0.9263 - top2_acc: 0.9698 - top3_acc: 0.9841 - top5_acc: 0.9948\n",
      "Epoch 15/20\n",
      "500/500 [==============================] - 1039s 2s/step - loss: 0.3067 - acc: 0.9278 - top1_acc: 0.9278 - top2_acc: 0.9702 - top3_acc: 0.9846 - top5_acc: 0.9950\n",
      "Epoch 16/20\n",
      "500/500 [==============================] - 999s 2s/step - loss: 0.3062 - acc: 0.9276 - top1_acc: 0.9276 - top2_acc: 0.9702 - top3_acc: 0.9843 - top5_acc: 0.9948\n",
      "Epoch 17/20\n",
      "500/500 [==============================] - 1052s 2s/step - loss: 0.3053 - acc: 0.9275 - top1_acc: 0.9275 - top2_acc: 0.9705 - top3_acc: 0.9845 - top5_acc: 0.9950\n",
      "Epoch 18/20\n",
      "500/500 [==============================] - 1026s 2s/step - loss: 0.3041 - acc: 0.9282 - top1_acc: 0.9282 - top2_acc: 0.9706 - top3_acc: 0.9847 - top5_acc: 0.9951\n",
      "Epoch 19/20\n",
      "500/500 [==============================] - 1024s 2s/step - loss: 0.3034 - acc: 0.9285 - top1_acc: 0.9285 - top2_acc: 0.9710 - top3_acc: 0.9849 - top5_acc: 0.9951\n",
      "Epoch 20/20\n",
      "500/500 [==============================] - 1035s 2s/step - loss: 0.3038 - acc: 0.9283 - top1_acc: 0.9283 - top2_acc: 0.9706 - top3_acc: 0.9845 - top5_acc: 0.9950\n"
     ]
    }
   ],
   "source": [
    "fit_stage(5,lr_base=5e-5,epochs=20)"
   ]
  },
  {
   "cell_type": "code",
   "execution_count": 103,
   "metadata": {
    "scrolled": true
   },
   "outputs": [
    {
     "name": "stdout",
     "output_type": "stream",
     "text": [
      "Epoch 1/20\n",
      "500/500 [==============================] - 1003s 2s/step - loss: 0.3714 - acc: 0.9034 - top1_acc: 0.9034 - top2_acc: 0.9569 - top3_acc: 0.9762 - top5_acc: 0.9916\n",
      "Epoch 2/20\n",
      "500/500 [==============================] - 1033s 2s/step - loss: 0.3674 - acc: 0.9051 - top1_acc: 0.9051 - top2_acc: 0.9576 - top3_acc: 0.9763 - top5_acc: 0.9913\n",
      "Epoch 3/20\n",
      "500/500 [==============================] - 984s 2s/step - loss: 0.3646 - acc: 0.9064 - top1_acc: 0.9064 - top2_acc: 0.9585 - top3_acc: 0.9770 - top5_acc: 0.9919\n",
      "Epoch 4/20\n",
      "500/500 [==============================] - 1060s 2s/step - loss: 0.3655 - acc: 0.9057 - top1_acc: 0.9057 - top2_acc: 0.9580 - top3_acc: 0.9767 - top5_acc: 0.9918\n",
      "Epoch 5/20\n",
      "500/500 [==============================] - 1066s 2s/step - loss: 0.3642 - acc: 0.9060 - top1_acc: 0.9060 - top2_acc: 0.9584 - top3_acc: 0.9769 - top5_acc: 0.9917\n",
      "Epoch 6/20\n",
      "500/500 [==============================] - 1005s 2s/step - loss: 0.3642 - acc: 0.9063 - top1_acc: 0.9063 - top2_acc: 0.9580 - top3_acc: 0.9770 - top5_acc: 0.9918\n",
      "Epoch 7/20\n",
      "500/500 [==============================] - 1090s 2s/step - loss: 0.3632 - acc: 0.9063 - top1_acc: 0.9063 - top2_acc: 0.9583 - top3_acc: 0.9771 - top5_acc: 0.9920\n",
      "Epoch 8/20\n",
      "105/500 [=====>........................] - ETA: 12:11 - loss: 0.3626 - acc: 0.9067 - top1_acc: 0.9067 - top2_acc: 0.9585 - top3_acc: 0.9774 - top5_acc: 0.9917"
     ]
    },
    {
     "name": "stderr",
     "output_type": "stream",
     "text": [
      "IOPub data rate exceeded.\n",
      "The notebook server will temporarily stop sending output\n",
      "to the client in order to avoid crashing it.\n",
      "To change this limit, set the config variable\n",
      "`--NotebookApp.iopub_data_rate_limit`.\n",
      "\n",
      "Current values:\n",
      "NotebookApp.iopub_data_rate_limit=1000000.0 (bytes/sec)\n",
      "NotebookApp.rate_limit_window=3.0 (secs)\n",
      "\n"
     ]
    },
    {
     "name": "stdout",
     "output_type": "stream",
     "text": [
      "500/500 [==============================] - 1048s 2s/step - loss: 0.3634 - acc: 0.9064 - top1_acc: 0.9064 - top2_acc: 0.9582 - top3_acc: 0.9768 - top5_acc: 0.9917\n",
      "Epoch 10/20\n",
      "500/500 [==============================] - 1043s 2s/step - loss: 0.3600 - acc: 0.9074 - top1_acc: 0.9074 - top2_acc: 0.9592 - top3_acc: 0.9776 - top5_acc: 0.9920\n",
      "Epoch 11/20\n",
      "500/500 [==============================] - 1014s 2s/step - loss: 0.3627 - acc: 0.9064 - top1_acc: 0.9064 - top2_acc: 0.9586 - top3_acc: 0.9772 - top5_acc: 0.9920\n",
      "Epoch 12/20\n",
      "500/500 [==============================] - 1044s 2s/step - loss: 0.3623 - acc: 0.9068 - top1_acc: 0.9068 - top2_acc: 0.9583 - top3_acc: 0.9772 - top5_acc: 0.9919\n",
      "Epoch 13/20\n",
      "500/500 [==============================] - 1023s 2s/step - loss: 0.3603 - acc: 0.9076 - top1_acc: 0.9076 - top2_acc: 0.9588 - top3_acc: 0.9771 - top5_acc: 0.9918\n",
      "Epoch 14/20\n",
      "500/500 [==============================] - 1059s 2s/step - loss: 0.3608 - acc: 0.9072 - top1_acc: 0.9072 - top2_acc: 0.9586 - top3_acc: 0.9772 - top5_acc: 0.9918\n",
      "Epoch 15/20\n",
      "410/500 [=======================>......] - ETA: 3:04 - loss: 0.3607 - acc: 0.9077 - top1_acc: 0.9077 - top2_acc: 0.9588 - top3_acc: 0.9772 - top5_acc: 0.9918"
     ]
    },
    {
     "name": "stderr",
     "output_type": "stream",
     "text": [
      "IOPub data rate exceeded.\n",
      "The notebook server will temporarily stop sending output\n",
      "to the client in order to avoid crashing it.\n",
      "To change this limit, set the config variable\n",
      "`--NotebookApp.iopub_data_rate_limit`.\n",
      "\n",
      "Current values:\n",
      "NotebookApp.iopub_data_rate_limit=1000000.0 (bytes/sec)\n",
      "NotebookApp.rate_limit_window=3.0 (secs)\n",
      "\n"
     ]
    },
    {
     "name": "stdout",
     "output_type": "stream",
     "text": [
      "500/500 [==============================] - 1002s 2s/step - loss: 0.3579 - acc: 0.9082 - top1_acc: 0.9082 - top2_acc: 0.9593 - top3_acc: 0.9776 - top5_acc: 0.9921\n",
      "Epoch 17/20\n",
      "500/500 [==============================] - 1045s 2s/step - loss: 0.3590 - acc: 0.9083 - top1_acc: 0.9083 - top2_acc: 0.9591 - top3_acc: 0.9771 - top5_acc: 0.9920\n",
      "Epoch 18/20\n",
      "500/500 [==============================] - 1062s 2s/step - loss: 0.3561 - acc: 0.9089 - top1_acc: 0.9089 - top2_acc: 0.9600 - top3_acc: 0.9780 - top5_acc: 0.9922\n",
      "Epoch 19/20\n",
      "500/500 [==============================] - 994s 2s/step - loss: 0.3592 - acc: 0.9077 - top1_acc: 0.9077 - top2_acc: 0.9586 - top3_acc: 0.9774 - top5_acc: 0.9920\n",
      "Epoch 20/20\n",
      "500/500 [==============================] - 1060s 2s/step - loss: 0.3569 - acc: 0.9083 - top1_acc: 0.9083 - top2_acc: 0.9595 - top3_acc: 0.9775 - top5_acc: 0.9921\n"
     ]
    }
   ],
   "source": [
    "fit_stage(6,lr_base=1e-5,epochs=20)"
   ]
  },
  {
   "cell_type": "code",
   "execution_count": 59,
   "metadata": {
    "scrolled": true
   },
   "outputs": [
    {
     "name": "stdout",
     "output_type": "stream",
     "text": [
      "Epoch 1/50\n",
      "500/500 [==============================] - 675s 1s/step - loss: 0.4511 - acc: 0.8761 - top2_acc: 0.9399 - top3_acc: 0.9648 - top5_acc: 0.9862\n",
      "Epoch 2/50\n",
      "500/500 [==============================] - 658s 1s/step - loss: 0.4496 - acc: 0.8776 - top2_acc: 0.9404 - top3_acc: 0.9649 - top5_acc: 0.9865\n",
      "Epoch 3/50\n",
      "500/500 [==============================] - 659s 1s/step - loss: 0.4466 - acc: 0.8777 - top2_acc: 0.9410 - top3_acc: 0.9654 - top5_acc: 0.9866\n",
      "Epoch 4/50\n",
      "500/500 [==============================] - 638s 1s/step - loss: 0.4462 - acc: 0.8782 - top2_acc: 0.9411 - top3_acc: 0.9658 - top5_acc: 0.9868\n",
      "Epoch 5/50\n",
      "500/500 [==============================] - 696s 1s/step - loss: 0.4449 - acc: 0.8786 - top2_acc: 0.9412 - top3_acc: 0.9656 - top5_acc: 0.9868\n",
      "Epoch 6/50\n",
      "500/500 [==============================] - 689s 1s/step - loss: 0.4433 - acc: 0.8789 - top2_acc: 0.9419 - top3_acc: 0.9664 - top5_acc: 0.9871\n",
      "Epoch 7/50\n",
      "500/500 [==============================] - 663s 1s/step - loss: 0.4441 - acc: 0.8786 - top2_acc: 0.9413 - top3_acc: 0.9658 - top5_acc: 0.9869\n",
      "Epoch 8/50\n",
      "500/500 [==============================] - 557s 1s/step - loss: 0.4427 - acc: 0.8787 - top2_acc: 0.9418 - top3_acc: 0.9661 - top5_acc: 0.9870\n",
      "Epoch 10/50\n",
      "500/500 [==============================] - 707s 1s/step - loss: 0.4436 - acc: 0.8784 - top2_acc: 0.9414 - top3_acc: 0.9656 - top5_acc: 0.9869\n",
      "Epoch 11/50\n",
      "500/500 [==============================] - 592s 1s/step - loss: 0.4422 - acc: 0.8793 - top2_acc: 0.9420 - top3_acc: 0.9661 - top5_acc: 0.9869\n",
      "Epoch 12/50\n",
      "500/500 [==============================] - 773s 2s/step - loss: 0.4405 - acc: 0.8793 - top2_acc: 0.9423 - top3_acc: 0.9663 - top5_acc: 0.9872\n",
      "Epoch 13/50\n",
      "500/500 [==============================] - 735s 1s/step - loss: 0.4400 - acc: 0.8796 - top2_acc: 0.9425 - top3_acc: 0.9668 - top5_acc: 0.9872\n",
      "Epoch 14/50\n",
      "500/500 [==============================] - 710s 1s/step - loss: 0.4400 - acc: 0.8797 - top2_acc: 0.9425 - top3_acc: 0.9666 - top5_acc: 0.9869\n",
      "Epoch 15/50\n",
      "500/500 [==============================] - 686s 1s/step - loss: 0.4417 - acc: 0.8792 - top2_acc: 0.9418 - top3_acc: 0.9664 - top5_acc: 0.9872\n",
      "Epoch 16/50\n",
      "500/500 [==============================] - 748s 1s/step - loss: 0.4402 - acc: 0.8795 - top2_acc: 0.9424 - top3_acc: 0.9662 - top5_acc: 0.9871\n",
      "Epoch 17/50\n",
      "500/500 [==============================] - 788s 2s/step - loss: 0.4419 - acc: 0.8791 - top2_acc: 0.9417 - top3_acc: 0.9658 - top5_acc: 0.9867\n",
      "Epoch 18/50\n",
      "500/500 [==============================] - 771s 2s/step - loss: 0.4407 - acc: 0.8794 - top2_acc: 0.9424 - top3_acc: 0.9668 - top5_acc: 0.9874\n",
      "Epoch 19/50\n",
      "500/500 [==============================] - 733s 1s/step - loss: 0.4389 - acc: 0.8798 - top2_acc: 0.9424 - top3_acc: 0.9663 - top5_acc: 0.9872\n",
      "Epoch 20/50\n",
      "500/500 [==============================] - 767s 2s/step - loss: 0.4394 - acc: 0.8801 - top2_acc: 0.9425 - top3_acc: 0.9664 - top5_acc: 0.9870\n",
      "Epoch 21/50\n",
      "500/500 [==============================] - 806s 2s/step - loss: 0.4387 - acc: 0.8804 - top2_acc: 0.9429 - top3_acc: 0.9672 - top5_acc: 0.9873\n",
      "Epoch 22/50\n",
      "148/500 [=======>......................] - ETA: 8:36 - loss: 0.4390 - acc: 0.8799 - top2_acc: 0.9424 - top3_acc: 0.9663 - top5_acc: 0.9873"
     ]
    },
    {
     "name": "stderr",
     "output_type": "stream",
     "text": [
      "IOPub message rate exceeded.\n",
      "The notebook server will temporarily stop sending output\n",
      "to the client in order to avoid crashing it.\n",
      "To change this limit, set the config variable\n",
      "`--NotebookApp.iopub_msg_rate_limit`.\n",
      "\n",
      "Current values:\n",
      "NotebookApp.iopub_msg_rate_limit=1000.0 (msgs/sec)\n",
      "NotebookApp.rate_limit_window=3.0 (secs)\n",
      "\n"
     ]
    },
    {
     "name": "stdout",
     "output_type": "stream",
     "text": [
      "500/500 [==============================] - 795s 2s/step - loss: 0.4310 - acc: 0.8823 - top2_acc: 0.9440 - top3_acc: 0.9676 - top5_acc: 0.9877\n",
      "Epoch 47/50\n",
      "500/500 [==============================] - 776s 2s/step - loss: 0.4346 - acc: 0.8811 - top2_acc: 0.9439 - top3_acc: 0.9676 - top5_acc: 0.9876\n",
      "Epoch 48/50\n",
      "500/500 [==============================] - 814s 2s/step - loss: 0.4322 - acc: 0.8818 - top2_acc: 0.9441 - top3_acc: 0.9676 - top5_acc: 0.9878\n",
      "Epoch 49/50\n",
      "500/500 [==============================] - 766s 2s/step - loss: 0.4339 - acc: 0.8817 - top2_acc: 0.9436 - top3_acc: 0.9670 - top5_acc: 0.9874\n",
      "Epoch 50/50\n",
      "500/500 [==============================] - 799s 2s/step - loss: 0.4353 - acc: 0.8810 - top2_acc: 0.9431 - top3_acc: 0.9670 - top5_acc: 0.9873\n"
     ]
    }
   ],
   "source": [
    "fit_stage(7,lr_base=5e-6,epochs=50)"
   ]
  },
  {
   "cell_type": "code",
   "execution_count": null,
   "metadata": {
    "scrolled": true
   },
   "outputs": [
    {
     "name": "stdout",
     "output_type": "stream",
     "text": [
      "Epoch 1/50\n",
      "500/500 [==============================] - 705s 1s/step - loss: 0.4385 - acc: 0.8473 - top2_acc: 0.9212 - top3_acc: 0.9514 - top5_acc: 0.9793\n",
      "Epoch 2/50\n",
      "500/500 [==============================] - 674s 1s/step - loss: 0.4320 - acc: 0.8492 - top2_acc: 0.9217 - top3_acc: 0.9523 - top5_acc: 0.9798\n",
      "Epoch 3/50\n",
      "500/500 [==============================] - 703s 1s/step - loss: 0.4365 - acc: 0.8476 - top2_acc: 0.9216 - top3_acc: 0.9514 - top5_acc: 0.9792\n",
      "Epoch 4/50\n",
      "500/500 [==============================] - 679s 1s/step - loss: 0.4380 - acc: 0.8473 - top2_acc: 0.9210 - top3_acc: 0.9512 - top5_acc: 0.9791\n",
      "Epoch 5/50\n",
      "500/500 [==============================] - 675s 1s/step - loss: 0.4420 - acc: 0.8460 - top2_acc: 0.9212 - top3_acc: 0.9515 - top5_acc: 0.9791\n",
      "Epoch 6/50\n",
      "500/500 [==============================] - 677s 1s/step - loss: 0.4423 - acc: 0.8458 - top2_acc: 0.9208 - top3_acc: 0.9516 - top5_acc: 0.9796\n",
      "Epoch 7/50\n",
      "500/500 [==============================] - 703s 1s/step - loss: 0.4398 - acc: 0.8468 - top2_acc: 0.9212 - top3_acc: 0.9520 - top5_acc: 0.9796\n",
      "Epoch 8/50\n",
      "500/500 [==============================] - 661s 1s/step - loss: 0.4339 - acc: 0.8484 - top2_acc: 0.9229 - top3_acc: 0.9530 - top5_acc: 0.9800\n",
      "Epoch 9/50\n",
      "500/500 [==============================] - 680s 1s/step - loss: 0.4322 - acc: 0.8491 - top2_acc: 0.9233 - top3_acc: 0.9534 - top5_acc: 0.9802\n",
      "Epoch 10/50\n",
      "500/500 [==============================] - 683s 1s/step - loss: 0.4273 - acc: 0.8504 - top2_acc: 0.9244 - top3_acc: 0.9538 - top5_acc: 0.9804\n",
      "Epoch 11/50\n",
      "500/500 [==============================] - 684s 1s/step - loss: 0.4254 - acc: 0.8520 - top2_acc: 0.9248 - top3_acc: 0.9539 - top5_acc: 0.9803\n",
      "Epoch 12/50\n",
      "500/500 [==============================] - 668s 1s/step - loss: 0.4223 - acc: 0.8525 - top2_acc: 0.9254 - top3_acc: 0.9545 - top5_acc: 0.9808\n",
      "Epoch 13/50\n",
      "500/500 [==============================] - 691s 1s/step - loss: 0.4181 - acc: 0.8543 - top2_acc: 0.9265 - top3_acc: 0.9551 - top5_acc: 0.9811\n",
      "Epoch 14/50\n",
      "500/500 [==============================] - 720s 1s/step - loss: 0.4148 - acc: 0.8554 - top2_acc: 0.9268 - top3_acc: 0.9555 - top5_acc: 0.9813\n",
      "Epoch 15/50\n",
      "500/500 [==============================] - 729s 1s/step - loss: 0.4118 - acc: 0.8561 - top2_acc: 0.9277 - top3_acc: 0.9560 - top5_acc: 0.9813\n",
      "Epoch 16/50\n",
      "500/500 [==============================] - 737s 1s/step - loss: 0.4104 - acc: 0.8568 - top2_acc: 0.9278 - top3_acc: 0.9563 - top5_acc: 0.9815\n",
      "Epoch 17/50\n",
      "500/500 [==============================] - 707s 1s/step - loss: 0.4081 - acc: 0.8576 - top2_acc: 0.9282 - top3_acc: 0.9561 - top5_acc: 0.9813\n",
      "Epoch 18/50\n",
      "500/500 [==============================] - 832s 2s/step - loss: 0.4044 - acc: 0.8586 - top2_acc: 0.9293 - top3_acc: 0.9571 - top5_acc: 0.9820\n",
      "Epoch 19/50\n",
      "500/500 [==============================] - 934s 2s/step - loss: 0.4017 - acc: 0.8596 - top2_acc: 0.9298 - top3_acc: 0.9576 - top5_acc: 0.9820\n",
      "Epoch 20/50\n",
      "500/500 [==============================] - 981s 2s/step - loss: 0.4004 - acc: 0.8601 - top2_acc: 0.9298 - top3_acc: 0.9573 - top5_acc: 0.9821\n",
      "Epoch 21/50\n",
      "500/500 [==============================] - 983s 2s/step - loss: 0.3964 - acc: 0.8618 - top2_acc: 0.9310 - top3_acc: 0.9579 - top5_acc: 0.9824\n",
      "Epoch 22/50\n",
      "500/500 [==============================] - 932s 2s/step - loss: 0.3980 - acc: 0.8607 - top2_acc: 0.9305 - top3_acc: 0.9580 - top5_acc: 0.9822\n",
      "Epoch 23/50\n",
      "364/500 [====================>.........] - ETA: 4:23 - loss: 0.3939 - acc: 0.8620 - top2_acc: 0.9317 - top3_acc: 0.9586 - top5_acc: 0.9826"
     ]
    },
    {
     "name": "stderr",
     "output_type": "stream",
     "text": [
      "IOPub message rate exceeded.\n",
      "The notebook server will temporarily stop sending output\n",
      "to the client in order to avoid crashing it.\n",
      "To change this limit, set the config variable\n",
      "`--NotebookApp.iopub_msg_rate_limit`.\n",
      "\n",
      "Current values:\n",
      "NotebookApp.iopub_msg_rate_limit=1000.0 (msgs/sec)\n",
      "NotebookApp.rate_limit_window=3.0 (secs)\n",
      "\n"
     ]
    },
    {
     "name": "stdout",
     "output_type": "stream",
     "text": [
      "500/500 [==============================] - 962s 2s/step - loss: 0.3581 - acc: 0.8746 - top2_acc: 0.9384 - top3_acc: 0.9630 - top5_acc: 0.9841\n",
      "Epoch 47/50\n",
      "500/500 [==============================] - 974s 2s/step - loss: 0.3565 - acc: 0.8751 - top2_acc: 0.9384 - top3_acc: 0.9630 - top5_acc: 0.9842\n",
      "Epoch 48/50\n",
      "500/500 [==============================] - 975s 2s/step - loss: 0.3581 - acc: 0.8746 - top2_acc: 0.9382 - top3_acc: 0.9627 - top5_acc: 0.9840\n",
      "Epoch 49/50\n",
      "500/500 [==============================] - 984s 2s/step - loss: 0.3557 - acc: 0.8760 - top2_acc: 0.9388 - top3_acc: 0.9628 - top5_acc: 0.9841\n",
      "Epoch 50/50\n",
      "448/500 [=========================>....] - ETA: 1:39 - loss: 0.3532 - acc: 0.8761 - top2_acc: 0.9393 - top3_acc: 0.9634 - top5_acc: 0.9844"
     ]
    }
   ],
   "source": [
    "fit_stage(8,lr_base=1e-4,epochs=50)"
   ]
  },
  {
   "cell_type": "code",
   "execution_count": 51,
   "metadata": {
    "scrolled": true
   },
   "outputs": [
    {
     "name": "stdout",
     "output_type": "stream",
     "text": [
      "Epoch 1/20\n",
      "500/500 [==============================] - 1058s 2s/step - loss: 1.9038 - acc: 0.4908 - top1_acc: 0.4908 - top2_acc: 0.6508 - top3_acc: 0.7471 - top5_acc: 0.8667\n",
      "Epoch 2/20\n",
      "500/500 [==============================] - 1039s 2s/step - loss: 1.9029 - acc: 0.4923 - top1_acc: 0.4923 - top2_acc: 0.6521 - top3_acc: 0.7479 - top5_acc: 0.8670\n",
      "Epoch 3/20\n",
      "500/500 [==============================] - 1021s 2s/step - loss: 1.9035 - acc: 0.4917 - top1_acc: 0.4917 - top2_acc: 0.6503 - top3_acc: 0.7464 - top5_acc: 0.8663\n",
      "Epoch 4/20\n",
      "500/500 [==============================] - 1059s 2s/step - loss: 1.9031 - acc: 0.4927 - top1_acc: 0.4927 - top2_acc: 0.6518 - top3_acc: 0.7473 - top5_acc: 0.8663\n",
      "Epoch 5/20\n",
      "500/500 [==============================] - 1054s 2s/step - loss: 1.9021 - acc: 0.4931 - top1_acc: 0.4931 - top2_acc: 0.6521 - top3_acc: 0.7482 - top5_acc: 0.8669\n",
      "Epoch 6/20\n",
      "500/500 [==============================] - 1003s 2s/step - loss: 1.9033 - acc: 0.4919 - top1_acc: 0.4919 - top2_acc: 0.6516 - top3_acc: 0.7472 - top5_acc: 0.8663\n",
      "Epoch 7/20\n",
      "500/500 [==============================] - 1087s 2s/step - loss: 1.9029 - acc: 0.4930 - top1_acc: 0.4930 - top2_acc: 0.6515 - top3_acc: 0.7476 - top5_acc: 0.8663\n",
      "Epoch 8/20\n",
      "500/500 [==============================] - 1067s 2s/step - loss: 1.9015 - acc: 0.4920 - top1_acc: 0.4920 - top2_acc: 0.6526 - top3_acc: 0.7483 - top5_acc: 0.8672\n",
      "Epoch 10/20\n",
      "500/500 [==============================] - 1087s 2s/step - loss: 1.9018 - acc: 0.4912 - top1_acc: 0.4912 - top2_acc: 0.6506 - top3_acc: 0.7475 - top5_acc: 0.8667\n",
      "Epoch 11/20\n",
      "500/500 [==============================] - 1023s 2s/step - loss: 1.9023 - acc: 0.4922 - top1_acc: 0.4922 - top2_acc: 0.6519 - top3_acc: 0.7482 - top5_acc: 0.8668\n",
      "Epoch 12/20\n",
      "500/500 [==============================] - 1078s 2s/step - loss: 1.9021 - acc: 0.4928 - top1_acc: 0.4928 - top2_acc: 0.6520 - top3_acc: 0.7474 - top5_acc: 0.8667\n",
      "Epoch 13/20\n",
      "500/500 [==============================] - 1049s 2s/step - loss: 1.9004 - acc: 0.4936 - top1_acc: 0.4936 - top2_acc: 0.6523 - top3_acc: 0.7484 - top5_acc: 0.8674\n",
      "Epoch 14/20\n",
      "487/500 [============================>.] - ETA: 27s - loss: 1.9010 - acc: 0.4927 - top1_acc: 0.4927 - top2_acc: 0.6524 - top3_acc: 0.7480 - top5_acc: 0.8661"
     ]
    },
    {
     "name": "stderr",
     "output_type": "stream",
     "text": [
      "IOPub data rate exceeded.\n",
      "The notebook server will temporarily stop sending output\n",
      "to the client in order to avoid crashing it.\n",
      "To change this limit, set the config variable\n",
      "`--NotebookApp.iopub_data_rate_limit`.\n",
      "\n",
      "Current values:\n",
      "NotebookApp.iopub_data_rate_limit=1000000.0 (bytes/sec)\n",
      "NotebookApp.rate_limit_window=3.0 (secs)\n",
      "\n"
     ]
    }
   ],
   "source": [
    "fit_stage(8,lr_base=5e-6,epochs=20)"
   ]
  },
  {
   "cell_type": "code",
   "execution_count": null,
   "metadata": {
    "scrolled": true
   },
   "outputs": [
    {
     "name": "stdout",
     "output_type": "stream",
     "text": [
      "Epoch 1/50\n",
      "500/500 [==============================] - 922s 2s/step - loss: 0.3958 - acc: 0.8611 - top2_acc: 0.9279 - top3_acc: 0.9546 - top5_acc: 0.9791\n",
      "Epoch 2/50\n",
      "500/500 [==============================] - 956s 2s/step - loss: 0.3919 - acc: 0.8623 - top2_acc: 0.9283 - top3_acc: 0.9550 - top5_acc: 0.9794\n",
      "Epoch 3/50\n",
      "500/500 [==============================] - 983s 2s/step - loss: 0.3941 - acc: 0.8614 - top2_acc: 0.9279 - top3_acc: 0.9546 - top5_acc: 0.9792\n",
      "Epoch 4/50\n",
      "500/500 [==============================] - 922s 2s/step - loss: 0.3959 - acc: 0.8609 - top2_acc: 0.9273 - top3_acc: 0.9542 - top5_acc: 0.9790\n",
      "Epoch 5/50\n",
      "500/500 [==============================] - 917s 2s/step - loss: 0.3990 - acc: 0.8604 - top2_acc: 0.9270 - top3_acc: 0.9537 - top5_acc: 0.9786\n",
      "Epoch 6/50\n",
      "500/500 [==============================] - 956s 2s/step - loss: 0.3995 - acc: 0.8598 - top2_acc: 0.9270 - top3_acc: 0.9538 - top5_acc: 0.9788\n",
      "Epoch 7/50\n",
      "500/500 [==============================] - 951s 2s/step - loss: 0.3974 - acc: 0.8608 - top2_acc: 0.9275 - top3_acc: 0.9544 - top5_acc: 0.9789\n",
      "Epoch 8/50\n",
      "164/500 [========>.....................] - ETA: 10:10 - loss: 0.3974 - acc: 0.8600 - top2_acc: 0.9271 - top3_acc: 0.9536 - top5_acc: 0.9788"
     ]
    },
    {
     "name": "stderr",
     "output_type": "stream",
     "text": [
      "IOPub message rate exceeded.\n",
      "The notebook server will temporarily stop sending output\n",
      "to the client in order to avoid crashing it.\n",
      "To change this limit, set the config variable\n",
      "`--NotebookApp.iopub_msg_rate_limit`.\n",
      "\n",
      "Current values:\n",
      "NotebookApp.iopub_msg_rate_limit=1000.0 (msgs/sec)\n",
      "NotebookApp.rate_limit_window=3.0 (secs)\n",
      "\n"
     ]
    },
    {
     "name": "stdout",
     "output_type": "stream",
     "text": [
      "500/500 [==============================] - 610s 1s/step - loss: 0.3893 - acc: 0.8633 - top2_acc: 0.9287 - top3_acc: 0.9550 - top5_acc: 0.9792\n",
      "Epoch 17/50\n",
      "500/500 [==============================] - 597s 1s/step - loss: 0.3877 - acc: 0.8642 - top2_acc: 0.9295 - top3_acc: 0.9559 - top5_acc: 0.9796\n",
      "Epoch 18/50\n",
      "500/500 [==============================] - 591s 1s/step - loss: 0.3845 - acc: 0.8649 - top2_acc: 0.9301 - top3_acc: 0.9557 - top5_acc: 0.9797\n",
      "Epoch 19/50\n",
      "500/500 [==============================] - 585s 1s/step - loss: 0.3852 - acc: 0.8650 - top2_acc: 0.9298 - top3_acc: 0.9556 - top5_acc: 0.9796\n",
      "Epoch 20/50\n",
      "500/500 [==============================] - 634s 1s/step - loss: 0.3838 - acc: 0.8649 - top2_acc: 0.9299 - top3_acc: 0.9560 - top5_acc: 0.9798\n",
      "Epoch 21/50\n",
      "500/500 [==============================] - 595s 1s/step - loss: 0.3838 - acc: 0.8651 - top2_acc: 0.9298 - top3_acc: 0.9556 - top5_acc: 0.9795\n",
      "Epoch 22/50\n",
      "500/500 [==============================] - 580s 1s/step - loss: 0.3827 - acc: 0.8657 - top2_acc: 0.9302 - top3_acc: 0.9556 - top5_acc: 0.9795\n",
      "Epoch 23/50\n",
      "500/500 [==============================] - 569s 1s/step - loss: 0.3808 - acc: 0.8661 - top2_acc: 0.9306 - top3_acc: 0.9563 - top5_acc: 0.9797\n",
      "Epoch 24/50\n",
      "194/500 [==========>...................] - ETA: 5:53 - loss: 0.3819 - acc: 0.8656 - top2_acc: 0.9302 - top3_acc: 0.9561 - top5_acc: 0.9799"
     ]
    },
    {
     "name": "stderr",
     "output_type": "stream",
     "text": [
      "IOPub message rate exceeded.\n",
      "The notebook server will temporarily stop sending output\n",
      "to the client in order to avoid crashing it.\n",
      "To change this limit, set the config variable\n",
      "`--NotebookApp.iopub_msg_rate_limit`.\n",
      "\n",
      "Current values:\n",
      "NotebookApp.iopub_msg_rate_limit=1000.0 (msgs/sec)\n",
      "NotebookApp.rate_limit_window=3.0 (secs)\n",
      "\n"
     ]
    },
    {
     "name": "stdout",
     "output_type": "stream",
     "text": [
      "500/500 [==============================] - 608s 1s/step - loss: 0.3733 - acc: 0.8687 - top2_acc: 0.9313 - top3_acc: 0.9565 - top5_acc: 0.9799\n",
      "Epoch 35/50\n",
      "500/500 [==============================] - 675s 1s/step - loss: 0.3705 - acc: 0.8698 - top2_acc: 0.9324 - top3_acc: 0.9574 - top5_acc: 0.9801\n",
      "Epoch 36/50\n",
      "500/500 [==============================] - 606s 1s/step - loss: 0.3698 - acc: 0.8699 - top2_acc: 0.9325 - top3_acc: 0.9573 - top5_acc: 0.9797\n",
      "Epoch 37/50\n",
      "500/500 [==============================] - 611s 1s/step - loss: 0.3698 - acc: 0.8696 - top2_acc: 0.9330 - top3_acc: 0.9575 - top5_acc: 0.9803\n",
      "Epoch 38/50\n",
      "500/500 [==============================] - 605s 1s/step - loss: 0.3677 - acc: 0.8704 - top2_acc: 0.9329 - top3_acc: 0.9577 - top5_acc: 0.9803\n",
      "Epoch 39/50\n",
      "500/500 [==============================] - 633s 1s/step - loss: 0.3705 - acc: 0.8697 - top2_acc: 0.9326 - top3_acc: 0.9573 - top5_acc: 0.9803\n",
      "Epoch 40/50\n",
      "500/500 [==============================] - 701s 1s/step - loss: 0.3687 - acc: 0.8709 - top2_acc: 0.9329 - top3_acc: 0.9574 - top5_acc: 0.9802\n",
      "Epoch 41/50\n",
      "500/500 [==============================] - 620s 1s/step - loss: 0.3687 - acc: 0.8707 - top2_acc: 0.9327 - top3_acc: 0.9577 - top5_acc: 0.9804\n",
      "Epoch 42/50\n",
      " 88/500 [====>.........................] - ETA: 7:45 - loss: 0.3652 - acc: 0.8721 - top2_acc: 0.9341 - top3_acc: 0.9589 - top5_acc: 0.9814"
     ]
    },
    {
     "name": "stderr",
     "output_type": "stream",
     "text": [
      "IOPub message rate exceeded.\n",
      "The notebook server will temporarily stop sending output\n",
      "to the client in order to avoid crashing it.\n",
      "To change this limit, set the config variable\n",
      "`--NotebookApp.iopub_msg_rate_limit`.\n",
      "\n",
      "Current values:\n",
      "NotebookApp.iopub_msg_rate_limit=1000.0 (msgs/sec)\n",
      "NotebookApp.rate_limit_window=3.0 (secs)\n",
      "\n"
     ]
    },
    {
     "name": "stdout",
     "output_type": "stream",
     "text": [
      "500/500 [==============================] - 691s 1s/step - loss: 0.3659 - acc: 0.8719 - top2_acc: 0.9338 - top3_acc: 0.9583 - top5_acc: 0.9802\n",
      "Epoch 47/50\n",
      "500/500 [==============================] - 674s 1s/step - loss: 0.3659 - acc: 0.8715 - top2_acc: 0.9333 - top3_acc: 0.9579 - top5_acc: 0.9806\n",
      "Epoch 48/50\n",
      "160/500 [========>.....................] - ETA: 6:03 - loss: 0.3672 - acc: 0.8710 - top2_acc: 0.9331 - top3_acc: 0.9572 - top5_acc: 0.9805"
     ]
    }
   ],
   "source": [
    "fit_stage(9,lr_base=5e-5,epochs=50)"
   ]
  },
  {
   "cell_type": "code",
   "execution_count": null,
   "metadata": {},
   "outputs": [],
   "source": [
    "fit_stage(10,lr_base=2e-5,epochs=50)"
   ]
  },
  {
   "cell_type": "code",
   "execution_count": 15,
   "metadata": {},
   "outputs": [],
   "source": [
    "test_ds=(tf.data.Dataset.from_tensor_slices(dict(images=x_test,labels=tf.cast(y_test,tf.float32))).batch(500)\n",
    "        .map(preprocess_for_model, num_parallel_calls=AUTOTUNE).prefetch(AUTOTUNE))"
   ]
  },
  {
   "cell_type": "code",
   "execution_count": 126,
   "metadata": {},
   "outputs": [
    {
     "name": "stdout",
     "output_type": "stream",
     "text": [
      "20/20 [==============================] - 2s 41ms/step - loss: 0.2519 - acc: 0.9350 - top2_acc: 0.9815 - top3_acc: 0.9919 - top5_acc: 0.9986\n"
     ]
    },
    {
     "data": {
      "text/plain": [
       "[0.2519059181213379,\n",
       " 0.9350000023841858,\n",
       " 0.9815000295639038,\n",
       " 0.9919000267982483,\n",
       " 0.9986000061035156]"
      ]
     },
     "execution_count": 126,
     "metadata": {},
     "output_type": "execute_result"
    }
   ],
   "source": [
    "Mymodel.evaluate(test_ds)"
   ]
  },
  {
   "cell_type": "code",
   "execution_count": 133,
   "metadata": {
    "scrolled": true
   },
   "outputs": [
    {
     "name": "stdout",
     "output_type": "stream",
     "text": [
      "Epoch 1/200\n",
      "500/500 [==============================] - 636s 1s/step - loss: 2.0978 - acc: 0.2227 - top2_acc: 0.3800 - top3_acc: 0.5015 - top5_acc: 0.6905\n",
      "Epoch 2/200\n",
      "500/500 [==============================] - 697s 1s/step - loss: 1.7442 - acc: 0.3733 - top2_acc: 0.5559 - top3_acc: 0.6711 - top5_acc: 0.8214\n",
      "Epoch 3/200\n",
      "500/500 [==============================] - 671s 1s/step - loss: 1.5020 - acc: 0.4656 - top2_acc: 0.6441 - top3_acc: 0.7472 - top5_acc: 0.8710\n",
      "Epoch 4/200\n",
      "500/500 [==============================] - 702s 1s/step - loss: 1.3361 - acc: 0.5276 - top2_acc: 0.6969 - top3_acc: 0.7888 - top5_acc: 0.8955\n",
      "Epoch 5/200\n",
      "500/500 [==============================] - 671s 1s/step - loss: 1.2201 - acc: 0.5688 - top2_acc: 0.7307 - top3_acc: 0.8160 - top5_acc: 0.9107\n",
      "Epoch 6/200\n",
      "500/500 [==============================] - 682s 1s/step - loss: 1.1293 - acc: 0.6015 - top2_acc: 0.7563 - top3_acc: 0.8354 - top5_acc: 0.9212\n",
      "Epoch 7/200\n",
      "500/500 [==============================] - 697s 1s/step - loss: 1.0499 - acc: 0.6308 - top2_acc: 0.7779 - top3_acc: 0.8506 - top5_acc: 0.9291\n",
      "Epoch 8/200\n",
      "500/500 [==============================] - 651s 1s/step - loss: 0.9812 - acc: 0.6550 - top2_acc: 0.7949 - top3_acc: 0.8633 - top5_acc: 0.9356\n",
      "Epoch 9/200\n",
      "500/500 [==============================] - 683s 1s/step - loss: 0.9296 - acc: 0.6731 - top2_acc: 0.8082 - top3_acc: 0.8724 - top5_acc: 0.9395\n",
      "Epoch 10/200\n",
      "500/500 [==============================] - 684s 1s/step - loss: 0.8839 - acc: 0.6895 - top2_acc: 0.8187 - top3_acc: 0.8798 - top5_acc: 0.9439\n",
      "Epoch 11/200\n",
      "500/500 [==============================] - 683s 1s/step - loss: 0.8495 - acc: 0.7021 - top2_acc: 0.8265 - top3_acc: 0.8850 - top5_acc: 0.9460\n",
      "Epoch 12/200\n",
      "500/500 [==============================] - 672s 1s/step - loss: 0.8162 - acc: 0.7128 - top2_acc: 0.8348 - top3_acc: 0.8917 - top5_acc: 0.9496\n",
      "Epoch 13/200\n",
      "500/500 [==============================] - 699s 1s/step - loss: 0.7914 - acc: 0.7217 - top2_acc: 0.8404 - top3_acc: 0.8954 - top5_acc: 0.9511\n",
      "Epoch 14/200\n",
      "500/500 [==============================] - 676s 1s/step - loss: 0.7672 - acc: 0.7306 - top2_acc: 0.8466 - top3_acc: 0.8991 - top5_acc: 0.9528\n",
      "Epoch 15/200\n",
      "500/500 [==============================] - 686s 1s/step - loss: 0.7453 - acc: 0.7381 - top2_acc: 0.8513 - top3_acc: 0.9026 - top5_acc: 0.9547\n",
      "Epoch 16/200\n",
      "265/500 [==============>...............] - ETA: 5:27 - loss: 0.7277 - acc: 0.7442 - top2_acc: 0.8553 - top3_acc: 0.9053 - top5_acc: 0.9552"
     ]
    },
    {
     "name": "stderr",
     "output_type": "stream",
     "text": [
      "IOPub message rate exceeded.\n",
      "The notebook server will temporarily stop sending output\n",
      "to the client in order to avoid crashing it.\n",
      "To change this limit, set the config variable\n",
      "`--NotebookApp.iopub_msg_rate_limit`.\n",
      "\n",
      "Current values:\n",
      "NotebookApp.iopub_msg_rate_limit=1000.0 (msgs/sec)\n",
      "NotebookApp.rate_limit_window=3.0 (secs)\n",
      "\n"
     ]
    },
    {
     "name": "stdout",
     "output_type": "stream",
     "text": [
      "500/500 [==============================] - 613s 1s/step - loss: 0.6677 - acc: 0.7654 - top2_acc: 0.8683 - top3_acc: 0.9143 - top5_acc: 0.9598\n",
      "Epoch 21/200\n",
      "500/500 [==============================] - 689s 1s/step - loss: 0.6540 - acc: 0.7701 - top2_acc: 0.8717 - top3_acc: 0.9164 - top5_acc: 0.9608\n",
      "Epoch 22/200\n",
      "500/500 [==============================] - 687s 1s/step - loss: 0.6411 - acc: 0.7747 - top2_acc: 0.8745 - top3_acc: 0.9185 - top5_acc: 0.9617\n",
      "Epoch 23/200\n",
      "500/500 [==============================] - 669s 1s/step - loss: 0.6310 - acc: 0.7781 - top2_acc: 0.8772 - top3_acc: 0.9195 - top5_acc: 0.9619\n",
      "Epoch 24/200\n",
      "500/500 [==============================] - 689s 1s/step - loss: 0.6209 - acc: 0.7811 - top2_acc: 0.8784 - top3_acc: 0.9208 - top5_acc: 0.9623\n",
      "Epoch 25/200\n",
      "500/500 [==============================] - 698s 1s/step - loss: 0.6127 - acc: 0.7844 - top2_acc: 0.8805 - top3_acc: 0.9224 - top5_acc: 0.9631\n",
      "Epoch 26/200\n",
      "500/500 [==============================] - 702s 1s/step - loss: 0.6045 - acc: 0.7871 - top2_acc: 0.8822 - top3_acc: 0.9236 - top5_acc: 0.9639\n",
      "Epoch 27/200\n",
      "500/500 [==============================] - 654s 1s/step - loss: 0.5947 - acc: 0.7904 - top2_acc: 0.8847 - top3_acc: 0.9248 - top5_acc: 0.9645\n",
      "Epoch 28/200\n",
      "500/500 [==============================] - 687s 1s/step - loss: 0.5829 - acc: 0.7944 - top2_acc: 0.8874 - top3_acc: 0.9267 - top5_acc: 0.9649\n",
      "Epoch 29/200\n",
      "500/500 [==============================] - 699s 1s/step - loss: 0.5811 - acc: 0.7957 - top2_acc: 0.8868 - top3_acc: 0.9265 - top5_acc: 0.9652\n",
      "Epoch 30/200\n",
      "500/500 [==============================] - 657s 1s/step - loss: 0.5721 - acc: 0.7984 - top2_acc: 0.8889 - top3_acc: 0.9278 - top5_acc: 0.9657\n",
      "Epoch 31/200\n",
      "500/500 [==============================] - 682s 1s/step - loss: 0.5640 - acc: 0.8013 - top2_acc: 0.8905 - top3_acc: 0.9289 - top5_acc: 0.9663\n",
      "Epoch 32/200\n",
      "500/500 [==============================] - 702s 1s/step - loss: 0.5567 - acc: 0.8044 - top2_acc: 0.8922 - top3_acc: 0.9299 - top5_acc: 0.9668\n",
      "Epoch 33/200\n",
      "500/500 [==============================] - 651s 1s/step - loss: 0.5507 - acc: 0.8062 - top2_acc: 0.8931 - top3_acc: 0.9306 - top5_acc: 0.9667\n",
      "Epoch 34/200\n",
      "500/500 [==============================] - 688s 1s/step - loss: 0.5471 - acc: 0.8073 - top2_acc: 0.8939 - top3_acc: 0.9303 - top5_acc: 0.9664\n",
      "Epoch 35/200\n",
      "500/500 [==============================] - 691s 1s/step - loss: 0.5378 - acc: 0.8106 - top2_acc: 0.8963 - top3_acc: 0.9327 - top5_acc: 0.9675\n",
      "Epoch 36/200\n",
      "500/500 [==============================] - 688s 1s/step - loss: 0.5343 - acc: 0.8110 - top2_acc: 0.8966 - top3_acc: 0.9329 - top5_acc: 0.9682\n",
      "Epoch 37/200\n",
      "500/500 [==============================] - 696s 1s/step - loss: 0.5252 - acc: 0.8149 - top2_acc: 0.8985 - top3_acc: 0.9340 - top5_acc: 0.9683\n",
      "Epoch 38/200\n",
      "500/500 [==============================] - 668s 1s/step - loss: 0.5219 - acc: 0.8162 - top2_acc: 0.8989 - top3_acc: 0.9343 - top5_acc: 0.9680\n",
      "Epoch 39/200\n",
      "500/500 [==============================] - 665s 1s/step - loss: 0.5162 - acc: 0.8175 - top2_acc: 0.9005 - top3_acc: 0.9351 - top5_acc: 0.9687\n",
      "Epoch 40/200\n",
      "500/500 [==============================] - 692s 1s/step - loss: 0.5077 - acc: 0.8207 - top2_acc: 0.9019 - top3_acc: 0.9360 - top5_acc: 0.9691\n",
      "Epoch 41/200\n",
      "500/500 [==============================] - 676s 1s/step - loss: 0.5050 - acc: 0.8218 - top2_acc: 0.9025 - top3_acc: 0.9363 - top5_acc: 0.9690\n",
      "Epoch 42/200\n",
      "500/500 [==============================] - 685s 1s/step - loss: 0.4983 - acc: 0.8241 - top2_acc: 0.9045 - top3_acc: 0.9380 - top5_acc: 0.9701\n",
      "Epoch 43/200\n",
      "500/500 [==============================] - 700s 1s/step - loss: 0.4950 - acc: 0.8255 - top2_acc: 0.9051 - top3_acc: 0.9383 - top5_acc: 0.9702\n",
      "Epoch 44/200\n",
      "500/500 [==============================] - 922s 2s/step - loss: 0.4876 - acc: 0.8282 - top2_acc: 0.9059 - top3_acc: 0.9389 - top5_acc: 0.9705\n",
      "Epoch 45/200\n",
      "500/500 [==============================] - 922s 2s/step - loss: 0.4854 - acc: 0.8281 - top2_acc: 0.9065 - top3_acc: 0.9391 - top5_acc: 0.9703\n",
      "Epoch 46/200\n",
      "500/500 [==============================] - 929s 2s/step - loss: 0.4794 - acc: 0.8306 - top2_acc: 0.9079 - top3_acc: 0.9396 - top5_acc: 0.9707\n",
      "Epoch 47/200\n",
      "500/500 [==============================] - 877s 2s/step - loss: 0.4794 - acc: 0.8310 - top2_acc: 0.9076 - top3_acc: 0.9394 - top5_acc: 0.9701\n",
      "Epoch 48/200\n",
      "500/500 [==============================] - 899s 2s/step - loss: 0.4718 - acc: 0.8330 - top2_acc: 0.9090 - top3_acc: 0.9405 - top5_acc: 0.9708\n",
      "Epoch 49/200\n",
      "500/500 [==============================] - 851s 2s/step - loss: 0.4683 - acc: 0.8345 - top2_acc: 0.9101 - top3_acc: 0.9411 - top5_acc: 0.9710\n",
      "Epoch 50/200\n",
      "500/500 [==============================] - 878s 2s/step - loss: 0.4652 - acc: 0.8352 - top2_acc: 0.9106 - top3_acc: 0.9410 - top5_acc: 0.9709\n",
      "Epoch 51/200\n",
      "500/500 [==============================] - 920s 2s/step - loss: 0.4621 - acc: 0.8366 - top2_acc: 0.9112 - top3_acc: 0.9417 - top5_acc: 0.9713\n",
      "Epoch 52/200\n",
      "324/500 [==================>...........] - ETA: 4:58 - loss: 0.4588 - acc: 0.8382 - top2_acc: 0.9115 - top3_acc: 0.9419 - top5_acc: 0.9717"
     ]
    },
    {
     "name": "stderr",
     "output_type": "stream",
     "text": [
      "IOPub message rate exceeded.\n",
      "The notebook server will temporarily stop sending output\n",
      "to the client in order to avoid crashing it.\n",
      "To change this limit, set the config variable\n",
      "`--NotebookApp.iopub_msg_rate_limit`.\n",
      "\n",
      "Current values:\n",
      "NotebookApp.iopub_msg_rate_limit=1000.0 (msgs/sec)\n",
      "NotebookApp.rate_limit_window=3.0 (secs)\n",
      "\n"
     ]
    },
    {
     "name": "stdout",
     "output_type": "stream",
     "text": [
      "500/500 [==============================] - 873s 2s/step - loss: 0.4283 - acc: 0.8483 - top2_acc: 0.9174 - top3_acc: 0.9455 - top5_acc: 0.9727\n",
      "Epoch 62/200\n",
      "500/500 [==============================] - 904s 2s/step - loss: 0.4239 - acc: 0.8499 - top2_acc: 0.9180 - top3_acc: 0.9460 - top5_acc: 0.9728\n",
      "Epoch 63/200\n",
      "500/500 [==============================] - 883s 2s/step - loss: 0.4193 - acc: 0.8515 - top2_acc: 0.9193 - top3_acc: 0.9470 - top5_acc: 0.9736\n",
      "Epoch 64/200\n",
      "500/500 [==============================] - 910s 2s/step - loss: 0.4178 - acc: 0.8524 - top2_acc: 0.9192 - top3_acc: 0.9465 - top5_acc: 0.9731\n",
      "Epoch 65/200\n",
      "500/500 [==============================] - 898s 2s/step - loss: 0.4179 - acc: 0.8520 - top2_acc: 0.9193 - top3_acc: 0.9470 - top5_acc: 0.9734\n",
      "Epoch 66/200\n",
      "500/500 [==============================] - 858s 2s/step - loss: 0.4140 - acc: 0.8533 - top2_acc: 0.9203 - top3_acc: 0.9471 - top5_acc: 0.9734\n",
      "Epoch 67/200\n",
      "500/500 [==============================] - 942s 2s/step - loss: 0.4060 - acc: 0.8556 - top2_acc: 0.9214 - top3_acc: 0.9479 - top5_acc: 0.9739\n",
      "Epoch 69/200\n",
      "500/500 [==============================] - 906s 2s/step - loss: 0.4034 - acc: 0.8570 - top2_acc: 0.9219 - top3_acc: 0.9484 - top5_acc: 0.9740\n",
      "Epoch 70/200\n",
      "500/500 [==============================] - 950s 2s/step - loss: 0.4028 - acc: 0.8570 - top2_acc: 0.9223 - top3_acc: 0.9483 - top5_acc: 0.9739\n",
      "Epoch 71/200\n",
      "500/500 [==============================] - 882s 2s/step - loss: 0.3970 - acc: 0.8593 - top2_acc: 0.9227 - top3_acc: 0.9489 - top5_acc: 0.9743\n",
      "Epoch 72/200\n",
      "500/500 [==============================] - 920s 2s/step - loss: 0.3968 - acc: 0.8598 - top2_acc: 0.9232 - top3_acc: 0.9490 - top5_acc: 0.9743\n",
      "Epoch 73/200\n",
      "490/500 [============================>.] - ETA: 18s - loss: 0.3936 - acc: 0.8605 - top2_acc: 0.9241 - top3_acc: 0.9500 - top5_acc: 0.9745"
     ]
    },
    {
     "name": "stderr",
     "output_type": "stream",
     "text": [
      "IOPub message rate exceeded.\n",
      "The notebook server will temporarily stop sending output\n",
      "to the client in order to avoid crashing it.\n",
      "To change this limit, set the config variable\n",
      "`--NotebookApp.iopub_msg_rate_limit`.\n",
      "\n",
      "Current values:\n",
      "NotebookApp.iopub_msg_rate_limit=1000.0 (msgs/sec)\n",
      "NotebookApp.rate_limit_window=3.0 (secs)\n",
      "\n"
     ]
    },
    {
     "name": "stdout",
     "output_type": "stream",
     "text": [
      "500/500 [==============================] - 950s 2s/step - loss: 0.3919 - acc: 0.8614 - top2_acc: 0.9248 - top3_acc: 0.9497 - top5_acc: 0.9744\n",
      "Epoch 75/200\n",
      "500/500 [==============================] - 933s 2s/step - loss: 0.3903 - acc: 0.8617 - top2_acc: 0.9246 - top3_acc: 0.9499 - top5_acc: 0.9744\n",
      "Epoch 76/200\n",
      "500/500 [==============================] - 974s 2s/step - loss: 0.3861 - acc: 0.8631 - top2_acc: 0.9252 - top3_acc: 0.9505 - top5_acc: 0.9753\n",
      "Epoch 77/200\n",
      "500/500 [==============================] - 963s 2s/step - loss: 0.3853 - acc: 0.8631 - top2_acc: 0.9248 - top3_acc: 0.9500 - top5_acc: 0.9745\n",
      "Epoch 78/200\n",
      "500/500 [==============================] - 942s 2s/step - loss: 0.3840 - acc: 0.8647 - top2_acc: 0.9258 - top3_acc: 0.9504 - top5_acc: 0.9746\n",
      "Epoch 79/200\n",
      "500/500 [==============================] - 959s 2s/step - loss: 0.3803 - acc: 0.8655 - top2_acc: 0.9261 - top3_acc: 0.9511 - top5_acc: 0.9750\n",
      "Epoch 80/200\n",
      "500/500 [==============================] - 955s 2s/step - loss: 0.3798 - acc: 0.8659 - top2_acc: 0.9263 - top3_acc: 0.9509 - top5_acc: 0.9749\n",
      "Epoch 81/200\n",
      "500/500 [==============================] - 975s 2s/step - loss: 0.3748 - acc: 0.8673 - top2_acc: 0.9272 - top3_acc: 0.9514 - top5_acc: 0.9753\n",
      "Epoch 82/200\n",
      "460/500 [==========================>...] - ETA: 1:14 - loss: 0.3744 - acc: 0.8677 - top2_acc: 0.9274 - top3_acc: 0.9518 - top5_acc: 0.9754"
     ]
    },
    {
     "name": "stderr",
     "output_type": "stream",
     "text": [
      "IOPub message rate exceeded.\n",
      "The notebook server will temporarily stop sending output\n",
      "to the client in order to avoid crashing it.\n",
      "To change this limit, set the config variable\n",
      "`--NotebookApp.iopub_msg_rate_limit`.\n",
      "\n",
      "Current values:\n",
      "NotebookApp.iopub_msg_rate_limit=1000.0 (msgs/sec)\n",
      "NotebookApp.rate_limit_window=3.0 (secs)\n",
      "\n"
     ]
    },
    {
     "name": "stdout",
     "output_type": "stream",
     "text": [
      "500/500 [==============================] - 944s 2s/step - loss: 0.3343 - acc: 0.8818 - top2_acc: 0.9343 - top3_acc: 0.9555 - top5_acc: 0.9769\n",
      "Epoch 109/200\n",
      "500/500 [==============================] - 987s 2s/step - loss: 0.3310 - acc: 0.8829 - top2_acc: 0.9348 - top3_acc: 0.9556 - top5_acc: 0.9768\n",
      "Epoch 110/200\n",
      "500/500 [==============================] - 943s 2s/step - loss: 0.3303 - acc: 0.8826 - top2_acc: 0.9350 - top3_acc: 0.9562 - top5_acc: 0.9771\n",
      "Epoch 111/200\n",
      "500/500 [==============================] - 953s 2s/step - loss: 0.3295 - acc: 0.8832 - top2_acc: 0.9353 - top3_acc: 0.9562 - top5_acc: 0.9772\n",
      "Epoch 112/200\n",
      "500/500 [==============================] - 976s 2s/step - loss: 0.3269 - acc: 0.8844 - top2_acc: 0.9353 - top3_acc: 0.9562 - top5_acc: 0.9771\n",
      "Epoch 113/200\n",
      "500/500 [==============================] - 1004s 2s/step - loss: 0.3268 - acc: 0.8843 - top2_acc: 0.9351 - top3_acc: 0.9560 - top5_acc: 0.9770\n",
      "Epoch 114/200\n",
      "500/500 [==============================] - 959s 2s/step - loss: 0.3260 - acc: 0.8848 - top2_acc: 0.9357 - top3_acc: 0.9562 - top5_acc: 0.9771\n",
      "Epoch 115/200\n",
      "500/500 [==============================] - 961s 2s/step - loss: 0.3229 - acc: 0.8858 - top2_acc: 0.9363 - top3_acc: 0.9567 - top5_acc: 0.9773\n",
      "Epoch 116/200\n",
      "500/500 [==============================] - 956s 2s/step - loss: 0.3241 - acc: 0.8852 - top2_acc: 0.9363 - top3_acc: 0.9572 - top5_acc: 0.9775\n",
      "Epoch 117/200\n",
      "500/500 [==============================] - 849s 2s/step - loss: 0.3215 - acc: 0.8859 - top2_acc: 0.9361 - top3_acc: 0.9568 - top5_acc: 0.9770\n",
      "Epoch 118/200\n",
      "500/500 [==============================] - 904s 2s/step - loss: 0.3200 - acc: 0.8866 - top2_acc: 0.9371 - top3_acc: 0.9577 - top5_acc: 0.9779\n",
      "Epoch 119/200\n",
      "500/500 [==============================] - 946s 2s/step - loss: 0.3171 - acc: 0.8876 - top2_acc: 0.9370 - top3_acc: 0.9575 - top5_acc: 0.9773\n",
      "Epoch 120/200\n",
      "500/500 [==============================] - 928s 2s/step - loss: 0.3187 - acc: 0.8870 - top2_acc: 0.9372 - top3_acc: 0.9572 - top5_acc: 0.9774\n",
      "Epoch 121/200\n",
      "500/500 [==============================] - 558s 1s/step - loss: 0.3168 - acc: 0.8879 - top2_acc: 0.9371 - top3_acc: 0.9573 - top5_acc: 0.9773\n",
      "Epoch 122/200\n",
      "500/500 [==============================] - 778s 2s/step - loss: 0.3169 - acc: 0.8874 - top2_acc: 0.9374 - top3_acc: 0.9578 - top5_acc: 0.9778\n",
      "Epoch 123/200\n",
      "500/500 [==============================] - 838s 2s/step - loss: 0.3156 - acc: 0.8878 - top2_acc: 0.9373 - top3_acc: 0.9573 - top5_acc: 0.9774\n",
      "Epoch 124/200\n",
      "480/500 [===========================>..] - ETA: 33s - loss: 0.3124 - acc: 0.8893 - top2_acc: 0.9380 - top3_acc: 0.9578 - top5_acc: 0.9779"
     ]
    },
    {
     "name": "stderr",
     "output_type": "stream",
     "text": [
      "IOPub message rate exceeded.\n",
      "The notebook server will temporarily stop sending output\n",
      "to the client in order to avoid crashing it.\n",
      "To change this limit, set the config variable\n",
      "`--NotebookApp.iopub_msg_rate_limit`.\n",
      "\n",
      "Current values:\n",
      "NotebookApp.iopub_msg_rate_limit=1000.0 (msgs/sec)\n",
      "NotebookApp.rate_limit_window=3.0 (secs)\n",
      "\n"
     ]
    },
    {
     "name": "stdout",
     "output_type": "stream",
     "text": [
      "500/500 [==============================] - 849s 2s/step - loss: 0.3047 - acc: 0.8919 - top2_acc: 0.9396 - top3_acc: 0.9588 - top5_acc: 0.9784\n",
      "Epoch 131/200\n",
      "500/500 [==============================] - 767s 2s/step - loss: 0.3047 - acc: 0.8918 - top2_acc: 0.9394 - top3_acc: 0.9589 - top5_acc: 0.9784\n",
      "Epoch 132/200\n",
      "500/500 [==============================] - 685s 1s/step - loss: 0.3037 - acc: 0.8923 - top2_acc: 0.9398 - top3_acc: 0.9586 - top5_acc: 0.9779\n",
      "Epoch 134/200\n",
      "500/500 [==============================] - 684s 1s/step - loss: 0.3037 - acc: 0.8919 - top2_acc: 0.9392 - top3_acc: 0.9587 - top5_acc: 0.9780\n",
      "Epoch 135/200\n",
      "500/500 [==============================] - 569s 1s/step - loss: 0.3033 - acc: 0.8921 - top2_acc: 0.9394 - top3_acc: 0.9585 - top5_acc: 0.9778\n",
      "Epoch 136/200\n",
      "500/500 [==============================] - 675s 1s/step - loss: 0.3031 - acc: 0.8925 - top2_acc: 0.9396 - top3_acc: 0.9586 - top5_acc: 0.9778\n",
      "Epoch 137/200\n",
      "500/500 [==============================] - 680s 1s/step - loss: 0.3004 - acc: 0.8932 - top2_acc: 0.9402 - top3_acc: 0.9592 - top5_acc: 0.9781\n",
      "Epoch 138/200\n",
      "500/500 [==============================] - 686s 1s/step - loss: 0.2992 - acc: 0.8934 - top2_acc: 0.9404 - top3_acc: 0.9595 - top5_acc: 0.9785\n",
      "Epoch 139/200\n",
      "500/500 [==============================] - 918s 2s/step - loss: 0.2991 - acc: 0.8939 - top2_acc: 0.9400 - top3_acc: 0.9590 - top5_acc: 0.9782\n",
      "Epoch 140/200\n",
      "500/500 [==============================] - 898s 2s/step - loss: 0.2977 - acc: 0.8941 - top2_acc: 0.9405 - top3_acc: 0.9593 - top5_acc: 0.9785\n",
      "Epoch 141/200\n",
      "500/500 [==============================] - 922s 2s/step - loss: 0.2978 - acc: 0.8945 - top2_acc: 0.9404 - top3_acc: 0.9593 - top5_acc: 0.9781\n",
      "Epoch 142/200\n",
      "500/500 [==============================] - 894s 2s/step - loss: 0.2956 - acc: 0.8949 - top2_acc: 0.9411 - top3_acc: 0.9596 - top5_acc: 0.9783\n",
      "Epoch 143/200\n",
      "500/500 [==============================] - 916s 2s/step - loss: 0.2953 - acc: 0.8955 - top2_acc: 0.9408 - top3_acc: 0.9593 - top5_acc: 0.9783\n",
      "Epoch 144/200\n",
      "500/500 [==============================] - 899s 2s/step - loss: 0.2968 - acc: 0.8948 - top2_acc: 0.9403 - top3_acc: 0.9590 - top5_acc: 0.9782\n",
      "Epoch 145/200\n",
      "500/500 [==============================] - 941s 2s/step - loss: 0.2933 - acc: 0.8958 - top2_acc: 0.9413 - top3_acc: 0.9599 - top5_acc: 0.9787\n",
      "Epoch 146/200\n",
      "500/500 [==============================] - 926s 2s/step - loss: 0.2938 - acc: 0.8955 - top2_acc: 0.9413 - top3_acc: 0.9596 - top5_acc: 0.9782\n",
      "Epoch 147/200\n",
      "500/500 [==============================] - 959s 2s/step - loss: 0.2936 - acc: 0.8957 - top2_acc: 0.9412 - top3_acc: 0.9599 - top5_acc: 0.9787\n",
      "Epoch 148/200\n",
      "500/500 [==============================] - 964s 2s/step - loss: 0.2921 - acc: 0.8963 - top2_acc: 0.9410 - top3_acc: 0.9598 - top5_acc: 0.9786\n",
      "Epoch 149/200\n",
      "500/500 [==============================] - 966s 2s/step - loss: 0.2902 - acc: 0.8969 - top2_acc: 0.9418 - top3_acc: 0.9599 - top5_acc: 0.9786\n",
      "Epoch 150/200\n",
      "500/500 [==============================] - 1003s 2s/step - loss: 0.2906 - acc: 0.8966 - top2_acc: 0.9417 - top3_acc: 0.9599 - top5_acc: 0.9785\n",
      "Epoch 151/200\n",
      "236/500 [=============>................] - ETA: 8:04 - loss: 0.2890 - acc: 0.8971 - top2_acc: 0.9416 - top3_acc: 0.9603 - top5_acc: 0.9785"
     ]
    },
    {
     "name": "stderr",
     "output_type": "stream",
     "text": [
      "IOPub message rate exceeded.\n",
      "The notebook server will temporarily stop sending output\n",
      "to the client in order to avoid crashing it.\n",
      "To change this limit, set the config variable\n",
      "`--NotebookApp.iopub_msg_rate_limit`.\n",
      "\n",
      "Current values:\n",
      "NotebookApp.iopub_msg_rate_limit=1000.0 (msgs/sec)\n",
      "NotebookApp.rate_limit_window=3.0 (secs)\n",
      "\n"
     ]
    },
    {
     "name": "stdout",
     "output_type": "stream",
     "text": [
      "500/500 [==============================] - 1013s 2s/step - loss: 0.2883 - acc: 0.8977 - top2_acc: 0.9416 - top3_acc: 0.9596 - top5_acc: 0.9783\n",
      "Epoch 154/200\n",
      "500/500 [==============================] - 954s 2s/step - loss: 0.2882 - acc: 0.8975 - top2_acc: 0.9421 - top3_acc: 0.9603 - top5_acc: 0.9789\n",
      "Epoch 155/200\n",
      "500/500 [==============================] - 983s 2s/step - loss: 0.2897 - acc: 0.8972 - top2_acc: 0.9415 - top3_acc: 0.9597 - top5_acc: 0.9783\n",
      "Epoch 156/200\n",
      "500/500 [==============================] - 952s 2s/step - loss: 0.2863 - acc: 0.8981 - top2_acc: 0.9422 - top3_acc: 0.9602 - top5_acc: 0.9787\n",
      "Epoch 157/200\n",
      "500/500 [==============================] - 943s 2s/step - loss: 0.2859 - acc: 0.8984 - top2_acc: 0.9424 - top3_acc: 0.9603 - top5_acc: 0.9786\n",
      "Epoch 158/200\n",
      "500/500 [==============================] - 927s 2s/step - loss: 0.2863 - acc: 0.8982 - top2_acc: 0.9418 - top3_acc: 0.9600 - top5_acc: 0.9786\n",
      "Epoch 159/200\n",
      "500/500 [==============================] - 919s 2s/step - loss: 0.2857 - acc: 0.8984 - top2_acc: 0.9424 - top3_acc: 0.9604 - top5_acc: 0.9785\n",
      "Epoch 160/200\n",
      "500/500 [==============================] - 973s 2s/step - loss: 0.2821 - acc: 0.8999 - top2_acc: 0.9434 - top3_acc: 0.9611 - top5_acc: 0.9790\n",
      "Epoch 161/200\n",
      "500/500 [==============================] - 943s 2s/step - loss: 0.2840 - acc: 0.8989 - top2_acc: 0.9425 - top3_acc: 0.9604 - top5_acc: 0.9785\n",
      "Epoch 162/200\n",
      "500/500 [==============================] - 959s 2s/step - loss: 0.2827 - acc: 0.8995 - top2_acc: 0.9431 - top3_acc: 0.9606 - top5_acc: 0.9788\n",
      "Epoch 163/200\n",
      "500/500 [==============================] - 943s 2s/step - loss: 0.2810 - acc: 0.8995 - top2_acc: 0.9430 - top3_acc: 0.9608 - top5_acc: 0.9790\n",
      "Epoch 164/200\n",
      "396/500 [======================>.......] - ETA: 3:15 - loss: 0.2795 - acc: 0.9004 - top2_acc: 0.9436 - top3_acc: 0.9614 - top5_acc: 0.9790"
     ]
    },
    {
     "name": "stderr",
     "output_type": "stream",
     "text": [
      "IOPub message rate exceeded.\n",
      "The notebook server will temporarily stop sending output\n",
      "to the client in order to avoid crashing it.\n",
      "To change this limit, set the config variable\n",
      "`--NotebookApp.iopub_msg_rate_limit`.\n",
      "\n",
      "Current values:\n",
      "NotebookApp.iopub_msg_rate_limit=1000.0 (msgs/sec)\n",
      "NotebookApp.rate_limit_window=3.0 (secs)\n",
      "\n"
     ]
    },
    {
     "name": "stdout",
     "output_type": "stream",
     "text": [
      "500/500 [==============================] - 912s 2s/step - loss: 0.2817 - acc: 0.8997 - top2_acc: 0.9434 - top3_acc: 0.9611 - top5_acc: 0.9793\n",
      "Epoch 166/200\n",
      "500/500 [==============================] - 915s 2s/step - loss: 0.2799 - acc: 0.9005 - top2_acc: 0.9431 - top3_acc: 0.9606 - top5_acc: 0.9787\n",
      "Epoch 167/200\n",
      "500/500 [==============================] - 944s 2s/step - loss: 0.2777 - acc: 0.9014 - top2_acc: 0.9439 - top3_acc: 0.9611 - top5_acc: 0.9789\n",
      "Epoch 168/200\n",
      "500/500 [==============================] - 941s 2s/step - loss: 0.2779 - acc: 0.9012 - top2_acc: 0.9438 - top3_acc: 0.9615 - top5_acc: 0.9792\n",
      "Epoch 169/200\n",
      "500/500 [==============================] - 939s 2s/step - loss: 0.2785 - acc: 0.9013 - top2_acc: 0.9435 - top3_acc: 0.9608 - top5_acc: 0.9787\n",
      "Epoch 170/200\n",
      "500/500 [==============================] - 944s 2s/step - loss: 0.2755 - acc: 0.9025 - top2_acc: 0.9442 - top3_acc: 0.9616 - top5_acc: 0.9793\n",
      "Epoch 171/200\n",
      "500/500 [==============================] - 967s 2s/step - loss: 0.2745 - acc: 0.9022 - top2_acc: 0.9444 - top3_acc: 0.9614 - top5_acc: 0.9792\n",
      "Epoch 173/200\n",
      "500/500 [==============================] - 929s 2s/step - loss: 0.2768 - acc: 0.9013 - top2_acc: 0.9438 - top3_acc: 0.9610 - top5_acc: 0.9790\n",
      "Epoch 174/200\n",
      "500/500 [==============================] - 949s 2s/step - loss: 0.2746 - acc: 0.9026 - top2_acc: 0.9441 - top3_acc: 0.9613 - top5_acc: 0.9792\n",
      "Epoch 175/200\n",
      "500/500 [==============================] - 948s 2s/step - loss: 0.2750 - acc: 0.9022 - top2_acc: 0.9441 - top3_acc: 0.9615 - top5_acc: 0.9790\n",
      "Epoch 176/200\n",
      "500/500 [==============================] - 957s 2s/step - loss: 0.2722 - acc: 0.9029 - top2_acc: 0.9446 - top3_acc: 0.9618 - top5_acc: 0.9793\n",
      "Epoch 177/200\n",
      "498/500 [============================>.] - ETA: 3s - loss: 0.2750 - acc: 0.9023 - top2_acc: 0.9440 - top3_acc: 0.9613 - top5_acc: 0.9793"
     ]
    },
    {
     "name": "stderr",
     "output_type": "stream",
     "text": [
      "IOPub message rate exceeded.\n",
      "The notebook server will temporarily stop sending output\n",
      "to the client in order to avoid crashing it.\n",
      "To change this limit, set the config variable\n",
      "`--NotebookApp.iopub_msg_rate_limit`.\n",
      "\n",
      "Current values:\n",
      "NotebookApp.iopub_msg_rate_limit=1000.0 (msgs/sec)\n",
      "NotebookApp.rate_limit_window=3.0 (secs)\n",
      "\n"
     ]
    },
    {
     "name": "stdout",
     "output_type": "stream",
     "text": [
      "500/500 [==============================] - 981s 2s/step - loss: 0.2627 - acc: 0.9064 - top2_acc: 0.9461 - top3_acc: 0.9625 - top5_acc: 0.9797\n",
      "Epoch 198/200\n",
      "500/500 [==============================] - 961s 2s/step - loss: 0.2640 - acc: 0.9062 - top2_acc: 0.9460 - top3_acc: 0.9624 - top5_acc: 0.9797\n",
      "Epoch 199/200\n",
      "500/500 [==============================] - 969s 2s/step - loss: 0.2627 - acc: 0.9068 - top2_acc: 0.9463 - top3_acc: 0.9627 - top5_acc: 0.9797\n",
      "Epoch 200/200\n",
      "500/500 [==============================] - 965s 2s/step - loss: 0.2636 - acc: 0.9060 - top2_acc: 0.9460 - top3_acc: 0.9623 - top5_acc: 0.9794\n"
     ]
    }
   ],
   "source": [
    "fit_stage(10,lr_base=1e-3,epochs=200)"
   ]
  },
  {
   "cell_type": "code",
   "execution_count": 132,
   "metadata": {},
   "outputs": [
    {
     "name": "stdout",
     "output_type": "stream",
     "text": [
      "20/20 [==============================] - 1s 41ms/step - loss: 2.3222 - acc: 0.0640 - top2_acc: 0.1585 - top3_acc: 0.2616 - top5_acc: 0.4619\n"
     ]
    },
    {
     "data": {
      "text/plain": [
       "[2.322216033935547,\n",
       " 0.06400000303983688,\n",
       " 0.15850000083446503,\n",
       " 0.26159998774528503,\n",
       " 0.461899995803833]"
      ]
     },
     "execution_count": 132,
     "metadata": {},
     "output_type": "execute_result"
    }
   ],
   "source": [
    "Mymodel.evaluate(test_ds)"
   ]
  },
  {
   "cell_type": "code",
   "execution_count": 135,
   "metadata": {},
   "outputs": [
    {
     "name": "stdout",
     "output_type": "stream",
     "text": [
      "20/20 [==============================] - 1s 40ms/step - loss: 0.2933 - acc: 0.9391 - top2_acc: 0.9817 - top3_acc: 0.9920 - top5_acc: 0.9977\n"
     ]
    },
    {
     "data": {
      "text/plain": [
       "[0.29329782724380493,\n",
       " 0.9391000270843506,\n",
       " 0.9817000031471252,\n",
       " 0.9919999837875366,\n",
       " 0.9976999759674072]"
      ]
     },
     "execution_count": 135,
     "metadata": {},
     "output_type": "execute_result"
    }
   ],
   "source": [
    "Mymodel.evaluate(test_ds)"
   ]
  },
  {
   "cell_type": "code",
   "execution_count": 59,
   "metadata": {},
   "outputs": [],
   "source": [
    "efficientv2_base=EfficientV2base(act,decode_cfgs(v2_base_block))\n",
    "'''\n",
    "Adding input and output (classfication) layer to get a trainable (usable) model\n",
    "'''\n",
    "inputx=keras.Input((None,None,3))\n",
    "x=efficientv2_base(inputx)\n",
    "x=keras.layers.Dense(10,activation='softmax')(x)\n",
    "Mymodel=keras.Model(inputs=inputx,outputs=x)"
   ]
  },
  {
   "cell_type": "code",
   "execution_count": 64,
   "metadata": {},
   "outputs": [],
   "source": [
    "lr_base=2e-3\n",
    "scaled_lr=lr_base*batch_size/256.\n",
    "scaled_lr_min=lr_min*batch_size/256.\n",
    "\n",
    "\n",
    "AUTOTUNE = tf.data.AUTOTUNE\n",
    "\n",
    "preparing=keras_cv.layers.RandAugment(value_range=(0, 255), magnitude=1., magnitude_stddev=0.3)\n",
    "\n",
    "def apply_rand_augment(samples):\n",
    "    samples[\"images\"] = preparing(samples[\"images\"])\n",
    "    return samples\n",
    "def preprocess_for_model(inputs):\n",
    "    images, labels = inputs[\"images\"], inputs[\"labels\"]\n",
    "    images = tf.cast(images, tf.float32)/255.\n",
    "    return (images, labels)\n",
    "\n",
    "#learning related configurations\n",
    "#construct dataset for implement augmentation\n",
    "train_ds=tf.data.Dataset.from_tensor_slices(dict(images=x_train,labels=tf.cast(y_train,tf.float32)))\n",
    "valid_ds=train_ds.take(5000)\n",
    "train_ds=train_ds.skip(5000)\n",
    "train_ds=(train_ds.batch(batch_size)\n",
    "                .map(preparing, num_parallel_calls=AUTOTUNE))\n",
    "train_ds=train_ds.map(preprocess_for_model, num_parallel_calls=AUTOTUNE).prefetch(AUTOTUNE)\n",
    "valid_ds=valid_ds.batch(500).map(preprocess_for_model, num_parallel_calls=AUTOTUNE) #useless\n",
    "\n",
    "mylr=WarmupLearningRateSchedule(\n",
    "                    initial_lr=scaled_lr,\n",
    "                    steps_per_epoch=steps_per_epoch,\n",
    "                    warmup_epochs=5,\n",
    "                    after_warmup_schedule=keras.optimizers.schedules.ExponentialDecay(scaled_lr,\n",
    "                                                                                      decay_steps=lr_decay_epoch*steps_per_epoch,\n",
    "                                                                                      decay_rate=lr_decay_factor,\n",
    "                                                                                      staircase=True),\n",
    "                    # last_epoch=last_epoch,\n",
    "                    )\n",
    "opt=keras.optimizers.experimental.AdamW(learning_rate=mylr,weight_decay=1e-5)\n",
    "callbacks=[\n",
    "keras.callbacks.BackupAndRestore(\n",
    "    os.path.join(model_path,'complete-backup'),\n",
    "    save_freq=100,\n",
    "    delete_checkpoint=True,\n",
    "    save_before_preemption=False\n",
    "),\n",
    "keras.callbacks.ModelCheckpoint(\n",
    "    os.path.join(model_path,f'complete-'+'{epoch:02d}-{acc:.2f}.hdf5'),\n",
    "    monitor= \"acc\",\n",
    "    save_weights_only = True,\n",
    "    save_freq=10*steps_per_epoch,\n",
    "),\n",
    "keras.callbacks.TensorBoard(\n",
    "    log_dir=os.path.join(model_path,'complete-logs'),\n",
    "    histogram_freq=0,\n",
    "    write_graph=False,\n",
    "    write_images=False,\n",
    "    write_steps_per_second=False,\n",
    "    update_freq='epoch',\n",
    "    profile_batch=0,\n",
    "    embeddings_freq=0,\n",
    "    embeddings_metadata=None,\n",
    ")\n",
    "]\n",
    "#compile model\n",
    "Mymodel.compile(\n",
    "#                         keras.mixed_precision.LossScaleOptimizer(opt),\n",
    "                    opt,\n",
    "#                         add_l2_loss(keras.losses.categorical_crossentropy,l2scale,Mymodel,mix_precition=use_mixed_float16),\n",
    "                    keras.losses.categorical_crossentropy,\n",
    "                    metrics=[keras.metrics.CategoricalAccuracy(name='acc'),\n",
    "                             keras.metrics.TopKCategoricalAccuracy(k=2,name='top2_acc'),\n",
    "                             keras.metrics.TopKCategoricalAccuracy(k=3,name='top3_acc'),\n",
    "                             keras.metrics.TopKCategoricalAccuracy(k=5,name='top5_acc')],\n",
    "                    )"
   ]
  },
  {
   "cell_type": "code",
   "execution_count": 69,
   "metadata": {
    "scrolled": true
   },
   "outputs": [
    {
     "name": "stdout",
     "output_type": "stream",
     "text": [
      "Epoch 141/200\n",
      "500/500 [==============================] - 403s 806ms/step - loss: 0.7366 - acc: 0.7403 - top2_acc: 0.8520 - top3_acc: 0.9033 - top5_acc: 0.9554 - val_loss: 0.4545 - val_acc: 0.8724 - val_top2_acc: 0.9526 - val_top3_acc: 0.9778 - val_top5_acc: 0.9944\n",
      "Epoch 142/200\n",
      "500/500 [==============================] - 556s 1s/step - loss: 0.7379 - acc: 0.7396 - top2_acc: 0.8511 - top3_acc: 0.9032 - top5_acc: 0.9548 - val_loss: 0.4299 - val_acc: 0.8780 - val_top2_acc: 0.9560 - val_top3_acc: 0.9800 - val_top5_acc: 0.9952\n",
      "Epoch 143/200\n",
      "500/500 [==============================] - 492s 986ms/step - loss: 0.7331 - acc: 0.7411 - top2_acc: 0.8528 - top3_acc: 0.9038 - top5_acc: 0.9552 - val_loss: 0.4274 - val_acc: 0.8808 - val_top2_acc: 0.9558 - val_top3_acc: 0.9788 - val_top5_acc: 0.9946\n",
      "Epoch 144/200\n",
      "500/500 [==============================] - 514s 1s/step - loss: 0.7311 - acc: 0.7423 - top2_acc: 0.8530 - top3_acc: 0.9041 - top5_acc: 0.9553 - val_loss: 0.4223 - val_acc: 0.8810 - val_top2_acc: 0.9558 - val_top3_acc: 0.9784 - val_top5_acc: 0.9942\n",
      "Epoch 145/200\n",
      "500/500 [==============================] - 503s 1s/step - loss: 0.7317 - acc: 0.7420 - top2_acc: 0.8527 - top3_acc: 0.9041 - top5_acc: 0.9556 - val_loss: 0.4506 - val_acc: 0.8770 - val_top2_acc: 0.9532 - val_top3_acc: 0.9766 - val_top5_acc: 0.9948\n",
      "Epoch 146/200\n",
      "500/500 [==============================] - 510s 1s/step - loss: 0.7285 - acc: 0.7430 - top2_acc: 0.8541 - top3_acc: 0.9045 - top5_acc: 0.9555 - val_loss: 0.4171 - val_acc: 0.8786 - val_top2_acc: 0.9584 - val_top3_acc: 0.9804 - val_top5_acc: 0.9954\n",
      "Epoch 147/200\n",
      "206/500 [===========>..................] - ETA: 5:22 - loss: 0.7277 - acc: 0.7431 - top2_acc: 0.8539 - top3_acc: 0.9051 - top5_acc: 0.9565"
     ]
    },
    {
     "name": "stderr",
     "output_type": "stream",
     "text": [
      "IOPub message rate exceeded.\n",
      "The notebook server will temporarily stop sending output\n",
      "to the client in order to avoid crashing it.\n",
      "To change this limit, set the config variable\n",
      "`--NotebookApp.iopub_msg_rate_limit`.\n",
      "\n",
      "Current values:\n",
      "NotebookApp.iopub_msg_rate_limit=1000.0 (msgs/sec)\n",
      "NotebookApp.rate_limit_window=3.0 (secs)\n",
      "\n"
     ]
    },
    {
     "name": "stdout",
     "output_type": "stream",
     "text": [
      "500/500 [==============================] - 531s 1s/step - loss: 0.7007 - acc: 0.7529 - top2_acc: 0.8600 - top3_acc: 0.9087 - top5_acc: 0.9575 - val_loss: 0.4296 - val_acc: 0.8798 - val_top2_acc: 0.9576 - val_top3_acc: 0.9786 - val_top5_acc: 0.9950\n",
      "Epoch 181/200\n",
      "500/500 [==============================] - 587s 1s/step - loss: 0.6986 - acc: 0.7533 - top2_acc: 0.8600 - top3_acc: 0.9090 - top5_acc: 0.9579 - val_loss: 0.4319 - val_acc: 0.8804 - val_top2_acc: 0.9574 - val_top3_acc: 0.9814 - val_top5_acc: 0.9960\n",
      "Epoch 182/200\n",
      "500/500 [==============================] - 503s 1s/step - loss: 0.7007 - acc: 0.7523 - top2_acc: 0.8599 - top3_acc: 0.9088 - top5_acc: 0.9580 - val_loss: 0.4378 - val_acc: 0.8772 - val_top2_acc: 0.9556 - val_top3_acc: 0.9816 - val_top5_acc: 0.9950\n",
      "Epoch 183/200\n",
      "500/500 [==============================] - 524s 1s/step - loss: 0.6978 - acc: 0.7538 - top2_acc: 0.8607 - top3_acc: 0.9095 - top5_acc: 0.9581 - val_loss: 0.4466 - val_acc: 0.8806 - val_top2_acc: 0.9610 - val_top3_acc: 0.9830 - val_top5_acc: 0.9962\n",
      "Epoch 184/200\n",
      "500/500 [==============================] - 528s 1s/step - loss: 0.6969 - acc: 0.7534 - top2_acc: 0.8608 - top3_acc: 0.9096 - top5_acc: 0.9578 - val_loss: 0.4381 - val_acc: 0.8794 - val_top2_acc: 0.9588 - val_top3_acc: 0.9816 - val_top5_acc: 0.9960\n",
      "Epoch 185/200\n",
      "500/500 [==============================] - 520s 1s/step - loss: 0.6973 - acc: 0.7537 - top2_acc: 0.8605 - top3_acc: 0.9098 - top5_acc: 0.9581 - val_loss: 0.4357 - val_acc: 0.8788 - val_top2_acc: 0.9582 - val_top3_acc: 0.9792 - val_top5_acc: 0.9960\n",
      "Epoch 186/200\n",
      " 94/500 [====>.........................] - ETA: 6:14 - loss: 0.6941 - acc: 0.7537 - top2_acc: 0.8622 - top3_acc: 0.9109 - top5_acc: 0.9594"
     ]
    },
    {
     "name": "stderr",
     "output_type": "stream",
     "text": [
      "IOPub message rate exceeded.\n",
      "The notebook server will temporarily stop sending output\n",
      "to the client in order to avoid crashing it.\n",
      "To change this limit, set the config variable\n",
      "`--NotebookApp.iopub_msg_rate_limit`.\n",
      "\n",
      "Current values:\n",
      "NotebookApp.iopub_msg_rate_limit=1000.0 (msgs/sec)\n",
      "NotebookApp.rate_limit_window=3.0 (secs)\n",
      "\n"
     ]
    }
   ],
   "source": [
    "Mymodel.fit(train_ds.repeat(),epochs=200,steps_per_epoch=steps_per_epoch,callbacks=callbacks,validation_data=valid_ds)"
   ]
  },
  {
   "cell_type": "code",
   "execution_count": 73,
   "metadata": {},
   "outputs": [
    {
     "name": "stdout",
     "output_type": "stream",
     "text": [
      "20/20 [==============================] - 1s 24ms/step - loss: 0.4838 - acc: 0.8744 - top2_acc: 0.9526 - top3_acc: 0.9759 - top5_acc: 0.9939\n"
     ]
    },
    {
     "data": {
      "text/plain": [
       "[0.4838097095489502,\n",
       " 0.8744000196456909,\n",
       " 0.9526000022888184,\n",
       " 0.9758999943733215,\n",
       " 0.9939000010490417]"
      ]
     },
     "execution_count": 73,
     "metadata": {},
     "output_type": "execute_result"
    }
   ],
   "source": [
    "Mymodel.evaluate(test_ds)"
   ]
  },
  {
   "cell_type": "code",
   "execution_count": 19,
   "metadata": {},
   "outputs": [],
   "source": [
    "efficientv2_base=EfficientV2base(act,decode_cfgs(v2_base_block_modified2))\n",
    "'''\n",
    "Adding input and output (classfication) layer to get a trainable (usable) model\n",
    "'''\n",
    "inputx=keras.Input((None,None,3))\n",
    "x=efficientv2_base(inputx)\n",
    "x=keras.layers.Dense(10,activation='softmax')(x)\n",
    "Mymodel=keras.Model(inputs=inputx,outputs=x)"
   ]
  },
  {
   "cell_type": "code",
   "execution_count": null,
   "metadata": {
    "scrolled": true
   },
   "outputs": [
    {
     "name": "stdout",
     "output_type": "stream",
     "text": [
      "====================stage 1====================\n",
      "====================stage 2====================\n",
      "====================stage 3====================\n",
      "====================stage 4====================\n",
      "====================stage 5====================\n",
      "====================stage 6====================\n",
      "====================stage 7====================\n",
      "====================stage 8====================\n",
      "====================stage 9====================\n",
      "WARNING:tensorflow:5 out of the last 5 calls to <function WarmupLearningRateSchedule.__call__ at 0x7f6114574040> triggered tf.function retracing. Tracing is expensive and the excessive number of tracings could be due to (1) creating @tf.function repeatedly in a loop, (2) passing tensors with different shapes, (3) passing Python objects instead of tensors. For (1), please define your @tf.function outside of the loop. For (2), @tf.function has reduce_retracing=True option that can avoid unnecessary retracing. For (3), please refer to https://www.tensorflow.org/guide/function#controlling_retracing and https://www.tensorflow.org/api_docs/python/tf/function for  more details.\n",
      "Epoch 1/20\n",
      "1000/1000 [==============================] - 990s 946ms/step - loss: 0.4681 - acc: 0.8404 - top2_acc: 0.9124 - top3_acc: 0.9441 - top5_acc: 0.9752\n",
      "Epoch 2/20\n",
      "1000/1000 [==============================] - 950s 944ms/step - loss: 0.4714 - acc: 0.8389 - top2_acc: 0.9117 - top3_acc: 0.9434 - top5_acc: 0.9746\n",
      "Epoch 3/20\n",
      "1000/1000 [==============================] - 1002s 990ms/step - loss: 0.4691 - acc: 0.8401 - top2_acc: 0.9118 - top3_acc: 0.9439 - top5_acc: 0.9751\n",
      "Epoch 4/20\n",
      "1000/1000 [==============================] - 950s 950ms/step - loss: 0.4657 - acc: 0.8407 - top2_acc: 0.9134 - top3_acc: 0.9447 - top5_acc: 0.9753\n",
      "Epoch 5/20\n",
      "1000/1000 [==============================] - 949s 950ms/step - loss: 0.4641 - acc: 0.8408 - top2_acc: 0.9133 - top3_acc: 0.9450 - top5_acc: 0.9758\n",
      "Epoch 6/20\n",
      "1000/1000 [==============================] - 940s 941ms/step - loss: 0.4642 - acc: 0.8411 - top2_acc: 0.9139 - top3_acc: 0.9451 - top5_acc: 0.9756\n",
      "Epoch 7/20\n",
      "1000/1000 [==============================] - 993s 987ms/step - loss: 0.4633 - acc: 0.8419 - top2_acc: 0.9133 - top3_acc: 0.9451 - top5_acc: 0.9753\n",
      "Epoch 8/20\n",
      "1000/1000 [==============================] - 970s 950ms/step - loss: 0.4615 - acc: 0.8420 - top2_acc: 0.9142 - top3_acc: 0.9454 - top5_acc: 0.9758\n",
      "Epoch 9/20\n",
      "1000/1000 [==============================] - 969s 970ms/step - loss: 0.4632 - acc: 0.8415 - top2_acc: 0.9138 - top3_acc: 0.9452 - top5_acc: 0.9757\n",
      "Epoch 10/20\n",
      "1000/1000 [==============================] - 979s 980ms/step - loss: 0.4647 - acc: 0.8410 - top2_acc: 0.9133 - top3_acc: 0.9447 - top5_acc: 0.9754\n",
      "Epoch 11/20\n",
      "1000/1000 [==============================] - 993s 994ms/step - loss: 0.4630 - acc: 0.8414 - top2_acc: 0.9139 - top3_acc: 0.9454 - top5_acc: 0.9756\n",
      "Epoch 12/20\n",
      "1000/1000 [==============================] - 965s 958ms/step - loss: 0.4618 - acc: 0.8421 - top2_acc: 0.9142 - top3_acc: 0.9453 - top5_acc: 0.9755\n",
      "Epoch 13/20\n",
      "1000/1000 [==============================] - 1008s 1s/step - loss: 0.4606 - acc: 0.8424 - top2_acc: 0.9146 - top3_acc: 0.9455 - top5_acc: 0.9756\n",
      "Epoch 14/20\n",
      "1000/1000 [==============================] - 979s 980ms/step - loss: 0.4637 - acc: 0.8417 - top2_acc: 0.9133 - top3_acc: 0.9448 - top5_acc: 0.9754\n",
      "Epoch 15/20\n",
      "1000/1000 [==============================] - 985s 986ms/step - loss: 0.4605 - acc: 0.8421 - top2_acc: 0.9143 - top3_acc: 0.9455 - top5_acc: 0.9755\n",
      "Epoch 16/20\n",
      "1000/1000 [==============================] - 980s 980ms/step - loss: 0.4604 - acc: 0.8425 - top2_acc: 0.9144 - top3_acc: 0.9454 - top5_acc: 0.9758\n",
      "Epoch 17/20\n",
      "1000/1000 [==============================] - 896s 896ms/step - loss: 0.4626 - acc: 0.8413 - top2_acc: 0.9137 - top3_acc: 0.9456 - top5_acc: 0.9760\n",
      "Epoch 18/20\n",
      "1000/1000 [==============================] - 974s 968ms/step - loss: 0.4590 - acc: 0.8426 - top2_acc: 0.9147 - top3_acc: 0.9461 - top5_acc: 0.9759\n",
      "Epoch 19/20\n",
      "1000/1000 [==============================] - 995s 988ms/step - loss: 0.4599 - acc: 0.8420 - top2_acc: 0.9142 - top3_acc: 0.9453 - top5_acc: 0.9757\n",
      "Epoch 20/20\n",
      "1000/1000 [==============================] - 970s 969ms/step - loss: 0.4589 - acc: 0.8424 - top2_acc: 0.9142 - top3_acc: 0.9459 - top5_acc: 0.9755\n",
      "====================stage 10====================\n",
      "Epoch 1/20\n",
      "1000/1000 [==============================] - 980s 947ms/step - loss: 0.5288 - acc: 0.8182 - top2_acc: 0.8961 - top3_acc: 0.9315 - top5_acc: 0.9675\n",
      "Epoch 2/20\n",
      "1000/1000 [==============================] - 1007s 1s/step - loss: 0.5280 - acc: 0.8185 - top2_acc: 0.8961 - top3_acc: 0.9318 - top5_acc: 0.9674\n",
      "Epoch 3/20\n",
      "  99/1000 [=>............................] - ETA: 15:44 - loss: 0.5254 - acc: 0.8180 - top2_acc: 0.8973 - top3_acc: 0.9318 - top5_acc: 0.9680"
     ]
    },
    {
     "name": "stderr",
     "output_type": "stream",
     "text": [
      "IOPub message rate exceeded.\n",
      "The notebook server will temporarily stop sending output\n",
      "to the client in order to avoid crashing it.\n",
      "To change this limit, set the config variable\n",
      "`--NotebookApp.iopub_msg_rate_limit`.\n",
      "\n",
      "Current values:\n",
      "NotebookApp.iopub_msg_rate_limit=1000.0 (msgs/sec)\n",
      "NotebookApp.rate_limit_window=3.0 (secs)\n",
      "\n"
     ]
    },
    {
     "name": "stdout",
     "output_type": "stream",
     "text": [
      " 480/1000 [=============>................] - ETA: 8:32 - loss: 0.5206 - acc: 0.8215 - top2_acc: 0.8981 - top3_acc: 0.9330 - top5_acc: 0.9682"
     ]
    }
   ],
   "source": [
    "lr=1e-3\n",
    "for stage in range(1,11):\n",
    "    print(\"=\"*20+f'stage {stage}'+'='*20)\n",
    "    if not checkstage(os.path.join(model_path,'ground_progressive'),stage):\n",
    "        if stage>5:\n",
    "            batch_size=512\n",
    "            steps_per_epoch=1000\n",
    "        else:\n",
    "            batch_size=1024\n",
    "            steps_per_epoch=500\n",
    "        fit_stage(stage,lr_base=lr,batch_size=batch_size,epochs=20,steps_per_epoch=steps_per_epoch,\n",
    "                  model_path=os.path.join(model_path,'ground_progressive'),\n",
    "                  use_paper_rand_augment=True, imagesize=32+4*(stage-1))\n",
    "        Mymodel.save_weights(os.path.join(model_path,'ground_progressive',f's{stage}-final.hdf5'))\n",
    "    lr/=2"
   ]
  },
  {
   "cell_type": "code",
   "execution_count": null,
   "metadata": {},
   "outputs": [],
   "source": [
    "Mymodel.evaluate(valid_ds)"
   ]
  },
  {
   "cell_type": "code",
   "execution_count": null,
   "metadata": {},
   "outputs": [],
   "source": []
  },
  {
   "cell_type": "code",
   "execution_count": null,
   "metadata": {},
   "outputs": [],
   "source": [
    "efficientv2_base=EfficientV2base(act,decode_cfgs(v2_base_block_modified))\n",
    "'''\n",
    "Adding input and output (classfication) layer to get a trainable (usable) model\n",
    "'''\n",
    "inputx=keras.Input((None,None,3))\n",
    "x=efficientv2_base(inputx)\n",
    "x=keras.layers.Dense(10,activation='softmax')(x)\n",
    "Mymodel=keras.Model(inputs=inputx,outputs=x)"
   ]
  },
  {
   "cell_type": "code",
   "execution_count": null,
   "metadata": {},
   "outputs": [],
   "source": [
    "lr=1e-3\n",
    "for stage in range(1,11):\n",
    "    print(\"=\"*20+f'stage {stage}'+'='*20)\n",
    "    if not checkstage(os.path.join(model_path,'progressive_convex'),stage):\n",
    "        fit_stage(stage,lr_base=lr,epochs=20,model_path=os.path.join(model_path,'progressive_convex'),\n",
    "                  use_paper_rand_augment=True,imagesize=32+4*(stage-1),progressive_fn=lambda s: 1+((s-1)/9)**2*9)\n",
    "        Mymodel.save_weights(os.path.join(model_path,'progressive_convex',f's{stage}-final.hdf5'))\n",
    "    lr/=2"
   ]
  },
  {
   "cell_type": "code",
   "execution_count": 32,
   "metadata": {},
   "outputs": [
    {
     "name": "stdout",
     "output_type": "stream",
     "text": [
      "5/5 [==============================] - 1s 122ms/step - loss: 0.2522 - acc: 0.9172 - top2_acc: 0.9708 - top3_acc: 0.9860 - top5_acc: 0.9972\n"
     ]
    },
    {
     "data": {
      "text/plain": [
       "[0.2522165775299072,\n",
       " 0.9172000288963318,\n",
       " 0.97079998254776,\n",
       " 0.9860000014305115,\n",
       " 0.9972000122070312]"
      ]
     },
     "execution_count": 32,
     "metadata": {},
     "output_type": "execute_result"
    }
   ],
   "source": [
    "Mymodel.evaluate(valid_ds)"
   ]
  },
  {
   "cell_type": "code",
   "execution_count": 9,
   "metadata": {},
   "outputs": [
    {
     "name": "stderr",
     "output_type": "stream",
     "text": [
      "2023-04-01 14:01:28.725727: I tensorflow/core/platform/cpu_feature_guard.cc:193] This TensorFlow binary is optimized with oneAPI Deep Neural Network Library (oneDNN) to use the following CPU instructions in performance-critical operations:  SSE4.1 SSE4.2 AVX AVX2 AVX512F AVX512_VNNI FMA\n",
      "To enable them in other operations, rebuild TensorFlow with the appropriate compiler flags.\n",
      "2023-04-01 14:01:29.340867: I tensorflow/core/common_runtime/gpu/gpu_device.cc:1613] Created device /job:localhost/replica:0/task:0/device:GPU:0 with 22282 MB memory:  -> device: 1, name: NVIDIA GeForce RTX 3090, pci bus id: 0000:51:00.0, compute capability: 8.6\n"
     ]
    }
   ],
   "source": [
    "efficientv2_base=EfficientV2base(act,decode_cfgs(v2_base_block_modified))\n",
    "'''\n",
    "Adding input and output (classfication) layer to get a trainable (usable) model\n",
    "'''\n",
    "inputx=keras.Input((None,None,3))\n",
    "x=efficientv2_base(inputx)\n",
    "x=keras.layers.Dense(10,activation='softmax')(x)\n",
    "Mymodel=keras.Model(inputs=inputx,outputs=x)"
   ]
  },
  {
   "cell_type": "code",
   "execution_count": null,
   "metadata": {},
   "outputs": [
    {
     "name": "stdout",
     "output_type": "stream",
     "text": [
      "====================stage 1====================\n",
      "Epoch 1/20\n",
      "500/500 [==============================] - 527s 990ms/step - loss: 1.8239 - acc: 0.3358 - top2_acc: 0.5182 - top3_acc: 0.6396 - top5_acc: 0.8027\n",
      "Epoch 2/20\n",
      "500/500 [==============================] - 557s 1s/step - loss: 0.8942 - acc: 0.6905 - top2_acc: 0.8375 - top3_acc: 0.9035 - top5_acc: 0.9645\n",
      "Epoch 4/20\n",
      "500/500 [==============================] - 516s 1s/step - loss: 0.7125 - acc: 0.7555 - top2_acc: 0.8805 - top3_acc: 0.9318 - top5_acc: 0.9762\n",
      "Epoch 5/20\n",
      "500/500 [==============================] - 516s 1s/step - loss: 0.5989 - acc: 0.7950 - top2_acc: 0.9052 - top3_acc: 0.9478 - top5_acc: 0.9822\n",
      "Epoch 6/20\n",
      "500/500 [==============================] - 514s 1s/step - loss: 0.5114 - acc: 0.8263 - top2_acc: 0.9222 - top3_acc: 0.9580 - top5_acc: 0.9859\n",
      "Epoch 7/20\n",
      "500/500 [==============================] - 529s 1s/step - loss: 0.4334 - acc: 0.8532 - top2_acc: 0.9371 - top3_acc: 0.9662 - top5_acc: 0.9890\n",
      "Epoch 8/20\n",
      "500/500 [==============================] - 532s 1s/step - loss: 0.3774 - acc: 0.8723 - top2_acc: 0.9464 - top3_acc: 0.9717 - top5_acc: 0.9905\n",
      "Epoch 9/20\n",
      " 65/500 [==>...........................] - ETA: 8:25 - loss: 0.3499 - acc: 0.8827 - top2_acc: 0.9510 - top3_acc: 0.9740 - top5_acc: 0.9915"
     ]
    },
    {
     "name": "stderr",
     "output_type": "stream",
     "text": [
      "IOPub message rate exceeded.\n",
      "The notebook server will temporarily stop sending output\n",
      "to the client in order to avoid crashing it.\n",
      "To change this limit, set the config variable\n",
      "`--NotebookApp.iopub_msg_rate_limit`.\n",
      "\n",
      "Current values:\n",
      "NotebookApp.iopub_msg_rate_limit=1000.0 (msgs/sec)\n",
      "NotebookApp.rate_limit_window=3.0 (secs)\n",
      "\n"
     ]
    },
    {
     "name": "stdout",
     "output_type": "stream",
     "text": [
      "500/500 [==============================] - 666s 1s/step - loss: 0.2611 - acc: 0.9116 - top2_acc: 0.9613 - top3_acc: 0.9784 - top5_acc: 0.9919\n",
      "Epoch 20/20\n",
      "500/500 [==============================] - 656s 1s/step - loss: 0.2556 - acc: 0.9134 - top2_acc: 0.9622 - top3_acc: 0.9789 - top5_acc: 0.9924\n",
      "====================stage 3====================\n",
      "Epoch 1/20\n",
      "500/500 [==============================] - 643s 1s/step - loss: 0.3107 - acc: 0.8952 - top2_acc: 0.9526 - top3_acc: 0.9736 - top5_acc: 0.9908\n",
      "Epoch 2/20\n",
      "500/500 [==============================] - 700s 1s/step - loss: 0.2853 - acc: 0.9040 - top2_acc: 0.9570 - top3_acc: 0.9759 - top5_acc: 0.9914\n",
      "Epoch 3/20\n",
      "500/500 [==============================] - 677s 1s/step - loss: 0.2796 - acc: 0.9051 - top2_acc: 0.9581 - top3_acc: 0.9770 - top5_acc: 0.9919\n",
      "Epoch 4/20\n",
      "500/500 [==============================] - 685s 1s/step - loss: 0.2772 - acc: 0.9058 - top2_acc: 0.9585 - top3_acc: 0.9770 - top5_acc: 0.9921\n",
      "Epoch 5/20\n",
      "341/500 [===================>..........] - ETA: 3:34 - loss: 0.2773 - acc: 0.9062 - top2_acc: 0.9586 - top3_acc: 0.9773 - top5_acc: 0.9922"
     ]
    },
    {
     "name": "stderr",
     "output_type": "stream",
     "text": [
      "IOPub message rate exceeded.\n",
      "The notebook server will temporarily stop sending output\n",
      "to the client in order to avoid crashing it.\n",
      "To change this limit, set the config variable\n",
      "`--NotebookApp.iopub_msg_rate_limit`.\n",
      "\n",
      "Current values:\n",
      "NotebookApp.iopub_msg_rate_limit=1000.0 (msgs/sec)\n",
      "NotebookApp.rate_limit_window=3.0 (secs)\n",
      "\n"
     ]
    },
    {
     "name": "stdout",
     "output_type": "stream",
     "text": [
      "500/500 [==============================] - 771s 1s/step - loss: 0.2885 - acc: 0.9015 - top2_acc: 0.9545 - top3_acc: 0.9740 - top5_acc: 0.9904\n",
      "Epoch 3/20\n",
      "500/500 [==============================] - 706s 1s/step - loss: 0.2829 - acc: 0.9033 - top2_acc: 0.9558 - top3_acc: 0.9751 - top5_acc: 0.9908\n",
      "Epoch 5/20\n",
      "500/500 [==============================] - 660s 1s/step - loss: 0.2841 - acc: 0.9033 - top2_acc: 0.9556 - top3_acc: 0.9750 - top5_acc: 0.9909\n",
      "Epoch 6/20\n",
      "500/500 [==============================] - 675s 1s/step - loss: 0.2833 - acc: 0.9034 - top2_acc: 0.9556 - top3_acc: 0.9749 - top5_acc: 0.9908\n",
      "Epoch 7/20\n",
      "500/500 [==============================] - 707s 1s/step - loss: 0.2819 - acc: 0.9039 - top2_acc: 0.9560 - top3_acc: 0.9751 - top5_acc: 0.9909\n",
      "Epoch 8/20\n",
      "500/500 [==============================] - 662s 1s/step - loss: 0.2786 - acc: 0.9048 - top2_acc: 0.9570 - top3_acc: 0.9756 - top5_acc: 0.9912\n",
      "Epoch 9/20\n",
      "500/500 [==============================] - 676s 1s/step - loss: 0.2748 - acc: 0.9060 - top2_acc: 0.9572 - top3_acc: 0.9759 - top5_acc: 0.9912\n",
      "Epoch 10/20\n"
     ]
    },
    {
     "name": "stderr",
     "output_type": "stream",
     "text": [
      "IOPub message rate exceeded.\n",
      "The notebook server will temporarily stop sending output\n",
      "to the client in order to avoid crashing it.\n",
      "To change this limit, set the config variable\n",
      "`--NotebookApp.iopub_msg_rate_limit`.\n",
      "\n",
      "Current values:\n",
      "NotebookApp.iopub_msg_rate_limit=1000.0 (msgs/sec)\n",
      "NotebookApp.rate_limit_window=3.0 (secs)\n",
      "\n"
     ]
    },
    {
     "name": "stdout",
     "output_type": "stream",
     "text": [
      "500/500 [==============================] - 704s 1s/step - loss: 0.2934 - acc: 0.8994 - top2_acc: 0.9529 - top3_acc: 0.9725 - top5_acc: 0.9894\n",
      "Epoch 16/20\n",
      "500/500 [==============================] - 657s 1s/step - loss: 0.2913 - acc: 0.9004 - top2_acc: 0.9529 - top3_acc: 0.9727 - top5_acc: 0.9892\n",
      "Epoch 17/20\n",
      "500/500 [==============================] - 671s 1s/step - loss: 0.2893 - acc: 0.9006 - top2_acc: 0.9534 - top3_acc: 0.9733 - top5_acc: 0.9897\n",
      "Epoch 18/20\n",
      "500/500 [==============================] - 694s 1s/step - loss: 0.2898 - acc: 0.9005 - top2_acc: 0.9536 - top3_acc: 0.9732 - top5_acc: 0.9897\n",
      "Epoch 19/20\n",
      "500/500 [==============================] - 669s 1s/step - loss: 0.2887 - acc: 0.9009 - top2_acc: 0.9533 - top3_acc: 0.9731 - top5_acc: 0.9895\n",
      "Epoch 20/20\n",
      "500/500 [==============================] - 675s 1s/step - loss: 0.2886 - acc: 0.9009 - top2_acc: 0.9538 - top3_acc: 0.9732 - top5_acc: 0.9896\n",
      "====================stage 6====================\n",
      "Epoch 1/20\n",
      "352/500 [====================>.........] - ETA: 3:19 - loss: 0.3179 - acc: 0.8912 - top2_acc: 0.9467 - top3_acc: 0.9684 - top5_acc: 0.9873"
     ]
    },
    {
     "name": "stderr",
     "output_type": "stream",
     "text": [
      "IOPub message rate exceeded.\n",
      "The notebook server will temporarily stop sending output\n",
      "to the client in order to avoid crashing it.\n",
      "To change this limit, set the config variable\n",
      "`--NotebookApp.iopub_msg_rate_limit`.\n",
      "\n",
      "Current values:\n",
      "NotebookApp.iopub_msg_rate_limit=1000.0 (msgs/sec)\n",
      "NotebookApp.rate_limit_window=3.0 (secs)\n",
      "\n"
     ]
    },
    {
     "name": "stdout",
     "output_type": "stream",
     "text": [
      "500/500 [==============================] - 676s 1s/step - loss: 0.3101 - acc: 0.8939 - top2_acc: 0.9484 - top3_acc: 0.9696 - top5_acc: 0.9877\n",
      "Epoch 7/20\n",
      "500/500 [==============================] - 694s 1s/step - loss: 0.3095 - acc: 0.8938 - top2_acc: 0.9485 - top3_acc: 0.9695 - top5_acc: 0.9878\n",
      "Epoch 8/20\n",
      "500/500 [==============================] - 666s 1s/step - loss: 0.3076 - acc: 0.8946 - top2_acc: 0.9491 - top3_acc: 0.9701 - top5_acc: 0.9881\n",
      "Epoch 9/20\n",
      "500/500 [==============================] - 694s 1s/step - loss: 0.3066 - acc: 0.8941 - top2_acc: 0.9487 - top3_acc: 0.9701 - top5_acc: 0.9880\n",
      "Epoch 10/20\n",
      "500/500 [==============================] - 677s 1s/step - loss: 0.3052 - acc: 0.8951 - top2_acc: 0.9494 - top3_acc: 0.9703 - top5_acc: 0.9882\n",
      "Epoch 11/20\n",
      "500/500 [==============================] - 688s 1s/step - loss: 0.3060 - acc: 0.8949 - top2_acc: 0.9494 - top3_acc: 0.9702 - top5_acc: 0.9882\n",
      "Epoch 12/20\n",
      "500/500 [==============================] - 676s 1s/step - loss: 0.3065 - acc: 0.8948 - top2_acc: 0.9489 - top3_acc: 0.9698 - top5_acc: 0.9882\n",
      "Epoch 13/20\n",
      "500/500 [==============================] - 677s 1s/step - loss: 0.3026 - acc: 0.8960 - top2_acc: 0.9500 - top3_acc: 0.9704 - top5_acc: 0.9883\n",
      "Epoch 14/20\n",
      "376/500 [=====================>........] - ETA: 2:49 - loss: 0.3035 - acc: 0.8957 - top2_acc: 0.9495 - top3_acc: 0.9704 - top5_acc: 0.9881"
     ]
    },
    {
     "name": "stderr",
     "output_type": "stream",
     "text": [
      "IOPub message rate exceeded.\n",
      "The notebook server will temporarily stop sending output\n",
      "to the client in order to avoid crashing it.\n",
      "To change this limit, set the config variable\n",
      "`--NotebookApp.iopub_msg_rate_limit`.\n",
      "\n",
      "Current values:\n",
      "NotebookApp.iopub_msg_rate_limit=1000.0 (msgs/sec)\n",
      "NotebookApp.rate_limit_window=3.0 (secs)\n",
      "\n"
     ]
    },
    {
     "name": "stdout",
     "output_type": "stream",
     "text": [
      "300/500 [=================>............] - ETA: 4:37 - loss: 0.3335 - acc: 0.8849 - top2_acc: 0.9432 - top3_acc: 0.9656 - top5_acc: 0.9856"
     ]
    }
   ],
   "source": [
    "lr=1e-3\n",
    "for stage in range(1,11):\n",
    "    print(\"=\"*20+f'stage {stage}'+'='*20)\n",
    "    if not checkstage(os.path.join(model_path,'progressive_concave'),stage):\n",
    "        fit_stage(stage,lr_base=lr,epochs=20,model_path=os.path.join(model_path,'progressive_concave'),\n",
    "                  use_paper_rand_augment=True,imagesize=32+4*(stage-1),progressive_fn=lambda s: 1+np.sqrt((s-1)/9)*9)\n",
    "        Mymodel.save_weights(os.path.join(model_path,'progressive_concave',f's{stage}-final.hdf5'))\n",
    "    lr/=2"
   ]
  },
  {
   "cell_type": "code",
   "execution_count": 35,
   "metadata": {},
   "outputs": [
    {
     "name": "stdout",
     "output_type": "stream",
     "text": [
      "5/5 [==============================] - 1s 69ms/step - loss: 0.2346 - acc: 0.9332 - top2_acc: 0.9780 - top3_acc: 0.9908 - top5_acc: 0.9980\n"
     ]
    },
    {
     "data": {
      "text/plain": [
       "[0.23460820317268372,\n",
       " 0.9332000017166138,\n",
       " 0.9779999852180481,\n",
       " 0.9908000230789185,\n",
       " 0.9980000257492065]"
      ]
     },
     "execution_count": 35,
     "metadata": {},
     "output_type": "execute_result"
    }
   ],
   "source": [
    "Mymodel.evaluate(valid_ds)"
   ]
  },
  {
   "cell_type": "code",
   "execution_count": 218,
   "metadata": {},
   "outputs": [],
   "source": [
    "modified_efficientv2_base=Modified_EfficientV2base(act,decode_cfgs(v2_base_block_modified3),head_filters=1280)\n",
    "inputx=keras.Input((None,None,3))\n",
    "x=modified_efficientv2_base(inputx)\n",
    "x=keras.layers.Dense(10,activation='softmax')(x)\n",
    "Mymodel=keras.Model(inputs=inputx,outputs=x)"
   ]
  },
  {
   "cell_type": "code",
   "execution_count": null,
   "metadata": {
    "scrolled": true
   },
   "outputs": [
    {
     "name": "stdout",
     "output_type": "stream",
     "text": [
      "====================stage 1====================\n",
      "Epoch 1/20\n",
      "500/500 [==============================] - 844s 2s/step - loss: 2.0135 - acc: 0.2643 - top2_acc: 0.4368 - top3_acc: 0.5614 - top5_acc: 0.7390 - val_loss: 1.3999 - val_acc: 0.5004 - val_top2_acc: 0.7016 - val_top3_acc: 0.8108 - val_top5_acc: 0.9196\n",
      "Epoch 2/20\n",
      "500/500 [==============================] - 820s 2s/step - loss: 1.2779 - acc: 0.5520 - top2_acc: 0.7339 - top3_acc: 0.8296 - top5_acc: 0.9295 - val_loss: 0.9771 - val_acc: 0.6556 - val_top2_acc: 0.8284 - val_top3_acc: 0.9002 - val_top5_acc: 0.9678\n",
      "Epoch 4/20\n",
      "500/500 [==============================] - 820s 2s/step - loss: 1.0879 - acc: 0.6221 - top2_acc: 0.7887 - top3_acc: 0.8703 - top5_acc: 0.9494 - val_loss: 0.8932 - val_acc: 0.6918 - val_top2_acc: 0.8442 - val_top3_acc: 0.9116 - val_top5_acc: 0.9718\n",
      "Epoch 5/20\n",
      "500/500 [==============================] - 811s 2s/step - loss: 0.9669 - acc: 0.6652 - top2_acc: 0.8213 - top3_acc: 0.8932 - top5_acc: 0.9591 - val_loss: 0.7880 - val_acc: 0.7374 - val_top2_acc: 0.8680 - val_top3_acc: 0.9232 - val_top5_acc: 0.9726\n",
      "Epoch 6/20\n",
      "500/500 [==============================] - 811s 2s/step - loss: 0.8614 - acc: 0.7042 - top2_acc: 0.8465 - top3_acc: 0.9095 - top5_acc: 0.9665 - val_loss: 0.7819 - val_acc: 0.7440 - val_top2_acc: 0.8746 - val_top3_acc: 0.9264 - val_top5_acc: 0.9742\n",
      "Epoch 7/20\n",
      "500/500 [==============================] - 815s 2s/step - loss: 0.7584 - acc: 0.7408 - top2_acc: 0.8708 - top3_acc: 0.9247 - top5_acc: 0.9726 - val_loss: 0.7681 - val_acc: 0.7512 - val_top2_acc: 0.8830 - val_top3_acc: 0.9388 - val_top5_acc: 0.9780\n",
      "Epoch 8/20\n",
      "491/500 [============================>.] - ETA: 14s - loss: 0.6800 - acc: 0.7688 - top2_acc: 0.8879 - top3_acc: 0.9360 - top5_acc: 0.9772"
     ]
    },
    {
     "name": "stderr",
     "output_type": "stream",
     "text": [
      "IOPub message rate exceeded.\n",
      "The notebook server will temporarily stop sending output\n",
      "to the client in order to avoid crashing it.\n",
      "To change this limit, set the config variable\n",
      "`--NotebookApp.iopub_msg_rate_limit`.\n",
      "\n",
      "Current values:\n",
      "NotebookApp.iopub_msg_rate_limit=1000.0 (msgs/sec)\n",
      "NotebookApp.rate_limit_window=3.0 (secs)\n",
      "\n"
     ]
    },
    {
     "name": "stdout",
     "output_type": "stream",
     "text": [
      "500/500 [==============================] - 797s 2s/step - loss: 0.5174 - acc: 0.8237 - top2_acc: 0.9148 - top3_acc: 0.9512 - top5_acc: 0.9819 - val_loss: 0.4482 - val_acc: 0.8596 - val_top2_acc: 0.9406 - val_top3_acc: 0.9710 - val_top5_acc: 0.9920\n",
      "Epoch 19/20\n",
      "500/500 [==============================] - 722s 1s/step - loss: 0.5141 - acc: 0.8247 - top2_acc: 0.9159 - top3_acc: 0.9516 - top5_acc: 0.9820 - val_loss: 0.4376 - val_acc: 0.8616 - val_top2_acc: 0.9472 - val_top3_acc: 0.9734 - val_top5_acc: 0.9916\n",
      "Epoch 20/20\n",
      "500/500 [==============================] - 748s 1s/step - loss: 0.5042 - acc: 0.8283 - top2_acc: 0.9181 - top3_acc: 0.9528 - top5_acc: 0.9825 - val_loss: 0.4390 - val_acc: 0.8620 - val_top2_acc: 0.9450 - val_top3_acc: 0.9754 - val_top5_acc: 0.9952\n",
      "====================stage 3====================\n",
      "Epoch 1/20\n",
      "500/500 [==============================] - 796s 2s/step - loss: 0.5576 - acc: 0.8112 - top2_acc: 0.9042 - top3_acc: 0.9431 - top5_acc: 0.9781 - val_loss: 0.3917 - val_acc: 0.8738 - val_top2_acc: 0.9510 - val_top3_acc: 0.9766 - val_top5_acc: 0.9948\n",
      "Epoch 2/20\n",
      "500/500 [==============================] - 797s 2s/step - loss: 0.5159 - acc: 0.8248 - top2_acc: 0.9127 - top3_acc: 0.9487 - top5_acc: 0.9807 - val_loss: 0.3990 - val_acc: 0.8780 - val_top2_acc: 0.9486 - val_top3_acc: 0.9752 - val_top5_acc: 0.9954\n",
      "Epoch 3/20\n",
      "500/500 [==============================] - 812s 2s/step - loss: 0.5044 - acc: 0.8290 - top2_acc: 0.9149 - top3_acc: 0.9502 - top5_acc: 0.9813 - val_loss: 0.3980 - val_acc: 0.8764 - val_top2_acc: 0.9520 - val_top3_acc: 0.9782 - val_top5_acc: 0.9930\n",
      "Epoch 4/20\n",
      "226/500 [============>.................] - ETA: 6:39 - loss: 0.5031 - acc: 0.8288 - top2_acc: 0.9159 - top3_acc: 0.9511 - top5_acc: 0.9818"
     ]
    },
    {
     "name": "stderr",
     "output_type": "stream",
     "text": [
      "IOPub message rate exceeded.\n",
      "The notebook server will temporarily stop sending output\n",
      "to the client in order to avoid crashing it.\n",
      "To change this limit, set the config variable\n",
      "`--NotebookApp.iopub_msg_rate_limit`.\n",
      "\n",
      "Current values:\n",
      "NotebookApp.iopub_msg_rate_limit=1000.0 (msgs/sec)\n",
      "NotebookApp.rate_limit_window=3.0 (secs)\n",
      "\n"
     ]
    },
    {
     "name": "stdout",
     "output_type": "stream",
     "text": [
      "500/500 [==============================] - 761s 2s/step - loss: 0.5126 - acc: 0.8251 - top2_acc: 0.9144 - top3_acc: 0.9504 - top5_acc: 0.9816 - val_loss: 0.4309 - val_acc: 0.8672 - val_top2_acc: 0.9490 - val_top3_acc: 0.9756 - val_top5_acc: 0.9942\n",
      "Epoch 8/20\n",
      "500/500 [==============================] - 774s 2s/step - loss: 0.5051 - acc: 0.8278 - top2_acc: 0.9161 - top3_acc: 0.9513 - top5_acc: 0.9823 - val_loss: 0.4353 - val_acc: 0.8672 - val_top2_acc: 0.9518 - val_top3_acc: 0.9752 - val_top5_acc: 0.9940\n",
      "Epoch 9/20\n",
      "500/500 [==============================] - 799s 2s/step - loss: 0.4992 - acc: 0.8302 - top2_acc: 0.9173 - top3_acc: 0.9522 - top5_acc: 0.9822 - val_loss: 0.3963 - val_acc: 0.8778 - val_top2_acc: 0.9538 - val_top3_acc: 0.9746 - val_top5_acc: 0.9940\n",
      "Epoch 10/20\n",
      "500/500 [==============================] - 767s 2s/step - loss: 0.4928 - acc: 0.8320 - top2_acc: 0.9184 - top3_acc: 0.9533 - top5_acc: 0.9829 - val_loss: 0.4291 - val_acc: 0.8672 - val_top2_acc: 0.9444 - val_top3_acc: 0.9732 - val_top5_acc: 0.9928\n",
      "Epoch 11/20\n",
      "500/500 [==============================] - 790s 2s/step - loss: 0.4900 - acc: 0.8330 - top2_acc: 0.9189 - top3_acc: 0.9535 - top5_acc: 0.9830 - val_loss: 0.4033 - val_acc: 0.8724 - val_top2_acc: 0.9528 - val_top3_acc: 0.9770 - val_top5_acc: 0.9946\n",
      "Epoch 12/20\n",
      "500/500 [==============================] - 792s 2s/step - loss: 0.4857 - acc: 0.8341 - top2_acc: 0.9202 - top3_acc: 0.9539 - top5_acc: 0.9831 - val_loss: 0.4062 - val_acc: 0.8770 - val_top2_acc: 0.9504 - val_top3_acc: 0.9740 - val_top5_acc: 0.9938\n",
      "Epoch 13/20\n",
      "500/500 [==============================] - 790s 2s/step - loss: 0.4801 - acc: 0.8364 - top2_acc: 0.9213 - top3_acc: 0.9548 - top5_acc: 0.9831 - val_loss: 0.4081 - val_acc: 0.8778 - val_top2_acc: 0.9528 - val_top3_acc: 0.9760 - val_top5_acc: 0.9950\n",
      "Epoch 14/20\n",
      "500/500 [==============================] - 776s 2s/step - loss: 0.4753 - acc: 0.8379 - top2_acc: 0.9219 - top3_acc: 0.9559 - top5_acc: 0.9839 - val_loss: 0.3977 - val_acc: 0.8794 - val_top2_acc: 0.9514 - val_top3_acc: 0.9788 - val_top5_acc: 0.9948\n",
      "Epoch 15/20\n",
      "500/500 [==============================] - 800s 2s/step - loss: 0.4705 - acc: 0.8398 - top2_acc: 0.9234 - top3_acc: 0.9564 - top5_acc: 0.9842 - val_loss: 0.4017 - val_acc: 0.8792 - val_top2_acc: 0.9540 - val_top3_acc: 0.9782 - val_top5_acc: 0.9948\n",
      "Epoch 16/20\n",
      "500/500 [==============================] - 769s 2s/step - loss: 0.4657 - acc: 0.8410 - top2_acc: 0.9240 - top3_acc: 0.9568 - top5_acc: 0.9843 - val_loss: 0.3949 - val_acc: 0.8774 - val_top2_acc: 0.9522 - val_top3_acc: 0.9770 - val_top5_acc: 0.9952\n",
      "Epoch 17/20\n",
      "366/500 [====================>.........] - ETA: 3:34 - loss: 0.4654 - acc: 0.8413 - top2_acc: 0.9244 - top3_acc: 0.9568 - top5_acc: 0.9843"
     ]
    },
    {
     "name": "stderr",
     "output_type": "stream",
     "text": [
      "IOPub message rate exceeded.\n",
      "The notebook server will temporarily stop sending output\n",
      "to the client in order to avoid crashing it.\n",
      "To change this limit, set the config variable\n",
      "`--NotebookApp.iopub_msg_rate_limit`.\n",
      "\n",
      "Current values:\n",
      "NotebookApp.iopub_msg_rate_limit=1000.0 (msgs/sec)\n",
      "NotebookApp.rate_limit_window=3.0 (secs)\n",
      "\n"
     ]
    },
    {
     "name": "stdout",
     "output_type": "stream",
     "text": [
      "500/500 [==============================] - 792s 2s/step - loss: 0.4572 - acc: 0.8438 - top2_acc: 0.9261 - top3_acc: 0.9578 - top5_acc: 0.9846 - val_loss: 0.3993 - val_acc: 0.8794 - val_top2_acc: 0.9514 - val_top3_acc: 0.9786 - val_top5_acc: 0.9950\n",
      "Epoch 19/20\n",
      "500/500 [==============================] - 799s 2s/step - loss: 0.4558 - acc: 0.8450 - top2_acc: 0.9264 - top3_acc: 0.9579 - top5_acc: 0.9848 - val_loss: 0.4038 - val_acc: 0.8788 - val_top2_acc: 0.9500 - val_top3_acc: 0.9730 - val_top5_acc: 0.9938\n",
      "Epoch 20/20\n",
      "500/500 [==============================] - 780s 2s/step - loss: 0.4511 - acc: 0.8462 - top2_acc: 0.9268 - top3_acc: 0.9584 - top5_acc: 0.9850 - val_loss: 0.4109 - val_acc: 0.8786 - val_top2_acc: 0.9496 - val_top3_acc: 0.9726 - val_top5_acc: 0.9932\n",
      "====================stage 4====================\n",
      "Epoch 1/20\n",
      "500/500 [==============================] - 773s 1s/step - loss: 0.5148 - acc: 0.8238 - top2_acc: 0.9108 - top3_acc: 0.9469 - top5_acc: 0.9792 - val_loss: 0.3801 - val_acc: 0.8850 - val_top2_acc: 0.9530 - val_top3_acc: 0.9762 - val_top5_acc: 0.9950\n",
      "Epoch 2/20\n",
      "500/500 [==============================] - 754s 1s/step - loss: 0.4939 - acc: 0.8316 - top2_acc: 0.9149 - top3_acc: 0.9493 - top5_acc: 0.9803 - val_loss: 0.3742 - val_acc: 0.8876 - val_top2_acc: 0.9504 - val_top3_acc: 0.9764 - val_top5_acc: 0.9960\n",
      "Epoch 3/20\n",
      "500/500 [==============================] - 812s 2s/step - loss: 0.4873 - acc: 0.8335 - top2_acc: 0.9160 - top3_acc: 0.9501 - top5_acc: 0.9808 - val_loss: 0.3784 - val_acc: 0.8860 - val_top2_acc: 0.9512 - val_top3_acc: 0.9760 - val_top5_acc: 0.9942\n",
      "Epoch 4/20\n",
      "500/500 [==============================] - 779s 2s/step - loss: 0.4912 - acc: 0.8320 - top2_acc: 0.9154 - top3_acc: 0.9497 - top5_acc: 0.9803 - val_loss: 0.3908 - val_acc: 0.8860 - val_top2_acc: 0.9524 - val_top3_acc: 0.9758 - val_top5_acc: 0.9948\n",
      "Epoch 5/20\n",
      "500/500 [==============================] - 757s 2s/step - loss: 0.4926 - acc: 0.8315 - top2_acc: 0.9154 - top3_acc: 0.9501 - top5_acc: 0.9808 - val_loss: 0.3886 - val_acc: 0.8848 - val_top2_acc: 0.9544 - val_top3_acc: 0.9776 - val_top5_acc: 0.9948\n",
      "Epoch 6/20\n",
      "500/500 [==============================] - 801s 2s/step - loss: 0.4962 - acc: 0.8302 - top2_acc: 0.9149 - top3_acc: 0.9502 - top5_acc: 0.9809 - val_loss: 0.3995 - val_acc: 0.8836 - val_top2_acc: 0.9492 - val_top3_acc: 0.9770 - val_top5_acc: 0.9944\n",
      "Epoch 7/20\n",
      "500/500 [==============================] - 804s 2s/step - loss: 0.4926 - acc: 0.8310 - top2_acc: 0.9155 - top3_acc: 0.9503 - top5_acc: 0.9811 - val_loss: 0.3957 - val_acc: 0.8778 - val_top2_acc: 0.9518 - val_top3_acc: 0.9760 - val_top5_acc: 0.9948\n",
      "Epoch 8/20\n",
      "500/500 [==============================] - 769s 2s/step - loss: 0.4894 - acc: 0.8328 - top2_acc: 0.9160 - top3_acc: 0.9506 - top5_acc: 0.9812 - val_loss: 0.3955 - val_acc: 0.8826 - val_top2_acc: 0.9516 - val_top3_acc: 0.9760 - val_top5_acc: 0.9926\n",
      "Epoch 9/20\n",
      "152/500 [========>.....................] - ETA: 9:26 - loss: 0.4859 - acc: 0.8336 - top2_acc: 0.9170 - top3_acc: 0.9509 - top5_acc: 0.9812"
     ]
    },
    {
     "name": "stderr",
     "output_type": "stream",
     "text": [
      "IOPub message rate exceeded.\n",
      "The notebook server will temporarily stop sending output\n",
      "to the client in order to avoid crashing it.\n",
      "To change this limit, set the config variable\n",
      "`--NotebookApp.iopub_msg_rate_limit`.\n",
      "\n",
      "Current values:\n",
      "NotebookApp.iopub_msg_rate_limit=1000.0 (msgs/sec)\n",
      "NotebookApp.rate_limit_window=3.0 (secs)\n",
      "\n"
     ]
    },
    {
     "name": "stdout",
     "output_type": "stream",
     "text": [
      "500/500 [==============================] - 828s 2s/step - loss: 0.5106 - acc: 0.8246 - top2_acc: 0.9099 - top3_acc: 0.9458 - top5_acc: 0.9783 - val_loss: 0.3747 - val_acc: 0.8908 - val_top2_acc: 0.9524 - val_top3_acc: 0.9774 - val_top5_acc: 0.9950\n",
      "Epoch 2/20\n",
      "500/500 [==============================] - 820s 2s/step - loss: 0.4938 - acc: 0.8311 - top2_acc: 0.9133 - top3_acc: 0.9479 - top5_acc: 0.9795 - val_loss: 0.3729 - val_acc: 0.8914 - val_top2_acc: 0.9538 - val_top3_acc: 0.9796 - val_top5_acc: 0.9946\n",
      "Epoch 3/20\n",
      "500/500 [==============================] - 810s 2s/step - loss: 0.4926 - acc: 0.8312 - top2_acc: 0.9133 - top3_acc: 0.9480 - top5_acc: 0.9794 - val_loss: 0.3647 - val_acc: 0.8912 - val_top2_acc: 0.9552 - val_top3_acc: 0.9800 - val_top5_acc: 0.9950\n",
      "Epoch 4/20\n",
      "500/500 [==============================] - 832s 2s/step - loss: 0.4920 - acc: 0.8314 - top2_acc: 0.9138 - top3_acc: 0.9479 - top5_acc: 0.9793 - val_loss: 0.3618 - val_acc: 0.8948 - val_top2_acc: 0.9584 - val_top3_acc: 0.9780 - val_top5_acc: 0.9950\n",
      "Epoch 5/20\n",
      "500/500 [==============================] - 818s 2s/step - loss: 0.4943 - acc: 0.8305 - top2_acc: 0.9132 - top3_acc: 0.9481 - top5_acc: 0.9793 - val_loss: 0.3870 - val_acc: 0.8886 - val_top2_acc: 0.9560 - val_top3_acc: 0.9788 - val_top5_acc: 0.9942\n",
      "Epoch 6/20\n",
      "500/500 [==============================] - 786s 2s/step - loss: 0.4953 - acc: 0.8299 - top2_acc: 0.9137 - top3_acc: 0.9480 - top5_acc: 0.9792 - val_loss: 0.3792 - val_acc: 0.8894 - val_top2_acc: 0.9556 - val_top3_acc: 0.9772 - val_top5_acc: 0.9950\n",
      "Epoch 7/20\n",
      "500/500 [==============================] - 818s 2s/step - loss: 0.4956 - acc: 0.8298 - top2_acc: 0.9130 - top3_acc: 0.9478 - top5_acc: 0.9794 - val_loss: 0.3675 - val_acc: 0.8926 - val_top2_acc: 0.9570 - val_top3_acc: 0.9790 - val_top5_acc: 0.9956\n",
      "Epoch 8/20\n",
      "472/500 [===========================>..] - ETA: 42s - loss: 0.4920 - acc: 0.8314 - top2_acc: 0.9137 - top3_acc: 0.9481 - top5_acc: 0.9796"
     ]
    },
    {
     "name": "stderr",
     "output_type": "stream",
     "text": [
      "IOPub message rate exceeded.\n",
      "The notebook server will temporarily stop sending output\n",
      "to the client in order to avoid crashing it.\n",
      "To change this limit, set the config variable\n",
      "`--NotebookApp.iopub_msg_rate_limit`.\n",
      "\n",
      "Current values:\n",
      "NotebookApp.iopub_msg_rate_limit=1000.0 (msgs/sec)\n",
      "NotebookApp.rate_limit_window=3.0 (secs)\n",
      "\n"
     ]
    },
    {
     "name": "stdout",
     "output_type": "stream",
     "text": [
      "500/500 [==============================] - 820s 2s/step - loss: 0.4791 - acc: 0.8349 - top2_acc: 0.9153 - top3_acc: 0.9488 - top5_acc: 0.9791 - val_loss: 0.3597 - val_acc: 0.8910 - val_top2_acc: 0.9588 - val_top3_acc: 0.9808 - val_top5_acc: 0.9946\n",
      "Epoch 4/20\n",
      "500/500 [==============================] - 855s 2s/step - loss: 0.4785 - acc: 0.8360 - top2_acc: 0.9153 - top3_acc: 0.9485 - top5_acc: 0.9793 - val_loss: 0.3534 - val_acc: 0.8928 - val_top2_acc: 0.9596 - val_top3_acc: 0.9796 - val_top5_acc: 0.9958\n",
      "Epoch 5/20\n",
      "500/500 [==============================] - 823s 2s/step - loss: 0.4818 - acc: 0.8342 - top2_acc: 0.9147 - top3_acc: 0.9484 - top5_acc: 0.9794 - val_loss: 0.3546 - val_acc: 0.8930 - val_top2_acc: 0.9594 - val_top3_acc: 0.9790 - val_top5_acc: 0.9962\n",
      "Epoch 6/20\n",
      "500/500 [==============================] - 884s 2s/step - loss: 0.4810 - acc: 0.8351 - top2_acc: 0.9152 - top3_acc: 0.9483 - top5_acc: 0.9790 - val_loss: 0.3567 - val_acc: 0.8900 - val_top2_acc: 0.9586 - val_top3_acc: 0.9794 - val_top5_acc: 0.9946\n",
      "Epoch 7/20\n",
      "500/500 [==============================] - 858s 2s/step - loss: 0.4820 - acc: 0.8340 - top2_acc: 0.9149 - top3_acc: 0.9484 - top5_acc: 0.9792 - val_loss: 0.3559 - val_acc: 0.8920 - val_top2_acc: 0.9614 - val_top3_acc: 0.9820 - val_top5_acc: 0.9950\n",
      "Epoch 8/20\n",
      "500/500 [==============================] - 834s 2s/step - loss: 0.4764 - acc: 0.8364 - top2_acc: 0.9160 - top3_acc: 0.9493 - top5_acc: 0.9795 - val_loss: 0.3595 - val_acc: 0.8892 - val_top2_acc: 0.9612 - val_top3_acc: 0.9812 - val_top5_acc: 0.9944\n",
      "Epoch 9/20\n",
      "500/500 [==============================] - 860s 2s/step - loss: 0.4746 - acc: 0.8369 - top2_acc: 0.9163 - top3_acc: 0.9491 - top5_acc: 0.9794 - val_loss: 0.3536 - val_acc: 0.8904 - val_top2_acc: 0.9630 - val_top3_acc: 0.9808 - val_top5_acc: 0.9952\n",
      "Epoch 10/20\n",
      "427/500 [========================>.....] - ETA: 2:04 - loss: 0.4740 - acc: 0.8375 - top2_acc: 0.9163 - top3_acc: 0.9492 - top5_acc: 0.9794"
     ]
    },
    {
     "name": "stderr",
     "output_type": "stream",
     "text": [
      "IOPub message rate exceeded.\n",
      "The notebook server will temporarily stop sending output\n",
      "to the client in order to avoid crashing it.\n",
      "To change this limit, set the config variable\n",
      "`--NotebookApp.iopub_msg_rate_limit`.\n",
      "\n",
      "Current values:\n",
      "NotebookApp.iopub_msg_rate_limit=1000.0 (msgs/sec)\n",
      "NotebookApp.rate_limit_window=3.0 (secs)\n",
      "\n"
     ]
    },
    {
     "name": "stdout",
     "output_type": "stream",
     "text": [
      "500/500 [==============================] - 851s 2s/step - loss: 0.4744 - acc: 0.8373 - top2_acc: 0.9161 - top3_acc: 0.9492 - top5_acc: 0.9793 - val_loss: 0.3459 - val_acc: 0.9002 - val_top2_acc: 0.9616 - val_top3_acc: 0.9820 - val_top5_acc: 0.9952\n",
      "Epoch 11/20\n",
      "500/500 [==============================] - 867s 2s/step - loss: 0.4738 - acc: 0.8378 - top2_acc: 0.9166 - top3_acc: 0.9493 - top5_acc: 0.9795 - val_loss: 0.3479 - val_acc: 0.8932 - val_top2_acc: 0.9632 - val_top3_acc: 0.9830 - val_top5_acc: 0.9954\n",
      "Epoch 12/20\n",
      "500/500 [==============================] - 820s 2s/step - loss: 0.4727 - acc: 0.8376 - top2_acc: 0.9164 - top3_acc: 0.9496 - top5_acc: 0.9797 - val_loss: 0.3495 - val_acc: 0.8964 - val_top2_acc: 0.9612 - val_top3_acc: 0.9802 - val_top5_acc: 0.9952\n",
      "Epoch 13/20\n",
      "500/500 [==============================] - 825s 2s/step - loss: 0.4697 - acc: 0.8383 - top2_acc: 0.9172 - top3_acc: 0.9502 - top5_acc: 0.9800 - val_loss: 0.3456 - val_acc: 0.8978 - val_top2_acc: 0.9602 - val_top3_acc: 0.9808 - val_top5_acc: 0.9946\n",
      "Epoch 14/20\n",
      "500/500 [==============================] - 844s 2s/step - loss: 0.4688 - acc: 0.8386 - top2_acc: 0.9174 - top3_acc: 0.9498 - top5_acc: 0.9800 - val_loss: 0.3522 - val_acc: 0.8922 - val_top2_acc: 0.9612 - val_top3_acc: 0.9794 - val_top5_acc: 0.9952\n",
      "Epoch 15/20\n",
      "500/500 [==============================] - 884s 2s/step - loss: 0.4682 - acc: 0.8394 - top2_acc: 0.9178 - top3_acc: 0.9500 - top5_acc: 0.9797 - val_loss: 0.3632 - val_acc: 0.8958 - val_top2_acc: 0.9590 - val_top3_acc: 0.9796 - val_top5_acc: 0.9948\n",
      "Epoch 16/20\n",
      "500/500 [==============================] - 857s 2s/step - loss: 0.4684 - acc: 0.8390 - top2_acc: 0.9173 - top3_acc: 0.9503 - top5_acc: 0.9802 - val_loss: 0.3511 - val_acc: 0.8960 - val_top2_acc: 0.9610 - val_top3_acc: 0.9798 - val_top5_acc: 0.9952\n",
      "Epoch 17/20\n",
      "500/500 [==============================] - 841s 2s/step - loss: 0.4655 - acc: 0.8399 - top2_acc: 0.9180 - top3_acc: 0.9502 - top5_acc: 0.9801 - val_loss: 0.3538 - val_acc: 0.8954 - val_top2_acc: 0.9600 - val_top3_acc: 0.9802 - val_top5_acc: 0.9952\n",
      "Epoch 18/20\n",
      "164/500 [========>.....................] - ETA: 9:26 - loss: 0.4659 - acc: 0.8399 - top2_acc: 0.9182 - top3_acc: 0.9507 - top5_acc: 0.9801"
     ]
    },
    {
     "name": "stderr",
     "output_type": "stream",
     "text": [
      "IOPub message rate exceeded.\n",
      "The notebook server will temporarily stop sending output\n",
      "to the client in order to avoid crashing it.\n",
      "To change this limit, set the config variable\n",
      "`--NotebookApp.iopub_msg_rate_limit`.\n",
      "\n",
      "Current values:\n",
      "NotebookApp.iopub_msg_rate_limit=1000.0 (msgs/sec)\n",
      "NotebookApp.rate_limit_window=3.0 (secs)\n",
      "\n"
     ]
    },
    {
     "name": "stdout",
     "output_type": "stream",
     "text": [
      "500/500 [==============================] - 852s 2s/step - loss: 0.4629 - acc: 0.8407 - top2_acc: 0.9186 - top3_acc: 0.9512 - top5_acc: 0.9807 - val_loss: 0.3658 - val_acc: 0.8904 - val_top2_acc: 0.9556 - val_top3_acc: 0.9788 - val_top5_acc: 0.9946\n",
      "====================stage 7====================\n",
      "Epoch 1/20\n",
      "500/500 [==============================] - 852s 2s/step - loss: 0.5018 - acc: 0.8274 - top2_acc: 0.9095 - top3_acc: 0.9442 - top5_acc: 0.9769 - val_loss: 0.3535 - val_acc: 0.8956 - val_top2_acc: 0.9604 - val_top3_acc: 0.9808 - val_top5_acc: 0.9952\n",
      "Epoch 2/20\n",
      "500/500 [==============================] - 840s 2s/step - loss: 0.4961 - acc: 0.8294 - top2_acc: 0.9100 - top3_acc: 0.9448 - top5_acc: 0.9770 - val_loss: 0.3552 - val_acc: 0.8956 - val_top2_acc: 0.9598 - val_top3_acc: 0.9806 - val_top5_acc: 0.9944\n",
      "Epoch 3/20\n",
      "500/500 [==============================] - 841s 2s/step - loss: 0.4968 - acc: 0.8291 - top2_acc: 0.9101 - top3_acc: 0.9449 - top5_acc: 0.9771 - val_loss: 0.3496 - val_acc: 0.8924 - val_top2_acc: 0.9614 - val_top3_acc: 0.9812 - val_top5_acc: 0.9946\n",
      "Epoch 4/20\n",
      "500/500 [==============================] - 876s 2s/step - loss: 0.4953 - acc: 0.8294 - top2_acc: 0.9105 - top3_acc: 0.9446 - top5_acc: 0.9770 - val_loss: 0.3523 - val_acc: 0.8958 - val_top2_acc: 0.9592 - val_top3_acc: 0.9784 - val_top5_acc: 0.9940\n",
      "Epoch 5/20\n",
      "500/500 [==============================] - 829s 2s/step - loss: 0.4972 - acc: 0.8292 - top2_acc: 0.9103 - top3_acc: 0.9449 - top5_acc: 0.9772 - val_loss: 0.3538 - val_acc: 0.8924 - val_top2_acc: 0.9604 - val_top3_acc: 0.9800 - val_top5_acc: 0.9946\n",
      "Epoch 6/20\n",
      "500/500 [==============================] - 853s 2s/step - loss: 0.4960 - acc: 0.8295 - top2_acc: 0.9101 - top3_acc: 0.9447 - top5_acc: 0.9770 - val_loss: 0.3517 - val_acc: 0.8932 - val_top2_acc: 0.9614 - val_top3_acc: 0.9798 - val_top5_acc: 0.9940\n",
      "Epoch 7/20\n",
      " 29/500 [>.............................] - ETA: 11:27 - loss: 0.4969 - acc: 0.8297 - top2_acc: 0.9123 - top3_acc: 0.9458 - top5_acc: 0.9777"
     ]
    },
    {
     "name": "stderr",
     "output_type": "stream",
     "text": [
      "IOPub message rate exceeded.\n",
      "The notebook server will temporarily stop sending output\n",
      "to the client in order to avoid crashing it.\n",
      "To change this limit, set the config variable\n",
      "`--NotebookApp.iopub_msg_rate_limit`.\n",
      "\n",
      "Current values:\n",
      "NotebookApp.iopub_msg_rate_limit=1000.0 (msgs/sec)\n",
      "NotebookApp.rate_limit_window=3.0 (secs)\n",
      "\n"
     ]
    },
    {
     "name": "stdout",
     "output_type": "stream",
     "text": [
      "500/500 [==============================] - 787s 2s/step - loss: 0.5110 - acc: 0.8239 - top2_acc: 0.9060 - top3_acc: 0.9412 - top5_acc: 0.9748 - val_loss: 0.3359 - val_acc: 0.8952 - val_top2_acc: 0.9620 - val_top3_acc: 0.9814 - val_top5_acc: 0.9942\n",
      "====================stage 9====================\n",
      "Epoch 1/20\n",
      "500/500 [==============================] - 870s 2s/step - loss: 0.5433 - acc: 0.8125 - top2_acc: 0.8972 - top3_acc: 0.9346 - top5_acc: 0.9708 - val_loss: 0.3356 - val_acc: 0.8950 - val_top2_acc: 0.9612 - val_top3_acc: 0.9800 - val_top5_acc: 0.9948\n",
      "Epoch 2/20\n",
      "500/500 [==============================] - 840s 2s/step - loss: 0.5426 - acc: 0.8133 - top2_acc: 0.8976 - top3_acc: 0.9349 - top5_acc: 0.9709 - val_loss: 0.3339 - val_acc: 0.8946 - val_top2_acc: 0.9602 - val_top3_acc: 0.9794 - val_top5_acc: 0.9950\n",
      "Epoch 3/20\n",
      "500/500 [==============================] - 814s 2s/step - loss: 0.5403 - acc: 0.8142 - top2_acc: 0.8982 - top3_acc: 0.9349 - top5_acc: 0.9710 - val_loss: 0.3327 - val_acc: 0.8950 - val_top2_acc: 0.9610 - val_top3_acc: 0.9802 - val_top5_acc: 0.9948\n",
      "Epoch 4/20\n",
      "500/500 [==============================] - 865s 2s/step - loss: 0.5428 - acc: 0.8134 - top2_acc: 0.8979 - top3_acc: 0.9349 - top5_acc: 0.9707 - val_loss: 0.3328 - val_acc: 0.8950 - val_top2_acc: 0.9606 - val_top3_acc: 0.9804 - val_top5_acc: 0.9952\n",
      "Epoch 5/20\n",
      "172/500 [=========>....................] - ETA: 8:04 - loss: 0.5397 - acc: 0.8139 - top2_acc: 0.8978 - top3_acc: 0.9347 - top5_acc: 0.9708"
     ]
    }
   ],
   "source": [
    "lr=1e-3\n",
    "for stage in range(1,11):\n",
    "    print(\"=\"*20+f'stage {stage}'+'='*20)\n",
    "    if not checkstage(os.path.join(model_path,'progressive_extended'),stage):\n",
    "        fit_stage(stage,lr_base=lr,epochs=20,model_path=os.path.join(model_path,'progressive_extended'),weight_decay=0.05,\n",
    "                  use_paper_rand_augment=True,imagesize=32+4*(stage-1),progressive_fn=lambda s: 1+np.sqrt((s-1)/9)*9)\n",
    "        Mymodel.save_weights(os.path.join(model_path,'progressive_extended',f's{stage}-final.hdf5'))\n",
    "    lr/=2"
   ]
  },
  {
   "cell_type": "code",
   "execution_count": 213,
   "metadata": {},
   "outputs": [
    {
     "name": "stdout",
     "output_type": "stream",
     "text": [
      "5/5 [==============================] - 1s 201ms/step - loss: 0.3279 - acc: 0.8956 - top2_acc: 0.9606 - top3_acc: 0.9798 - top5_acc: 0.9950\n"
     ]
    },
    {
     "data": {
      "text/plain": [
       "[0.3278980851173401,\n",
       " 0.8956000208854675,\n",
       " 0.9606000185012817,\n",
       " 0.9797999858856201,\n",
       " 0.9950000047683716]"
      ]
     },
     "execution_count": 213,
     "metadata": {},
     "output_type": "execute_result"
    }
   ],
   "source": [
    "Mymodel.evaluate(valid_ds)"
   ]
  },
  {
   "cell_type": "code",
   "execution_count": 235,
   "metadata": {},
   "outputs": [],
   "source": [
    "modified_efficientv2_base=Modified_EfficientV2base(act,decode_cfgs(v2_base_block_modified4),head_filters=1280)\n",
    "inputx=keras.Input((None,None,3))\n",
    "x=modified_efficientv2_base(inputx)\n",
    "x=keras.layers.Dense(10,activation='softmax')(x)\n",
    "Mymodel=keras.Model(inputs=inputx,outputs=x)"
   ]
  },
  {
   "cell_type": "code",
   "execution_count": null,
   "metadata": {
    "scrolled": true
   },
   "outputs": [
    {
     "name": "stdout",
     "output_type": "stream",
     "text": [
      "====================stage 1====================\n",
      "Epoch 1/20\n",
      "500/500 [==============================] - 714s 1s/step - loss: 1.7953 - acc: 0.3558 - top2_acc: 0.5447 - top3_acc: 0.6660 - top5_acc: 0.8224 - val_loss: 1.1441 - val_acc: 0.5918 - val_top2_acc: 0.7864 - val_top3_acc: 0.8680 - val_top5_acc: 0.9506\n",
      "Epoch 2/20\n",
      "500/500 [==============================] - 663s 1s/step - loss: 1.1488 - acc: 0.5962 - top2_acc: 0.7729 - top3_acc: 0.8588 - top5_acc: 0.9445 - val_loss: 0.7913 - val_acc: 0.7286 - val_top2_acc: 0.8712 - val_top3_acc: 0.9272 - val_top5_acc: 0.9788\n",
      "Epoch 3/20\n",
      "500/500 [==============================] - 700s 1s/step - loss: 0.7989 - acc: 0.7243 - top2_acc: 0.8628 - top3_acc: 0.9212 - top5_acc: 0.9719 - val_loss: 0.6981 - val_acc: 0.7678 - val_top2_acc: 0.8936 - val_top3_acc: 0.9450 - val_top5_acc: 0.9834\n",
      "Epoch 4/20\n",
      "500/500 [==============================] - 686s 1s/step - loss: 0.6195 - acc: 0.7896 - top2_acc: 0.9009 - top3_acc: 0.9447 - top5_acc: 0.9807 - val_loss: 0.6710 - val_acc: 0.7876 - val_top2_acc: 0.9044 - val_top3_acc: 0.9482 - val_top5_acc: 0.9830\n",
      "Epoch 5/20\n",
      "500/500 [==============================] - 679s 1s/step - loss: 0.5284 - acc: 0.8219 - top2_acc: 0.9191 - top3_acc: 0.9554 - top5_acc: 0.9844 - val_loss: 0.7139 - val_acc: 0.7842 - val_top2_acc: 0.8996 - val_top3_acc: 0.9432 - val_top5_acc: 0.9844\n",
      "Epoch 6/20\n",
      "500/500 [==============================] - 623s 1s/step - loss: 0.4519 - acc: 0.8482 - top2_acc: 0.9328 - top3_acc: 0.9633 - top5_acc: 0.9876 - val_loss: 0.5921 - val_acc: 0.8098 - val_top2_acc: 0.9140 - val_top3_acc: 0.9570 - val_top5_acc: 0.9902\n",
      "Epoch 7/20\n",
      "500/500 [==============================] - 707s 1s/step - loss: 0.3800 - acc: 0.8733 - top2_acc: 0.9456 - top3_acc: 0.9708 - top5_acc: 0.9903 - val_loss: 0.5964 - val_acc: 0.8216 - val_top2_acc: 0.9214 - val_top3_acc: 0.9606 - val_top5_acc: 0.9898\n",
      "Epoch 8/20\n",
      "340/500 [===================>..........] - ETA: 3:54 - loss: 0.3509 - acc: 0.8832 - top2_acc: 0.9502 - top3_acc: 0.9732 - top5_acc: 0.9912"
     ]
    },
    {
     "name": "stderr",
     "output_type": "stream",
     "text": [
      "IOPub message rate exceeded.\n",
      "The notebook server will temporarily stop sending output\n",
      "to the client in order to avoid crashing it.\n",
      "To change this limit, set the config variable\n",
      "`--NotebookApp.iopub_msg_rate_limit`.\n",
      "\n",
      "Current values:\n",
      "NotebookApp.iopub_msg_rate_limit=1000.0 (msgs/sec)\n",
      "NotebookApp.rate_limit_window=3.0 (secs)\n",
      "\n"
     ]
    },
    {
     "name": "stdout",
     "output_type": "stream",
     "text": [
      "500/500 [==============================] - 743s 1s/step - loss: 0.3399 - acc: 0.8841 - top2_acc: 0.9482 - top3_acc: 0.9714 - top5_acc: 0.9901 - val_loss: 0.3527 - val_acc: 0.8954 - val_top2_acc: 0.9622 - val_top3_acc: 0.9816 - val_top5_acc: 0.9972\n",
      "Epoch 18/20\n",
      "500/500 [==============================] - 729s 1s/step - loss: 0.3343 - acc: 0.8859 - top2_acc: 0.9491 - top3_acc: 0.9719 - top5_acc: 0.9904 - val_loss: 0.3656 - val_acc: 0.9002 - val_top2_acc: 0.9660 - val_top3_acc: 0.9836 - val_top5_acc: 0.9974\n",
      "Epoch 19/20\n",
      "500/500 [==============================] - 741s 1s/step - loss: 0.3325 - acc: 0.8868 - top2_acc: 0.9492 - top3_acc: 0.9720 - top5_acc: 0.9903 - val_loss: 0.3555 - val_acc: 0.8978 - val_top2_acc: 0.9620 - val_top3_acc: 0.9820 - val_top5_acc: 0.9956\n",
      "Epoch 20/20\n",
      "500/500 [==============================] - 748s 1s/step - loss: 0.3254 - acc: 0.8889 - top2_acc: 0.9503 - top3_acc: 0.9730 - top5_acc: 0.9908 - val_loss: 0.3784 - val_acc: 0.8966 - val_top2_acc: 0.9632 - val_top3_acc: 0.9836 - val_top5_acc: 0.9966\n",
      "====================stage 3====================\n",
      "Epoch 1/20\n",
      "500/500 [==============================] - 714s 1s/step - loss: 0.4445 - acc: 0.8484 - top2_acc: 0.9244 - top3_acc: 0.9554 - top5_acc: 0.9830 - val_loss: 0.3224 - val_acc: 0.9042 - val_top2_acc: 0.9702 - val_top3_acc: 0.9878 - val_top5_acc: 0.9974\n",
      "Epoch 2/20\n",
      "500/500 [==============================] - 695s 1s/step - loss: 0.4161 - acc: 0.8581 - top2_acc: 0.9295 - top3_acc: 0.9586 - top5_acc: 0.9844 - val_loss: 0.3286 - val_acc: 0.9068 - val_top2_acc: 0.9706 - val_top3_acc: 0.9864 - val_top5_acc: 0.9974\n",
      "Epoch 3/20\n",
      " 26/500 [>.............................] - ETA: 8:19 - loss: 0.4023 - acc: 0.8624 - top2_acc: 0.9326 - top3_acc: 0.9599 - top5_acc: 0.9848"
     ]
    },
    {
     "name": "stderr",
     "output_type": "stream",
     "text": [
      "IOPub message rate exceeded.\n",
      "The notebook server will temporarily stop sending output\n",
      "to the client in order to avoid crashing it.\n",
      "To change this limit, set the config variable\n",
      "`--NotebookApp.iopub_msg_rate_limit`.\n",
      "\n",
      "Current values:\n",
      "NotebookApp.iopub_msg_rate_limit=1000.0 (msgs/sec)\n",
      "NotebookApp.rate_limit_window=3.0 (secs)\n",
      "\n"
     ]
    },
    {
     "name": "stdout",
     "output_type": "stream",
     "text": [
      "500/500 [==============================] - 693s 1s/step - loss: 0.4215 - acc: 0.8547 - top2_acc: 0.9269 - top3_acc: 0.9567 - top5_acc: 0.9832 - val_loss: 0.3070 - val_acc: 0.9120 - val_top2_acc: 0.9726 - val_top3_acc: 0.9860 - val_top5_acc: 0.9982\n",
      "Epoch 8/20\n",
      "500/500 [==============================] - 668s 1s/step - loss: 0.4195 - acc: 0.8557 - top2_acc: 0.9274 - top3_acc: 0.9570 - top5_acc: 0.9833 - val_loss: 0.3173 - val_acc: 0.9108 - val_top2_acc: 0.9690 - val_top3_acc: 0.9854 - val_top5_acc: 0.9984\n",
      "Epoch 9/20\n",
      "500/500 [==============================] - 673s 1s/step - loss: 0.4171 - acc: 0.8565 - top2_acc: 0.9282 - top3_acc: 0.9572 - top5_acc: 0.9836 - val_loss: 0.3092 - val_acc: 0.9110 - val_top2_acc: 0.9704 - val_top3_acc: 0.9866 - val_top5_acc: 0.9986\n",
      "Epoch 10/20\n",
      "500/500 [==============================] - 687s 1s/step - loss: 0.4152 - acc: 0.8574 - top2_acc: 0.9286 - top3_acc: 0.9574 - top5_acc: 0.9836 - val_loss: 0.3152 - val_acc: 0.9120 - val_top2_acc: 0.9696 - val_top3_acc: 0.9862 - val_top5_acc: 0.9982\n",
      "Epoch 11/20\n",
      "500/500 [==============================] - 682s 1s/step - loss: 0.4139 - acc: 0.8571 - top2_acc: 0.9286 - top3_acc: 0.9581 - top5_acc: 0.9839 - val_loss: 0.3055 - val_acc: 0.9124 - val_top2_acc: 0.9714 - val_top3_acc: 0.9878 - val_top5_acc: 0.9984\n",
      "Epoch 12/20\n",
      "500/500 [==============================] - 695s 1s/step - loss: 0.4129 - acc: 0.8579 - top2_acc: 0.9292 - top3_acc: 0.9583 - top5_acc: 0.9838 - val_loss: 0.3079 - val_acc: 0.9156 - val_top2_acc: 0.9708 - val_top3_acc: 0.9888 - val_top5_acc: 0.9980\n",
      "Epoch 13/20\n",
      "500/500 [==============================] - 726s 1s/step - loss: 0.4093 - acc: 0.8590 - top2_acc: 0.9296 - top3_acc: 0.9584 - top5_acc: 0.9839 - val_loss: 0.3139 - val_acc: 0.9110 - val_top2_acc: 0.9690 - val_top3_acc: 0.9860 - val_top5_acc: 0.9980\n",
      "Epoch 14/20\n",
      "500/500 [==============================] - 708s 1s/step - loss: 0.4107 - acc: 0.8587 - top2_acc: 0.9292 - top3_acc: 0.9583 - top5_acc: 0.9837 - val_loss: 0.3051 - val_acc: 0.9124 - val_top2_acc: 0.9704 - val_top3_acc: 0.9876 - val_top5_acc: 0.9980\n",
      "Epoch 15/20\n",
      "500/500 [==============================] - 736s 1s/step - loss: 0.4084 - acc: 0.8589 - top2_acc: 0.9296 - top3_acc: 0.9583 - top5_acc: 0.9841 - val_loss: 0.3214 - val_acc: 0.9138 - val_top2_acc: 0.9710 - val_top3_acc: 0.9860 - val_top5_acc: 0.9982\n",
      "Epoch 16/20\n",
      "500/500 [==============================] - 688s 1s/step - loss: 0.4071 - acc: 0.8598 - top2_acc: 0.9301 - top3_acc: 0.9587 - top5_acc: 0.9840 - val_loss: 0.3088 - val_acc: 0.9134 - val_top2_acc: 0.9720 - val_top3_acc: 0.9852 - val_top5_acc: 0.9972\n",
      "Epoch 17/20\n",
      "444/500 [=========================>....] - ETA: 1:20 - loss: 0.4029 - acc: 0.8611 - top2_acc: 0.9312 - top3_acc: 0.9593 - top5_acc: 0.9843"
     ]
    },
    {
     "name": "stderr",
     "output_type": "stream",
     "text": [
      "IOPub message rate exceeded.\n",
      "The notebook server will temporarily stop sending output\n",
      "to the client in order to avoid crashing it.\n",
      "To change this limit, set the config variable\n",
      "`--NotebookApp.iopub_msg_rate_limit`.\n",
      "\n",
      "Current values:\n",
      "NotebookApp.iopub_msg_rate_limit=1000.0 (msgs/sec)\n",
      "NotebookApp.rate_limit_window=3.0 (secs)\n",
      "\n"
     ]
    },
    {
     "name": "stdout",
     "output_type": "stream",
     "text": [
      "500/500 [==============================] - 737s 1s/step - loss: 0.4526 - acc: 0.8438 - top2_acc: 0.9191 - top3_acc: 0.9508 - top5_acc: 0.9801 - val_loss: 0.3042 - val_acc: 0.9138 - val_top2_acc: 0.9720 - val_top3_acc: 0.9856 - val_top5_acc: 0.9980\n",
      "Epoch 16/20\n",
      "500/500 [==============================] - 725s 1s/step - loss: 0.4532 - acc: 0.8440 - top2_acc: 0.9188 - top3_acc: 0.9507 - top5_acc: 0.9801 - val_loss: 0.3005 - val_acc: 0.9136 - val_top2_acc: 0.9712 - val_top3_acc: 0.9882 - val_top5_acc: 0.9978\n",
      "Epoch 17/20\n",
      "500/500 [==============================] - 751s 2s/step - loss: 0.4510 - acc: 0.8442 - top2_acc: 0.9196 - top3_acc: 0.9514 - top5_acc: 0.9802 - val_loss: 0.3005 - val_acc: 0.9152 - val_top2_acc: 0.9728 - val_top3_acc: 0.9878 - val_top5_acc: 0.9980\n",
      "Epoch 18/20\n",
      "500/500 [==============================] - 732s 1s/step - loss: 0.4510 - acc: 0.8441 - top2_acc: 0.9196 - top3_acc: 0.9513 - top5_acc: 0.9802 - val_loss: 0.2961 - val_acc: 0.9128 - val_top2_acc: 0.9722 - val_top3_acc: 0.9888 - val_top5_acc: 0.9978\n",
      "Epoch 19/20\n",
      "500/500 [==============================] - 748s 1s/step - loss: 0.4494 - acc: 0.8447 - top2_acc: 0.9197 - top3_acc: 0.9513 - top5_acc: 0.9802 - val_loss: 0.2989 - val_acc: 0.9104 - val_top2_acc: 0.9718 - val_top3_acc: 0.9886 - val_top5_acc: 0.9984\n",
      "Epoch 20/20\n",
      "500/500 [==============================] - 757s 2s/step - loss: 0.4499 - acc: 0.8444 - top2_acc: 0.9197 - top3_acc: 0.9515 - top5_acc: 0.9807 - val_loss: 0.3014 - val_acc: 0.9124 - val_top2_acc: 0.9722 - val_top3_acc: 0.9878 - val_top5_acc: 0.9974\n",
      "====================stage 6====================\n",
      "Epoch 1/20\n",
      "500/500 [==============================] - 724s 1s/step - loss: 0.5083 - acc: 0.8243 - top2_acc: 0.9060 - top3_acc: 0.9413 - top5_acc: 0.9753 - val_loss: 0.2970 - val_acc: 0.9140 - val_top2_acc: 0.9722 - val_top3_acc: 0.9876 - val_top5_acc: 0.9976\n",
      "Epoch 2/20\n",
      "500/500 [==============================] - 748s 1s/step - loss: 0.5059 - acc: 0.8251 - top2_acc: 0.9064 - top3_acc: 0.9418 - top5_acc: 0.9754 - val_loss: 0.2977 - val_acc: 0.9136 - val_top2_acc: 0.9718 - val_top3_acc: 0.9880 - val_top5_acc: 0.9974\n",
      "Epoch 3/20\n",
      "500/500 [==============================] - 701s 1s/step - loss: 0.5058 - acc: 0.8251 - top2_acc: 0.9066 - top3_acc: 0.9422 - top5_acc: 0.9757 - val_loss: 0.2963 - val_acc: 0.9140 - val_top2_acc: 0.9722 - val_top3_acc: 0.9876 - val_top5_acc: 0.9974\n",
      "Epoch 4/20\n",
      "500/500 [==============================] - 733s 1s/step - loss: 0.5044 - acc: 0.8260 - top2_acc: 0.9067 - top3_acc: 0.9422 - top5_acc: 0.9756 - val_loss: 0.2958 - val_acc: 0.9124 - val_top2_acc: 0.9724 - val_top3_acc: 0.9874 - val_top5_acc: 0.9978\n",
      "Epoch 5/20\n",
      "199/500 [==========>...................] - ETA: 6:43 - loss: 0.5020 - acc: 0.8259 - top2_acc: 0.9071 - top3_acc: 0.9428 - top5_acc: 0.9762"
     ]
    },
    {
     "name": "stderr",
     "output_type": "stream",
     "text": [
      "IOPub message rate exceeded.\n",
      "The notebook server will temporarily stop sending output\n",
      "to the client in order to avoid crashing it.\n",
      "To change this limit, set the config variable\n",
      "`--NotebookApp.iopub_msg_rate_limit`.\n",
      "\n",
      "Current values:\n",
      "NotebookApp.iopub_msg_rate_limit=1000.0 (msgs/sec)\n",
      "NotebookApp.rate_limit_window=3.0 (secs)\n",
      "\n"
     ]
    },
    {
     "name": "stdout",
     "output_type": "stream",
     "text": [
      "500/500 [==============================] - 701s 1s/step - loss: 0.5060 - acc: 0.8243 - top2_acc: 0.9064 - top3_acc: 0.9421 - top5_acc: 0.9754 - val_loss: 0.2934 - val_acc: 0.9128 - val_top2_acc: 0.9734 - val_top3_acc: 0.9884 - val_top5_acc: 0.9976\n",
      "Epoch 7/20\n",
      "500/500 [==============================] - 732s 1s/step - loss: 0.5051 - acc: 0.8254 - top2_acc: 0.9065 - top3_acc: 0.9417 - top5_acc: 0.9759 - val_loss: 0.2946 - val_acc: 0.9134 - val_top2_acc: 0.9726 - val_top3_acc: 0.9878 - val_top5_acc: 0.9976\n",
      "Epoch 8/20\n",
      "500/500 [==============================] - 733s 1s/step - loss: 0.5014 - acc: 0.8261 - top2_acc: 0.9074 - top3_acc: 0.9427 - top5_acc: 0.9760 - val_loss: 0.2938 - val_acc: 0.9140 - val_top2_acc: 0.9738 - val_top3_acc: 0.9878 - val_top5_acc: 0.9978\n",
      "Epoch 9/20\n",
      "500/500 [==============================] - 728s 1s/step - loss: 0.5034 - acc: 0.8251 - top2_acc: 0.9065 - top3_acc: 0.9421 - top5_acc: 0.9757 - val_loss: 0.2899 - val_acc: 0.9150 - val_top2_acc: 0.9730 - val_top3_acc: 0.9880 - val_top5_acc: 0.9978\n",
      "Epoch 10/20\n",
      "500/500 [==============================] - 698s 1s/step - loss: 0.5016 - acc: 0.8256 - top2_acc: 0.9076 - top3_acc: 0.9423 - top5_acc: 0.9760 - val_loss: 0.2932 - val_acc: 0.9144 - val_top2_acc: 0.9730 - val_top3_acc: 0.9872 - val_top5_acc: 0.9978\n",
      "Epoch 11/20\n",
      "280/500 [===============>..............] - ETA: 5:04 - loss: 0.4985 - acc: 0.8272 - top2_acc: 0.9077 - top3_acc: 0.9424 - top5_acc: 0.9758"
     ]
    }
   ],
   "source": [
    "lr=1e-3\n",
    "for stage in range(1,11):\n",
    "    print(\"=\"*20+f'stage {stage}'+'='*20)\n",
    "    if not checkstage(os.path.join(model_path,'progressive_extended2'),stage):\n",
    "        fit_stage(stage,lr_base=lr,epochs=20,model_path=os.path.join(model_path,'progressive_extended2'),weight_decay=0.05,\n",
    "                  use_paper_rand_augment=False,imagesize=32+4*(stage-1),progressive_fn=lambda s: 1+np.sqrt((s-1)/9)*9)\n",
    "        Mymodel.save_weights(os.path.join(model_path,'progressive_extended2',f's{stage}-final.hdf5'))\n",
    "    lr/=3"
   ]
  },
  {
   "cell_type": "code",
   "execution_count": 240,
   "metadata": {},
   "outputs": [
    {
     "name": "stdout",
     "output_type": "stream",
     "text": [
      "5/5 [==============================] - 1s 234ms/step - loss: 0.2730 - acc: 0.9142 - top2_acc: 0.9728 - top3_acc: 0.9872 - top5_acc: 0.9984\n"
     ]
    },
    {
     "data": {
      "text/plain": [
       "[0.27303412556648254,\n",
       " 0.9142000079154968,\n",
       " 0.9728000164031982,\n",
       " 0.9872000217437744,\n",
       " 0.9983999729156494]"
      ]
     },
     "execution_count": 240,
     "metadata": {},
     "output_type": "execute_result"
    }
   ],
   "source": [
    "Mymodel.evaluate(valid_ds)"
   ]
  },
  {
   "cell_type": "code",
   "execution_count": 24,
   "metadata": {},
   "outputs": [],
   "source": [
    "modified_efficientv2_base=Modified_EfficientV2base(act,decode_cfgs(v2_base_block_modified4),head_filters=1280)\n",
    "inputx=keras.Input((None,None,3))\n",
    "x=modified_efficientv2_base(inputx)\n",
    "x=keras.layers.Dense(10,activation='softmax')(x)\n",
    "Mymodel=keras.Model(inputs=inputx,outputs=x)"
   ]
  },
  {
   "cell_type": "code",
   "execution_count": 35,
   "metadata": {
    "scrolled": true
   },
   "outputs": [
    {
     "name": "stdout",
     "output_type": "stream",
     "text": [
      "====================stage 1====================\n",
      "====================stage 2====================\n",
      "====================stage 3====================\n",
      "====================stage 4====================\n",
      "====================stage 5====================\n",
      "====================stage 6====================\n",
      "====================stage 7====================\n",
      "====================stage 8====================\n",
      "====================stage 9====================\n",
      "====================stage 10====================\n",
      "Epoch 1/20\n",
      "90/90 [==============================] - 95s 728ms/step - loss: 1.3034 - acc: 0.5460 - top2_acc: 0.7024 - top3_acc: 0.7886 - top5_acc: 0.8921 - val_loss: 0.5382 - val_acc: 0.8178 - val_top2_acc: 0.9228 - val_top3_acc: 0.9592 - val_top5_acc: 0.9882\n",
      "Epoch 2/20\n",
      "90/90 [==============================] - 68s 675ms/step - loss: 1.3067 - acc: 0.5451 - top2_acc: 0.6988 - top3_acc: 0.7865 - top5_acc: 0.8898 - val_loss: 0.5382 - val_acc: 0.8178 - val_top2_acc: 0.9228 - val_top3_acc: 0.9594 - val_top5_acc: 0.9882\n",
      "Epoch 3/20\n",
      "90/90 [==============================] - 75s 738ms/step - loss: 1.3090 - acc: 0.5424 - top2_acc: 0.6963 - top3_acc: 0.7857 - top5_acc: 0.8888 - val_loss: 0.5382 - val_acc: 0.8178 - val_top2_acc: 0.9228 - val_top3_acc: 0.9594 - val_top5_acc: 0.9882\n",
      "Epoch 4/20\n",
      "90/90 [==============================] - 79s 782ms/step - loss: 1.3060 - acc: 0.5440 - top2_acc: 0.6971 - top3_acc: 0.7860 - top5_acc: 0.8897 - val_loss: 0.5382 - val_acc: 0.8180 - val_top2_acc: 0.9228 - val_top3_acc: 0.9594 - val_top5_acc: 0.9882\n",
      "Epoch 5/20\n",
      "90/90 [==============================] - 71s 695ms/step - loss: 1.3017 - acc: 0.5482 - top2_acc: 0.7002 - top3_acc: 0.7867 - top5_acc: 0.8919 - val_loss: 0.5383 - val_acc: 0.8180 - val_top2_acc: 0.9228 - val_top3_acc: 0.9594 - val_top5_acc: 0.9882\n",
      "Epoch 6/20\n",
      "90/90 [==============================] - 64s 613ms/step - loss: 1.3090 - acc: 0.5424 - top2_acc: 0.6966 - top3_acc: 0.7862 - top5_acc: 0.8892 - val_loss: 0.5382 - val_acc: 0.8178 - val_top2_acc: 0.9228 - val_top3_acc: 0.9594 - val_top5_acc: 0.9882\n",
      "Epoch 7/20\n",
      "90/90 [==============================] - 70s 676ms/step - loss: 1.3049 - acc: 0.5439 - top2_acc: 0.6994 - top3_acc: 0.7869 - top5_acc: 0.8917 - val_loss: 0.5382 - val_acc: 0.8178 - val_top2_acc: 0.9230 - val_top3_acc: 0.9594 - val_top5_acc: 0.9882\n",
      "Epoch 8/20\n",
      "90/90 [==============================] - 77s 757ms/step - loss: 1.3075 - acc: 0.5446 - top2_acc: 0.6997 - top3_acc: 0.7853 - top5_acc: 0.8893 - val_loss: 0.5382 - val_acc: 0.8178 - val_top2_acc: 0.9228 - val_top3_acc: 0.9594 - val_top5_acc: 0.9882\n",
      "Epoch 9/20\n",
      "90/90 [==============================] - 80s 792ms/step - loss: 1.2953 - acc: 0.5473 - top2_acc: 0.7002 - top3_acc: 0.7868 - top5_acc: 0.8913 - val_loss: 0.5383 - val_acc: 0.8178 - val_top2_acc: 0.9228 - val_top3_acc: 0.9596 - val_top5_acc: 0.9882\n",
      "Epoch 10/20\n",
      "90/90 [==============================] - 88s 884ms/step - loss: 1.2960 - acc: 0.5473 - top2_acc: 0.7009 - top3_acc: 0.7870 - top5_acc: 0.8926 - val_loss: 0.5382 - val_acc: 0.8178 - val_top2_acc: 0.9232 - val_top3_acc: 0.9596 - val_top5_acc: 0.9882\n",
      "Epoch 11/20\n",
      "90/90 [==============================] - 79s 776ms/step - loss: 1.3054 - acc: 0.5432 - top2_acc: 0.6990 - top3_acc: 0.7864 - top5_acc: 0.8909 - val_loss: 0.5382 - val_acc: 0.8178 - val_top2_acc: 0.9230 - val_top3_acc: 0.9596 - val_top5_acc: 0.9882\n",
      "Epoch 12/20\n",
      "90/90 [==============================] - 87s 864ms/step - loss: 1.3004 - acc: 0.5472 - top2_acc: 0.6991 - top3_acc: 0.7863 - top5_acc: 0.8892 - val_loss: 0.5382 - val_acc: 0.8178 - val_top2_acc: 0.9232 - val_top3_acc: 0.9596 - val_top5_acc: 0.9882\n",
      "Epoch 13/20\n",
      "90/90 [==============================] - 71s 694ms/step - loss: 1.3082 - acc: 0.5446 - top2_acc: 0.6973 - top3_acc: 0.7872 - top5_acc: 0.8909 - val_loss: 0.5382 - val_acc: 0.8180 - val_top2_acc: 0.9230 - val_top3_acc: 0.9596 - val_top5_acc: 0.9882\n",
      "Epoch 14/20\n",
      "90/90 [==============================] - 79s 781ms/step - loss: 1.3040 - acc: 0.5442 - top2_acc: 0.6985 - top3_acc: 0.7859 - top5_acc: 0.8892 - val_loss: 0.5382 - val_acc: 0.8180 - val_top2_acc: 0.9230 - val_top3_acc: 0.9596 - val_top5_acc: 0.9882\n",
      "Epoch 15/20\n",
      "90/90 [==============================] - 77s 770ms/step - loss: 1.3008 - acc: 0.5457 - top2_acc: 0.6982 - top3_acc: 0.7872 - top5_acc: 0.8918 - val_loss: 0.5382 - val_acc: 0.8180 - val_top2_acc: 0.9232 - val_top3_acc: 0.9594 - val_top5_acc: 0.9882\n",
      "Epoch 16/20\n",
      "90/90 [==============================] - 88s 886ms/step - loss: 1.3062 - acc: 0.5444 - top2_acc: 0.6969 - top3_acc: 0.7840 - top5_acc: 0.8906 - val_loss: 0.5382 - val_acc: 0.8180 - val_top2_acc: 0.9232 - val_top3_acc: 0.9592 - val_top5_acc: 0.9882\n",
      "Epoch 17/20\n",
      "90/90 [==============================] - 79s 775ms/step - loss: 1.2986 - acc: 0.5462 - top2_acc: 0.7022 - top3_acc: 0.7872 - top5_acc: 0.8925 - val_loss: 0.5381 - val_acc: 0.8180 - val_top2_acc: 0.9232 - val_top3_acc: 0.9594 - val_top5_acc: 0.9882\n",
      "Epoch 18/20\n",
      "90/90 [==============================] - 89s 888ms/step - loss: 1.2990 - acc: 0.5480 - top2_acc: 0.7023 - top3_acc: 0.7878 - top5_acc: 0.8905 - val_loss: 0.5382 - val_acc: 0.8180 - val_top2_acc: 0.9230 - val_top3_acc: 0.9594 - val_top5_acc: 0.9882\n",
      "Epoch 19/20\n",
      "90/90 [==============================] - 74s 739ms/step - loss: 1.3076 - acc: 0.5448 - top2_acc: 0.6972 - top3_acc: 0.7845 - top5_acc: 0.8886 - val_loss: 0.5382 - val_acc: 0.8180 - val_top2_acc: 0.9230 - val_top3_acc: 0.9592 - val_top5_acc: 0.9882\n",
      "Epoch 20/20\n",
      "90/90 [==============================] - 79s 778ms/step - loss: 1.2990 - acc: 0.5462 - top2_acc: 0.6955 - top3_acc: 0.7838 - top5_acc: 0.8893 - val_loss: 0.5382 - val_acc: 0.8182 - val_top2_acc: 0.9230 - val_top3_acc: 0.9594 - val_top5_acc: 0.9882\n"
     ]
    }
   ],
   "source": [
    "lr=1e-3\n",
    "for stage in range(1,11):\n",
    "    print(\"=\"*20+f'stage {stage}'+'='*20)\n",
    "    if not checkstage(os.path.join(model_path,'progressive_extended3'),stage):\n",
    "        fit_stage(stage,lr_base=lr,epochs=20,model_path=os.path.join(model_path,'progressive_extended3'),weight_decay=0.05,\n",
    "                  batch_size=batch_size,steps_per_epoch=90,\n",
    "                  use_paper_rand_augment=False,imagesize=32+4*(stage-1),progressive_fn=lambda s: s)\n",
    "        Mymodel.save_weights(os.path.join(model_path,'progressive_extended3',f's{stage}-final.hdf5'))\n",
    "    lr/=3"
   ]
  },
  {
   "cell_type": "code",
   "execution_count": 36,
   "metadata": {},
   "outputs": [
    {
     "name": "stdout",
     "output_type": "stream",
     "text": [
      "100/100 [==============================] - 3s 31ms/step - loss: 0.2569 - acc: 0.9293 - top2_acc: 0.9764 - top3_acc: 0.9894 - top5_acc: 0.9976\n"
     ]
    },
    {
     "data": {
      "text/plain": [
       "[0.25685909390449524,\n",
       " 0.9293400049209595,\n",
       " 0.976360023021698,\n",
       " 0.9894000291824341,\n",
       " 0.9975799918174744]"
      ]
     },
     "execution_count": 36,
     "metadata": {},
     "output_type": "execute_result"
    }
   ],
   "source": [
    "Mymodel.evaluate(test_ds)"
   ]
  },
  {
   "cell_type": "code",
   "execution_count": 37,
   "metadata": {},
   "outputs": [],
   "source": [
    "modified_efficientv2_base=Modified_EfficientV2base(act,decode_cfgs(v2_base_block_modified4),head_filters=1280)\n",
    "inputx=keras.Input((None,None,3))\n",
    "x=modified_efficientv2_base(inputx)\n",
    "x=keras.layers.Dense(10,activation='softmax')(x)\n",
    "Mymodel=keras.Model(inputs=inputx,outputs=x)"
   ]
  },
  {
   "cell_type": "code",
   "execution_count": 38,
   "metadata": {},
   "outputs": [
    {
     "name": "stdout",
     "output_type": "stream",
     "text": [
      "====================stage 1====================\n",
      "Epoch 1/20\n",
      "90/90 [==============================] - 98s 766ms/step - loss: 2.2952 - acc: 0.1773 - top2_acc: 0.3249 - top3_acc: 0.4435 - top5_acc: 0.6426 - val_loss: 1.8089 - val_acc: 0.3378 - val_top2_acc: 0.5500 - val_top3_acc: 0.6930 - val_top5_acc: 0.8544\n",
      "Epoch 2/20\n",
      "90/90 [==============================] - 73s 726ms/step - loss: 1.9106 - acc: 0.3012 - top2_acc: 0.4965 - top3_acc: 0.6314 - top5_acc: 0.8100 - val_loss: 1.6022 - val_acc: 0.3960 - val_top2_acc: 0.6298 - val_top3_acc: 0.7672 - val_top5_acc: 0.8978\n",
      "Epoch 3/20\n",
      "90/90 [==============================] - 78s 772ms/step - loss: 1.7783 - acc: 0.3492 - top2_acc: 0.5559 - top3_acc: 0.6867 - top5_acc: 0.8463 - val_loss: 1.5120 - val_acc: 0.4352 - val_top2_acc: 0.6774 - val_top3_acc: 0.7980 - val_top5_acc: 0.9124\n",
      "Epoch 4/20\n",
      "90/90 [==============================] - 89s 894ms/step - loss: 1.6770 - acc: 0.3903 - top2_acc: 0.5956 - top3_acc: 0.7228 - top5_acc: 0.8731 - val_loss: 1.3906 - val_acc: 0.4934 - val_top2_acc: 0.7250 - val_top3_acc: 0.8300 - val_top5_acc: 0.9306\n",
      "Epoch 5/20\n",
      "90/90 [==============================] - 70s 692ms/step - loss: 1.6082 - acc: 0.4182 - top2_acc: 0.6243 - top3_acc: 0.7469 - top5_acc: 0.8849 - val_loss: 1.3584 - val_acc: 0.5110 - val_top2_acc: 0.7202 - val_top3_acc: 0.8286 - val_top5_acc: 0.9326\n",
      "Epoch 6/20\n",
      "90/90 [==============================] - 78s 772ms/step - loss: 1.5104 - acc: 0.4567 - top2_acc: 0.6594 - top3_acc: 0.7728 - top5_acc: 0.9037 - val_loss: 1.2518 - val_acc: 0.5456 - val_top2_acc: 0.7554 - val_top3_acc: 0.8620 - val_top5_acc: 0.9466\n",
      "Epoch 7/20\n",
      "90/90 [==============================] - 86s 861ms/step - loss: 1.4489 - acc: 0.4845 - top2_acc: 0.6814 - top3_acc: 0.7912 - top5_acc: 0.9115 - val_loss: 1.1805 - val_acc: 0.5752 - val_top2_acc: 0.7828 - val_top3_acc: 0.8720 - val_top5_acc: 0.9550\n",
      "Epoch 8/20\n",
      "90/90 [==============================] - 71s 682ms/step - loss: 1.3559 - acc: 0.5158 - top2_acc: 0.7141 - top3_acc: 0.8153 - top5_acc: 0.9236 - val_loss: 1.0851 - val_acc: 0.6142 - val_top2_acc: 0.8056 - val_top3_acc: 0.8858 - val_top5_acc: 0.9618\n",
      "Epoch 9/20\n",
      "90/90 [==============================] - 79s 778ms/step - loss: 1.2937 - acc: 0.5373 - top2_acc: 0.7318 - top3_acc: 0.8285 - top5_acc: 0.9302 - val_loss: 1.0735 - val_acc: 0.6198 - val_top2_acc: 0.8004 - val_top3_acc: 0.8816 - val_top5_acc: 0.9560\n",
      "Epoch 10/20\n",
      "90/90 [==============================] - 82s 820ms/step - loss: 1.2224 - acc: 0.5675 - top2_acc: 0.7545 - top3_acc: 0.8452 - top5_acc: 0.9374 - val_loss: 0.9972 - val_acc: 0.6514 - val_top2_acc: 0.8252 - val_top3_acc: 0.9054 - val_top5_acc: 0.9652\n",
      "Epoch 11/20\n",
      "90/90 [==============================] - 70s 680ms/step - loss: 1.1905 - acc: 0.5777 - top2_acc: 0.7606 - top3_acc: 0.8511 - top5_acc: 0.9413 - val_loss: 0.9640 - val_acc: 0.6618 - val_top2_acc: 0.8324 - val_top3_acc: 0.9072 - val_top5_acc: 0.9654\n",
      "Epoch 12/20\n",
      "90/90 [==============================] - 71s 689ms/step - loss: 1.1315 - acc: 0.5978 - top2_acc: 0.7794 - top3_acc: 0.8660 - top5_acc: 0.9474 - val_loss: 0.9100 - val_acc: 0.6790 - val_top2_acc: 0.8486 - val_top3_acc: 0.9146 - val_top5_acc: 0.9770\n",
      "Epoch 13/20\n",
      "90/90 [==============================] - 80s 793ms/step - loss: 1.0939 - acc: 0.6163 - top2_acc: 0.7910 - top3_acc: 0.8712 - top5_acc: 0.9518 - val_loss: 0.8952 - val_acc: 0.6876 - val_top2_acc: 0.8420 - val_top3_acc: 0.9148 - val_top5_acc: 0.9728\n",
      "Epoch 14/20\n",
      "90/90 [==============================] - 83s 840ms/step - loss: 1.0504 - acc: 0.6311 - top2_acc: 0.8011 - top3_acc: 0.8797 - top5_acc: 0.9562 - val_loss: 0.8725 - val_acc: 0.6946 - val_top2_acc: 0.8538 - val_top3_acc: 0.9222 - val_top5_acc: 0.9748\n",
      "Epoch 15/20\n",
      "90/90 [==============================] - 69s 672ms/step - loss: 1.0138 - acc: 0.6436 - top2_acc: 0.8107 - top3_acc: 0.8863 - top5_acc: 0.9601 - val_loss: 0.8207 - val_acc: 0.7162 - val_top2_acc: 0.8596 - val_top3_acc: 0.9262 - val_top5_acc: 0.9812\n",
      "Epoch 16/20\n",
      "90/90 [==============================] - 74s 728ms/step - loss: 0.9911 - acc: 0.6504 - top2_acc: 0.8169 - top3_acc: 0.8928 - top5_acc: 0.9593 - val_loss: 0.8106 - val_acc: 0.7186 - val_top2_acc: 0.8708 - val_top3_acc: 0.9290 - val_top5_acc: 0.9782\n",
      "Epoch 17/20\n",
      "90/90 [==============================] - 78s 776ms/step - loss: 0.9525 - acc: 0.6662 - top2_acc: 0.8275 - top3_acc: 0.8990 - top5_acc: 0.9629 - val_loss: 0.8161 - val_acc: 0.7246 - val_top2_acc: 0.8662 - val_top3_acc: 0.9316 - val_top5_acc: 0.9762\n",
      "Epoch 18/20\n",
      "90/90 [==============================] - 89s 893ms/step - loss: 0.9381 - acc: 0.6730 - top2_acc: 0.8297 - top3_acc: 0.8993 - top5_acc: 0.9642 - val_loss: 0.7894 - val_acc: 0.7244 - val_top2_acc: 0.8770 - val_top3_acc: 0.9368 - val_top5_acc: 0.9772\n",
      "Epoch 19/20\n",
      "90/90 [==============================] - 74s 733ms/step - loss: 0.9026 - acc: 0.6854 - top2_acc: 0.8396 - top3_acc: 0.9067 - top5_acc: 0.9667 - val_loss: 0.7701 - val_acc: 0.7328 - val_top2_acc: 0.8760 - val_top3_acc: 0.9366 - val_top5_acc: 0.9814\n",
      "Epoch 20/20\n",
      "90/90 [==============================] - 80s 787ms/step - loss: 0.8738 - acc: 0.6966 - top2_acc: 0.8446 - top3_acc: 0.9096 - top5_acc: 0.9672 - val_loss: 0.7882 - val_acc: 0.7326 - val_top2_acc: 0.8732 - val_top3_acc: 0.9326 - val_top5_acc: 0.9766\n",
      "====================stage 2====================\n",
      "Epoch 1/20\n",
      "90/90 [==============================] - 96s 776ms/step - loss: 0.8092 - acc: 0.7208 - top2_acc: 0.8592 - top3_acc: 0.9196 - top5_acc: 0.9701 - val_loss: 0.6953 - val_acc: 0.7596 - val_top2_acc: 0.8872 - val_top3_acc: 0.9430 - val_top5_acc: 0.9814\n",
      "Epoch 2/20\n",
      "90/90 [==============================] - 76s 756ms/step - loss: 0.7652 - acc: 0.7356 - top2_acc: 0.8706 - top3_acc: 0.9250 - top5_acc: 0.9744 - val_loss: 0.6894 - val_acc: 0.7620 - val_top2_acc: 0.8962 - val_top3_acc: 0.9468 - val_top5_acc: 0.9828\n",
      "Epoch 3/20\n",
      "90/90 [==============================] - 80s 792ms/step - loss: 0.7620 - acc: 0.7356 - top2_acc: 0.8697 - top3_acc: 0.9284 - top5_acc: 0.9745 - val_loss: 0.6834 - val_acc: 0.7642 - val_top2_acc: 0.8986 - val_top3_acc: 0.9470 - val_top5_acc: 0.9830\n",
      "Epoch 4/20\n",
      "90/90 [==============================] - 89s 885ms/step - loss: 0.7680 - acc: 0.7342 - top2_acc: 0.8680 - top3_acc: 0.9246 - top5_acc: 0.9737 - val_loss: 0.7061 - val_acc: 0.7592 - val_top2_acc: 0.8888 - val_top3_acc: 0.9444 - val_top5_acc: 0.9802\n",
      "Epoch 5/20\n",
      "90/90 [==============================] - 81s 798ms/step - loss: 0.7694 - acc: 0.7321 - top2_acc: 0.8682 - top3_acc: 0.9259 - top5_acc: 0.9738 - val_loss: 0.7230 - val_acc: 0.7600 - val_top2_acc: 0.8870 - val_top3_acc: 0.9436 - val_top5_acc: 0.9820\n",
      "Epoch 6/20\n",
      "90/90 [==============================] - 86s 857ms/step - loss: 0.7641 - acc: 0.7356 - top2_acc: 0.8688 - top3_acc: 0.9262 - top5_acc: 0.9750 - val_loss: 0.6919 - val_acc: 0.7678 - val_top2_acc: 0.8964 - val_top3_acc: 0.9448 - val_top5_acc: 0.9810\n",
      "Epoch 7/20\n",
      "90/90 [==============================] - 72s 697ms/step - loss: 0.7460 - acc: 0.7426 - top2_acc: 0.8736 - top3_acc: 0.9292 - top5_acc: 0.9748 - val_loss: 0.6737 - val_acc: 0.7704 - val_top2_acc: 0.8948 - val_top3_acc: 0.9482 - val_top5_acc: 0.9812\n",
      "Epoch 8/20\n",
      "90/90 [==============================] - 80s 788ms/step - loss: 0.7316 - acc: 0.7475 - top2_acc: 0.8762 - top3_acc: 0.9304 - top5_acc: 0.9758 - val_loss: 0.6721 - val_acc: 0.7720 - val_top2_acc: 0.8978 - val_top3_acc: 0.9476 - val_top5_acc: 0.9848\n",
      "Epoch 9/20\n",
      "90/90 [==============================] - 83s 829ms/step - loss: 0.7218 - acc: 0.7520 - top2_acc: 0.8792 - top3_acc: 0.9323 - top5_acc: 0.9762 - val_loss: 0.6940 - val_acc: 0.7678 - val_top2_acc: 0.8912 - val_top3_acc: 0.9448 - val_top5_acc: 0.9824\n",
      "Epoch 10/20\n",
      "90/90 [==============================] - 71s 691ms/step - loss: 0.7087 - acc: 0.7563 - top2_acc: 0.8836 - top3_acc: 0.9347 - top5_acc: 0.9772 - val_loss: 0.6822 - val_acc: 0.7726 - val_top2_acc: 0.8954 - val_top3_acc: 0.9480 - val_top5_acc: 0.9832\n",
      "Epoch 11/20\n",
      "90/90 [==============================] - 75s 732ms/step - loss: 0.6918 - acc: 0.7630 - top2_acc: 0.8856 - top3_acc: 0.9353 - top5_acc: 0.9768 - val_loss: 0.6681 - val_acc: 0.7756 - val_top2_acc: 0.8988 - val_top3_acc: 0.9468 - val_top5_acc: 0.9838\n",
      "Epoch 12/20\n",
      "90/90 [==============================] - 80s 791ms/step - loss: 0.6847 - acc: 0.7652 - top2_acc: 0.8860 - top3_acc: 0.9353 - top5_acc: 0.9773 - val_loss: 0.6676 - val_acc: 0.7762 - val_top2_acc: 0.9012 - val_top3_acc: 0.9490 - val_top5_acc: 0.9834\n",
      "Epoch 13/20\n",
      "90/90 [==============================] - 88s 880ms/step - loss: 0.6675 - acc: 0.7709 - top2_acc: 0.8894 - top3_acc: 0.9389 - top5_acc: 0.9789 - val_loss: 0.6838 - val_acc: 0.7704 - val_top2_acc: 0.8922 - val_top3_acc: 0.9412 - val_top5_acc: 0.9838\n",
      "Epoch 14/20\n",
      "90/90 [==============================] - 79s 769ms/step - loss: 0.6675 - acc: 0.7724 - top2_acc: 0.8905 - top3_acc: 0.9389 - top5_acc: 0.9793 - val_loss: 0.6703 - val_acc: 0.7734 - val_top2_acc: 0.9018 - val_top3_acc: 0.9490 - val_top5_acc: 0.9828\n",
      "Epoch 15/20\n",
      "90/90 [==============================] - 82s 815ms/step - loss: 0.6427 - acc: 0.7801 - top2_acc: 0.8957 - top3_acc: 0.9404 - top5_acc: 0.9800 - val_loss: 0.6535 - val_acc: 0.7880 - val_top2_acc: 0.9062 - val_top3_acc: 0.9512 - val_top5_acc: 0.9832\n",
      "Epoch 16/20\n",
      "90/90 [==============================] - 89s 891ms/step - loss: 0.6488 - acc: 0.7771 - top2_acc: 0.8950 - top3_acc: 0.9407 - top5_acc: 0.9802 - val_loss: 0.6667 - val_acc: 0.7784 - val_top2_acc: 0.9054 - val_top3_acc: 0.9544 - val_top5_acc: 0.9852\n",
      "Epoch 17/20\n",
      "90/90 [==============================] - 80s 784ms/step - loss: 0.6374 - acc: 0.7824 - top2_acc: 0.8972 - top3_acc: 0.9414 - top5_acc: 0.9797 - val_loss: 0.6605 - val_acc: 0.7784 - val_top2_acc: 0.9042 - val_top3_acc: 0.9530 - val_top5_acc: 0.9854\n",
      "Epoch 18/20\n",
      "90/90 [==============================] - 90s 899ms/step - loss: 0.6137 - acc: 0.7930 - top2_acc: 0.9020 - top3_acc: 0.9453 - top5_acc: 0.9803 - val_loss: 0.6504 - val_acc: 0.7864 - val_top2_acc: 0.9064 - val_top3_acc: 0.9550 - val_top5_acc: 0.9842\n",
      "Epoch 19/20\n",
      "90/90 [==============================] - 76s 759ms/step - loss: 0.6085 - acc: 0.7929 - top2_acc: 0.9036 - top3_acc: 0.9453 - top5_acc: 0.9803 - val_loss: 0.6502 - val_acc: 0.7840 - val_top2_acc: 0.9074 - val_top3_acc: 0.9534 - val_top5_acc: 0.9852\n",
      "Epoch 20/20\n",
      "90/90 [==============================] - 80s 794ms/step - loss: 0.6077 - acc: 0.7940 - top2_acc: 0.9020 - top3_acc: 0.9459 - top5_acc: 0.9805 - val_loss: 0.6546 - val_acc: 0.7822 - val_top2_acc: 0.9050 - val_top3_acc: 0.9546 - val_top5_acc: 0.9846\n",
      "====================stage 3====================\n",
      "Epoch 1/20\n",
      "90/90 [==============================] - 97s 776ms/step - loss: 0.6264 - acc: 0.7882 - top2_acc: 0.8987 - top3_acc: 0.9418 - top5_acc: 0.9797 - val_loss: 0.6268 - val_acc: 0.7910 - val_top2_acc: 0.9102 - val_top3_acc: 0.9560 - val_top5_acc: 0.9854\n",
      "Epoch 2/20\n",
      "90/90 [==============================] - 76s 756ms/step - loss: 0.6072 - acc: 0.7934 - top2_acc: 0.9005 - top3_acc: 0.9438 - top5_acc: 0.9812 - val_loss: 0.6198 - val_acc: 0.7940 - val_top2_acc: 0.9116 - val_top3_acc: 0.9576 - val_top5_acc: 0.9858\n",
      "Epoch 3/20\n",
      "90/90 [==============================] - 80s 791ms/step - loss: 0.5949 - acc: 0.8001 - top2_acc: 0.9041 - top3_acc: 0.9453 - top5_acc: 0.9821 - val_loss: 0.6303 - val_acc: 0.7962 - val_top2_acc: 0.9112 - val_top3_acc: 0.9564 - val_top5_acc: 0.9848\n",
      "Epoch 4/20\n",
      "90/90 [==============================] - 88s 875ms/step - loss: 0.6090 - acc: 0.7934 - top2_acc: 0.8975 - top3_acc: 0.9421 - top5_acc: 0.9800 - val_loss: 0.6280 - val_acc: 0.7944 - val_top2_acc: 0.9094 - val_top3_acc: 0.9558 - val_top5_acc: 0.9856\n",
      "Epoch 5/20\n",
      "90/90 [==============================] - 82s 805ms/step - loss: 0.6042 - acc: 0.7962 - top2_acc: 0.9020 - top3_acc: 0.9437 - top5_acc: 0.9807 - val_loss: 0.6338 - val_acc: 0.7884 - val_top2_acc: 0.9080 - val_top3_acc: 0.9572 - val_top5_acc: 0.9862\n",
      "Epoch 6/20\n",
      "90/90 [==============================] - 84s 846ms/step - loss: 0.5957 - acc: 0.7991 - top2_acc: 0.9028 - top3_acc: 0.9456 - top5_acc: 0.9813 - val_loss: 0.6286 - val_acc: 0.7976 - val_top2_acc: 0.9126 - val_top3_acc: 0.9552 - val_top5_acc: 0.9858\n",
      "Epoch 7/20\n",
      "90/90 [==============================] - 72s 697ms/step - loss: 0.5866 - acc: 0.8022 - top2_acc: 0.9050 - top3_acc: 0.9465 - top5_acc: 0.9820 - val_loss: 0.6328 - val_acc: 0.7952 - val_top2_acc: 0.9114 - val_top3_acc: 0.9528 - val_top5_acc: 0.9854\n",
      "Epoch 8/20\n",
      "90/90 [==============================] - 81s 795ms/step - loss: 0.5821 - acc: 0.8037 - top2_acc: 0.9061 - top3_acc: 0.9477 - top5_acc: 0.9818 - val_loss: 0.6356 - val_acc: 0.7986 - val_top2_acc: 0.9106 - val_top3_acc: 0.9550 - val_top5_acc: 0.9854\n",
      "Epoch 9/20\n",
      "90/90 [==============================] - 83s 831ms/step - loss: 0.5839 - acc: 0.8041 - top2_acc: 0.9056 - top3_acc: 0.9471 - top5_acc: 0.9821 - val_loss: 0.6295 - val_acc: 0.7944 - val_top2_acc: 0.9126 - val_top3_acc: 0.9558 - val_top5_acc: 0.9860\n",
      "Epoch 10/20\n",
      "90/90 [==============================] - 71s 688ms/step - loss: 0.5742 - acc: 0.8083 - top2_acc: 0.9084 - top3_acc: 0.9474 - top5_acc: 0.9818 - val_loss: 0.6368 - val_acc: 0.7904 - val_top2_acc: 0.9094 - val_top3_acc: 0.9560 - val_top5_acc: 0.9860\n",
      "Epoch 11/20\n",
      "90/90 [==============================] - 77s 744ms/step - loss: 0.5733 - acc: 0.8062 - top2_acc: 0.9081 - top3_acc: 0.9484 - top5_acc: 0.9828 - val_loss: 0.6385 - val_acc: 0.7970 - val_top2_acc: 0.9108 - val_top3_acc: 0.9546 - val_top5_acc: 0.9858\n",
      "Epoch 12/20\n",
      "90/90 [==============================] - 80s 786ms/step - loss: 0.5714 - acc: 0.8065 - top2_acc: 0.9088 - top3_acc: 0.9480 - top5_acc: 0.9820 - val_loss: 0.6328 - val_acc: 0.7950 - val_top2_acc: 0.9122 - val_top3_acc: 0.9560 - val_top5_acc: 0.9856\n",
      "Epoch 13/20\n",
      "90/90 [==============================] - 89s 885ms/step - loss: 0.5615 - acc: 0.8114 - top2_acc: 0.9084 - top3_acc: 0.9489 - top5_acc: 0.9826 - val_loss: 0.6314 - val_acc: 0.7992 - val_top2_acc: 0.9158 - val_top3_acc: 0.9568 - val_top5_acc: 0.9870\n",
      "Epoch 14/20\n",
      "90/90 [==============================] - 80s 783ms/step - loss: 0.5603 - acc: 0.8116 - top2_acc: 0.9126 - top3_acc: 0.9505 - top5_acc: 0.9827 - val_loss: 0.6436 - val_acc: 0.7950 - val_top2_acc: 0.9124 - val_top3_acc: 0.9542 - val_top5_acc: 0.9866\n",
      "Epoch 15/20\n",
      "90/90 [==============================] - 83s 817ms/step - loss: 0.5614 - acc: 0.8116 - top2_acc: 0.9102 - top3_acc: 0.9494 - top5_acc: 0.9825 - val_loss: 0.6276 - val_acc: 0.7982 - val_top2_acc: 0.9098 - val_top3_acc: 0.9552 - val_top5_acc: 0.9862\n",
      "Epoch 16/20\n",
      "90/90 [==============================] - 72s 693ms/step - loss: 0.5552 - acc: 0.8148 - top2_acc: 0.9124 - top3_acc: 0.9490 - top5_acc: 0.9825 - val_loss: 0.6345 - val_acc: 0.8000 - val_top2_acc: 0.9124 - val_top3_acc: 0.9546 - val_top5_acc: 0.9864\n",
      "Epoch 17/20\n",
      "90/90 [==============================] - 76s 746ms/step - loss: 0.5490 - acc: 0.8161 - top2_acc: 0.9126 - top3_acc: 0.9513 - top5_acc: 0.9829 - val_loss: 0.6296 - val_acc: 0.8022 - val_top2_acc: 0.9132 - val_top3_acc: 0.9544 - val_top5_acc: 0.9870\n",
      "Epoch 18/20\n",
      "90/90 [==============================] - 80s 785ms/step - loss: 0.5453 - acc: 0.8162 - top2_acc: 0.9119 - top3_acc: 0.9494 - top5_acc: 0.9825 - val_loss: 0.6246 - val_acc: 0.7952 - val_top2_acc: 0.9142 - val_top3_acc: 0.9568 - val_top5_acc: 0.9874\n",
      "Epoch 19/20\n",
      "90/90 [==============================] - 88s 880ms/step - loss: 0.5469 - acc: 0.8184 - top2_acc: 0.9121 - top3_acc: 0.9499 - top5_acc: 0.9817 - val_loss: 0.6393 - val_acc: 0.7942 - val_top2_acc: 0.9100 - val_top3_acc: 0.9536 - val_top5_acc: 0.9874\n",
      "Epoch 20/20\n",
      "90/90 [==============================] - 80s 782ms/step - loss: 0.5452 - acc: 0.8166 - top2_acc: 0.9130 - top3_acc: 0.9515 - top5_acc: 0.9830 - val_loss: 0.6510 - val_acc: 0.7956 - val_top2_acc: 0.9108 - val_top3_acc: 0.9524 - val_top5_acc: 0.9868\n",
      "====================stage 4====================\n",
      "Epoch 1/20\n",
      "90/90 [==============================] - 95s 770ms/step - loss: 0.6370 - acc: 0.7864 - top2_acc: 0.8915 - top3_acc: 0.9364 - top5_acc: 0.9765 - val_loss: 0.6315 - val_acc: 0.7990 - val_top2_acc: 0.9112 - val_top3_acc: 0.9532 - val_top5_acc: 0.9870\n",
      "Epoch 2/20\n",
      "90/90 [==============================] - 73s 718ms/step - loss: 0.6143 - acc: 0.7921 - top2_acc: 0.8979 - top3_acc: 0.9411 - top5_acc: 0.9786 - val_loss: 0.6208 - val_acc: 0.8018 - val_top2_acc: 0.9116 - val_top3_acc: 0.9548 - val_top5_acc: 0.9866\n",
      "Epoch 3/20\n"
     ]
    },
    {
     "name": "stdout",
     "output_type": "stream",
     "text": [
      "90/90 [==============================] - 73s 710ms/step - loss: 0.6146 - acc: 0.7930 - top2_acc: 0.8961 - top3_acc: 0.9406 - top5_acc: 0.9791 - val_loss: 0.6213 - val_acc: 0.8028 - val_top2_acc: 0.9158 - val_top3_acc: 0.9554 - val_top5_acc: 0.9862\n",
      "Epoch 4/20\n",
      "90/90 [==============================] - 72s 718ms/step - loss: 0.6264 - acc: 0.7903 - top2_acc: 0.8950 - top3_acc: 0.9375 - top5_acc: 0.9775 - val_loss: 0.6103 - val_acc: 0.7982 - val_top2_acc: 0.9158 - val_top3_acc: 0.9560 - val_top5_acc: 0.9864\n",
      "Epoch 5/20\n",
      "90/90 [==============================] - 84s 853ms/step - loss: 0.6144 - acc: 0.7962 - top2_acc: 0.8968 - top3_acc: 0.9415 - top5_acc: 0.9784 - val_loss: 0.6172 - val_acc: 0.8042 - val_top2_acc: 0.9134 - val_top3_acc: 0.9554 - val_top5_acc: 0.9870\n",
      "Epoch 6/20\n",
      "90/90 [==============================] - 76s 740ms/step - loss: 0.6124 - acc: 0.7958 - top2_acc: 0.8975 - top3_acc: 0.9411 - top5_acc: 0.9788 - val_loss: 0.6107 - val_acc: 0.8006 - val_top2_acc: 0.9138 - val_top3_acc: 0.9552 - val_top5_acc: 0.9868\n",
      "Epoch 7/20\n",
      "90/90 [==============================] - 79s 784ms/step - loss: 0.6176 - acc: 0.7919 - top2_acc: 0.8964 - top3_acc: 0.9407 - top5_acc: 0.9783 - val_loss: 0.6088 - val_acc: 0.8030 - val_top2_acc: 0.9140 - val_top3_acc: 0.9534 - val_top5_acc: 0.9872\n",
      "Epoch 8/20\n",
      "90/90 [==============================] - 88s 875ms/step - loss: 0.6109 - acc: 0.7953 - top2_acc: 0.8990 - top3_acc: 0.9410 - top5_acc: 0.9788 - val_loss: 0.6069 - val_acc: 0.8052 - val_top2_acc: 0.9158 - val_top3_acc: 0.9538 - val_top5_acc: 0.9876\n",
      "Epoch 9/20\n",
      "90/90 [==============================] - 80s 791ms/step - loss: 0.6133 - acc: 0.7954 - top2_acc: 0.8968 - top3_acc: 0.9398 - top5_acc: 0.9791 - val_loss: 0.6034 - val_acc: 0.8018 - val_top2_acc: 0.9148 - val_top3_acc: 0.9546 - val_top5_acc: 0.9882\n",
      "Epoch 10/20\n",
      "90/90 [==============================] - 82s 815ms/step - loss: 0.6146 - acc: 0.7942 - top2_acc: 0.8964 - top3_acc: 0.9390 - top5_acc: 0.9778 - val_loss: 0.6016 - val_acc: 0.8032 - val_top2_acc: 0.9160 - val_top3_acc: 0.9536 - val_top5_acc: 0.9878\n",
      "Epoch 11/20\n",
      "90/90 [==============================] - 71s 689ms/step - loss: 0.6003 - acc: 0.7981 - top2_acc: 0.8999 - top3_acc: 0.9426 - top5_acc: 0.9795 - val_loss: 0.6110 - val_acc: 0.8044 - val_top2_acc: 0.9166 - val_top3_acc: 0.9554 - val_top5_acc: 0.9866\n",
      "Epoch 12/20\n",
      "90/90 [==============================] - 75s 731ms/step - loss: 0.6096 - acc: 0.7955 - top2_acc: 0.8990 - top3_acc: 0.9409 - top5_acc: 0.9785 - val_loss: 0.6125 - val_acc: 0.8028 - val_top2_acc: 0.9146 - val_top3_acc: 0.9558 - val_top5_acc: 0.9866\n",
      "Epoch 13/20\n",
      "90/90 [==============================] - 79s 779ms/step - loss: 0.6125 - acc: 0.7940 - top2_acc: 0.8970 - top3_acc: 0.9412 - top5_acc: 0.9791 - val_loss: 0.6044 - val_acc: 0.8042 - val_top2_acc: 0.9162 - val_top3_acc: 0.9550 - val_top5_acc: 0.9882\n",
      "Epoch 14/20\n",
      "90/90 [==============================] - 90s 891ms/step - loss: 0.6113 - acc: 0.7948 - top2_acc: 0.8967 - top3_acc: 0.9395 - top5_acc: 0.9787 - val_loss: 0.6056 - val_acc: 0.8012 - val_top2_acc: 0.9166 - val_top3_acc: 0.9558 - val_top5_acc: 0.9874\n",
      "Epoch 15/20\n",
      "90/90 [==============================] - 74s 730ms/step - loss: 0.6078 - acc: 0.7975 - top2_acc: 0.8986 - top3_acc: 0.9417 - top5_acc: 0.9784 - val_loss: 0.6100 - val_acc: 0.8010 - val_top2_acc: 0.9144 - val_top3_acc: 0.9564 - val_top5_acc: 0.9874\n",
      "Epoch 16/20\n",
      "90/90 [==============================] - 80s 785ms/step - loss: 0.6043 - acc: 0.7965 - top2_acc: 0.8996 - top3_acc: 0.9407 - top5_acc: 0.9789 - val_loss: 0.6078 - val_acc: 0.8026 - val_top2_acc: 0.9158 - val_top3_acc: 0.9566 - val_top5_acc: 0.9858\n",
      "Epoch 17/20\n",
      "90/90 [==============================] - 88s 878ms/step - loss: 0.5960 - acc: 0.8023 - top2_acc: 0.9029 - top3_acc: 0.9433 - top5_acc: 0.9787 - val_loss: 0.6069 - val_acc: 0.8016 - val_top2_acc: 0.9156 - val_top3_acc: 0.9552 - val_top5_acc: 0.9868\n",
      "Epoch 18/20\n",
      "90/90 [==============================] - 77s 759ms/step - loss: 0.6042 - acc: 0.7973 - top2_acc: 0.8992 - top3_acc: 0.9415 - top5_acc: 0.9788 - val_loss: 0.6078 - val_acc: 0.8018 - val_top2_acc: 0.9142 - val_top3_acc: 0.9542 - val_top5_acc: 0.9876\n",
      "Epoch 19/20\n",
      "90/90 [==============================] - 86s 858ms/step - loss: 0.5987 - acc: 0.7983 - top2_acc: 0.9006 - top3_acc: 0.9431 - top5_acc: 0.9797 - val_loss: 0.6067 - val_acc: 0.8018 - val_top2_acc: 0.9148 - val_top3_acc: 0.9562 - val_top5_acc: 0.9862\n",
      "Epoch 20/20\n",
      "90/90 [==============================] - 79s 766ms/step - loss: 0.5969 - acc: 0.8004 - top2_acc: 0.9007 - top3_acc: 0.9427 - top5_acc: 0.9787 - val_loss: 0.6097 - val_acc: 0.8040 - val_top2_acc: 0.9152 - val_top3_acc: 0.9576 - val_top5_acc: 0.9872\n",
      "====================stage 5====================\n",
      "Epoch 1/20\n",
      "90/90 [==============================] - 99s 801ms/step - loss: 0.7384 - acc: 0.7521 - top2_acc: 0.8669 - top3_acc: 0.9194 - top5_acc: 0.9696 - val_loss: 0.6066 - val_acc: 0.8052 - val_top2_acc: 0.9136 - val_top3_acc: 0.9564 - val_top5_acc: 0.9876\n",
      "Epoch 2/20\n",
      "90/90 [==============================] - 84s 825ms/step - loss: 0.7287 - acc: 0.7553 - top2_acc: 0.8702 - top3_acc: 0.9224 - top5_acc: 0.9700 - val_loss: 0.5981 - val_acc: 0.8032 - val_top2_acc: 0.9138 - val_top3_acc: 0.9564 - val_top5_acc: 0.9880\n",
      "Epoch 3/20\n",
      "90/90 [==============================] - 88s 893ms/step - loss: 0.7253 - acc: 0.7559 - top2_acc: 0.8693 - top3_acc: 0.9206 - top5_acc: 0.9708 - val_loss: 0.5982 - val_acc: 0.8052 - val_top2_acc: 0.9138 - val_top3_acc: 0.9554 - val_top5_acc: 0.9876\n",
      "Epoch 4/20\n",
      "90/90 [==============================] - 85s 830ms/step - loss: 0.7332 - acc: 0.7536 - top2_acc: 0.8682 - top3_acc: 0.9197 - top5_acc: 0.9689 - val_loss: 0.5935 - val_acc: 0.8042 - val_top2_acc: 0.9158 - val_top3_acc: 0.9564 - val_top5_acc: 0.9878\n",
      "Epoch 5/20\n",
      "90/90 [==============================] - 87s 866ms/step - loss: 0.7284 - acc: 0.7568 - top2_acc: 0.8683 - top3_acc: 0.9198 - top5_acc: 0.9684 - val_loss: 0.5999 - val_acc: 0.8054 - val_top2_acc: 0.9154 - val_top3_acc: 0.9556 - val_top5_acc: 0.9874\n",
      "Epoch 6/20\n",
      "90/90 [==============================] - 82s 789ms/step - loss: 0.7261 - acc: 0.7554 - top2_acc: 0.8703 - top3_acc: 0.9221 - top5_acc: 0.9698 - val_loss: 0.5993 - val_acc: 0.8040 - val_top2_acc: 0.9148 - val_top3_acc: 0.9556 - val_top5_acc: 0.9876\n",
      "Epoch 7/20\n",
      "90/90 [==============================] - 83s 809ms/step - loss: 0.7330 - acc: 0.7525 - top2_acc: 0.8680 - top3_acc: 0.9201 - top5_acc: 0.9685 - val_loss: 0.5924 - val_acc: 0.8076 - val_top2_acc: 0.9140 - val_top3_acc: 0.9556 - val_top5_acc: 0.9874\n",
      "Epoch 8/20\n",
      "90/90 [==============================] - 93s 911ms/step - loss: 0.7165 - acc: 0.7600 - top2_acc: 0.8727 - top3_acc: 0.9243 - top5_acc: 0.9713 - val_loss: 0.5978 - val_acc: 0.8044 - val_top2_acc: 0.9134 - val_top3_acc: 0.9568 - val_top5_acc: 0.9876\n",
      "Epoch 9/20\n",
      "90/90 [==============================] - 84s 819ms/step - loss: 0.7215 - acc: 0.7557 - top2_acc: 0.8716 - top3_acc: 0.9243 - top5_acc: 0.9699 - val_loss: 0.5914 - val_acc: 0.8054 - val_top2_acc: 0.9160 - val_top3_acc: 0.9554 - val_top5_acc: 0.9880\n",
      "Epoch 10/20\n",
      "90/90 [==============================] - 94s 927ms/step - loss: 0.7131 - acc: 0.7603 - top2_acc: 0.8729 - top3_acc: 0.9237 - top5_acc: 0.9702 - val_loss: 0.6002 - val_acc: 0.8036 - val_top2_acc: 0.9156 - val_top3_acc: 0.9570 - val_top5_acc: 0.9870\n",
      "Epoch 11/20\n",
      "90/90 [==============================] - 83s 818ms/step - loss: 0.7238 - acc: 0.7548 - top2_acc: 0.8718 - top3_acc: 0.9216 - top5_acc: 0.9687 - val_loss: 0.5946 - val_acc: 0.8044 - val_top2_acc: 0.9152 - val_top3_acc: 0.9564 - val_top5_acc: 0.9878\n",
      "Epoch 12/20\n",
      "90/90 [==============================] - 91s 906ms/step - loss: 0.7252 - acc: 0.7553 - top2_acc: 0.8711 - top3_acc: 0.9220 - top5_acc: 0.9702 - val_loss: 0.5922 - val_acc: 0.8066 - val_top2_acc: 0.9154 - val_top3_acc: 0.9566 - val_top5_acc: 0.9868\n",
      "Epoch 13/20\n",
      "90/90 [==============================] - 81s 787ms/step - loss: 0.7269 - acc: 0.7524 - top2_acc: 0.8702 - top3_acc: 0.9211 - top5_acc: 0.9699 - val_loss: 0.5937 - val_acc: 0.8026 - val_top2_acc: 0.9154 - val_top3_acc: 0.9566 - val_top5_acc: 0.9866\n",
      "Epoch 14/20\n",
      "90/90 [==============================] - 87s 856ms/step - loss: 0.7144 - acc: 0.7578 - top2_acc: 0.8744 - top3_acc: 0.9236 - top5_acc: 0.9701 - val_loss: 0.5970 - val_acc: 0.8042 - val_top2_acc: 0.9154 - val_top3_acc: 0.9568 - val_top5_acc: 0.9870\n",
      "Epoch 15/20\n",
      "90/90 [==============================] - 78s 748ms/step - loss: 0.7187 - acc: 0.7594 - top2_acc: 0.8737 - top3_acc: 0.9239 - top5_acc: 0.9699 - val_loss: 0.5956 - val_acc: 0.8042 - val_top2_acc: 0.9134 - val_top3_acc: 0.9576 - val_top5_acc: 0.9864\n",
      "Epoch 16/20\n",
      "90/90 [==============================] - 86s 838ms/step - loss: 0.7182 - acc: 0.7566 - top2_acc: 0.8720 - top3_acc: 0.9232 - top5_acc: 0.9702 - val_loss: 0.5940 - val_acc: 0.8052 - val_top2_acc: 0.9148 - val_top3_acc: 0.9570 - val_top5_acc: 0.9862\n",
      "Epoch 17/20\n",
      "90/90 [==============================] - 94s 920ms/step - loss: 0.7215 - acc: 0.7561 - top2_acc: 0.8716 - top3_acc: 0.9222 - top5_acc: 0.9698 - val_loss: 0.5952 - val_acc: 0.8050 - val_top2_acc: 0.9150 - val_top3_acc: 0.9570 - val_top5_acc: 0.9870\n",
      "Epoch 18/20\n",
      "90/90 [==============================] - 86s 852ms/step - loss: 0.7182 - acc: 0.7584 - top2_acc: 0.8744 - top3_acc: 0.9240 - top5_acc: 0.9702 - val_loss: 0.5956 - val_acc: 0.8034 - val_top2_acc: 0.9158 - val_top3_acc: 0.9580 - val_top5_acc: 0.9872\n",
      "Epoch 19/20\n",
      "90/90 [==============================] - 91s 906ms/step - loss: 0.7072 - acc: 0.7615 - top2_acc: 0.8728 - top3_acc: 0.9239 - top5_acc: 0.9709 - val_loss: 0.5969 - val_acc: 0.8014 - val_top2_acc: 0.9146 - val_top3_acc: 0.9576 - val_top5_acc: 0.9872\n",
      "Epoch 20/20\n",
      "90/90 [==============================] - 73s 727ms/step - loss: 0.7181 - acc: 0.7584 - top2_acc: 0.8737 - top3_acc: 0.9241 - top5_acc: 0.9717 - val_loss: 0.5946 - val_acc: 0.8042 - val_top2_acc: 0.9148 - val_top3_acc: 0.9572 - val_top5_acc: 0.9872\n",
      "====================stage 6====================\n",
      "Epoch 1/20\n",
      "90/90 [==============================] - 97s 776ms/step - loss: 0.9053 - acc: 0.6963 - top2_acc: 0.8258 - top3_acc: 0.8894 - top5_acc: 0.9527 - val_loss: 0.5933 - val_acc: 0.8042 - val_top2_acc: 0.9144 - val_top3_acc: 0.9568 - val_top5_acc: 0.9870\n",
      "Epoch 2/20\n",
      "90/90 [==============================] - 76s 751ms/step - loss: 0.8914 - acc: 0.7018 - top2_acc: 0.8281 - top3_acc: 0.8900 - top5_acc: 0.9541 - val_loss: 0.5902 - val_acc: 0.8028 - val_top2_acc: 0.9156 - val_top3_acc: 0.9566 - val_top5_acc: 0.9870\n",
      "Epoch 3/20\n",
      "90/90 [==============================] - 81s 798ms/step - loss: 0.8907 - acc: 0.7002 - top2_acc: 0.8305 - top3_acc: 0.8918 - top5_acc: 0.9542 - val_loss: 0.5863 - val_acc: 0.8034 - val_top2_acc: 0.9150 - val_top3_acc: 0.9566 - val_top5_acc: 0.9870\n",
      "Epoch 4/20\n",
      "90/90 [==============================] - 89s 888ms/step - loss: 0.8872 - acc: 0.7006 - top2_acc: 0.8293 - top3_acc: 0.8898 - top5_acc: 0.9530 - val_loss: 0.5861 - val_acc: 0.8020 - val_top2_acc: 0.9158 - val_top3_acc: 0.9564 - val_top5_acc: 0.9870\n",
      "Epoch 5/20\n",
      "90/90 [==============================] - 81s 792ms/step - loss: 0.8860 - acc: 0.6995 - top2_acc: 0.8275 - top3_acc: 0.8922 - top5_acc: 0.9558 - val_loss: 0.5863 - val_acc: 0.8018 - val_top2_acc: 0.9152 - val_top3_acc: 0.9560 - val_top5_acc: 0.9870\n",
      "Epoch 6/20\n",
      "90/90 [==============================] - 86s 859ms/step - loss: 0.8857 - acc: 0.7019 - top2_acc: 0.8296 - top3_acc: 0.8893 - top5_acc: 0.9535 - val_loss: 0.5867 - val_acc: 0.8020 - val_top2_acc: 0.9158 - val_top3_acc: 0.9558 - val_top5_acc: 0.9866\n",
      "Epoch 7/20\n",
      "90/90 [==============================] - 72s 694ms/step - loss: 0.8881 - acc: 0.7003 - top2_acc: 0.8298 - top3_acc: 0.8928 - top5_acc: 0.9539 - val_loss: 0.5870 - val_acc: 0.8026 - val_top2_acc: 0.9156 - val_top3_acc: 0.9550 - val_top5_acc: 0.9868\n",
      "Epoch 8/20\n",
      "90/90 [==============================] - 81s 798ms/step - loss: 0.8874 - acc: 0.6995 - top2_acc: 0.8302 - top3_acc: 0.8923 - top5_acc: 0.9549 - val_loss: 0.5861 - val_acc: 0.8030 - val_top2_acc: 0.9162 - val_top3_acc: 0.9546 - val_top5_acc: 0.9872\n",
      "Epoch 9/20\n",
      "90/90 [==============================] - 85s 854ms/step - loss: 0.8901 - acc: 0.6994 - top2_acc: 0.8290 - top3_acc: 0.8897 - top5_acc: 0.9540 - val_loss: 0.5856 - val_acc: 0.8040 - val_top2_acc: 0.9156 - val_top3_acc: 0.9546 - val_top5_acc: 0.9870\n",
      "Epoch 10/20\n",
      "90/90 [==============================] - 72s 696ms/step - loss: 0.8877 - acc: 0.7002 - top2_acc: 0.8284 - top3_acc: 0.8926 - top5_acc: 0.9549 - val_loss: 0.5871 - val_acc: 0.8026 - val_top2_acc: 0.9158 - val_top3_acc: 0.9554 - val_top5_acc: 0.9868\n",
      "Epoch 11/20\n",
      "90/90 [==============================] - 80s 782ms/step - loss: 0.8866 - acc: 0.7005 - top2_acc: 0.8293 - top3_acc: 0.8926 - top5_acc: 0.9555 - val_loss: 0.5871 - val_acc: 0.8024 - val_top2_acc: 0.9136 - val_top3_acc: 0.9554 - val_top5_acc: 0.9870\n",
      "Epoch 12/20\n",
      "90/90 [==============================] - 83s 825ms/step - loss: 0.8923 - acc: 0.7004 - top2_acc: 0.8298 - top3_acc: 0.8915 - top5_acc: 0.9538 - val_loss: 0.5870 - val_acc: 0.8014 - val_top2_acc: 0.9152 - val_top3_acc: 0.9546 - val_top5_acc: 0.9870\n",
      "Epoch 13/20\n",
      "90/90 [==============================] - 72s 691ms/step - loss: 0.8849 - acc: 0.7032 - top2_acc: 0.8292 - top3_acc: 0.8918 - top5_acc: 0.9542 - val_loss: 0.5875 - val_acc: 0.8028 - val_top2_acc: 0.9144 - val_top3_acc: 0.9544 - val_top5_acc: 0.9868\n",
      "Epoch 14/20\n",
      "90/90 [==============================] - 78s 762ms/step - loss: 0.8848 - acc: 0.7007 - top2_acc: 0.8281 - top3_acc: 0.8911 - top5_acc: 0.9550 - val_loss: 0.5882 - val_acc: 0.8036 - val_top2_acc: 0.9148 - val_top3_acc: 0.9542 - val_top5_acc: 0.9866\n",
      "Epoch 15/20\n",
      "90/90 [==============================] - 81s 796ms/step - loss: 0.8826 - acc: 0.7012 - top2_acc: 0.8303 - top3_acc: 0.8942 - top5_acc: 0.9557 - val_loss: 0.5879 - val_acc: 0.8022 - val_top2_acc: 0.9154 - val_top3_acc: 0.9544 - val_top5_acc: 0.9870\n",
      "Epoch 16/20\n",
      "90/90 [==============================] - 89s 889ms/step - loss: 0.8793 - acc: 0.7043 - top2_acc: 0.8310 - top3_acc: 0.8920 - top5_acc: 0.9552 - val_loss: 0.5889 - val_acc: 0.8020 - val_top2_acc: 0.9148 - val_top3_acc: 0.9548 - val_top5_acc: 0.9870\n",
      "Epoch 17/20\n",
      "90/90 [==============================] - 81s 803ms/step - loss: 0.8821 - acc: 0.7036 - top2_acc: 0.8301 - top3_acc: 0.8911 - top5_acc: 0.9542 - val_loss: 0.5883 - val_acc: 0.8032 - val_top2_acc: 0.9144 - val_top3_acc: 0.9552 - val_top5_acc: 0.9868\n",
      "Epoch 18/20\n",
      "90/90 [==============================] - 85s 856ms/step - loss: 0.8812 - acc: 0.7038 - top2_acc: 0.8328 - top3_acc: 0.8914 - top5_acc: 0.9537 - val_loss: 0.5896 - val_acc: 0.8036 - val_top2_acc: 0.9144 - val_top3_acc: 0.9544 - val_top5_acc: 0.9872\n",
      "Epoch 19/20\n",
      "90/90 [==============================] - 72s 703ms/step - loss: 0.8724 - acc: 0.7059 - top2_acc: 0.8328 - top3_acc: 0.8946 - top5_acc: 0.9555 - val_loss: 0.5898 - val_acc: 0.8016 - val_top2_acc: 0.9142 - val_top3_acc: 0.9548 - val_top5_acc: 0.9866\n",
      "Epoch 20/20\n",
      "90/90 [==============================] - 80s 790ms/step - loss: 0.8839 - acc: 0.7014 - top2_acc: 0.8302 - top3_acc: 0.8917 - top5_acc: 0.9545 - val_loss: 0.5886 - val_acc: 0.8010 - val_top2_acc: 0.9152 - val_top3_acc: 0.9538 - val_top5_acc: 0.9872\n",
      "====================stage 7====================\n",
      "Epoch 1/20\n",
      "90/90 [==============================] - 95s 772ms/step - loss: 1.0801 - acc: 0.6376 - top2_acc: 0.7756 - top3_acc: 0.8511 - top5_acc: 0.9312 - val_loss: 0.5887 - val_acc: 0.8006 - val_top2_acc: 0.9156 - val_top3_acc: 0.9540 - val_top5_acc: 0.9872\n",
      "Epoch 2/20\n",
      "90/90 [==============================] - 76s 755ms/step - loss: 1.0926 - acc: 0.6354 - top2_acc: 0.7736 - top3_acc: 0.8482 - top5_acc: 0.9306 - val_loss: 0.5880 - val_acc: 0.8012 - val_top2_acc: 0.9158 - val_top3_acc: 0.9538 - val_top5_acc: 0.9870\n",
      "Epoch 3/20\n",
      "90/90 [==============================] - 80s 794ms/step - loss: 1.0730 - acc: 0.6385 - top2_acc: 0.7790 - top3_acc: 0.8504 - top5_acc: 0.9309 - val_loss: 0.5879 - val_acc: 0.8020 - val_top2_acc: 0.9156 - val_top3_acc: 0.9544 - val_top5_acc: 0.9868\n",
      "Epoch 4/20\n",
      "90/90 [==============================] - 89s 878ms/step - loss: 1.0843 - acc: 0.6364 - top2_acc: 0.7773 - top3_acc: 0.8510 - top5_acc: 0.9316 - val_loss: 0.5872 - val_acc: 0.8022 - val_top2_acc: 0.9160 - val_top3_acc: 0.9546 - val_top5_acc: 0.9868\n",
      "Epoch 5/20\n"
     ]
    },
    {
     "name": "stdout",
     "output_type": "stream",
     "text": [
      "90/90 [==============================] - 80s 789ms/step - loss: 1.0756 - acc: 0.6358 - top2_acc: 0.7770 - top3_acc: 0.8516 - top5_acc: 0.9333 - val_loss: 0.5860 - val_acc: 0.8016 - val_top2_acc: 0.9152 - val_top3_acc: 0.9544 - val_top5_acc: 0.9872\n",
      "Epoch 6/20\n",
      "90/90 [==============================] - 85s 845ms/step - loss: 1.0738 - acc: 0.6410 - top2_acc: 0.7795 - top3_acc: 0.8525 - top5_acc: 0.9316 - val_loss: 0.5853 - val_acc: 0.8018 - val_top2_acc: 0.9146 - val_top3_acc: 0.9542 - val_top5_acc: 0.9872\n",
      "Epoch 7/20\n",
      "90/90 [==============================] - 72s 699ms/step - loss: 1.0739 - acc: 0.6388 - top2_acc: 0.7788 - top3_acc: 0.8517 - top5_acc: 0.9324 - val_loss: 0.5846 - val_acc: 0.8008 - val_top2_acc: 0.9158 - val_top3_acc: 0.9544 - val_top5_acc: 0.9870\n",
      "Epoch 8/20\n",
      "90/90 [==============================] - 78s 770ms/step - loss: 1.0818 - acc: 0.6330 - top2_acc: 0.7743 - top3_acc: 0.8496 - top5_acc: 0.9324 - val_loss: 0.5844 - val_acc: 0.8028 - val_top2_acc: 0.9150 - val_top3_acc: 0.9540 - val_top5_acc: 0.9868\n",
      "Epoch 9/20\n",
      "90/90 [==============================] - 81s 801ms/step - loss: 1.0682 - acc: 0.6365 - top2_acc: 0.7795 - top3_acc: 0.8529 - top5_acc: 0.9327 - val_loss: 0.5842 - val_acc: 0.8034 - val_top2_acc: 0.9156 - val_top3_acc: 0.9540 - val_top5_acc: 0.9868\n",
      "Epoch 10/20\n",
      "90/90 [==============================] - 89s 882ms/step - loss: 1.0757 - acc: 0.6361 - top2_acc: 0.7768 - top3_acc: 0.8505 - top5_acc: 0.9318 - val_loss: 0.5846 - val_acc: 0.8022 - val_top2_acc: 0.9162 - val_top3_acc: 0.9546 - val_top5_acc: 0.9866\n",
      "Epoch 11/20\n",
      "90/90 [==============================] - 80s 788ms/step - loss: 1.0770 - acc: 0.6377 - top2_acc: 0.7779 - top3_acc: 0.8526 - top5_acc: 0.9320 - val_loss: 0.5839 - val_acc: 0.8032 - val_top2_acc: 0.9160 - val_top3_acc: 0.9540 - val_top5_acc: 0.9868\n",
      "Epoch 12/20\n",
      "90/90 [==============================] - 88s 880ms/step - loss: 1.0685 - acc: 0.6408 - top2_acc: 0.7797 - top3_acc: 0.8537 - top5_acc: 0.9318 - val_loss: 0.5846 - val_acc: 0.8024 - val_top2_acc: 0.9164 - val_top3_acc: 0.9536 - val_top5_acc: 0.9866\n",
      "Epoch 13/20\n",
      "90/90 [==============================] - 75s 741ms/step - loss: 1.0760 - acc: 0.6353 - top2_acc: 0.7746 - top3_acc: 0.8490 - top5_acc: 0.9308 - val_loss: 0.5849 - val_acc: 0.8020 - val_top2_acc: 0.9170 - val_top3_acc: 0.9538 - val_top5_acc: 0.9868\n",
      "Epoch 14/20\n",
      "90/90 [==============================] - 80s 795ms/step - loss: 1.0753 - acc: 0.6379 - top2_acc: 0.7793 - top3_acc: 0.8515 - top5_acc: 0.9333 - val_loss: 0.5853 - val_acc: 0.8024 - val_top2_acc: 0.9168 - val_top3_acc: 0.9534 - val_top5_acc: 0.9866\n",
      "Epoch 15/20\n",
      "90/90 [==============================] - 89s 888ms/step - loss: 1.0728 - acc: 0.6387 - top2_acc: 0.7775 - top3_acc: 0.8520 - top5_acc: 0.9321 - val_loss: 0.5856 - val_acc: 0.8008 - val_top2_acc: 0.9164 - val_top3_acc: 0.9534 - val_top5_acc: 0.9870\n",
      "Epoch 16/20\n",
      "90/90 [==============================] - 80s 786ms/step - loss: 1.0733 - acc: 0.6369 - top2_acc: 0.7783 - top3_acc: 0.8527 - top5_acc: 0.9320 - val_loss: 0.5852 - val_acc: 0.8014 - val_top2_acc: 0.9162 - val_top3_acc: 0.9540 - val_top5_acc: 0.9870\n",
      "Epoch 17/20\n",
      "90/90 [==============================] - 84s 835ms/step - loss: 1.0672 - acc: 0.6416 - top2_acc: 0.7796 - top3_acc: 0.8531 - top5_acc: 0.9337 - val_loss: 0.5853 - val_acc: 0.8018 - val_top2_acc: 0.9164 - val_top3_acc: 0.9536 - val_top5_acc: 0.9872\n",
      "Epoch 18/20\n",
      "90/90 [==============================] - 71s 688ms/step - loss: 1.0732 - acc: 0.6355 - top2_acc: 0.7771 - top3_acc: 0.8520 - top5_acc: 0.9334 - val_loss: 0.5850 - val_acc: 0.8018 - val_top2_acc: 0.9160 - val_top3_acc: 0.9534 - val_top5_acc: 0.9872\n",
      "Epoch 19/20\n",
      "90/90 [==============================] - 76s 737ms/step - loss: 1.0739 - acc: 0.6376 - top2_acc: 0.7784 - top3_acc: 0.8531 - top5_acc: 0.9337 - val_loss: 0.5858 - val_acc: 0.8026 - val_top2_acc: 0.9172 - val_top3_acc: 0.9534 - val_top5_acc: 0.9870\n",
      "Epoch 20/20\n",
      "90/90 [==============================] - 81s 795ms/step - loss: 1.0775 - acc: 0.6360 - top2_acc: 0.7782 - top3_acc: 0.8507 - top5_acc: 0.9322 - val_loss: 0.5865 - val_acc: 0.8016 - val_top2_acc: 0.9162 - val_top3_acc: 0.9534 - val_top5_acc: 0.9870\n",
      "====================stage 8====================\n",
      "Epoch 1/20\n",
      "90/90 [==============================] - 94s 767ms/step - loss: 1.2372 - acc: 0.5846 - top2_acc: 0.7309 - top3_acc: 0.8127 - top5_acc: 0.9076 - val_loss: 0.5866 - val_acc: 0.8018 - val_top2_acc: 0.9164 - val_top3_acc: 0.9536 - val_top5_acc: 0.9870\n",
      "Epoch 2/20\n",
      "90/90 [==============================] - 80s 795ms/step - loss: 1.2513 - acc: 0.5798 - top2_acc: 0.7254 - top3_acc: 0.8086 - top5_acc: 0.9052 - val_loss: 0.5873 - val_acc: 0.8026 - val_top2_acc: 0.9168 - val_top3_acc: 0.9544 - val_top5_acc: 0.9864\n",
      "Epoch 4/20\n",
      "90/90 [==============================] - 89s 880ms/step - loss: 1.2488 - acc: 0.5806 - top2_acc: 0.7275 - top3_acc: 0.8093 - top5_acc: 0.9062 - val_loss: 0.5878 - val_acc: 0.8016 - val_top2_acc: 0.9170 - val_top3_acc: 0.9540 - val_top5_acc: 0.9864\n",
      "Epoch 5/20\n",
      "90/90 [==============================] - 80s 782ms/step - loss: 1.2468 - acc: 0.5791 - top2_acc: 0.7276 - top3_acc: 0.8093 - top5_acc: 0.9051 - val_loss: 0.5880 - val_acc: 0.8014 - val_top2_acc: 0.9174 - val_top3_acc: 0.9542 - val_top5_acc: 0.9864\n",
      "Epoch 6/20\n",
      "90/90 [==============================] - 84s 828ms/step - loss: 1.2376 - acc: 0.5804 - top2_acc: 0.7276 - top3_acc: 0.8103 - top5_acc: 0.9058 - val_loss: 0.5881 - val_acc: 0.8012 - val_top2_acc: 0.9170 - val_top3_acc: 0.9544 - val_top5_acc: 0.9862\n",
      "Epoch 7/20\n",
      "90/90 [==============================] - 72s 700ms/step - loss: 1.2404 - acc: 0.5807 - top2_acc: 0.7273 - top3_acc: 0.8093 - top5_acc: 0.9040 - val_loss: 0.5883 - val_acc: 0.8012 - val_top2_acc: 0.9170 - val_top3_acc: 0.9540 - val_top5_acc: 0.9862\n",
      "Epoch 8/20\n",
      "90/90 [==============================] - 77s 748ms/step - loss: 1.2327 - acc: 0.5807 - top2_acc: 0.7270 - top3_acc: 0.8096 - top5_acc: 0.9083 - val_loss: 0.5884 - val_acc: 0.8010 - val_top2_acc: 0.9168 - val_top3_acc: 0.9540 - val_top5_acc: 0.9862\n",
      "Epoch 9/20\n",
      "90/90 [==============================] - 80s 787ms/step - loss: 1.2485 - acc: 0.5754 - top2_acc: 0.7236 - top3_acc: 0.8071 - top5_acc: 0.9080 - val_loss: 0.5881 - val_acc: 0.8010 - val_top2_acc: 0.9170 - val_top3_acc: 0.9542 - val_top5_acc: 0.9862\n",
      "Epoch 10/20\n",
      "90/90 [==============================] - 88s 883ms/step - loss: 1.2443 - acc: 0.5798 - top2_acc: 0.7255 - top3_acc: 0.8084 - top5_acc: 0.9046 - val_loss: 0.5887 - val_acc: 0.8010 - val_top2_acc: 0.9168 - val_top3_acc: 0.9546 - val_top5_acc: 0.9864\n",
      "Epoch 11/20\n",
      "90/90 [==============================] - 80s 782ms/step - loss: 1.2486 - acc: 0.5770 - top2_acc: 0.7241 - top3_acc: 0.8079 - top5_acc: 0.9073 - val_loss: 0.5887 - val_acc: 0.8004 - val_top2_acc: 0.9170 - val_top3_acc: 0.9544 - val_top5_acc: 0.9860\n",
      "Epoch 12/20\n",
      "90/90 [==============================] - 83s 830ms/step - loss: 1.2462 - acc: 0.5788 - top2_acc: 0.7279 - top3_acc: 0.8098 - top5_acc: 0.9059 - val_loss: 0.5889 - val_acc: 0.7998 - val_top2_acc: 0.9166 - val_top3_acc: 0.9540 - val_top5_acc: 0.9862\n",
      "Epoch 13/20\n",
      "90/90 [==============================] - 71s 688ms/step - loss: 1.2353 - acc: 0.5786 - top2_acc: 0.7266 - top3_acc: 0.8120 - top5_acc: 0.9100 - val_loss: 0.5887 - val_acc: 0.8006 - val_top2_acc: 0.9164 - val_top3_acc: 0.9542 - val_top5_acc: 0.9862\n",
      "Epoch 14/20\n",
      "90/90 [==============================] - 76s 738ms/step - loss: 1.2404 - acc: 0.5800 - top2_acc: 0.7278 - top3_acc: 0.8090 - top5_acc: 0.9062 - val_loss: 0.5888 - val_acc: 0.7996 - val_top2_acc: 0.9160 - val_top3_acc: 0.9542 - val_top5_acc: 0.9862\n",
      "Epoch 15/20\n",
      "90/90 [==============================] - 79s 785ms/step - loss: 1.2294 - acc: 0.5834 - top2_acc: 0.7326 - top3_acc: 0.8120 - top5_acc: 0.9077 - val_loss: 0.5887 - val_acc: 0.7998 - val_top2_acc: 0.9160 - val_top3_acc: 0.9544 - val_top5_acc: 0.9862\n",
      "Epoch 16/20\n",
      "90/90 [==============================] - 88s 877ms/step - loss: 1.2334 - acc: 0.5831 - top2_acc: 0.7290 - top3_acc: 0.8127 - top5_acc: 0.9074 - val_loss: 0.5890 - val_acc: 0.7994 - val_top2_acc: 0.9160 - val_top3_acc: 0.9540 - val_top5_acc: 0.9862\n",
      "Epoch 17/20\n",
      "90/90 [==============================] - 86s 840ms/step - loss: 1.2364 - acc: 0.5822 - top2_acc: 0.7273 - top3_acc: 0.8094 - top5_acc: 0.9066 - val_loss: 0.5889 - val_acc: 0.7992 - val_top2_acc: 0.9164 - val_top3_acc: 0.9542 - val_top5_acc: 0.9864\n",
      "Epoch 18/20\n",
      "90/90 [==============================] - 94s 927ms/step - loss: 1.2370 - acc: 0.5790 - top2_acc: 0.7289 - top3_acc: 0.8116 - top5_acc: 0.9080 - val_loss: 0.5894 - val_acc: 0.7994 - val_top2_acc: 0.9160 - val_top3_acc: 0.9544 - val_top5_acc: 0.9864\n",
      "Epoch 19/20\n",
      "90/90 [==============================] - 80s 778ms/step - loss: 1.2286 - acc: 0.5818 - top2_acc: 0.7317 - top3_acc: 0.8134 - top5_acc: 0.9078 - val_loss: 0.5898 - val_acc: 0.7984 - val_top2_acc: 0.9158 - val_top3_acc: 0.9550 - val_top5_acc: 0.9864\n",
      "Epoch 20/20\n",
      "90/90 [==============================] - 84s 837ms/step - loss: 1.2373 - acc: 0.5789 - top2_acc: 0.7267 - top3_acc: 0.8104 - top5_acc: 0.9054 - val_loss: 0.5895 - val_acc: 0.7994 - val_top2_acc: 0.9158 - val_top3_acc: 0.9546 - val_top5_acc: 0.9864\n",
      "====================stage 9====================\n",
      "Epoch 1/20\n",
      "90/90 [==============================] - 98s 797ms/step - loss: 1.3711 - acc: 0.5336 - top2_acc: 0.6838 - top3_acc: 0.7709 - top5_acc: 0.8812 - val_loss: 0.5895 - val_acc: 0.7992 - val_top2_acc: 0.9158 - val_top3_acc: 0.9546 - val_top5_acc: 0.9864\n",
      "Epoch 2/20\n",
      "90/90 [==============================] - 86s 853ms/step - loss: 1.3779 - acc: 0.5314 - top2_acc: 0.6804 - top3_acc: 0.7696 - top5_acc: 0.8789 - val_loss: 0.5897 - val_acc: 0.7990 - val_top2_acc: 0.9154 - val_top3_acc: 0.9546 - val_top5_acc: 0.9862\n",
      "Epoch 3/20\n",
      "90/90 [==============================] - 92s 916ms/step - loss: 1.3740 - acc: 0.5344 - top2_acc: 0.6823 - top3_acc: 0.7702 - top5_acc: 0.8808 - val_loss: 0.5900 - val_acc: 0.7988 - val_top2_acc: 0.9156 - val_top3_acc: 0.9546 - val_top5_acc: 0.9862\n",
      "Epoch 4/20\n",
      "90/90 [==============================] - 83s 820ms/step - loss: 1.3761 - acc: 0.5327 - top2_acc: 0.6813 - top3_acc: 0.7710 - top5_acc: 0.8792 - val_loss: 0.5904 - val_acc: 0.7986 - val_top2_acc: 0.9156 - val_top3_acc: 0.9544 - val_top5_acc: 0.9862\n",
      "Epoch 5/20\n",
      "90/90 [==============================] - 90s 889ms/step - loss: 1.3835 - acc: 0.5289 - top2_acc: 0.6796 - top3_acc: 0.7692 - top5_acc: 0.8791 - val_loss: 0.5907 - val_acc: 0.7992 - val_top2_acc: 0.9158 - val_top3_acc: 0.9546 - val_top5_acc: 0.9862\n",
      "Epoch 6/20\n",
      "90/90 [==============================] - 84s 817ms/step - loss: 1.3751 - acc: 0.5331 - top2_acc: 0.6806 - top3_acc: 0.7707 - top5_acc: 0.8800 - val_loss: 0.5913 - val_acc: 0.7984 - val_top2_acc: 0.9152 - val_top3_acc: 0.9546 - val_top5_acc: 0.9858\n",
      "Epoch 7/20\n",
      "90/90 [==============================] - 87s 852ms/step - loss: 1.3757 - acc: 0.5300 - top2_acc: 0.6816 - top3_acc: 0.7700 - top5_acc: 0.8790 - val_loss: 0.5917 - val_acc: 0.7988 - val_top2_acc: 0.9154 - val_top3_acc: 0.9544 - val_top5_acc: 0.9858\n",
      "Epoch 8/20\n",
      "90/90 [==============================] - 93s 916ms/step - loss: 1.3678 - acc: 0.5351 - top2_acc: 0.6843 - top3_acc: 0.7716 - top5_acc: 0.8810 - val_loss: 0.5920 - val_acc: 0.7986 - val_top2_acc: 0.9148 - val_top3_acc: 0.9550 - val_top5_acc: 0.9858\n",
      "Epoch 9/20\n",
      "90/90 [==============================] - 87s 850ms/step - loss: 1.3714 - acc: 0.5339 - top2_acc: 0.6811 - top3_acc: 0.7707 - top5_acc: 0.8792 - val_loss: 0.5923 - val_acc: 0.7984 - val_top2_acc: 0.9146 - val_top3_acc: 0.9550 - val_top5_acc: 0.9858\n",
      "Epoch 10/20\n",
      "90/90 [==============================] - 80s 772ms/step - loss: 1.3712 - acc: 0.5329 - top2_acc: 0.6831 - top3_acc: 0.7692 - top5_acc: 0.8793 - val_loss: 0.5924 - val_acc: 0.7986 - val_top2_acc: 0.9146 - val_top3_acc: 0.9552 - val_top5_acc: 0.9856\n",
      "Epoch 11/20\n",
      "90/90 [==============================] - 86s 837ms/step - loss: 1.3762 - acc: 0.5318 - top2_acc: 0.6808 - top3_acc: 0.7700 - top5_acc: 0.8795 - val_loss: 0.5924 - val_acc: 0.7982 - val_top2_acc: 0.9146 - val_top3_acc: 0.9552 - val_top5_acc: 0.9856\n",
      "Epoch 12/20\n",
      "90/90 [==============================] - 93s 911ms/step - loss: 1.3756 - acc: 0.5282 - top2_acc: 0.6790 - top3_acc: 0.7695 - top5_acc: 0.8776 - val_loss: 0.5926 - val_acc: 0.7982 - val_top2_acc: 0.9146 - val_top3_acc: 0.9552 - val_top5_acc: 0.9856\n",
      "Epoch 13/20\n",
      "90/90 [==============================] - 87s 841ms/step - loss: 1.3761 - acc: 0.5314 - top2_acc: 0.6843 - top3_acc: 0.7704 - top5_acc: 0.8782 - val_loss: 0.5927 - val_acc: 0.7980 - val_top2_acc: 0.9144 - val_top3_acc: 0.9556 - val_top5_acc: 0.9856\n",
      "Epoch 14/20\n",
      "90/90 [==============================] - 93s 916ms/step - loss: 1.3681 - acc: 0.5347 - top2_acc: 0.6811 - top3_acc: 0.7693 - top5_acc: 0.8793 - val_loss: 0.5927 - val_acc: 0.7980 - val_top2_acc: 0.9142 - val_top3_acc: 0.9552 - val_top5_acc: 0.9856\n",
      "Epoch 15/20\n",
      "90/90 [==============================] - 85s 838ms/step - loss: 1.3705 - acc: 0.5328 - top2_acc: 0.6838 - top3_acc: 0.7718 - top5_acc: 0.8786 - val_loss: 0.5927 - val_acc: 0.7978 - val_top2_acc: 0.9142 - val_top3_acc: 0.9552 - val_top5_acc: 0.9856\n",
      "Epoch 16/20\n",
      "90/90 [==============================] - 93s 923ms/step - loss: 1.3790 - acc: 0.5286 - top2_acc: 0.6805 - top3_acc: 0.7695 - top5_acc: 0.8800 - val_loss: 0.5927 - val_acc: 0.7976 - val_top2_acc: 0.9140 - val_top3_acc: 0.9550 - val_top5_acc: 0.9856\n",
      "Epoch 17/20\n",
      "90/90 [==============================] - 87s 850ms/step - loss: 1.3647 - acc: 0.5317 - top2_acc: 0.6832 - top3_acc: 0.7734 - top5_acc: 0.8836 - val_loss: 0.5930 - val_acc: 0.7978 - val_top2_acc: 0.9144 - val_top3_acc: 0.9550 - val_top5_acc: 0.9856\n",
      "Epoch 18/20\n",
      "90/90 [==============================] - 92s 909ms/step - loss: 1.3709 - acc: 0.5328 - top2_acc: 0.6833 - top3_acc: 0.7705 - top5_acc: 0.8795 - val_loss: 0.5929 - val_acc: 0.7976 - val_top2_acc: 0.9146 - val_top3_acc: 0.9548 - val_top5_acc: 0.9856\n",
      "Epoch 19/20\n",
      "90/90 [==============================] - 86s 846ms/step - loss: 1.3713 - acc: 0.5300 - top2_acc: 0.6820 - top3_acc: 0.7695 - top5_acc: 0.8796 - val_loss: 0.5930 - val_acc: 0.7978 - val_top2_acc: 0.9146 - val_top3_acc: 0.9548 - val_top5_acc: 0.9856\n",
      "Epoch 20/20\n",
      "90/90 [==============================] - 92s 910ms/step - loss: 1.3704 - acc: 0.5293 - top2_acc: 0.6828 - top3_acc: 0.7696 - top5_acc: 0.8822 - val_loss: 0.5932 - val_acc: 0.7974 - val_top2_acc: 0.9140 - val_top3_acc: 0.9546 - val_top5_acc: 0.9856\n",
      "====================stage 10====================\n",
      "Epoch 1/20\n",
      "90/90 [==============================] - 98s 804ms/step - loss: 1.4845 - acc: 0.4948 - top2_acc: 0.6413 - top3_acc: 0.7343 - top5_acc: 0.8539 - val_loss: 0.5932 - val_acc: 0.7974 - val_top2_acc: 0.9140 - val_top3_acc: 0.9546 - val_top5_acc: 0.9856\n",
      "Epoch 2/20\n",
      "90/90 [==============================] - 85s 847ms/step - loss: 1.4840 - acc: 0.4919 - top2_acc: 0.6424 - top3_acc: 0.7355 - top5_acc: 0.8530 - val_loss: 0.5933 - val_acc: 0.7976 - val_top2_acc: 0.9140 - val_top3_acc: 0.9546 - val_top5_acc: 0.9856\n",
      "Epoch 3/20\n",
      "90/90 [==============================] - 92s 915ms/step - loss: 1.4837 - acc: 0.4952 - top2_acc: 0.6407 - top3_acc: 0.7339 - top5_acc: 0.8509 - val_loss: 0.5934 - val_acc: 0.7974 - val_top2_acc: 0.9136 - val_top3_acc: 0.9546 - val_top5_acc: 0.9856\n",
      "Epoch 4/20\n",
      "90/90 [==============================] - 88s 862ms/step - loss: 1.4796 - acc: 0.4932 - top2_acc: 0.6420 - top3_acc: 0.7346 - top5_acc: 0.8514 - val_loss: 0.5935 - val_acc: 0.7972 - val_top2_acc: 0.9138 - val_top3_acc: 0.9546 - val_top5_acc: 0.9856\n",
      "Epoch 5/20\n",
      "90/90 [==============================] - 92s 915ms/step - loss: 1.4749 - acc: 0.4957 - top2_acc: 0.6426 - top3_acc: 0.7335 - top5_acc: 0.8526 - val_loss: 0.5936 - val_acc: 0.7974 - val_top2_acc: 0.9138 - val_top3_acc: 0.9546 - val_top5_acc: 0.9856\n",
      "Epoch 6/20\n",
      "90/90 [==============================] - 87s 854ms/step - loss: 1.4826 - acc: 0.4912 - top2_acc: 0.6403 - top3_acc: 0.7309 - top5_acc: 0.8519 - val_loss: 0.5938 - val_acc: 0.7974 - val_top2_acc: 0.9136 - val_top3_acc: 0.9544 - val_top5_acc: 0.9856\n",
      "Epoch 7/20\n",
      "90/90 [==============================] - 87s 852ms/step - loss: 1.4794 - acc: 0.4949 - top2_acc: 0.6407 - top3_acc: 0.7314 - top5_acc: 0.8536 - val_loss: 0.5939 - val_acc: 0.7972 - val_top2_acc: 0.9136 - val_top3_acc: 0.9542 - val_top5_acc: 0.9856\n",
      "Epoch 8/20\n"
     ]
    },
    {
     "name": "stdout",
     "output_type": "stream",
     "text": [
      "90/90 [==============================] - 84s 819ms/step - loss: 1.4820 - acc: 0.4950 - top2_acc: 0.6427 - top3_acc: 0.7329 - top5_acc: 0.8505 - val_loss: 0.5940 - val_acc: 0.7972 - val_top2_acc: 0.9134 - val_top3_acc: 0.9538 - val_top5_acc: 0.9856\n",
      "Epoch 9/20\n",
      "90/90 [==============================] - 86s 838ms/step - loss: 1.4846 - acc: 0.4954 - top2_acc: 0.6430 - top3_acc: 0.7333 - top5_acc: 0.8498 - val_loss: 0.5942 - val_acc: 0.7974 - val_top2_acc: 0.9130 - val_top3_acc: 0.9540 - val_top5_acc: 0.9856\n",
      "Epoch 10/20\n",
      "90/90 [==============================] - 93s 921ms/step - loss: 1.4809 - acc: 0.4961 - top2_acc: 0.6408 - top3_acc: 0.7315 - top5_acc: 0.8525 - val_loss: 0.5943 - val_acc: 0.7974 - val_top2_acc: 0.9128 - val_top3_acc: 0.9540 - val_top5_acc: 0.9856\n",
      "Epoch 11/20\n",
      "90/90 [==============================] - 90s 877ms/step - loss: 1.4797 - acc: 0.4924 - top2_acc: 0.6411 - top3_acc: 0.7336 - top5_acc: 0.8531 - val_loss: 0.5944 - val_acc: 0.7980 - val_top2_acc: 0.9130 - val_top3_acc: 0.9540 - val_top5_acc: 0.9856\n",
      "Epoch 12/20\n",
      "90/90 [==============================] - 82s 791ms/step - loss: 1.4810 - acc: 0.4925 - top2_acc: 0.6436 - top3_acc: 0.7331 - top5_acc: 0.8536 - val_loss: 0.5945 - val_acc: 0.7982 - val_top2_acc: 0.9132 - val_top3_acc: 0.9540 - val_top5_acc: 0.9856\n",
      "Epoch 13/20\n",
      "90/90 [==============================] - 84s 837ms/step - loss: 1.4740 - acc: 0.4944 - top2_acc: 0.6411 - top3_acc: 0.7323 - top5_acc: 0.8521 - val_loss: 0.5946 - val_acc: 0.7980 - val_top2_acc: 0.9132 - val_top3_acc: 0.9540 - val_top5_acc: 0.9856\n",
      "Epoch 14/20\n",
      "90/90 [==============================] - 94s 921ms/step - loss: 1.4695 - acc: 0.4953 - top2_acc: 0.6452 - top3_acc: 0.7385 - top5_acc: 0.8558 - val_loss: 0.5946 - val_acc: 0.7982 - val_top2_acc: 0.9132 - val_top3_acc: 0.9540 - val_top5_acc: 0.9858\n",
      "Epoch 15/20\n",
      "90/90 [==============================] - 88s 852ms/step - loss: 1.4769 - acc: 0.4947 - top2_acc: 0.6416 - top3_acc: 0.7350 - top5_acc: 0.8523 - val_loss: 0.5947 - val_acc: 0.7982 - val_top2_acc: 0.9130 - val_top3_acc: 0.9536 - val_top5_acc: 0.9858\n",
      "Epoch 16/20\n",
      "90/90 [==============================] - 93s 916ms/step - loss: 1.4623 - acc: 0.5003 - top2_acc: 0.6486 - top3_acc: 0.7386 - top5_acc: 0.8563 - val_loss: 0.5948 - val_acc: 0.7982 - val_top2_acc: 0.9130 - val_top3_acc: 0.9538 - val_top5_acc: 0.9858\n",
      "Epoch 17/20\n",
      "90/90 [==============================] - 87s 846ms/step - loss: 1.4688 - acc: 0.4966 - top2_acc: 0.6446 - top3_acc: 0.7345 - top5_acc: 0.8536 - val_loss: 0.5948 - val_acc: 0.7980 - val_top2_acc: 0.9128 - val_top3_acc: 0.9538 - val_top5_acc: 0.9858\n",
      "Epoch 18/20\n",
      "90/90 [==============================] - 94s 918ms/step - loss: 1.4732 - acc: 0.4956 - top2_acc: 0.6433 - top3_acc: 0.7362 - top5_acc: 0.8538 - val_loss: 0.5949 - val_acc: 0.7978 - val_top2_acc: 0.9126 - val_top3_acc: 0.9536 - val_top5_acc: 0.9858\n",
      "Epoch 19/20\n",
      "90/90 [==============================] - 88s 854ms/step - loss: 1.4631 - acc: 0.4992 - top2_acc: 0.6466 - top3_acc: 0.7385 - top5_acc: 0.8549 - val_loss: 0.5950 - val_acc: 0.7978 - val_top2_acc: 0.9126 - val_top3_acc: 0.9536 - val_top5_acc: 0.9858\n",
      "Epoch 20/20\n",
      "90/90 [==============================] - 93s 911ms/step - loss: 1.4654 - acc: 0.4943 - top2_acc: 0.6426 - top3_acc: 0.7347 - top5_acc: 0.8550 - val_loss: 0.5950 - val_acc: 0.7976 - val_top2_acc: 0.9126 - val_top3_acc: 0.9536 - val_top5_acc: 0.9858\n"
     ]
    }
   ],
   "source": [
    "lr=1e-3\n",
    "for stage in range(1,11):\n",
    "    print(\"=\"*20+f'stage {stage}'+'='*20)\n",
    "    if not checkstage(os.path.join(model_path,'progressive_extended_convex'),stage):\n",
    "        fit_stage(stage,lr_base=lr,epochs=20,model_path=os.path.join(model_path,'progressive_extended_convex'),weight_decay=0.05,\n",
    "                  batch_size=batch_size,steps_per_epoch=90,\n",
    "                  use_paper_rand_augment=False,imagesize=32+4*(stage-1),progressive_fn=lambda s: 1+((s-1)/9)**2*9)\n",
    "        Mymodel.save_weights(os.path.join(model_path,'progressive_extended_convex',f's{stage}-final.hdf5'))\n",
    "    lr/=3"
   ]
  },
  {
   "cell_type": "code",
   "execution_count": 39,
   "metadata": {},
   "outputs": [
    {
     "name": "stdout",
     "output_type": "stream",
     "text": [
      "100/100 [==============================] - 4s 36ms/step - loss: 0.2113 - acc: 0.9631 - top2_acc: 0.9881 - top3_acc: 0.9944 - top5_acc: 0.9984\n"
     ]
    },
    {
     "data": {
      "text/plain": [
       "[0.21134185791015625,\n",
       " 0.9631400108337402,\n",
       " 0.988099992275238,\n",
       " 0.9944400191307068,\n",
       " 0.998420000076294]"
      ]
     },
     "execution_count": 39,
     "metadata": {},
     "output_type": "execute_result"
    }
   ],
   "source": [
    "Mymodel.evaluate(test_ds)"
   ]
  },
  {
   "cell_type": "code",
   "execution_count": 40,
   "metadata": {},
   "outputs": [],
   "source": [
    "modified_efficientv2_base=Modified_EfficientV2base(act,decode_cfgs(v2_base_block_modified4),head_filters=1280)\n",
    "inputx=keras.Input((None,None,3))\n",
    "x=modified_efficientv2_base(inputx)\n",
    "x=keras.layers.Dense(10,activation='softmax')(x)\n",
    "Mymodel=keras.Model(inputs=inputx,outputs=x)"
   ]
  },
  {
   "cell_type": "code",
   "execution_count": null,
   "metadata": {
    "scrolled": true
   },
   "outputs": [
    {
     "name": "stdout",
     "output_type": "stream",
     "text": [
      "====================stage 1====================\n",
      "Epoch 1/20\n",
      "90/90 [==============================] - 100s 804ms/step - loss: 2.2817 - acc: 0.1693 - top2_acc: 0.3103 - top3_acc: 0.4298 - top5_acc: 0.6352 - val_loss: 1.9167 - val_acc: 0.2700 - val_top2_acc: 0.4752 - val_top3_acc: 0.6134 - val_top5_acc: 0.8246\n",
      "Epoch 2/20\n",
      "90/90 [==============================] - 86s 847ms/step - loss: 1.9804 - acc: 0.2727 - top2_acc: 0.4640 - top3_acc: 0.5950 - top5_acc: 0.7821 - val_loss: 1.7130 - val_acc: 0.3480 - val_top2_acc: 0.5818 - val_top3_acc: 0.7282 - val_top5_acc: 0.8776\n",
      "Epoch 3/20\n",
      "90/90 [==============================] - 86s 855ms/step - loss: 1.7250 - acc: 0.3684 - top2_acc: 0.5758 - top3_acc: 0.7052 - top5_acc: 0.8599 - val_loss: 1.4234 - val_acc: 0.4872 - val_top2_acc: 0.6926 - val_top3_acc: 0.8024 - val_top5_acc: 0.9160\n",
      "Epoch 5/20\n",
      "90/90 [==============================] - 94s 922ms/step - loss: 1.6449 - acc: 0.4063 - top2_acc: 0.6131 - top3_acc: 0.7329 - top5_acc: 0.8754 - val_loss: 1.4163 - val_acc: 0.4908 - val_top2_acc: 0.7024 - val_top3_acc: 0.8138 - val_top5_acc: 0.9254\n",
      "Epoch 6/20\n",
      "90/90 [==============================] - 86s 848ms/step - loss: 1.5491 - acc: 0.4424 - top2_acc: 0.6465 - top3_acc: 0.7658 - top5_acc: 0.8960 - val_loss: 1.2578 - val_acc: 0.5440 - val_top2_acc: 0.7414 - val_top3_acc: 0.8432 - val_top5_acc: 0.9484\n",
      "Epoch 7/20\n",
      "90/90 [==============================] - 91s 911ms/step - loss: 1.4458 - acc: 0.4816 - top2_acc: 0.6814 - top3_acc: 0.7891 - top5_acc: 0.9120 - val_loss: 1.1878 - val_acc: 0.5726 - val_top2_acc: 0.7668 - val_top3_acc: 0.8602 - val_top5_acc: 0.9538\n",
      "Epoch 8/20\n",
      "90/90 [==============================] - 88s 861ms/step - loss: 1.3720 - acc: 0.5113 - top2_acc: 0.7079 - top3_acc: 0.8089 - top5_acc: 0.9199 - val_loss: 1.1003 - val_acc: 0.6052 - val_top2_acc: 0.7974 - val_top3_acc: 0.8832 - val_top5_acc: 0.9618\n",
      "Epoch 9/20\n",
      "90/90 [==============================] - 92s 920ms/step - loss: 1.3065 - acc: 0.5319 - top2_acc: 0.7267 - top3_acc: 0.8256 - top5_acc: 0.9302 - val_loss: 1.0476 - val_acc: 0.6240 - val_top2_acc: 0.8088 - val_top3_acc: 0.8928 - val_top5_acc: 0.9648\n",
      "Epoch 10/20\n",
      "90/90 [==============================] - 86s 834ms/step - loss: 1.2467 - acc: 0.5596 - top2_acc: 0.7456 - top3_acc: 0.8404 - top5_acc: 0.9353 - val_loss: 0.9873 - val_acc: 0.6502 - val_top2_acc: 0.8206 - val_top3_acc: 0.8996 - val_top5_acc: 0.9702\n",
      "Epoch 11/20\n",
      "90/90 [==============================] - 91s 901ms/step - loss: 1.1996 - acc: 0.5764 - top2_acc: 0.7594 - top3_acc: 0.8504 - top5_acc: 0.9404 - val_loss: 0.9766 - val_acc: 0.6530 - val_top2_acc: 0.8236 - val_top3_acc: 0.9028 - val_top5_acc: 0.9682\n",
      "Epoch 12/20\n",
      "90/90 [==============================] - 87s 847ms/step - loss: 1.1570 - acc: 0.5935 - top2_acc: 0.7712 - top3_acc: 0.8589 - top5_acc: 0.9452 - val_loss: 0.9204 - val_acc: 0.6752 - val_top2_acc: 0.8376 - val_top3_acc: 0.9166 - val_top5_acc: 0.9742\n",
      "Epoch 13/20\n",
      "90/90 [==============================] - 91s 899ms/step - loss: 1.1016 - acc: 0.6128 - top2_acc: 0.7870 - top3_acc: 0.8705 - top5_acc: 0.9506 - val_loss: 0.8731 - val_acc: 0.6908 - val_top2_acc: 0.8560 - val_top3_acc: 0.9226 - val_top5_acc: 0.9786\n",
      "Epoch 14/20\n",
      "90/90 [==============================] - 80s 777ms/step - loss: 1.0657 - acc: 0.6246 - top2_acc: 0.7960 - top3_acc: 0.8774 - top5_acc: 0.9531 - val_loss: 0.8998 - val_acc: 0.6838 - val_top2_acc: 0.8484 - val_top3_acc: 0.9152 - val_top5_acc: 0.9756\n",
      "Epoch 15/20\n",
      "90/90 [==============================] - 87s 854ms/step - loss: 1.0342 - acc: 0.6378 - top2_acc: 0.8048 - top3_acc: 0.8816 - top5_acc: 0.9557 - val_loss: 0.8391 - val_acc: 0.7046 - val_top2_acc: 0.8606 - val_top3_acc: 0.9268 - val_top5_acc: 0.9776\n",
      "Epoch 16/20\n",
      "90/90 [==============================] - 93s 914ms/step - loss: 0.9967 - acc: 0.6524 - top2_acc: 0.8132 - top3_acc: 0.8871 - top5_acc: 0.9592 - val_loss: 0.8121 - val_acc: 0.7144 - val_top2_acc: 0.8626 - val_top3_acc: 0.9276 - val_top5_acc: 0.9816\n",
      "Epoch 17/20\n",
      "90/90 [==============================] - 86s 838ms/step - loss: 0.9687 - acc: 0.6620 - top2_acc: 0.8235 - top3_acc: 0.8953 - top5_acc: 0.9609 - val_loss: 0.7661 - val_acc: 0.7356 - val_top2_acc: 0.8762 - val_top3_acc: 0.9292 - val_top5_acc: 0.9810\n",
      "Epoch 18/20\n",
      "90/90 [==============================] - 93s 919ms/step - loss: 0.9444 - acc: 0.6701 - top2_acc: 0.8284 - top3_acc: 0.8981 - top5_acc: 0.9631 - val_loss: 0.7784 - val_acc: 0.7246 - val_top2_acc: 0.8744 - val_top3_acc: 0.9364 - val_top5_acc: 0.9804\n",
      "Epoch 19/20\n",
      "90/90 [==============================] - 87s 851ms/step - loss: 0.9125 - acc: 0.6834 - top2_acc: 0.8366 - top3_acc: 0.9048 - top5_acc: 0.9657 - val_loss: 0.7776 - val_acc: 0.7364 - val_top2_acc: 0.8702 - val_top3_acc: 0.9280 - val_top5_acc: 0.9794\n",
      "Epoch 20/20\n",
      "90/90 [==============================] - 93s 920ms/step - loss: 0.8810 - acc: 0.6938 - top2_acc: 0.8441 - top3_acc: 0.9099 - top5_acc: 0.9670 - val_loss: 0.8127 - val_acc: 0.7258 - val_top2_acc: 0.8722 - val_top3_acc: 0.9286 - val_top5_acc: 0.9768\n",
      "====================stage 2====================\n",
      "Epoch 1/20\n",
      "90/90 [==============================] - 104s 806ms/step - loss: 1.2812 - acc: 0.5643 - top2_acc: 0.7320 - top3_acc: 0.8206 - top5_acc: 0.9189 - val_loss: 0.7088 - val_acc: 0.7500 - val_top2_acc: 0.8890 - val_top3_acc: 0.9386 - val_top5_acc: 0.9832\n",
      "Epoch 2/20\n",
      "90/90 [==============================] - 85s 842ms/step - loss: 1.2189 - acc: 0.5788 - top2_acc: 0.7429 - top3_acc: 0.8306 - top5_acc: 0.9224 - val_loss: 0.7037 - val_acc: 0.7522 - val_top2_acc: 0.8878 - val_top3_acc: 0.9414 - val_top5_acc: 0.9846\n",
      "Epoch 3/20\n",
      "90/90 [==============================] - 94s 926ms/step - loss: 1.2071 - acc: 0.5782 - top2_acc: 0.7480 - top3_acc: 0.8340 - top5_acc: 0.9252 - val_loss: 0.7202 - val_acc: 0.7528 - val_top2_acc: 0.8858 - val_top3_acc: 0.9368 - val_top5_acc: 0.9830\n",
      "Epoch 4/20\n",
      "90/90 [==============================] - 86s 846ms/step - loss: 1.1883 - acc: 0.5889 - top2_acc: 0.7554 - top3_acc: 0.8404 - top5_acc: 0.9292 - val_loss: 0.7206 - val_acc: 0.7538 - val_top2_acc: 0.8844 - val_top3_acc: 0.9370 - val_top5_acc: 0.9826\n",
      "Epoch 5/20\n",
      "90/90 [==============================] - 94s 920ms/step - loss: 1.1904 - acc: 0.5851 - top2_acc: 0.7542 - top3_acc: 0.8393 - top5_acc: 0.9298 - val_loss: 0.7393 - val_acc: 0.7422 - val_top2_acc: 0.8818 - val_top3_acc: 0.9348 - val_top5_acc: 0.9826\n",
      "Epoch 6/20\n",
      "90/90 [==============================] - 86s 849ms/step - loss: 1.1888 - acc: 0.5876 - top2_acc: 0.7522 - top3_acc: 0.8366 - top5_acc: 0.9275 - val_loss: 0.7173 - val_acc: 0.7554 - val_top2_acc: 0.8824 - val_top3_acc: 0.9382 - val_top5_acc: 0.9798\n",
      "Epoch 7/20\n",
      "90/90 [==============================] - 94s 928ms/step - loss: 1.1691 - acc: 0.5927 - top2_acc: 0.7583 - top3_acc: 0.8424 - top5_acc: 0.9310 - val_loss: 0.7011 - val_acc: 0.7574 - val_top2_acc: 0.8874 - val_top3_acc: 0.9382 - val_top5_acc: 0.9826\n",
      "Epoch 8/20\n",
      "90/90 [==============================] - 85s 832ms/step - loss: 1.1516 - acc: 0.5989 - top2_acc: 0.7642 - top3_acc: 0.8478 - top5_acc: 0.9351 - val_loss: 0.7045 - val_acc: 0.7600 - val_top2_acc: 0.8916 - val_top3_acc: 0.9400 - val_top5_acc: 0.9822\n",
      "Epoch 9/20\n",
      "90/90 [==============================] - 91s 915ms/step - loss: 1.1441 - acc: 0.6032 - top2_acc: 0.7678 - top3_acc: 0.8496 - top5_acc: 0.9350 - val_loss: 0.6772 - val_acc: 0.7592 - val_top2_acc: 0.8894 - val_top3_acc: 0.9446 - val_top5_acc: 0.9838\n",
      "Epoch 10/20\n",
      "90/90 [==============================] - 87s 855ms/step - loss: 1.1339 - acc: 0.6064 - top2_acc: 0.7701 - top3_acc: 0.8516 - top5_acc: 0.9364 - val_loss: 0.6820 - val_acc: 0.7602 - val_top2_acc: 0.8958 - val_top3_acc: 0.9434 - val_top5_acc: 0.9840\n",
      "Epoch 11/20\n",
      "90/90 [==============================] - 91s 904ms/step - loss: 1.1259 - acc: 0.6104 - top2_acc: 0.7709 - top3_acc: 0.8517 - top5_acc: 0.9365 - val_loss: 0.6694 - val_acc: 0.7628 - val_top2_acc: 0.8962 - val_top3_acc: 0.9456 - val_top5_acc: 0.9816\n",
      "Epoch 12/20\n",
      "90/90 [==============================] - 85s 833ms/step - loss: 1.1063 - acc: 0.6166 - top2_acc: 0.7775 - top3_acc: 0.8554 - top5_acc: 0.9390 - val_loss: 0.6611 - val_acc: 0.7736 - val_top2_acc: 0.9014 - val_top3_acc: 0.9444 - val_top5_acc: 0.9840\n",
      "Epoch 13/20\n",
      "90/90 [==============================] - 90s 883ms/step - loss: 1.1019 - acc: 0.6174 - top2_acc: 0.7779 - top3_acc: 0.8583 - top5_acc: 0.9402 - val_loss: 0.6698 - val_acc: 0.7662 - val_top2_acc: 0.8914 - val_top3_acc: 0.9446 - val_top5_acc: 0.9816\n",
      "Epoch 14/20\n",
      "90/90 [==============================] - 82s 802ms/step - loss: 1.0815 - acc: 0.6222 - top2_acc: 0.7856 - top3_acc: 0.8653 - top5_acc: 0.9434 - val_loss: 0.6439 - val_acc: 0.7752 - val_top2_acc: 0.9000 - val_top3_acc: 0.9484 - val_top5_acc: 0.9842\n",
      "Epoch 15/20\n",
      "90/90 [==============================] - 87s 849ms/step - loss: 1.0784 - acc: 0.6280 - top2_acc: 0.7849 - top3_acc: 0.8626 - top5_acc: 0.9424 - val_loss: 0.6558 - val_acc: 0.7750 - val_top2_acc: 0.8974 - val_top3_acc: 0.9472 - val_top5_acc: 0.9824\n",
      "Epoch 16/20\n",
      "90/90 [==============================] - 93s 919ms/step - loss: 1.0744 - acc: 0.6264 - top2_acc: 0.7886 - top3_acc: 0.8648 - top5_acc: 0.9436 - val_loss: 0.6774 - val_acc: 0.7630 - val_top2_acc: 0.8944 - val_top3_acc: 0.9418 - val_top5_acc: 0.9834\n",
      "Epoch 17/20\n",
      "90/90 [==============================] - 87s 849ms/step - loss: 1.0642 - acc: 0.6299 - top2_acc: 0.7894 - top3_acc: 0.8670 - top5_acc: 0.9438 - val_loss: 0.6476 - val_acc: 0.7758 - val_top2_acc: 0.9008 - val_top3_acc: 0.9460 - val_top5_acc: 0.9840\n",
      "Epoch 18/20\n",
      "90/90 [==============================] - 94s 921ms/step - loss: 1.0581 - acc: 0.6302 - top2_acc: 0.7931 - top3_acc: 0.8694 - top5_acc: 0.9468 - val_loss: 0.6584 - val_acc: 0.7638 - val_top2_acc: 0.9006 - val_top3_acc: 0.9468 - val_top5_acc: 0.9856\n",
      "Epoch 19/20\n",
      "90/90 [==============================] - 85s 826ms/step - loss: 1.0413 - acc: 0.6382 - top2_acc: 0.7947 - top3_acc: 0.8718 - top5_acc: 0.9465 - val_loss: 0.6424 - val_acc: 0.7766 - val_top2_acc: 0.8978 - val_top3_acc: 0.9492 - val_top5_acc: 0.9850\n",
      "Epoch 20/20\n",
      "90/90 [==============================] - 94s 925ms/step - loss: 1.0425 - acc: 0.6383 - top2_acc: 0.7948 - top3_acc: 0.8711 - top5_acc: 0.9470 - val_loss: 0.6508 - val_acc: 0.7704 - val_top2_acc: 0.8990 - val_top3_acc: 0.9474 - val_top5_acc: 0.9864\n",
      "====================stage 3====================\n",
      "Epoch 1/20\n",
      "90/90 [==============================] - 101s 816ms/step - loss: 1.1578 - acc: 0.5969 - top2_acc: 0.7621 - top3_acc: 0.8441 - top5_acc: 0.9288 - val_loss: 0.6203 - val_acc: 0.7798 - val_top2_acc: 0.9030 - val_top3_acc: 0.9496 - val_top5_acc: 0.9858\n",
      "Epoch 2/20\n",
      "90/90 [==============================] - 84s 834ms/step - loss: 1.1394 - acc: 0.6039 - top2_acc: 0.7626 - top3_acc: 0.8453 - top5_acc: 0.9316 - val_loss: 0.6173 - val_acc: 0.7806 - val_top2_acc: 0.9030 - val_top3_acc: 0.9498 - val_top5_acc: 0.9858\n",
      "Epoch 3/20\n",
      "90/90 [==============================] - 93s 915ms/step - loss: 1.1302 - acc: 0.6080 - top2_acc: 0.7671 - top3_acc: 0.8456 - top5_acc: 0.9327 - val_loss: 0.6104 - val_acc: 0.7848 - val_top2_acc: 0.9084 - val_top3_acc: 0.9506 - val_top5_acc: 0.9860\n",
      "Epoch 4/20\n",
      "90/90 [==============================] - 86s 849ms/step - loss: 1.1277 - acc: 0.6093 - top2_acc: 0.7694 - top3_acc: 0.8484 - top5_acc: 0.9332 - val_loss: 0.6118 - val_acc: 0.7898 - val_top2_acc: 0.9062 - val_top3_acc: 0.9508 - val_top5_acc: 0.9852\n",
      "Epoch 5/20\n",
      "90/90 [==============================] - 94s 934ms/step - loss: 1.1258 - acc: 0.6121 - top2_acc: 0.7706 - top3_acc: 0.8498 - top5_acc: 0.9342 - val_loss: 0.6232 - val_acc: 0.7812 - val_top2_acc: 0.9106 - val_top3_acc: 0.9520 - val_top5_acc: 0.9860\n",
      "Epoch 6/20\n",
      "90/90 [==============================] - 83s 819ms/step - loss: 1.1249 - acc: 0.6102 - top2_acc: 0.7680 - top3_acc: 0.8499 - top5_acc: 0.9346 - val_loss: 0.6256 - val_acc: 0.7802 - val_top2_acc: 0.9012 - val_top3_acc: 0.9506 - val_top5_acc: 0.9872\n",
      "Epoch 7/20\n",
      "90/90 [==============================] - 92s 912ms/step - loss: 1.1239 - acc: 0.6112 - top2_acc: 0.7699 - top3_acc: 0.8509 - top5_acc: 0.9326 - val_loss: 0.6168 - val_acc: 0.7824 - val_top2_acc: 0.9082 - val_top3_acc: 0.9510 - val_top5_acc: 0.9866\n",
      "Epoch 8/20\n",
      "90/90 [==============================] - 86s 841ms/step - loss: 1.1190 - acc: 0.6141 - top2_acc: 0.7701 - top3_acc: 0.8510 - top5_acc: 0.9343 - val_loss: 0.6113 - val_acc: 0.7862 - val_top2_acc: 0.9070 - val_top3_acc: 0.9534 - val_top5_acc: 0.9870\n",
      "Epoch 9/20\n",
      "90/90 [==============================] - 90s 894ms/step - loss: 1.1096 - acc: 0.6153 - top2_acc: 0.7730 - top3_acc: 0.8529 - top5_acc: 0.9363 - val_loss: 0.6139 - val_acc: 0.7850 - val_top2_acc: 0.9052 - val_top3_acc: 0.9524 - val_top5_acc: 0.9872\n",
      "Epoch 10/20\n",
      "90/90 [==============================] - 84s 819ms/step - loss: 1.1013 - acc: 0.6169 - top2_acc: 0.7740 - top3_acc: 0.8526 - top5_acc: 0.9365 - val_loss: 0.6027 - val_acc: 0.7872 - val_top2_acc: 0.9080 - val_top3_acc: 0.9548 - val_top5_acc: 0.9880\n",
      "Epoch 11/20\n",
      "90/90 [==============================] - 88s 868ms/step - loss: 1.0950 - acc: 0.6200 - top2_acc: 0.7771 - top3_acc: 0.8555 - top5_acc: 0.9369 - val_loss: 0.6083 - val_acc: 0.7864 - val_top2_acc: 0.9056 - val_top3_acc: 0.9508 - val_top5_acc: 0.9866\n",
      "Epoch 12/20\n",
      "90/90 [==============================] - 82s 792ms/step - loss: 1.1011 - acc: 0.6198 - top2_acc: 0.7764 - top3_acc: 0.8541 - top5_acc: 0.9361 - val_loss: 0.6046 - val_acc: 0.7866 - val_top2_acc: 0.9090 - val_top3_acc: 0.9550 - val_top5_acc: 0.9876\n",
      "Epoch 13/20\n",
      "90/90 [==============================] - 86s 846ms/step - loss: 1.0904 - acc: 0.6216 - top2_acc: 0.7783 - top3_acc: 0.8561 - top5_acc: 0.9374 - val_loss: 0.6036 - val_acc: 0.7842 - val_top2_acc: 0.9112 - val_top3_acc: 0.9530 - val_top5_acc: 0.9880\n",
      "Epoch 14/20\n",
      "90/90 [==============================] - 93s 914ms/step - loss: 1.0919 - acc: 0.6230 - top2_acc: 0.7775 - top3_acc: 0.8534 - top5_acc: 0.9366 - val_loss: 0.6149 - val_acc: 0.7840 - val_top2_acc: 0.9046 - val_top3_acc: 0.9518 - val_top5_acc: 0.9874\n",
      "Epoch 15/20\n",
      "90/90 [==============================] - 86s 840ms/step - loss: 1.0886 - acc: 0.6238 - top2_acc: 0.7793 - top3_acc: 0.8580 - top5_acc: 0.9388 - val_loss: 0.6158 - val_acc: 0.7868 - val_top2_acc: 0.9088 - val_top3_acc: 0.9522 - val_top5_acc: 0.9862\n",
      "Epoch 16/20\n",
      "90/90 [==============================] - 94s 923ms/step - loss: 1.0814 - acc: 0.6249 - top2_acc: 0.7778 - top3_acc: 0.8581 - top5_acc: 0.9389 - val_loss: 0.6064 - val_acc: 0.7944 - val_top2_acc: 0.9070 - val_top3_acc: 0.9506 - val_top5_acc: 0.9858\n",
      "Epoch 17/20\n",
      "90/90 [==============================] - 84s 817ms/step - loss: 1.0751 - acc: 0.6277 - top2_acc: 0.7831 - top3_acc: 0.8594 - top5_acc: 0.9399 - val_loss: 0.6139 - val_acc: 0.7862 - val_top2_acc: 0.9022 - val_top3_acc: 0.9502 - val_top5_acc: 0.9878\n",
      "Epoch 18/20\n",
      "90/90 [==============================] - 93s 916ms/step - loss: 1.0704 - acc: 0.6314 - top2_acc: 0.7834 - top3_acc: 0.8590 - top5_acc: 0.9403 - val_loss: 0.6071 - val_acc: 0.7902 - val_top2_acc: 0.9084 - val_top3_acc: 0.9524 - val_top5_acc: 0.9864\n",
      "Epoch 19/20\n",
      "90/90 [==============================] - 87s 846ms/step - loss: 1.0705 - acc: 0.6306 - top2_acc: 0.7835 - top3_acc: 0.8598 - top5_acc: 0.9395 - val_loss: 0.6003 - val_acc: 0.7916 - val_top2_acc: 0.9080 - val_top3_acc: 0.9544 - val_top5_acc: 0.9864\n",
      "Epoch 20/20\n",
      "90/90 [==============================] - 94s 923ms/step - loss: 1.0682 - acc: 0.6288 - top2_acc: 0.7847 - top3_acc: 0.8613 - top5_acc: 0.9412 - val_loss: 0.5992 - val_acc: 0.7912 - val_top2_acc: 0.9066 - val_top3_acc: 0.9526 - val_top5_acc: 0.9886\n",
      "====================stage 4====================\n",
      "Epoch 1/20\n",
      "90/90 [==============================] - 76s 553ms/step - loss: 1.1498 - acc: 0.6002 - top2_acc: 0.7588 - top3_acc: 0.8416 - top5_acc: 0.9272 - val_loss: 0.5911 - val_acc: 0.7904 - val_top2_acc: 0.9048 - val_top3_acc: 0.9526 - val_top5_acc: 0.9880\n",
      "Epoch 2/20\n",
      "90/90 [==============================] - 69s 686ms/step - loss: 1.1423 - acc: 0.6032 - top2_acc: 0.7601 - top3_acc: 0.8422 - top5_acc: 0.9288 - val_loss: 0.5869 - val_acc: 0.7930 - val_top2_acc: 0.9080 - val_top3_acc: 0.9554 - val_top5_acc: 0.9874\n",
      "Epoch 3/20\n",
      "90/90 [==============================] - 68s 663ms/step - loss: 1.1473 - acc: 0.6027 - top2_acc: 0.7587 - top3_acc: 0.8402 - top5_acc: 0.9276 - val_loss: 0.5867 - val_acc: 0.7940 - val_top2_acc: 0.9096 - val_top3_acc: 0.9538 - val_top5_acc: 0.9872\n",
      "Epoch 4/20\n"
     ]
    },
    {
     "name": "stdout",
     "output_type": "stream",
     "text": [
      "90/90 [==============================] - 69s 669ms/step - loss: 1.1355 - acc: 0.6080 - top2_acc: 0.7641 - top3_acc: 0.8436 - top5_acc: 0.9303 - val_loss: 0.5913 - val_acc: 0.7924 - val_top2_acc: 0.9084 - val_top3_acc: 0.9538 - val_top5_acc: 0.9866\n",
      "Epoch 5/20\n",
      "90/90 [==============================] - 65s 625ms/step - loss: 1.1352 - acc: 0.6056 - top2_acc: 0.7610 - top3_acc: 0.8429 - top5_acc: 0.9302 - val_loss: 0.5879 - val_acc: 0.7908 - val_top2_acc: 0.9098 - val_top3_acc: 0.9538 - val_top5_acc: 0.9870\n",
      "Epoch 6/20\n",
      "90/90 [==============================] - 69s 673ms/step - loss: 1.1395 - acc: 0.6060 - top2_acc: 0.7614 - top3_acc: 0.8415 - top5_acc: 0.9289 - val_loss: 0.5919 - val_acc: 0.7866 - val_top2_acc: 0.9072 - val_top3_acc: 0.9540 - val_top5_acc: 0.9864\n",
      "Epoch 7/20\n",
      "86/90 [===========================>..] - ETA: 2s - loss: 1.1290 - acc: 0.6097 - top2_acc: 0.7624 - top3_acc: 0.8430 - top5_acc: 0.9309"
     ]
    },
    {
     "name": "stderr",
     "output_type": "stream",
     "text": [
      "IOPub message rate exceeded.\n",
      "The notebook server will temporarily stop sending output\n",
      "to the client in order to avoid crashing it.\n",
      "To change this limit, set the config variable\n",
      "`--NotebookApp.iopub_msg_rate_limit`.\n",
      "\n",
      "Current values:\n",
      "NotebookApp.iopub_msg_rate_limit=1000.0 (msgs/sec)\n",
      "NotebookApp.rate_limit_window=3.0 (secs)\n",
      "\n"
     ]
    },
    {
     "name": "stdout",
     "output_type": "stream",
     "text": [
      "90/90 [==============================] - 90s 893ms/step - loss: 1.2146 - acc: 0.5784 - top2_acc: 0.7360 - top3_acc: 0.8219 - top5_acc: 0.9152 - val_loss: 0.5877 - val_acc: 0.7974 - val_top2_acc: 0.9114 - val_top3_acc: 0.9540 - val_top5_acc: 0.9872\n",
      "Epoch 16/20\n",
      "90/90 [==============================] - 84s 816ms/step - loss: 1.2088 - acc: 0.5821 - top2_acc: 0.7376 - top3_acc: 0.8217 - top5_acc: 0.9167 - val_loss: 0.5886 - val_acc: 0.7986 - val_top2_acc: 0.9112 - val_top3_acc: 0.9538 - val_top5_acc: 0.9872\n",
      "Epoch 17/20\n",
      "90/90 [==============================] - 88s 860ms/step - loss: 1.2046 - acc: 0.5814 - top2_acc: 0.7380 - top3_acc: 0.8235 - top5_acc: 0.9166 - val_loss: 0.5880 - val_acc: 0.7976 - val_top2_acc: 0.9114 - val_top3_acc: 0.9540 - val_top5_acc: 0.9872\n",
      "Epoch 18/20\n",
      "90/90 [==============================] - 80s 779ms/step - loss: 1.2111 - acc: 0.5770 - top2_acc: 0.7361 - top3_acc: 0.8207 - top5_acc: 0.9146 - val_loss: 0.5887 - val_acc: 0.7968 - val_top2_acc: 0.9116 - val_top3_acc: 0.9540 - val_top5_acc: 0.9872\n",
      "Epoch 19/20\n",
      "90/90 [==============================] - 87s 849ms/step - loss: 1.2128 - acc: 0.5771 - top2_acc: 0.7338 - top3_acc: 0.8203 - top5_acc: 0.9149 - val_loss: 0.5888 - val_acc: 0.7978 - val_top2_acc: 0.9108 - val_top3_acc: 0.9538 - val_top5_acc: 0.9876\n",
      "Epoch 20/20\n",
      "90/90 [==============================] - 94s 924ms/step - loss: 1.2121 - acc: 0.5770 - top2_acc: 0.7358 - top3_acc: 0.8210 - top5_acc: 0.9162 - val_loss: 0.5877 - val_acc: 0.7982 - val_top2_acc: 0.9122 - val_top3_acc: 0.9546 - val_top5_acc: 0.9870\n",
      "====================stage 7====================\n",
      "Epoch 1/20\n",
      "90/90 [==============================] - 98s 806ms/step - loss: 1.2484 - acc: 0.5636 - top2_acc: 0.7229 - top3_acc: 0.8087 - top5_acc: 0.9072 - val_loss: 0.5877 - val_acc: 0.7988 - val_top2_acc: 0.9124 - val_top3_acc: 0.9544 - val_top5_acc: 0.9870\n",
      "Epoch 2/20\n",
      "90/90 [==============================] - 86s 851ms/step - loss: 1.2480 - acc: 0.5647 - top2_acc: 0.7219 - top3_acc: 0.8087 - top5_acc: 0.9098 - val_loss: 0.5876 - val_acc: 0.7988 - val_top2_acc: 0.9122 - val_top3_acc: 0.9538 - val_top5_acc: 0.9872\n",
      "Epoch 3/20\n",
      "90/90 [==============================] - 92s 918ms/step - loss: 1.2498 - acc: 0.5636 - top2_acc: 0.7223 - top3_acc: 0.8090 - top5_acc: 0.9072 - val_loss: 0.5878 - val_acc: 0.7980 - val_top2_acc: 0.9122 - val_top3_acc: 0.9538 - val_top5_acc: 0.9870\n",
      "Epoch 4/20\n",
      "90/90 [==============================] - 84s 819ms/step - loss: 1.2456 - acc: 0.5663 - top2_acc: 0.7237 - top3_acc: 0.8089 - top5_acc: 0.9078 - val_loss: 0.5878 - val_acc: 0.7988 - val_top2_acc: 0.9114 - val_top3_acc: 0.9532 - val_top5_acc: 0.9874\n",
      "Epoch 5/20\n",
      "90/90 [==============================] - 91s 903ms/step - loss: 1.2405 - acc: 0.5691 - top2_acc: 0.7257 - top3_acc: 0.8137 - top5_acc: 0.9114 - val_loss: 0.5881 - val_acc: 0.7980 - val_top2_acc: 0.9116 - val_top3_acc: 0.9534 - val_top5_acc: 0.9872\n",
      "Epoch 6/20\n",
      "90/90 [==============================] - 86s 836ms/step - loss: 1.2462 - acc: 0.5653 - top2_acc: 0.7238 - top3_acc: 0.8105 - top5_acc: 0.9074 - val_loss: 0.5879 - val_acc: 0.7980 - val_top2_acc: 0.9116 - val_top3_acc: 0.9534 - val_top5_acc: 0.9874\n",
      "Epoch 7/20\n",
      "90/90 [==============================] - 90s 883ms/step - loss: 1.2451 - acc: 0.5652 - top2_acc: 0.7252 - top3_acc: 0.8108 - top5_acc: 0.9083 - val_loss: 0.5875 - val_acc: 0.7980 - val_top2_acc: 0.9112 - val_top3_acc: 0.9538 - val_top5_acc: 0.9870\n",
      "Epoch 8/20\n",
      "90/90 [==============================] - 80s 768ms/step - loss: 1.2466 - acc: 0.5640 - top2_acc: 0.7245 - top3_acc: 0.8114 - top5_acc: 0.9080 - val_loss: 0.5877 - val_acc: 0.7988 - val_top2_acc: 0.9118 - val_top3_acc: 0.9540 - val_top5_acc: 0.9868\n",
      "Epoch 9/20\n",
      "90/90 [==============================] - 86s 847ms/step - loss: 1.2390 - acc: 0.5680 - top2_acc: 0.7245 - top3_acc: 0.8112 - top5_acc: 0.9100 - val_loss: 0.5882 - val_acc: 0.7976 - val_top2_acc: 0.9116 - val_top3_acc: 0.9534 - val_top5_acc: 0.9868\n",
      "Epoch 10/20\n",
      "90/90 [==============================] - 93s 921ms/step - loss: 1.2467 - acc: 0.5653 - top2_acc: 0.7236 - top3_acc: 0.8088 - top5_acc: 0.9074 - val_loss: 0.5884 - val_acc: 0.7982 - val_top2_acc: 0.9110 - val_top3_acc: 0.9532 - val_top5_acc: 0.9868\n",
      "Epoch 11/20\n",
      "90/90 [==============================] - 87s 842ms/step - loss: 1.2519 - acc: 0.5628 - top2_acc: 0.7217 - top3_acc: 0.8091 - top5_acc: 0.9076 - val_loss: 0.5887 - val_acc: 0.7980 - val_top2_acc: 0.9102 - val_top3_acc: 0.9532 - val_top5_acc: 0.9866\n",
      "Epoch 12/20\n",
      "90/90 [==============================] - 93s 914ms/step - loss: 1.2397 - acc: 0.5684 - top2_acc: 0.7250 - top3_acc: 0.8134 - top5_acc: 0.9096 - val_loss: 0.5889 - val_acc: 0.7976 - val_top2_acc: 0.9110 - val_top3_acc: 0.9532 - val_top5_acc: 0.9868\n",
      "Epoch 13/20\n",
      "90/90 [==============================] - 87s 847ms/step - loss: 1.2531 - acc: 0.5629 - top2_acc: 0.7240 - top3_acc: 0.8097 - top5_acc: 0.9065 - val_loss: 0.5887 - val_acc: 0.7970 - val_top2_acc: 0.9102 - val_top3_acc: 0.9528 - val_top5_acc: 0.9870\n",
      "Epoch 14/20\n",
      "90/90 [==============================] - 94s 926ms/step - loss: 1.2449 - acc: 0.5678 - top2_acc: 0.7234 - top3_acc: 0.8089 - top5_acc: 0.9039 - val_loss: 0.5885 - val_acc: 0.7988 - val_top2_acc: 0.9104 - val_top3_acc: 0.9528 - val_top5_acc: 0.9866\n",
      "Epoch 15/20\n",
      "90/90 [==============================] - 85s 823ms/step - loss: 1.2420 - acc: 0.5687 - top2_acc: 0.7249 - top3_acc: 0.8104 - top5_acc: 0.9098 - val_loss: 0.5878 - val_acc: 0.7988 - val_top2_acc: 0.9110 - val_top3_acc: 0.9524 - val_top5_acc: 0.9868\n",
      "Epoch 16/20\n",
      "90/90 [==============================] - 93s 917ms/step - loss: 1.2445 - acc: 0.5654 - top2_acc: 0.7230 - top3_acc: 0.8102 - top5_acc: 0.9080 - val_loss: 0.5882 - val_acc: 0.7990 - val_top2_acc: 0.9112 - val_top3_acc: 0.9530 - val_top5_acc: 0.9868\n",
      "Epoch 17/20\n",
      "90/90 [==============================] - 87s 845ms/step - loss: 1.2518 - acc: 0.5627 - top2_acc: 0.7208 - top3_acc: 0.8087 - top5_acc: 0.9068 - val_loss: 0.5880 - val_acc: 0.7980 - val_top2_acc: 0.9114 - val_top3_acc: 0.9534 - val_top5_acc: 0.9866\n",
      "Epoch 18/20\n",
      "90/90 [==============================] - 93s 916ms/step - loss: 1.2545 - acc: 0.5627 - top2_acc: 0.7206 - top3_acc: 0.8086 - top5_acc: 0.9076 - val_loss: 0.5878 - val_acc: 0.7978 - val_top2_acc: 0.9120 - val_top3_acc: 0.9532 - val_top5_acc: 0.9868\n",
      "Epoch 19/20\n",
      "90/90 [==============================] - 86s 842ms/step - loss: 1.2450 - acc: 0.5644 - top2_acc: 0.7238 - top3_acc: 0.8122 - top5_acc: 0.9083 - val_loss: 0.5881 - val_acc: 0.7984 - val_top2_acc: 0.9122 - val_top3_acc: 0.9528 - val_top5_acc: 0.9868\n",
      "Epoch 20/20\n",
      "90/90 [==============================] - 94s 924ms/step - loss: 1.2419 - acc: 0.5656 - top2_acc: 0.7242 - top3_acc: 0.8102 - top5_acc: 0.9081 - val_loss: 0.5884 - val_acc: 0.7966 - val_top2_acc: 0.9112 - val_top3_acc: 0.9528 - val_top5_acc: 0.9870\n",
      "====================stage 8====================\n",
      "Epoch 1/20\n",
      "90/90 [==============================] - 99s 807ms/step - loss: 1.2794 - acc: 0.5524 - top2_acc: 0.7152 - top3_acc: 0.8010 - top5_acc: 0.9008 - val_loss: 0.5884 - val_acc: 0.7968 - val_top2_acc: 0.9110 - val_top3_acc: 0.9528 - val_top5_acc: 0.9870\n",
      "Epoch 2/20\n",
      "90/90 [==============================] - 84s 826ms/step - loss: 1.2731 - acc: 0.5554 - top2_acc: 0.7126 - top3_acc: 0.8005 - top5_acc: 0.9015 - val_loss: 0.5885 - val_acc: 0.7970 - val_top2_acc: 0.9112 - val_top3_acc: 0.9524 - val_top5_acc: 0.9870\n",
      "Epoch 3/20\n",
      "90/90 [==============================] - 91s 903ms/step - loss: 1.2792 - acc: 0.5535 - top2_acc: 0.7124 - top3_acc: 0.7996 - top5_acc: 0.9021 - val_loss: 0.5884 - val_acc: 0.7970 - val_top2_acc: 0.9116 - val_top3_acc: 0.9528 - val_top5_acc: 0.9870\n",
      "Epoch 4/20\n",
      "90/90 [==============================] - 87s 845ms/step - loss: 1.2857 - acc: 0.5480 - top2_acc: 0.7099 - top3_acc: 0.7992 - top5_acc: 0.9020 - val_loss: 0.5883 - val_acc: 0.7970 - val_top2_acc: 0.9118 - val_top3_acc: 0.9526 - val_top5_acc: 0.9870\n",
      "Epoch 5/20\n",
      "90/90 [==============================] - 91s 902ms/step - loss: 1.2739 - acc: 0.5560 - top2_acc: 0.7124 - top3_acc: 0.7993 - top5_acc: 0.9011 - val_loss: 0.5883 - val_acc: 0.7972 - val_top2_acc: 0.9114 - val_top3_acc: 0.9524 - val_top5_acc: 0.9868\n",
      "Epoch 6/20\n",
      "90/90 [==============================] - 85s 830ms/step - loss: 1.2786 - acc: 0.5541 - top2_acc: 0.7139 - top3_acc: 0.7990 - top5_acc: 0.9012 - val_loss: 0.5884 - val_acc: 0.7974 - val_top2_acc: 0.9112 - val_top3_acc: 0.9524 - val_top5_acc: 0.9870\n",
      "Epoch 7/20\n",
      "90/90 [==============================] - 90s 884ms/step - loss: 1.2796 - acc: 0.5514 - top2_acc: 0.7118 - top3_acc: 0.8002 - top5_acc: 0.9016 - val_loss: 0.5884 - val_acc: 0.7974 - val_top2_acc: 0.9110 - val_top3_acc: 0.9522 - val_top5_acc: 0.9870\n",
      "Epoch 8/20\n",
      "90/90 [==============================] - 84s 816ms/step - loss: 1.2850 - acc: 0.5505 - top2_acc: 0.7093 - top3_acc: 0.7977 - top5_acc: 0.9000 - val_loss: 0.5884 - val_acc: 0.7972 - val_top2_acc: 0.9110 - val_top3_acc: 0.9530 - val_top5_acc: 0.9872\n",
      "Epoch 9/20\n",
      "90/90 [==============================] - 87s 848ms/step - loss: 1.2813 - acc: 0.5551 - top2_acc: 0.7123 - top3_acc: 0.8001 - top5_acc: 0.9002 - val_loss: 0.5881 - val_acc: 0.7976 - val_top2_acc: 0.9114 - val_top3_acc: 0.9528 - val_top5_acc: 0.9872\n",
      "Epoch 10/20\n",
      "90/90 [==============================] - 92s 913ms/step - loss: 1.2748 - acc: 0.5527 - top2_acc: 0.7141 - top3_acc: 0.8020 - top5_acc: 0.9030 - val_loss: 0.5880 - val_acc: 0.7978 - val_top2_acc: 0.9110 - val_top3_acc: 0.9532 - val_top5_acc: 0.9872\n",
      "Epoch 11/20\n",
      "90/90 [==============================] - 86s 839ms/step - loss: 1.2769 - acc: 0.5535 - top2_acc: 0.7150 - top3_acc: 0.8012 - top5_acc: 0.9026 - val_loss: 0.5879 - val_acc: 0.7980 - val_top2_acc: 0.9110 - val_top3_acc: 0.9530 - val_top5_acc: 0.9872\n",
      "Epoch 12/20\n",
      "90/90 [==============================] - 94s 923ms/step - loss: 1.2779 - acc: 0.5526 - top2_acc: 0.7113 - top3_acc: 0.7998 - top5_acc: 0.9028 - val_loss: 0.5883 - val_acc: 0.7970 - val_top2_acc: 0.9114 - val_top3_acc: 0.9528 - val_top5_acc: 0.9872\n",
      "Epoch 13/20\n",
      "90/90 [==============================] - 84s 840ms/step - loss: 1.2787 - acc: 0.5526 - top2_acc: 0.7134 - top3_acc: 0.8012 - top5_acc: 0.9026 - val_loss: 0.5882 - val_acc: 0.7966 - val_top2_acc: 0.9112 - val_top3_acc: 0.9530 - val_top5_acc: 0.9872\n",
      "Epoch 14/20\n",
      "90/90 [==============================] - 93s 916ms/step - loss: 1.2726 - acc: 0.5551 - top2_acc: 0.7153 - top3_acc: 0.8026 - top5_acc: 0.9031 - val_loss: 0.5883 - val_acc: 0.7966 - val_top2_acc: 0.9106 - val_top3_acc: 0.9526 - val_top5_acc: 0.9872\n",
      "Epoch 15/20\n",
      "90/90 [==============================] - 87s 843ms/step - loss: 1.2837 - acc: 0.5520 - top2_acc: 0.7115 - top3_acc: 0.7986 - top5_acc: 0.9004 - val_loss: 0.5885 - val_acc: 0.7972 - val_top2_acc: 0.9106 - val_top3_acc: 0.9526 - val_top5_acc: 0.9872\n",
      "Epoch 16/20\n",
      "90/90 [==============================] - 93s 919ms/step - loss: 1.2816 - acc: 0.5537 - top2_acc: 0.7107 - top3_acc: 0.7976 - top5_acc: 0.8992 - val_loss: 0.5885 - val_acc: 0.7964 - val_top2_acc: 0.9108 - val_top3_acc: 0.9532 - val_top5_acc: 0.9872\n",
      "Epoch 17/20\n",
      "90/90 [==============================] - 86s 845ms/step - loss: 1.2754 - acc: 0.5539 - top2_acc: 0.7122 - top3_acc: 0.8013 - top5_acc: 0.9020 - val_loss: 0.5886 - val_acc: 0.7966 - val_top2_acc: 0.9110 - val_top3_acc: 0.9528 - val_top5_acc: 0.9874\n",
      "Epoch 18/20\n",
      "16/90 [====>.........................] - ETA: 16s - loss: 1.2848 - acc: 0.5477 - top2_acc: 0.7082 - top3_acc: 0.7952 - top5_acc: 0.9043"
     ]
    }
   ],
   "source": [
    "lr=1e-3\n",
    "for stage in range(1,11):\n",
    "    print(\"=\"*20+f'stage {stage}'+'='*20)\n",
    "    if not checkstage(os.path.join(model_path,'progressive_extended_concave'),stage):\n",
    "        fit_stage(stage,lr_base=lr,epochs=20,model_path=os.path.join(model_path,'progressive_extended_concave'),weight_decay=0.05,\n",
    "                  batch_size=batch_size,steps_per_epoch=90,\n",
    "                  use_paper_rand_augment=False,imagesize=32+4*(stage-1),progressive_fn=lambda s: 1+np.sqrt((s-1)/9)*9)\n",
    "        Mymodel.save_weights(os.path.join(model_path,'progressive_extended_concave',f's{stage}-final.hdf5'))\n",
    "    lr/=3"
   ]
  },
  {
   "cell_type": "code",
   "execution_count": 1,
   "metadata": {},
   "outputs": [
    {
     "ename": "NameError",
     "evalue": "name 'Mymodel' is not defined",
     "output_type": "error",
     "traceback": [
      "\u001b[0;31m---------------------------------------------------------------------------\u001b[0m",
      "\u001b[0;31mNameError\u001b[0m                                 Traceback (most recent call last)",
      "Cell \u001b[0;32mIn[1], line 1\u001b[0m\n\u001b[0;32m----> 1\u001b[0m \u001b[43mMymodel\u001b[49m\u001b[38;5;241m.\u001b[39mevaluate(test_ds)\n",
      "\u001b[0;31mNameError\u001b[0m: name 'Mymodel' is not defined"
     ]
    }
   ],
   "source": [
    "Mymodel.evaluate(test_ds)"
   ]
  },
  {
   "cell_type": "markdown",
   "metadata": {
    "id": "-5Zgg2DfYlTC"
   },
   "source": [
    "## Model save to Server"
   ]
  },
  {
   "cell_type": "code",
   "execution_count": 35,
   "metadata": {
    "id": "hg-dTg1Fm17V"
   },
   "outputs": [],
   "source": [
    "''' choosing saved best/last model name'''\n",
    "def select_saved_model(model_path,choosing_best=True,stage=None):\n",
    "  model_list=os.listdir(model_path)\n",
    "#   print(model_list)\n",
    "#   regex=r'(?P<epoch>\\d*)-(?P<acc>[\\d\\.]*).hdf5$'\n",
    "  regex=r'(\\d*)-([\\d\\.]*).hdf5$'\n",
    "  if stage:\n",
    "    regex=f's{stage}-'+regex\n",
    "  var_match=re.compile(regex)\n",
    "  best_idx=[0,0,0]\n",
    "  last_idx=[0,0,0]\n",
    "  for i,m in enumerate(model_list):\n",
    "    ret=var_match.match(m)\n",
    "    if ret:\n",
    "        ret=ret.groups()\n",
    "        if best_idx[1]<float(ret[1]):\n",
    "          best_idx=[i,float(ret[1]),int(ret[0])]\n",
    "        if last_idx[2]<int(ret[0]):\n",
    "          last_idx=[i,float(ret[1]),int(ret[0])]\n",
    "  print(best_idx,last_idx)\n",
    "  if choosing_best:\n",
    "    return model_list[best_idx[0]],best_idx[1:]\n",
    "  else:\n",
    "    return model_list[last_idx[0]],last_idx[1:]"
   ]
  },
  {
   "cell_type": "code",
   "execution_count": 114,
   "metadata": {
    "id": "1AWiNR8C3UlJ"
   },
   "outputs": [
    {
     "name": "stdout",
     "output_type": "stream",
     "text": [
      "[9, 0.86, 1] [6, 0.48, 7]\n"
     ]
    }
   ],
   "source": [
    "model_name,tmp=select_saved_model(model_path,choosing_best=True,stage=9)\n",
    "last_epoch=tmp[1]"
   ]
  },
  {
   "cell_type": "code",
   "execution_count": 115,
   "metadata": {
    "id": "1AWiNR8C3UlJ"
   },
   "outputs": [],
   "source": [
    "Mymodel.load_weights(os.path.join(model_path,model_name))"
   ]
  },
  {
   "cell_type": "code",
   "execution_count": 33,
   "metadata": {},
   "outputs": [],
   "source": [
    "Mymodel.load_weights(os.path.join(model_path,'progressive_extended3','s9-final.hdf5'))"
   ]
  },
  {
   "cell_type": "code",
   "execution_count": 134,
   "metadata": {
    "id": "GOwRXiWkGufd"
   },
   "outputs": [],
   "source": [
    "Mymodel.save_weights(os.path.join(model_path,'final2.hdf5'))"
   ]
  },
  {
   "cell_type": "markdown",
   "metadata": {},
   "source": [
    "# Show wrong figure"
   ]
  },
  {
   "cell_type": "code",
   "execution_count": 9,
   "metadata": {
    "id": "HVNQ1YCs0Nzk"
   },
   "outputs": [],
   "source": [
    "import seaborn as sns"
   ]
  },
  {
   "cell_type": "code",
   "execution_count": 10,
   "metadata": {},
   "outputs": [],
   "source": [
    "# Here are the names of the classes\n",
    "text_labels = [\n",
    "    'airplane',\n",
    "    'automobile',\n",
    "    'bird',\n",
    "    'cat',\n",
    "    'deer',\n",
    "    'dog',\n",
    "    'frog',\n",
    "    'horse',\n",
    "    'ship',\n",
    "    'truck',\n",
    "]"
   ]
  },
  {
   "cell_type": "code",
   "execution_count": 35,
   "metadata": {},
   "outputs": [],
   "source": [
    "def visualize_dataset(y_test_pred,nshow=1):\n",
    "    wrong_indexes=(np.argmax(y_test,1)!=np.argmax(y_test_pred,1))\n",
    "    wrong_label=y_test_pred[wrong_indexes]\n",
    "    wrong_image=x_test[wrong_indexes]\n",
    "    true_label=y_test[wrong_indexes]\n",
    "    nimages=len(wrong_image)\n",
    "    samples=np.random.randint(0,nimages,nshow)\n",
    "    with sns.axes_style('dark'):\n",
    "        fig, ax = plt.subplots(nshow, 2, figsize=(10 ,4*nshow))\n",
    "        for i,sample in enumerate(samples):\n",
    "            ax[i,0].imshow(wrong_image[sample])\n",
    "            ax[i,0].axis('off')\n",
    "            ax[i,1].barh(text_labels,true_label[sample])\n",
    "            ax[i,1].barh(text_labels,wrong_label[sample])\n",
    "            ax[i,1].legend(['true','predict'])\n",
    "            fig.tight_layout()"
   ]
  },
  {
   "cell_type": "code",
   "execution_count": 34,
   "metadata": {},
   "outputs": [],
   "source": [
    "wrong_pred_datas=dict()"
   ]
  },
  {
   "cell_type": "code",
   "execution_count": 36,
   "metadata": {},
   "outputs": [],
   "source": [
    "efficientv2_base=EfficientV2base(act,decode_cfgs(v2_base_block_modified))\n",
    "'''\n",
    "Adding input and output (classfication) layer to get a trainable (usable) model\n",
    "'''\n",
    "inputx=keras.Input((None,None,3))\n",
    "x=efficientv2_base(inputx)\n",
    "x=keras.layers.Dense(10,activation='softmax')(x)\n",
    "Mymodel=keras.Model(inputs=inputx,outputs=x)"
   ]
  },
  {
   "cell_type": "code",
   "execution_count": 37,
   "metadata": {},
   "outputs": [
    {
     "name": "stdout",
     "output_type": "stream",
     "text": [
      "10/10 [==============================] - 1s 61ms/step\n"
     ]
    }
   ],
   "source": [
    "Mymodel.load_weights(os.path.join(model_path,'progressive_concave','s10-final.hdf5'))\n",
    "y_test_pred=Mymodel.predict(x_test/255.,batch_size=1000)\n",
    "wrong_pred_datas.update({'progressive_concave':y_test_pred})"
   ]
  },
  {
   "cell_type": "code",
   "execution_count": 38,
   "metadata": {},
   "outputs": [
    {
     "name": "stdout",
     "output_type": "stream",
     "text": [
      "10/10 [==============================] - 1s 61ms/step\n"
     ]
    }
   ],
   "source": [
    "Mymodel.load_weights(os.path.join(model_path,'unprogressive','final2.hdf5'))\n",
    "y_test_pred=Mymodel.predict(x_test/255.,batch_size=1000)\n",
    "wrong_pred_datas.update({'unprogressive':y_test_pred})"
   ]
  },
  {
   "cell_type": "code",
   "execution_count": 39,
   "metadata": {},
   "outputs": [
    {
     "name": "stdout",
     "output_type": "stream",
     "text": [
      "10/10 [==============================] - 1s 60ms/step\n"
     ]
    }
   ],
   "source": [
    "Mymodel.load_weights(os.path.join(model_path,'progressive_convex','s10-final.hdf5'))\n",
    "y_test_pred=Mymodel.predict(x_test/255.,batch_size=1000)\n",
    "wrong_pred_datas.update({'progressive_convex':y_test_pred})"
   ]
  },
  {
   "cell_type": "code",
   "execution_count": 40,
   "metadata": {},
   "outputs": [
    {
     "name": "stdout",
     "output_type": "stream",
     "text": [
      "10/10 [==============================] - 1s 60ms/step\n"
     ]
    }
   ],
   "source": [
    "Mymodel.load_weights(os.path.join(model_path,'progressive','final1.hdf5'))\n",
    "y_test_pred=Mymodel.predict(x_test/255.,batch_size=1000)\n",
    "wrong_pred_datas.update({'progressive':y_test_pred})"
   ]
  },
  {
   "cell_type": "code",
   "execution_count": 41,
   "metadata": {},
   "outputs": [],
   "source": [
    "efficientv2_base=EfficientV2base(act,decode_cfgs(v2_base_block))\n",
    "'''\n",
    "Adding input and output (classfication) layer to get a trainable (usable) model\n",
    "'''\n",
    "inputx=keras.Input((None,None,3))\n",
    "x=efficientv2_base(inputx)\n",
    "x=keras.layers.Dense(10,activation='softmax')(x)\n",
    "Mymodel=keras.Model(inputs=inputx,outputs=x)"
   ]
  },
  {
   "cell_type": "code",
   "execution_count": 42,
   "metadata": {},
   "outputs": [
    {
     "name": "stdout",
     "output_type": "stream",
     "text": [
      "10/10 [==============================] - 1s 33ms/step\n"
     ]
    }
   ],
   "source": [
    "Mymodel.load_weights(os.path.join(model_path,'ground','complete_final.hdf5'))\n",
    "y_test_pred=Mymodel.predict(x_test/255.,batch_size=1000)\n",
    "wrong_pred_datas.update({'ground':y_test_pred})"
   ]
  },
  {
   "cell_type": "code",
   "execution_count": 43,
   "metadata": {},
   "outputs": [],
   "source": [
    "efficientv2_base=EfficientV2base(act,decode_cfgs(v2_base_block_modified2))\n",
    "'''\n",
    "Adding input and output (classfication) layer to get a trainable (usable) model\n",
    "'''\n",
    "inputx=keras.Input((None,None,3))\n",
    "x=efficientv2_base(inputx)\n",
    "x=keras.layers.Dense(10,activation='softmax')(x)\n",
    "Mymodel=keras.Model(inputs=inputx,outputs=x)"
   ]
  },
  {
   "cell_type": "code",
   "execution_count": 44,
   "metadata": {},
   "outputs": [
    {
     "name": "stdout",
     "output_type": "stream",
     "text": [
      "10/10 [==============================] - 2s 100ms/step\n"
     ]
    }
   ],
   "source": [
    "Mymodel.load_weights(os.path.join(model_path,'ground_progressive','s10-final.hdf5'))\n",
    "y_test_pred=Mymodel.predict(x_test/255.,batch_size=1000)\n",
    "wrong_pred_datas.update({'ground_progressive':y_test_pred})"
   ]
  },
  {
   "cell_type": "code",
   "execution_count": 45,
   "metadata": {},
   "outputs": [],
   "source": [
    "modified_efficientv2_base=Modified_EfficientV2base(act,decode_cfgs(v2_base_block_modified3),head_filters=1280)\n",
    "inputx=keras.Input((None,None,3))\n",
    "x=modified_efficientv2_base(inputx)\n",
    "x=keras.layers.Dense(10,activation='softmax')(x)\n",
    "Mymodel=keras.Model(inputs=inputx,outputs=x)"
   ]
  },
  {
   "cell_type": "code",
   "execution_count": 46,
   "metadata": {},
   "outputs": [
    {
     "name": "stdout",
     "output_type": "stream",
     "text": [
      "10/10 [==============================] - 1s 34ms/step\n"
     ]
    }
   ],
   "source": [
    "Mymodel.load_weights(os.path.join(model_path,'progressive_extended','s10-final.hdf5'))\n",
    "y_test_pred=Mymodel.predict(x_test/255.,batch_size=1000)\n",
    "wrong_pred_datas.update({'progressive_extended':y_test_pred})"
   ]
  },
  {
   "cell_type": "code",
   "execution_count": 47,
   "metadata": {},
   "outputs": [],
   "source": [
    "modified_efficientv2_base=Modified_EfficientV2base(act,decode_cfgs(v2_base_block_modified4),head_filters=1280)\n",
    "inputx=keras.Input((None,None,3))\n",
    "x=modified_efficientv2_base(inputx)\n",
    "x=keras.layers.Dense(10,activation='softmax')(x)\n",
    "Mymodel=keras.Model(inputs=inputx,outputs=x)"
   ]
  },
  {
   "cell_type": "code",
   "execution_count": 48,
   "metadata": {},
   "outputs": [
    {
     "name": "stdout",
     "output_type": "stream",
     "text": [
      "10/10 [==============================] - 1s 47ms/step\n"
     ]
    }
   ],
   "source": [
    "Mymodel.load_weights(os.path.join(model_path,'progressive_extended2','s10-final.hdf5'))\n",
    "y_test_pred=Mymodel.predict(x_test/255.,batch_size=1000)\n",
    "wrong_pred_datas.update({'progressive_extended2':y_test_pred})"
   ]
  },
  {
   "cell_type": "code",
   "execution_count": 49,
   "metadata": {},
   "outputs": [],
   "source": [
    "np.save('wrong_pred_datas.npy',wrong_pred_datas)"
   ]
  },
  {
   "cell_type": "code",
   "execution_count": 19,
   "metadata": {},
   "outputs": [],
   "source": [
    "wrong_pred_datas=np.load('wrong_pred_datas.npy',allow_pickle=True).item()"
   ]
  },
  {
   "cell_type": "code",
   "execution_count": 23,
   "metadata": {},
   "outputs": [
    {
     "name": "stdout",
     "output_type": "stream",
     "text": [
      "progressive_concave (10000, 10) [1.0000002  1.         1.         ... 0.99999994 1.         1.        ]\n",
      "unprogressive (10000, 10) [1.         1.         1.         ... 0.99999994 1.         1.        ]\n",
      "progressive_convex (10000, 10) [1.         1.         0.99999994 ... 1.         1.0000001  1.        ]\n",
      "progressive (10000, 10) [0.99999994 1.         1.         ... 0.99999994 1.         1.        ]\n",
      "ground (10000, 10) [0.99999994 1.0000001  1.         ... 1.         1.0000001  1.        ]\n",
      "ground_progressive (10000, 10) [1.0000001  0.99999994 1.0000001  ... 0.99999994 0.99999994 1.        ]\n",
      "progressive_extended (10000, 10) [0.99999994 1.         0.99999994 ... 1.         0.99999994 1.        ]\n",
      "progressive_extended2 (10000, 10) [1.0000001 1.0000001 1.        ... 0.9999999 1.        1.0000002]\n"
     ]
    }
   ],
   "source": [
    "for k,d in wrong_pred_datas.items():\n",
    "    print(k,d.shape,np.sum(d,1))"
   ]
  },
  {
   "cell_type": "code",
   "execution_count": 18,
   "metadata": {},
   "outputs": [
    {
     "ename": "AttributeError",
     "evalue": "'numpy.ndarray' object has no attribute 'value'",
     "output_type": "error",
     "traceback": [
      "\u001b[0;31m---------------------------------------------------------------------------\u001b[0m",
      "\u001b[0;31mAttributeError\u001b[0m                            Traceback (most recent call last)",
      "Cell \u001b[0;32mIn[18], line 1\u001b[0m\n\u001b[0;32m----> 1\u001b[0m \u001b[43mwrong_pred_datas\u001b[49m\u001b[38;5;241;43m.\u001b[39;49m\u001b[43mvalue\u001b[49m\n",
      "\u001b[0;31mAttributeError\u001b[0m: 'numpy.ndarray' object has no attribute 'value'"
     ]
    }
   ],
   "source": [
    "wrong_pred_datas"
   ]
  },
  {
   "cell_type": "markdown",
   "metadata": {},
   "source": [
    "## Concave"
   ]
  },
  {
   "cell_type": "code",
   "execution_count": 52,
   "metadata": {},
   "outputs": [
    {
     "data": {
      "image/png": "[encoded data removed]",
      "text/plain": [
       "<Figure size 1000x2000 with 10 Axes>"
      ]
     },
     "metadata": {},
     "output_type": "display_data"
    }
   ],
   "source": [
    "visualize_dataset(wrong_pred_datas['progressive_concave'],nshow=5)"
   ]
  },
  {
   "cell_type": "markdown",
   "metadata": {},
   "source": [
    "## Unprogressive"
   ]
  },
  {
   "cell_type": "code",
   "execution_count": 53,
   "metadata": {},
   "outputs": [
    {
     "data": {
      "image/png": "[encoded data removed]",
      "text/plain": [
       "<Figure size 1000x2000 with 10 Axes>"
      ]
     },
     "metadata": {},
     "output_type": "display_data"
    }
   ],
   "source": [
    "visualize_dataset(wrong_pred_datas['unprogressive'],nshow=5)"
   ]
  },
  {
   "cell_type": "markdown",
   "metadata": {},
   "source": [
    "## Ground"
   ]
  },
  {
   "cell_type": "code",
   "execution_count": 54,
   "metadata": {},
   "outputs": [
    {
     "data": {
      "image/png": "[encoded data removed]",
      "text/plain": [
       "<Figure size 1000x2000 with 10 Axes>"
      ]
     },
     "metadata": {},
     "output_type": "display_data"
    }
   ],
   "source": [
    "visualize_dataset(wrong_pred_datas['ground'],nshow=5)"
   ]
  },
  {
   "cell_type": "markdown",
   "metadata": {},
   "source": [
    "## ConvNext-ified"
   ]
  },
  {
   "cell_type": "code",
   "execution_count": 55,
   "metadata": {},
   "outputs": [
    {
     "data": {
      "image/png": "[encoded data removed]",
      "text/plain": [
       "<Figure size 1000x2000 with 10 Axes>"
      ]
     },
     "metadata": {},
     "output_type": "display_data"
    }
   ],
   "source": [
    "visualize_dataset(wrong_pred_datas['progressive_extended2'],nshow=5)"
   ]
  },
  {
   "cell_type": "code",
   "execution_count": null,
   "metadata": {},
   "outputs": [],
   "source": []
  },
  {
   "cell_type": "markdown",
   "metadata": {
    "id": "uqTozwxt2B08"
   },
   "source": [
    "'r%d' % block.num_repeat,\\\n",
    "'k%d' % block.kernel_size,\\\n",
    "'s%d' % block.strides,\\\n",
    "'e%s' % block.expand_ratio,\\\n",
    "'i%d' % block.input_filters,\\\n",
    "'o%d' % block.output_filters,\\\n",
    "'c%d' % block.conv_type,\\\n",
    "'f%d' % block.fused_conv,\n",
    "\n",
    "v2_base_block = [  # The baseline config for v2 models.\\\n",
    "    'r1_k3_s1_e1_i32_o16_c1',\\\n",
    "    'r2_k3_s2_e4_i16_o32_c1',\\\n",
    "    'r2_k3_s2_e4_i32_o48_c1',\\\n",
    "    'r3_k3_s2_e4_i48_o96_se0.25',\\\n",
    "    'r5_k3_s1_e6_i96_o112_se0.25',\\\n",
    "    'r8_k3_s2_e6_i112_o192_se0.25',\\\n",
    "]\n",
    "\n",
    "\n",
    "v2_s_block = [  # about base * (width1.4, depth1.8)\\\n",
    "    'r2_k3_s1_e1_i24_o24_c1',\\\n",
    "    'r4_k3_s2_e4_i24_o48_c1',\\\n",
    "    'r4_k3_s2_e4_i48_o64_c1',\\\n",
    "    'r6_k3_s2_e4_i64_o128_se0.25',\\\n",
    "    'r9_k3_s1_e6_i128_o160_se0.25',\\\n",
    "    'r15_k3_s2_e6_i160_o256_se0.25',\\\n",
    "]\n",
    "\n",
    "# (block, width, depth, train_size, eval_size, dropout, randaug, mixup, aug)\\\n",
    "'efficientnetv2-s':  # 83.9% @ 22M\\\n",
    "    (v2_s_block, 1.0, 1.0, 300, 384, 0.2, 10, 0, 'randaug'),\\\n",
    "'efficientnetv2-b0':  # 78.7% @ 7M params\\\n",
    "    (v2_base_block, 1.0, 1.0, 192, 224, 0.2, 0, 0, 'effnetv1_autoaug'),\\\n",
    "'efficientnetv2-b1':  # 79.8% @ 8M params\\\n",
    "    (v2_base_block, 1.0, 1.1, 192, 240, 0.2, 0, 0, 'effnetv1_autoaug'),\\\n",
    "'efficientnetv2-b2':  # 80.5% @ 10M params\\\n",
    "    (v2_base_block, 1.1, 1.2, 208, 260, 0.3, 0, 0, 'effnetv1_autoaug'),\\\n",
    "'efficientnetv2-b3':  # 82.1% @ 14M params\\\n",
    "    (v2_base_block, 1.2, 1.4, 240, 300, 0.3, 0, 0, 'effnetv1_autoaug'),\\\n",
    "\n",
    "model=dict(\\\n",
    "        model_name='efficientnet-b0',\\\n",
    "        data_format='channels_last',\\\n",
    "        feature_size=1280,\\\n",
    "        bn_type=None,   # 'tpu_bn',\\\n",
    "        bn_momentum=0.9,\\\n",
    "        bn_epsilon=1e-3,\\\n",
    "        gn_groups=8,\\\n",
    "        depth_divisor=8,\\\n",
    "        min_depth=8,\\\n",
    "        act_fn='silu',\\\n",
    "        survival_prob=0.8,\\\n",
    "        local_pooling=False,\\\n",
    "        headbias=None,\\\n",
    "        conv_dropout=None,\\\n",
    "        dropout_rate=None,\\\n",
    "        depth_coefficient=None,\\\n",
    "        width_coefficient=None,\\\n",
    "        blocks_args=None,\\\n",
    "        num_classes=1000,  # must be the same as data.num_classes\\\n",
    "),\n",
    "# train related params.\n",
    "train=dict(\\\n",
    "    stages=0,\\\n",
    "    epochs=350,\\\n",
    "    min_steps=0,\\\n",
    "    optimizer='rmsprop',\\\n",
    "    lr_sched='exponential',\\\n",
    "    lr_base=0.016,\\\n",
    "    lr_decay_epoch=2.4,\\\n",
    "    lr_decay_factor=0.97,\\\n",
    "    lr_warmup_epoch=5,\\\n",
    "    lr_min=0,\\\n",
    "    ema_decay=0.9999,\\\n",
    "    weight_decay=1e-5,\\\n",
    "    weight_decay_inc=0.0,\\\n",
    "    weight_decay_exclude='.*(bias|gamma|beta).*',\\\n",
    "    label_smoothing=0.1,\\\n",
    "    gclip=0,\\\n",
    "    batch_size=4096,\\\n",
    "    isize=None,\\\n",
    "    split=None,  # dataset split, default to 'train'\\\n",
    "    loss_type=None,  # loss type: sigmoid or softmax\\\n",
    "    ft_init_ckpt=None,\\\n",
    "    ft_init_ema=True,\\\n",
    "    varsexp=None,  # trainable variables.\\\n",
    "    sched=None,  # schedule\\\n",
    "),\\\n",
    "eval=dict(\\\n",
    "    batch_size=8,\\\n",
    "    isize=None,  # image size\\\n",
    "    split=None,  # dataset split, default to 'eval'\\\n",
    "),\n",
    "# data related params.\n",
    "data=dict(\\\n",
    "    ds_name='imagenet',\\\n",
    "    augname='randaug',  # or 'autoaug'\\\n",
    "    ra_num_layers=2,\\\n",
    "    ram=15,\\\n",
    "    mixup_alpha=0.,\\\n",
    "    cutmix_alpha=0.,\\\n",
    "    ibase=128,\\\n",
    "    cache=True,\\\n",
    "    resize=None,\\\n",
    "    data_dir=None,\\\n",
    "    multiclass=None,\\\n",
    "    num_classes=1000,\\\n",
    "    tfds_name=None,\\\n",
    "    try_gcs=False,\\\n",
    "    tfds_split=None,\\\n",
    "    splits=dict(\\\n",
    "        train=dict(num_images=None, files=None, tfds_split=None, slice=None),\\\n",
    "        eval=dict(num_images=None, files=None, tfds_split=None, slice=None),\\\n",
    "        minival=dict(num_images=None, files=None, tfds_split=None, slice=None),\\\n",
    "        trainval=dict(num_images=None, files=None, tfds_split=None, slice=None),\\\n",
    "    ),\\\n",
    "),\\\n",
    "runtime=dict(\\\n",
    "    iterations_per_loop=1000,  # larger value has better utilization.\\\n",
    "    skip_host_call=False,\\\n",
    "    mixed_precision=True,\\\n",
    "    use_async_checkpointing=False,\\\n",
    "    log_step_count_steps=64,\\\n",
    "    keep_checkpoint_max=5,\\\n",
    "    keep_checkpoint_every_n_hours=5,\\\n",
    "    strategy='tpu',  # None, gpu, tpu\\\n",
    "))"
   ]
  }
 ],
 "metadata": {
  "accelerator": "GPU",
  "colab": {
   "provenance": []
  },
  "gpuClass": "standard",
  "kernelspec": {
   "display_name": "Python 3 (ipykernel)",
   "language": "python",
   "name": "python3"
  },
  "language_info": {
   "codemirror_mode": {
    "name": "ipython",
    "version": 3
   },
   "file_extension": ".py",
   "mimetype": "text/x-python",
   "name": "python",
   "nbconvert_exporter": "python",
   "pygments_lexer": "ipython3",
   "version": "3.10.9"
  },
  "vscode": {
   "interpreter": {
    "hash": "e3782b8d86e5942b7077f8ba5cd029f9695569931d6b10fae470490a0867cf41"
   }
  }
 },
 "nbformat": 4,
 "nbformat_minor": 1
}
